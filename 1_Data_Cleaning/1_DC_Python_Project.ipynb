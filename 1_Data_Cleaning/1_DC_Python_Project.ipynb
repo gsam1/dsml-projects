{
 "cells": [
  {
   "cell_type": "markdown",
   "metadata": {},
   "source": [
    "# Doing Business Indicators in the Balkans and availability of skilled workers\n",
    "Datasets provided by [World Bank](datacatalog.worldbank.org).\n",
    "\n",
    "## 1. Motivation\n",
    "Since I am from Bulgaria and was digging through the datacatalog in the World Bank, I was curious how does it look from the WB's perspective to not only do business in Bulgaria, but the whole Balkan area. Besides general business factors, one is access to a skilled workforce. "
   ]
  },
  {
   "cell_type": "markdown",
   "metadata": {},
   "source": [
    "### 1.1 Importing the libraries\n",
    "Importing the general libraries, used for the analysis. If other libraries are required, they shall be imported further down."
   ]
  },
  {
   "cell_type": "code",
   "execution_count": 1,
   "metadata": {},
   "outputs": [],
   "source": [
    "import numpy as np\n",
    "import pandas as pd\n",
    "import matplotlib.pyplot as plt\n",
    "import seaborn as sns\n",
    "import warnings\n",
    "warnings.filterwarnings('ignore')"
   ]
  },
  {
   "cell_type": "markdown",
   "metadata": {},
   "source": [
    "### 1.2 Loading the Datasets"
   ]
  },
  {
   "cell_type": "code",
   "execution_count": 2,
   "metadata": {},
   "outputs": [],
   "source": [
    "db_data = pd.read_csv('./1_DC_Python_Data/DBData.csv')\n",
    "db_data = db_data.drop(db_data.columns.values[-1], axis=1) # remove last columns as it is empty\n",
    "edu_data = pd.read_csv('./1_DC_Python_Data/EdStatsData.csv')\n",
    "edu_data = edu_data.drop(edu_data.columns.values[-1], axis=1)# remove last columns as it is empty"
   ]
  },
  {
   "cell_type": "markdown",
   "metadata": {},
   "source": [
    "## 2. Data Cleanup\n",
    "This section is going to focus on cleaning the datasets, and by cleaning I mean:\n",
    "1. Making sure that for the chosen period the datasets have an equal number of samples - the process is to be explained here.\n",
    "2. Other irregularities, found in the datasets."
   ]
  },
  {
   "cell_type": "markdown",
   "metadata": {},
   "source": [
    "#### 2.1 Let get our bearings first"
   ]
  },
  {
   "cell_type": "code",
   "execution_count": 3,
   "metadata": {},
   "outputs": [
    {
     "data": {
      "text/html": [
       "<div>\n",
       "<style scoped>\n",
       "    .dataframe tbody tr th:only-of-type {\n",
       "        vertical-align: middle;\n",
       "    }\n",
       "\n",
       "    .dataframe tbody tr th {\n",
       "        vertical-align: top;\n",
       "    }\n",
       "\n",
       "    .dataframe thead th {\n",
       "        text-align: right;\n",
       "    }\n",
       "</style>\n",
       "<table border=\"1\" class=\"dataframe\">\n",
       "  <thead>\n",
       "    <tr style=\"text-align: right;\">\n",
       "      <th></th>\n",
       "      <th>Country Name</th>\n",
       "      <th>Country Code</th>\n",
       "      <th>Indicator Name</th>\n",
       "      <th>Indicator Code</th>\n",
       "      <th>2003</th>\n",
       "      <th>2004</th>\n",
       "      <th>2005</th>\n",
       "      <th>2006</th>\n",
       "      <th>2007</th>\n",
       "      <th>2008</th>\n",
       "      <th>2009</th>\n",
       "      <th>2010</th>\n",
       "      <th>2011</th>\n",
       "      <th>2012</th>\n",
       "      <th>2013</th>\n",
       "      <th>2014</th>\n",
       "      <th>2015</th>\n",
       "      <th>2016</th>\n",
       "      <th>2017</th>\n",
       "    </tr>\n",
       "  </thead>\n",
       "  <tbody>\n",
       "    <tr>\n",
       "      <th>0</th>\n",
       "      <td>Afghanistan</td>\n",
       "      <td>AFG</td>\n",
       "      <td>Building quality control index (0-15)</td>\n",
       "      <td>IC.DCP.BQCI</td>\n",
       "      <td>NaN</td>\n",
       "      <td>NaN</td>\n",
       "      <td>NaN</td>\n",
       "      <td>NaN</td>\n",
       "      <td>NaN</td>\n",
       "      <td>NaN</td>\n",
       "      <td>NaN</td>\n",
       "      <td>NaN</td>\n",
       "      <td>NaN</td>\n",
       "      <td>NaN</td>\n",
       "      <td>NaN</td>\n",
       "      <td>2.5</td>\n",
       "      <td>2.5</td>\n",
       "      <td>2.5</td>\n",
       "      <td>2.5</td>\n",
       "    </tr>\n",
       "    <tr>\n",
       "      <th>1</th>\n",
       "      <td>Afghanistan</td>\n",
       "      <td>AFG</td>\n",
       "      <td>Cost – Women (% of income per capita)</td>\n",
       "      <td>IC.REG.COST.PC.ZS.WOMEN</td>\n",
       "      <td>NaN</td>\n",
       "      <td>72.0</td>\n",
       "      <td>75.2</td>\n",
       "      <td>67.4</td>\n",
       "      <td>84.6</td>\n",
       "      <td>59.5</td>\n",
       "      <td>30.2</td>\n",
       "      <td>26.7</td>\n",
       "      <td>25.8</td>\n",
       "      <td>22.5</td>\n",
       "      <td>14.4</td>\n",
       "      <td>15.1</td>\n",
       "      <td>19.0</td>\n",
       "      <td>19.9</td>\n",
       "      <td>82.3</td>\n",
       "    </tr>\n",
       "    <tr>\n",
       "      <th>2</th>\n",
       "      <td>Afghanistan</td>\n",
       "      <td>AFG</td>\n",
       "      <td>Cost to build a warehouse (% of income per cap...</td>\n",
       "      <td>IC.DCP.COST</td>\n",
       "      <td>NaN</td>\n",
       "      <td>NaN</td>\n",
       "      <td>208.5</td>\n",
       "      <td>193.0</td>\n",
       "      <td>200.5</td>\n",
       "      <td>140.9</td>\n",
       "      <td>121.6</td>\n",
       "      <td>107.2</td>\n",
       "      <td>100.8</td>\n",
       "      <td>89.1</td>\n",
       "      <td>83.8</td>\n",
       "      <td>74.4</td>\n",
       "      <td>76.6</td>\n",
       "      <td>82.7</td>\n",
       "      <td>89.8</td>\n",
       "    </tr>\n",
       "    <tr>\n",
       "      <th>3</th>\n",
       "      <td>Afghanistan</td>\n",
       "      <td>AFG</td>\n",
       "      <td>Cost to enforce a contract (% of claim)</td>\n",
       "      <td>IC.EC.COST</td>\n",
       "      <td>NaN</td>\n",
       "      <td>29.0</td>\n",
       "      <td>29.0</td>\n",
       "      <td>29.0</td>\n",
       "      <td>29.0</td>\n",
       "      <td>29.0</td>\n",
       "      <td>29.0</td>\n",
       "      <td>29.0</td>\n",
       "      <td>29.0</td>\n",
       "      <td>29.0</td>\n",
       "      <td>29.0</td>\n",
       "      <td>29.0</td>\n",
       "      <td>29.0</td>\n",
       "      <td>29.0</td>\n",
       "      <td>29.0</td>\n",
       "    </tr>\n",
       "    <tr>\n",
       "      <th>4</th>\n",
       "      <td>Afghanistan</td>\n",
       "      <td>AFG</td>\n",
       "      <td>Cost to export: Documentary compliance (USD)</td>\n",
       "      <td>IC.EXP.COST.EXP.DOC</td>\n",
       "      <td>NaN</td>\n",
       "      <td>NaN</td>\n",
       "      <td>NaN</td>\n",
       "      <td>NaN</td>\n",
       "      <td>NaN</td>\n",
       "      <td>NaN</td>\n",
       "      <td>NaN</td>\n",
       "      <td>NaN</td>\n",
       "      <td>NaN</td>\n",
       "      <td>NaN</td>\n",
       "      <td>NaN</td>\n",
       "      <td>344.0</td>\n",
       "      <td>344.0</td>\n",
       "      <td>344.0</td>\n",
       "      <td>344.0</td>\n",
       "    </tr>\n",
       "  </tbody>\n",
       "</table>\n",
       "</div>"
      ],
      "text/plain": [
       "  Country Name Country Code  \\\n",
       "0  Afghanistan          AFG   \n",
       "1  Afghanistan          AFG   \n",
       "2  Afghanistan          AFG   \n",
       "3  Afghanistan          AFG   \n",
       "4  Afghanistan          AFG   \n",
       "\n",
       "                                      Indicator Name           Indicator Code  \\\n",
       "0              Building quality control index (0-15)              IC.DCP.BQCI   \n",
       "1              Cost – Women (% of income per capita)  IC.REG.COST.PC.ZS.WOMEN   \n",
       "2  Cost to build a warehouse (% of income per cap...              IC.DCP.COST   \n",
       "3            Cost to enforce a contract (% of claim)               IC.EC.COST   \n",
       "4       Cost to export: Documentary compliance (USD)      IC.EXP.COST.EXP.DOC   \n",
       "\n",
       "   2003  2004   2005   2006   2007   2008   2009   2010   2011  2012  2013  \\\n",
       "0   NaN   NaN    NaN    NaN    NaN    NaN    NaN    NaN    NaN   NaN   NaN   \n",
       "1   NaN  72.0   75.2   67.4   84.6   59.5   30.2   26.7   25.8  22.5  14.4   \n",
       "2   NaN   NaN  208.5  193.0  200.5  140.9  121.6  107.2  100.8  89.1  83.8   \n",
       "3   NaN  29.0   29.0   29.0   29.0   29.0   29.0   29.0   29.0  29.0  29.0   \n",
       "4   NaN   NaN    NaN    NaN    NaN    NaN    NaN    NaN    NaN   NaN   NaN   \n",
       "\n",
       "    2014   2015   2016   2017  \n",
       "0    2.5    2.5    2.5    2.5  \n",
       "1   15.1   19.0   19.9   82.3  \n",
       "2   74.4   76.6   82.7   89.8  \n",
       "3   29.0   29.0   29.0   29.0  \n",
       "4  344.0  344.0  344.0  344.0  "
      ]
     },
     "execution_count": 3,
     "metadata": {},
     "output_type": "execute_result"
    }
   ],
   "source": [
    "db_data.head()"
   ]
  },
  {
   "cell_type": "code",
   "execution_count": 4,
   "metadata": {},
   "outputs": [
    {
     "name": "stdout",
     "output_type": "stream",
     "text": [
      "<class 'pandas.core.frame.DataFrame'>\n",
      "RangeIndex: 15222 entries, 0 to 15221\n",
      "Data columns (total 19 columns):\n",
      "Country Name      15222 non-null object\n",
      "Country Code      15222 non-null object\n",
      "Indicator Name    15222 non-null object\n",
      "Indicator Code    15222 non-null object\n",
      "2003              1862 non-null float64\n",
      "2004              2741 non-null float64\n",
      "2005              5231 non-null float64\n",
      "2006              5348 non-null float64\n",
      "2007              5436 non-null float64\n",
      "2008              5466 non-null float64\n",
      "2009              6085 non-null float64\n",
      "2010              6087 non-null float64\n",
      "2011              6165 non-null float64\n",
      "2012              6262 non-null float64\n",
      "2013              8775 non-null float64\n",
      "2014              10871 non-null float64\n",
      "2015              11704 non-null float64\n",
      "2016              11704 non-null float64\n",
      "2017              11299 non-null float64\n",
      "dtypes: float64(15), object(4)\n",
      "memory usage: 2.2+ MB\n"
     ]
    },
    {
     "data": {
      "text/plain": [
       "(None, (15222, 19))"
      ]
     },
     "execution_count": 4,
     "metadata": {},
     "output_type": "execute_result"
    }
   ],
   "source": [
    "db_data.info(), db_data.shape"
   ]
  },
  {
   "cell_type": "markdown",
   "metadata": {},
   "source": [
    "So the *Doing Bussiness* dataset containes 19 columns in total. What I am interested in is the years the dataset covers - 2003 until 2017. We have to mirror that in the education dataset."
   ]
  },
  {
   "cell_type": "code",
   "execution_count": 5,
   "metadata": {},
   "outputs": [
    {
     "data": {
      "text/html": [
       "<div>\n",
       "<style scoped>\n",
       "    .dataframe tbody tr th:only-of-type {\n",
       "        vertical-align: middle;\n",
       "    }\n",
       "\n",
       "    .dataframe tbody tr th {\n",
       "        vertical-align: top;\n",
       "    }\n",
       "\n",
       "    .dataframe thead th {\n",
       "        text-align: right;\n",
       "    }\n",
       "</style>\n",
       "<table border=\"1\" class=\"dataframe\">\n",
       "  <thead>\n",
       "    <tr style=\"text-align: right;\">\n",
       "      <th></th>\n",
       "      <th>Country Name</th>\n",
       "      <th>Country Code</th>\n",
       "      <th>Indicator Name</th>\n",
       "      <th>Indicator Code</th>\n",
       "      <th>1970</th>\n",
       "      <th>1971</th>\n",
       "      <th>1972</th>\n",
       "      <th>1973</th>\n",
       "      <th>1974</th>\n",
       "      <th>1975</th>\n",
       "      <th>...</th>\n",
       "      <th>2055</th>\n",
       "      <th>2060</th>\n",
       "      <th>2065</th>\n",
       "      <th>2070</th>\n",
       "      <th>2075</th>\n",
       "      <th>2080</th>\n",
       "      <th>2085</th>\n",
       "      <th>2090</th>\n",
       "      <th>2095</th>\n",
       "      <th>2100</th>\n",
       "    </tr>\n",
       "  </thead>\n",
       "  <tbody>\n",
       "    <tr>\n",
       "      <th>0</th>\n",
       "      <td>Arab World</td>\n",
       "      <td>ARB</td>\n",
       "      <td>Adjusted net enrolment rate, lower secondary, ...</td>\n",
       "      <td>UIS.NERA.2</td>\n",
       "      <td>NaN</td>\n",
       "      <td>NaN</td>\n",
       "      <td>NaN</td>\n",
       "      <td>NaN</td>\n",
       "      <td>NaN</td>\n",
       "      <td>NaN</td>\n",
       "      <td>...</td>\n",
       "      <td>NaN</td>\n",
       "      <td>NaN</td>\n",
       "      <td>NaN</td>\n",
       "      <td>NaN</td>\n",
       "      <td>NaN</td>\n",
       "      <td>NaN</td>\n",
       "      <td>NaN</td>\n",
       "      <td>NaN</td>\n",
       "      <td>NaN</td>\n",
       "      <td>NaN</td>\n",
       "    </tr>\n",
       "    <tr>\n",
       "      <th>1</th>\n",
       "      <td>Arab World</td>\n",
       "      <td>ARB</td>\n",
       "      <td>Adjusted net enrolment rate, lower secondary, ...</td>\n",
       "      <td>UIS.NERA.2.F</td>\n",
       "      <td>NaN</td>\n",
       "      <td>NaN</td>\n",
       "      <td>NaN</td>\n",
       "      <td>NaN</td>\n",
       "      <td>NaN</td>\n",
       "      <td>NaN</td>\n",
       "      <td>...</td>\n",
       "      <td>NaN</td>\n",
       "      <td>NaN</td>\n",
       "      <td>NaN</td>\n",
       "      <td>NaN</td>\n",
       "      <td>NaN</td>\n",
       "      <td>NaN</td>\n",
       "      <td>NaN</td>\n",
       "      <td>NaN</td>\n",
       "      <td>NaN</td>\n",
       "      <td>NaN</td>\n",
       "    </tr>\n",
       "    <tr>\n",
       "      <th>2</th>\n",
       "      <td>Arab World</td>\n",
       "      <td>ARB</td>\n",
       "      <td>Adjusted net enrolment rate, lower secondary, ...</td>\n",
       "      <td>UIS.NERA.2.GPI</td>\n",
       "      <td>NaN</td>\n",
       "      <td>NaN</td>\n",
       "      <td>NaN</td>\n",
       "      <td>NaN</td>\n",
       "      <td>NaN</td>\n",
       "      <td>NaN</td>\n",
       "      <td>...</td>\n",
       "      <td>NaN</td>\n",
       "      <td>NaN</td>\n",
       "      <td>NaN</td>\n",
       "      <td>NaN</td>\n",
       "      <td>NaN</td>\n",
       "      <td>NaN</td>\n",
       "      <td>NaN</td>\n",
       "      <td>NaN</td>\n",
       "      <td>NaN</td>\n",
       "      <td>NaN</td>\n",
       "    </tr>\n",
       "    <tr>\n",
       "      <th>3</th>\n",
       "      <td>Arab World</td>\n",
       "      <td>ARB</td>\n",
       "      <td>Adjusted net enrolment rate, lower secondary, ...</td>\n",
       "      <td>UIS.NERA.2.M</td>\n",
       "      <td>NaN</td>\n",
       "      <td>NaN</td>\n",
       "      <td>NaN</td>\n",
       "      <td>NaN</td>\n",
       "      <td>NaN</td>\n",
       "      <td>NaN</td>\n",
       "      <td>...</td>\n",
       "      <td>NaN</td>\n",
       "      <td>NaN</td>\n",
       "      <td>NaN</td>\n",
       "      <td>NaN</td>\n",
       "      <td>NaN</td>\n",
       "      <td>NaN</td>\n",
       "      <td>NaN</td>\n",
       "      <td>NaN</td>\n",
       "      <td>NaN</td>\n",
       "      <td>NaN</td>\n",
       "    </tr>\n",
       "    <tr>\n",
       "      <th>4</th>\n",
       "      <td>Arab World</td>\n",
       "      <td>ARB</td>\n",
       "      <td>Adjusted net enrolment rate, primary, both sex...</td>\n",
       "      <td>SE.PRM.TENR</td>\n",
       "      <td>54.822121</td>\n",
       "      <td>54.894138</td>\n",
       "      <td>56.209438</td>\n",
       "      <td>57.267109</td>\n",
       "      <td>57.991138</td>\n",
       "      <td>59.36554</td>\n",
       "      <td>...</td>\n",
       "      <td>NaN</td>\n",
       "      <td>NaN</td>\n",
       "      <td>NaN</td>\n",
       "      <td>NaN</td>\n",
       "      <td>NaN</td>\n",
       "      <td>NaN</td>\n",
       "      <td>NaN</td>\n",
       "      <td>NaN</td>\n",
       "      <td>NaN</td>\n",
       "      <td>NaN</td>\n",
       "    </tr>\n",
       "  </tbody>\n",
       "</table>\n",
       "<p>5 rows × 69 columns</p>\n",
       "</div>"
      ],
      "text/plain": [
       "  Country Name Country Code  \\\n",
       "0   Arab World          ARB   \n",
       "1   Arab World          ARB   \n",
       "2   Arab World          ARB   \n",
       "3   Arab World          ARB   \n",
       "4   Arab World          ARB   \n",
       "\n",
       "                                      Indicator Name  Indicator Code  \\\n",
       "0  Adjusted net enrolment rate, lower secondary, ...      UIS.NERA.2   \n",
       "1  Adjusted net enrolment rate, lower secondary, ...    UIS.NERA.2.F   \n",
       "2  Adjusted net enrolment rate, lower secondary, ...  UIS.NERA.2.GPI   \n",
       "3  Adjusted net enrolment rate, lower secondary, ...    UIS.NERA.2.M   \n",
       "4  Adjusted net enrolment rate, primary, both sex...     SE.PRM.TENR   \n",
       "\n",
       "        1970       1971       1972       1973       1974      1975  ...   \\\n",
       "0        NaN        NaN        NaN        NaN        NaN       NaN  ...    \n",
       "1        NaN        NaN        NaN        NaN        NaN       NaN  ...    \n",
       "2        NaN        NaN        NaN        NaN        NaN       NaN  ...    \n",
       "3        NaN        NaN        NaN        NaN        NaN       NaN  ...    \n",
       "4  54.822121  54.894138  56.209438  57.267109  57.991138  59.36554  ...    \n",
       "\n",
       "   2055  2060  2065  2070  2075  2080  2085  2090  2095  2100  \n",
       "0   NaN   NaN   NaN   NaN   NaN   NaN   NaN   NaN   NaN   NaN  \n",
       "1   NaN   NaN   NaN   NaN   NaN   NaN   NaN   NaN   NaN   NaN  \n",
       "2   NaN   NaN   NaN   NaN   NaN   NaN   NaN   NaN   NaN   NaN  \n",
       "3   NaN   NaN   NaN   NaN   NaN   NaN   NaN   NaN   NaN   NaN  \n",
       "4   NaN   NaN   NaN   NaN   NaN   NaN   NaN   NaN   NaN   NaN  \n",
       "\n",
       "[5 rows x 69 columns]"
      ]
     },
     "execution_count": 5,
     "metadata": {},
     "output_type": "execute_result"
    }
   ],
   "source": [
    "edu_data.head()"
   ]
  },
  {
   "cell_type": "code",
   "execution_count": 6,
   "metadata": {},
   "outputs": [
    {
     "name": "stdout",
     "output_type": "stream",
     "text": [
      "<class 'pandas.core.frame.DataFrame'>\n",
      "RangeIndex: 886930 entries, 0 to 886929\n",
      "Data columns (total 69 columns):\n",
      "Country Name      886930 non-null object\n",
      "Country Code      886930 non-null object\n",
      "Indicator Name    886930 non-null object\n",
      "Indicator Code    886930 non-null object\n",
      "1970              72288 non-null float64\n",
      "1971              35537 non-null float64\n",
      "1972              35619 non-null float64\n",
      "1973              35545 non-null float64\n",
      "1974              35730 non-null float64\n",
      "1975              87306 non-null float64\n",
      "1976              37483 non-null float64\n",
      "1977              37574 non-null float64\n",
      "1978              37576 non-null float64\n",
      "1979              36809 non-null float64\n",
      "1980              89122 non-null float64\n",
      "1981              38777 non-null float64\n",
      "1982              37511 non-null float64\n",
      "1983              38460 non-null float64\n",
      "1984              38606 non-null float64\n",
      "1985              90296 non-null float64\n",
      "1986              39372 non-null float64\n",
      "1987              38641 non-null float64\n",
      "1988              38552 non-null float64\n",
      "1989              37540 non-null float64\n",
      "1990              124405 non-null float64\n",
      "1991              74437 non-null float64\n",
      "1992              75543 non-null float64\n",
      "1993              75793 non-null float64\n",
      "1994              77462 non-null float64\n",
      "1995              131361 non-null float64\n",
      "1996              76807 non-null float64\n",
      "1997              73453 non-null float64\n",
      "1998              84914 non-null float64\n",
      "1999              118839 non-null float64\n",
      "2000              176676 non-null float64\n",
      "2001              123509 non-null float64\n",
      "2002              124205 non-null float64\n",
      "2003              130363 non-null float64\n",
      "2004              128814 non-null float64\n",
      "2005              184108 non-null float64\n",
      "2006              140312 non-null float64\n",
      "2007              137272 non-null float64\n",
      "2008              134387 non-null float64\n",
      "2009              142108 non-null float64\n",
      "2010              242442 non-null float64\n",
      "2011              146012 non-null float64\n",
      "2012              147264 non-null float64\n",
      "2013              137509 non-null float64\n",
      "2014              113789 non-null float64\n",
      "2015              131058 non-null float64\n",
      "2016              16460 non-null float64\n",
      "2017              143 non-null float64\n",
      "2020              51436 non-null float64\n",
      "2025              51436 non-null float64\n",
      "2030              51436 non-null float64\n",
      "2035              51436 non-null float64\n",
      "2040              51436 non-null float64\n",
      "2045              51436 non-null float64\n",
      "2050              51436 non-null float64\n",
      "2055              51436 non-null float64\n",
      "2060              51436 non-null float64\n",
      "2065              51436 non-null float64\n",
      "2070              51436 non-null float64\n",
      "2075              51436 non-null float64\n",
      "2080              51436 non-null float64\n",
      "2085              51436 non-null float64\n",
      "2090              51436 non-null float64\n",
      "2095              51436 non-null float64\n",
      "2100              51436 non-null float64\n",
      "dtypes: float64(65), object(4)\n",
      "memory usage: 466.9+ MB\n"
     ]
    },
    {
     "data": {
      "text/plain": [
       "(None, (886930, 69))"
      ]
     },
     "execution_count": 6,
     "metadata": {},
     "output_type": "execute_result"
    }
   ],
   "source": [
    "edu_data.info(), edu_data.shape"
   ]
  },
  {
   "cell_type": "markdown",
   "metadata": {},
   "source": [
    "Wow, so the education data is going until 2100 and contains 69 columns in total. So lets create a new dataset *Education*  to the same time frame - 2003 until 2017."
   ]
  },
  {
   "cell_type": "code",
   "execution_count": 7,
   "metadata": {},
   "outputs": [],
   "source": [
    "edu_df = edu_data.copy() # copy the dataset\n",
    "columns_to_delete = np.concatenate((edu_df.columns.values[4:37], edu_df.columns.values[52:]))\n",
    "edu_df = edu_df.drop(columns_to_delete, axis=1)"
   ]
  },
  {
   "cell_type": "markdown",
   "metadata": {},
   "source": [
    "Two interesting question that come to mind are:\n",
    "1. *Do different indicators start at the same year?*\n",
    "    A way to do that is just count the missing values by columns for each indicator and see if they match to the number of contries \n",
    "2. *Are all the indicators recorded for all the countries?*\n",
    "    Here I would check whether the number of indicators for each country is consistent."
   ]
  },
  {
   "cell_type": "code",
   "execution_count": 8,
   "metadata": {},
   "outputs": [],
   "source": [
    "# 1\n",
    "def get_indicator_start_year(df):\n",
    "    '''\n",
    "    Takes as input a dataframe, extracts the indicators and countries and returns a new dataframe,\n",
    "    which maps each indicator to a start year.\n",
    "    '''\n",
    "    indicators = df['Indicator Code'].unique()\n",
    "    num_indicators = np.count_nonzero(indicators)\n",
    "    countries = db_data['Country Code'].unique()\n",
    "    num_countries = np.count_nonzero(countries)\n",
    "    \n",
    "    # initiate the new dataframe\n",
    "    new_df = pd.DataFrame(data={'Indicator': indicators, 'Start_Year': np.zeros(num_indicators)})\n",
    "    \n",
    "    # Get the Start Year\n",
    "    # not the most elegant way...\n",
    "    for indicator in indicators:\n",
    "        start_year = 0\n",
    "        indicator_series = df[df['Indicator Code'] == indicator].count()\n",
    "        for year in range(2003, 2018):\n",
    "            if indicator_series[str(year)] != 0:\n",
    "                new_df.loc[new_df['Indicator'] == indicator, 'Start_Year'] = int(year)\n",
    "                break\n",
    "    \n",
    "    return new_df"
   ]
  },
  {
   "cell_type": "code",
   "execution_count": 9,
   "metadata": {},
   "outputs": [],
   "source": [
    "indicator_db_year_df = get_indicator_start_year(db_data)"
   ]
  },
  {
   "cell_type": "code",
   "execution_count": 10,
   "metadata": {},
   "outputs": [],
   "source": [
    "indicator_edu_year_df = get_indicator_start_year(edu_df) # slow poke..."
   ]
  },
  {
   "cell_type": "markdown",
   "metadata": {},
   "source": [
    "Good. Now we have for both datasets which indicator starts when. However a question comes to mind - are all the indicators used? We could simply find out if the start year remained at 0."
   ]
  },
  {
   "cell_type": "code",
   "execution_count": 11,
   "metadata": {},
   "outputs": [
    {
     "data": {
      "text/plain": [
       "(3, 12)"
      ]
     },
     "execution_count": 11,
     "metadata": {},
     "output_type": "execute_result"
    }
   ],
   "source": [
    "indicator_db_year_df[indicator_db_year_df['Start_Year'] == 0]['Indicator'].count(), indicator_edu_year_df[indicator_edu_year_df['Start_Year'] == 0]['Indicator'].count()"
   ]
  },
  {
   "cell_type": "markdown",
   "metadata": {},
   "source": [
    "So now we know that 3 indicators from the *Doing Business* Dataset and 12 indicators from the *Education* dataset have no data in them at all. On the other hand question *1* we can safely answer with just looking at the desription."
   ]
  },
  {
   "cell_type": "code",
   "execution_count": 12,
   "metadata": {},
   "outputs": [
    {
     "data": {
      "text/html": [
       "<div>\n",
       "<style scoped>\n",
       "    .dataframe tbody tr th:only-of-type {\n",
       "        vertical-align: middle;\n",
       "    }\n",
       "\n",
       "    .dataframe tbody tr th {\n",
       "        vertical-align: top;\n",
       "    }\n",
       "\n",
       "    .dataframe thead th {\n",
       "        text-align: right;\n",
       "    }\n",
       "</style>\n",
       "<table border=\"1\" class=\"dataframe\">\n",
       "  <thead>\n",
       "    <tr style=\"text-align: right;\">\n",
       "      <th></th>\n",
       "      <th>Start_Year</th>\n",
       "    </tr>\n",
       "  </thead>\n",
       "  <tbody>\n",
       "    <tr>\n",
       "      <th>count</th>\n",
       "      <td>59.000000</td>\n",
       "    </tr>\n",
       "    <tr>\n",
       "      <th>mean</th>\n",
       "      <td>1906.288136</td>\n",
       "    </tr>\n",
       "    <tr>\n",
       "      <th>std</th>\n",
       "      <td>445.032585</td>\n",
       "    </tr>\n",
       "    <tr>\n",
       "      <th>min</th>\n",
       "      <td>0.000000</td>\n",
       "    </tr>\n",
       "    <tr>\n",
       "      <th>25%</th>\n",
       "      <td>2003.000000</td>\n",
       "    </tr>\n",
       "    <tr>\n",
       "      <th>50%</th>\n",
       "      <td>2005.000000</td>\n",
       "    </tr>\n",
       "    <tr>\n",
       "      <th>75%</th>\n",
       "      <td>2013.000000</td>\n",
       "    </tr>\n",
       "    <tr>\n",
       "      <th>max</th>\n",
       "      <td>2015.000000</td>\n",
       "    </tr>\n",
       "  </tbody>\n",
       "</table>\n",
       "</div>"
      ],
      "text/plain": [
       "        Start_Year\n",
       "count    59.000000\n",
       "mean   1906.288136\n",
       "std     445.032585\n",
       "min       0.000000\n",
       "25%    2003.000000\n",
       "50%    2005.000000\n",
       "75%    2013.000000\n",
       "max    2015.000000"
      ]
     },
     "execution_count": 12,
     "metadata": {},
     "output_type": "execute_result"
    }
   ],
   "source": [
    "indicator_db_year_df.describe()"
   ]
  },
  {
   "cell_type": "code",
   "execution_count": 13,
   "metadata": {},
   "outputs": [
    {
     "data": {
      "text/html": [
       "<div>\n",
       "<style scoped>\n",
       "    .dataframe tbody tr th:only-of-type {\n",
       "        vertical-align: middle;\n",
       "    }\n",
       "\n",
       "    .dataframe tbody tr th {\n",
       "        vertical-align: top;\n",
       "    }\n",
       "\n",
       "    .dataframe thead th {\n",
       "        text-align: right;\n",
       "    }\n",
       "</style>\n",
       "<table border=\"1\" class=\"dataframe\">\n",
       "  <thead>\n",
       "    <tr style=\"text-align: right;\">\n",
       "      <th></th>\n",
       "      <th>Start_Year</th>\n",
       "    </tr>\n",
       "  </thead>\n",
       "  <tbody>\n",
       "    <tr>\n",
       "      <th>count</th>\n",
       "      <td>3665.000000</td>\n",
       "    </tr>\n",
       "    <tr>\n",
       "      <th>mean</th>\n",
       "      <td>1999.740518</td>\n",
       "    </tr>\n",
       "    <tr>\n",
       "      <th>std</th>\n",
       "      <td>114.695865</td>\n",
       "    </tr>\n",
       "    <tr>\n",
       "      <th>min</th>\n",
       "      <td>0.000000</td>\n",
       "    </tr>\n",
       "    <tr>\n",
       "      <th>25%</th>\n",
       "      <td>2003.000000</td>\n",
       "    </tr>\n",
       "    <tr>\n",
       "      <th>50%</th>\n",
       "      <td>2005.000000</td>\n",
       "    </tr>\n",
       "    <tr>\n",
       "      <th>75%</th>\n",
       "      <td>2010.000000</td>\n",
       "    </tr>\n",
       "    <tr>\n",
       "      <th>max</th>\n",
       "      <td>2017.000000</td>\n",
       "    </tr>\n",
       "  </tbody>\n",
       "</table>\n",
       "</div>"
      ],
      "text/plain": [
       "        Start_Year\n",
       "count  3665.000000\n",
       "mean   1999.740518\n",
       "std     114.695865\n",
       "min       0.000000\n",
       "25%    2003.000000\n",
       "50%    2005.000000\n",
       "75%    2010.000000\n",
       "max    2017.000000"
      ]
     },
     "execution_count": 13,
     "metadata": {},
     "output_type": "execute_result"
    }
   ],
   "source": [
    "indicator_edu_year_df.describe()"
   ]
  },
  {
   "cell_type": "markdown",
   "metadata": {},
   "source": [
    "Let's drop the rows that we don't need."
   ]
  },
  {
   "cell_type": "code",
   "execution_count": 14,
   "metadata": {},
   "outputs": [],
   "source": [
    "nill_indicator_db = list(indicator_db_year_df[indicator_db_year_df['Start_Year'] == 0]['Indicator'])\n",
    "nill_indicator_edu = list(indicator_edu_year_df[indicator_edu_year_df['Start_Year'] == 0]['Indicator'])"
   ]
  },
  {
   "cell_type": "code",
   "execution_count": 95,
   "metadata": {},
   "outputs": [],
   "source": [
    "db_df = db_data.copy()"
   ]
  },
  {
   "cell_type": "code",
   "execution_count": 96,
   "metadata": {},
   "outputs": [],
   "source": [
    "def remove_empty_indicators(df, indicators):\n",
    "    '''\n",
    "    Takes in a dataframe and a list of indicators and removes them.\n",
    "    '''\n",
    "    for indicator in indicators:\n",
    "        df = df.drop(df[df['Indicator Code'] == indicator].index)\n",
    "        \n",
    "    return df"
   ]
  },
  {
   "cell_type": "code",
   "execution_count": 97,
   "metadata": {},
   "outputs": [],
   "source": [
    "db_df = remove_empty_indicators(db_df, nill_indicator_db)\n",
    "edu_df = remove_empty_indicators(edu_df, nill_indicator_edu)"
   ]
  },
  {
   "cell_type": "markdown",
   "metadata": {},
   "source": [
    "So what about *2.Are all the indicators recorded for all the countries?*"
   ]
  },
  {
   "cell_type": "code",
   "execution_count": 98,
   "metadata": {},
   "outputs": [],
   "source": [
    "# 2\n",
    "def get_indicator_number_of_countries(df):\n",
    "    '''\n",
    "    Takes as input a dataframe and returns the list of indicators,\n",
    "    that have less than 'num_countries'\n",
    "    '''\n",
    "    indicators = list(df['Indicator Code'].unique())\n",
    "    num_countries = np.count_nonzero(df['Country Code'].unique())\n",
    "    less_country_indicators = []\n",
    "    \n",
    "    for indicator in indicators:\n",
    "        indicator_countries = df[df['Indicator Code'] == indicator].count()['Country Code']\n",
    "        \n",
    "        if indicator_countries != num_countries:\n",
    "            less_country_indicators.append(indicator)\n",
    "            \n",
    "    \n",
    "    return less_country_indicators\n",
    "        "
   ]
  },
  {
   "cell_type": "code",
   "execution_count": 99,
   "metadata": {},
   "outputs": [],
   "source": [
    "faulty_indicators_db = get_indicator_number_of_countries(db_df)\n",
    "faulty_indicators_edu = get_indicator_number_of_countries(edu_df)"
   ]
  },
  {
   "cell_type": "code",
   "execution_count": 100,
   "metadata": {},
   "outputs": [
    {
     "data": {
      "text/plain": [
       "([], [])"
      ]
     },
     "execution_count": 100,
     "metadata": {},
     "output_type": "execute_result"
    }
   ],
   "source": [
    "faulty_indicators_db, faulty_indicators_edu"
   ]
  },
  {
   "cell_type": "markdown",
   "metadata": {},
   "source": [
    "Displaying the arrays shows us that they are both empty, which means that all countries have all indicators."
   ]
  },
  {
   "cell_type": "markdown",
   "metadata": {},
   "source": [
    "#### 2.2 Handling the missing values\n",
    "As it can be seen from the samples from the datasets there is a lot of missing data. My first intuituion was to look at what are the global trends and/or seasonality. However since the data is aggregated for each country for each year the seasonality doesn't make much sense. Of course there might be 5-year or decade cycles, but that doesn't help with series that are completely missing. That's why my idea is based on similarity - infer the missing data from countries that are similar. \n",
    "\n",
    "How do we find the missing data for each indicator and each country?\n",
    "1. Linear Regression for each country and each indicator.\n",
    "2. Clustering Algorithm\n",
    "\n",
    "##### **1. Linear Regression on each country for each indicator.**\n",
    "Simple as that - run *linreg* for each row individualy. Now for the *Doing Business* dataset this might be fine, but for the education dataset that won't be feasible as it will take a lot of computational time.\n",
    "I might do it for the sake of it anyway.\n",
    "\n",
    "##### **2. A Clustering Algorithm. **\n",
    "The most important part is looking for a clustering algorithm, that can group the countries and later on we can infer the missing values. Of course some discrepencies can be expected.\n",
    "So what options do we have:\n",
    "\n",
    "1. Geo clustering - Cluster countries based on the relative distances between countries - this could be feasible, as it will go straight to the initial problem I have defined for myself. Also I could just infer the data from the neighbors. A question that comes to mind is what happens when all of the countries in the predefined region have empty values? Do I truncate the whole series to start from the earliest date? Also that might not be feasible as one would imagine - two neighboring countries may have different situations (i.e. North and South Koreas). In addition how do I define distances? Is it capital-to-capital distances or based on the numbers of neighboring countries\n",
    "\n",
    "2. K-Means - Not really suitable for time-series, but let's say we take the calculate the mean for each country and represent it countries vs mean indicators. Then we will have a *n_countries* vs *m_mean_indicators*. From then on either we choose the indicators are most representative of a country, or we apply some sort of a dimensionality reduction (PCA? t-SNE?). Then perform K-means on that.\n",
    "\n",
    "3. Dynamic Time Warping clustering of some sort?\n",
    "\n",
    "** Further work: **\n",
    "Show the corelation between each indicator for a country that has the full set of data - correlogram."
   ]
  },
  {
   "cell_type": "markdown",
   "metadata": {},
   "source": [
    "#### 2.2.1 Creating the country vs mean indicator matrix."
   ]
  },
  {
   "cell_type": "code",
   "execution_count": 21,
   "metadata": {},
   "outputs": [],
   "source": [
    "def country_indicator_mat(df):\n",
    "    '''\n",
    "    Takes as input a pandas dataframe and returns a dataframe that has country codes for indices, while columns are indicators.\n",
    "    '''\n",
    "    df_new = df.copy() # copy just to be sure\n",
    "    df_new['ind_mean'] = df_new.iloc[:,4:].mean(axis=1)\n",
    "    return df_new.pivot(index='Country Code', columns='Indicator Code', values='ind_mean')"
   ]
  },
  {
   "cell_type": "code",
   "execution_count": 22,
   "metadata": {},
   "outputs": [],
   "source": [
    "db_ind_mat = country_indicator_mat(db_df)\n",
    "edu_ind_mat = country_indicator_mat(edu_df)"
   ]
  },
  {
   "cell_type": "markdown",
   "metadata": {},
   "source": [
    "Good. Not let's clean some more. \n",
    "\n",
    "Unfortunatelly I suspect that some countries are lacking data at all. That means that the 'mean_indicator' value will still be N/A. \n",
    "A method for cleaning the data would be to get the shape of the df and remove the countries for which all indicators are empty.\n",
    "\n",
    "In addition - since we are trying to group the countries together - the indicators which have a single missing value will be removed."
   ]
  },
  {
   "cell_type": "code",
   "execution_count": 23,
   "metadata": {},
   "outputs": [],
   "source": [
    "def remove_null_rows_cols(df):\n",
    "    '''\n",
    "    Takes as an input a dataframe, removes the countries and indicators that are empty throughout and returns the 'clean' dataframe.\n",
    "    ''' \n",
    "    # Removing the countries with no data\n",
    "    is_not_nulls = (df.isnull().sum(axis=1) != df.shape[1]).values\n",
    "    wo_nan_countries_df = df[is_not_nulls]\n",
    "    \n",
    "    # Removing the indicators with no data\n",
    "    is_not_nulls_inds = (wo_nan_countries_df.isnull().sum() == 0)\n",
    "    clean_df = wo_nan_countries_df[is_not_nulls_inds.index[is_not_nulls_inds]]\n",
    "    \n",
    "    return clean_df"
   ]
  },
  {
   "cell_type": "code",
   "execution_count": 24,
   "metadata": {},
   "outputs": [],
   "source": [
    "db_clean = remove_null_rows_cols(db_ind_mat)\n",
    "edu_clean = remove_null_rows_cols(edu_ind_mat)"
   ]
  },
  {
   "cell_type": "code",
   "execution_count": 25,
   "metadata": {},
   "outputs": [
    {
     "data": {
      "text/plain": [
       "((212, 25), (242, 0))"
      ]
     },
     "execution_count": 25,
     "metadata": {},
     "output_type": "execute_result"
    }
   ],
   "source": [
    "db_clean.shape, edu_clean.shape"
   ]
  },
  {
   "cell_type": "markdown",
   "metadata": {},
   "source": [
    "Looking at the shapes it seems that 25 indicators on the *Doing Business* dataset are good-to-go. However in the *Education* dataset it seems that is not the case as all of the indicators were removed. \n",
    "\n",
    "One solution would be to just assume that the clusters are the same for both datasets and infer based on the clustering done on the *Doing Business*.\n",
    "Another one would be to try a different approach to cleaning the data altogether. [WIP]"
   ]
  },
  {
   "cell_type": "markdown",
   "metadata": {},
   "source": [
    "#### 2.2.2 Dealing with the dimensions.\n",
    "\n",
    "One would assume that the best way to deal with this many features is to look through them and decide which ones are the important ones (either due to domain engineering or just good ol' plain common sense), however  because of the sheer amount of indicators on both datasets I would use PCA.\n",
    "\n",
    "This approach will require that I first normalize the data (since PCA maximizes variance) and then apply PCA. [Scikit-Learn](http://scikit-learn.org/stable/) to the rescue!"
   ]
  },
  {
   "cell_type": "code",
   "execution_count": 26,
   "metadata": {},
   "outputs": [],
   "source": [
    "# Scaling\n",
    "from sklearn.preprocessing import StandardScaler\n",
    "scaler = StandardScaler()\n",
    "db_scaled = scaler.fit_transform(db_clean.values)"
   ]
  },
  {
   "cell_type": "code",
   "execution_count": 27,
   "metadata": {},
   "outputs": [],
   "source": [
    "# Dimensionality reduction with PCA\n",
    "from sklearn.decomposition import PCA\n",
    "pca = PCA(n_components = 2, random_state=42)\n",
    "db_decomp = pca.fit_transform(db_scaled)"
   ]
  },
  {
   "cell_type": "code",
   "execution_count": 28,
   "metadata": {},
   "outputs": [
    {
     "data": {
      "text/plain": [
       "(212, 2)"
      ]
     },
     "execution_count": 28,
     "metadata": {},
     "output_type": "execute_result"
    }
   ],
   "source": [
    "db_decomp.shape"
   ]
  },
  {
   "cell_type": "markdown",
   "metadata": {},
   "source": [
    "Let's see how it looks:"
   ]
  },
  {
   "cell_type": "code",
   "execution_count": 29,
   "metadata": {},
   "outputs": [
    {
     "data": {
      "text/plain": [
       "<matplotlib.axes._subplots.AxesSubplot at 0x7fd24accc128>"
      ]
     },
     "execution_count": 29,
     "metadata": {},
     "output_type": "execute_result"
    },
    {
     "data": {
      "image/png": "[encoded data removed]",
      "text/plain": [
       "<Figure size 432x288 with 1 Axes>"
      ]
     },
     "metadata": {},
     "output_type": "display_data"
    }
   ],
   "source": [
    "sns.regplot(x=db_decomp[:,0], y=db_decomp[:,1], fit_reg=False)"
   ]
  },
  {
   "cell_type": "markdown",
   "metadata": {},
   "source": [
    "Distinct clusters are not really observable, however you could see a steady gradient from left to right, as well as one outlier. Here's a task to expand on - find the outlier!\n",
    "Also the visualization gives us more questions than answers - I was slightly hoping that the chart will show me the right answer to the question of the number of clusters."
   ]
  },
  {
   "cell_type": "markdown",
   "metadata": {},
   "source": [
    "#### 2.2.3 Finally clustering.\n",
    "\n",
    "When doing clustering the most important question is the number of clusters. Here again we have a number of options:\n",
    "1. Choose an arbitrary split, based on a geographical *common sense* approach - 6 continents - say 2 economical regions per continent will yield 12 clusters. However this is more akin to eyeballing the solution and it may never converge.\n",
    "2. Elbow method - which minimizes the WSS (within-cluster sum of squares, the measure of compactness)."
   ]
  },
  {
   "cell_type": "code",
   "execution_count": 30,
   "metadata": {},
   "outputs": [],
   "source": [
    "# Determining the number of clusters - Elbow Method\n",
    "from sklearn.cluster import KMeans\n",
    "\n",
    "wss = []\n",
    "max_clusters = 20\n",
    "\n",
    "for i in range(1,max_clusters+1):\n",
    "    model = KMeans(n_clusters = i, init = 'k-means++', max_iter=300, random_state=42)\n",
    "    model.fit(db_decomp)\n",
    "    wss.append(model.inertia_)"
   ]
  },
  {
   "cell_type": "code",
   "execution_count": 31,
   "metadata": {},
   "outputs": [
    {
     "data": {
      "image/png": "[encoded data removed]",
      "text/plain": [
       "<Figure size 432x288 with 1 Axes>"
      ]
     },
     "metadata": {},
     "output_type": "display_data"
    }
   ],
   "source": [
    "plt.plot(np.linspace(1,max_clusters,max_clusters), wss)\n",
    "plt.title('The Elbow Method')\n",
    "plt.xticks(np.linspace(1,max_clusters,max_clusters))\n",
    "plt.xlabel('Number of clusters')\n",
    "plt.ylabel('WSS')\n",
    "plt.show()"
   ]
  },
  {
   "cell_type": "markdown",
   "metadata": {},
   "source": [
    "From the result, visualy, it seems that 8 clusters will suffice."
   ]
  },
  {
   "cell_type": "code",
   "execution_count": 32,
   "metadata": {},
   "outputs": [],
   "source": [
    "# Finally clustering the countries\n",
    "final_model = KMeans(n_clusters = 8, init='k-means++', max_iter=300, random_state=42)\n",
    "clusters = final_model.fit_predict(db_decomp)"
   ]
  },
  {
   "cell_type": "code",
   "execution_count": 33,
   "metadata": {},
   "outputs": [],
   "source": [
    "cluster_countries_df = pd.DataFrame({'country_code':db_clean.index.values, 'cluster':clusters})\n",
    "# creating the dict\n",
    "country_cluster_map = {}\n",
    "# i love my loops :)\n",
    "for country in cluster_countries_df['country_code'].values:\n",
    "    country_cluster_map[country] = cluster_countries_df[cluster_countries_df['country_code'] == country]['cluster'].values[0] "
   ]
  },
  {
   "cell_type": "code",
   "execution_count": 94,
   "metadata": {},
   "outputs": [],
   "source": [
    "# Assigning the cluster to the whole dataframe\n",
    "db_df['Cluster'] = db_df['Country Code'].map(country_cluster_map)"
   ]
  },
  {
   "cell_type": "markdown",
   "metadata": {},
   "source": [
    "#### 2.2.4 And finally filling out the missing values.\n",
    "\n",
    "The working plan is to infer the values for each cluster by sampling from a (also an asumption) normal distribution for each year of the cluster.\n",
    "This is going to be done via:\n",
    "1. Determining the mean and variance for each cluster for each year for each indicator (if it measured).\n",
    "2. Well... sampling from it.\n",
    "\n",
    "But first - more clean up.\n",
    "\n",
    "[/edit this part]\n",
    "Quick write up:\n",
    "1. Filter the original dataframe by indicators that have data in 2003\n",
    "2. Do the inference only on them.\n",
    "3. Correlate them with education indicators\n",
    "[/edit this part]\n",
    "\n",
    "**Assumption**: Indicators for a different clusters follow a normal distribution."
   ]
  },
  {
   "cell_type": "code",
   "execution_count": 35,
   "metadata": {},
   "outputs": [],
   "source": [
    "# Removing the countries that have not been assigned to a cluster\n",
    "db_df = db_df[db_df['Cluster'].notnull()]"
   ]
  },
  {
   "cell_type": "code",
   "execution_count": 89,
   "metadata": {},
   "outputs": [],
   "source": [
    "# Getting the list of indicators that start at 2003 - the earliest start year\n",
    "indicator_list = indicator_db_year_df[indicator_db_year_df['Start_Year'] == 2003]['Indicator'].values"
   ]
  },
  {
   "cell_type": "code",
   "execution_count": 90,
   "metadata": {},
   "outputs": [
    {
     "data": {
      "text/plain": [
       "array(['IC.REG.COST.PC.ZS.WOMEN', 'IC.EC.COST', 'IC.REG.COST.PC.ZS',\n",
       "       'IC.REG.CAP', 'IC.ISV.OTCM', 'IC.REG.PROC.WOMEN', 'IC.REG.PROC',\n",
       "       'IC.ISV.COST', 'IC.ISV.RECRT', 'IC.LGL.DURS', 'IC.REG.DURS.WOMEN',\n",
       "       'IC.REG.DURS', 'IC.ISV.DURS'], dtype=object)"
      ]
     },
     "execution_count": 90,
     "metadata": {},
     "output_type": "execute_result"
    }
   ],
   "source": [
    "indicator_list"
   ]
  },
  {
   "cell_type": "code",
   "execution_count": 101,
   "metadata": {},
   "outputs": [],
   "source": [
    "def check_ind_cluster(df, ind_list):\n",
    "    '''Verify whether cluster has all of the indicators at 2003 and if others have to be deleted. Return the list with non-complaint indicators'''\n",
    "    non_compl_indicators = []\n",
    "    for cluster in df['Cluster'].unique():\n",
    "        for indicator in ind_list:\n",
    "            # Check whether the cluster and indicator for 2003 are all nulls and append it to the list like a dict.\n",
    "            if df[(df['Cluster'] == cluster) & (df['Indicator Code'] == indicator)]['2003'].isnull().values.all():\n",
    "                non_compl_indicators.append({cluster: indicator})"
   ]
  },
  {
   "cell_type": "code",
   "execution_count": 103,
   "metadata": {},
   "outputs": [
    {
     "ename": "KeyError",
     "evalue": "'Cluster'",
     "output_type": "error",
     "traceback": [
      "\u001b[0;31m---------------------------------------------------------------------------\u001b[0m",
      "\u001b[0;31mKeyError\u001b[0m                                  Traceback (most recent call last)",
      "\u001b[0;32m/usr/local/lib/python3.6/dist-packages/pandas/core/indexes/base.py\u001b[0m in \u001b[0;36mget_loc\u001b[0;34m(self, key, method, tolerance)\u001b[0m\n\u001b[1;32m   2524\u001b[0m             \u001b[0;32mtry\u001b[0m\u001b[0;34m:\u001b[0m\u001b[0;34m\u001b[0m\u001b[0m\n\u001b[0;32m-> 2525\u001b[0;31m                 \u001b[0;32mreturn\u001b[0m \u001b[0mself\u001b[0m\u001b[0;34m.\u001b[0m\u001b[0m_engine\u001b[0m\u001b[0;34m.\u001b[0m\u001b[0mget_loc\u001b[0m\u001b[0;34m(\u001b[0m\u001b[0mkey\u001b[0m\u001b[0;34m)\u001b[0m\u001b[0;34m\u001b[0m\u001b[0m\n\u001b[0m\u001b[1;32m   2526\u001b[0m             \u001b[0;32mexcept\u001b[0m \u001b[0mKeyError\u001b[0m\u001b[0;34m:\u001b[0m\u001b[0;34m\u001b[0m\u001b[0m\n",
      "\u001b[0;32mpandas/_libs/index.pyx\u001b[0m in \u001b[0;36mpandas._libs.index.IndexEngine.get_loc\u001b[0;34m()\u001b[0m\n",
      "\u001b[0;32mpandas/_libs/index.pyx\u001b[0m in \u001b[0;36mpandas._libs.index.IndexEngine.get_loc\u001b[0;34m()\u001b[0m\n",
      "\u001b[0;32mpandas/_libs/hashtable_class_helper.pxi\u001b[0m in \u001b[0;36mpandas._libs.hashtable.PyObjectHashTable.get_item\u001b[0;34m()\u001b[0m\n",
      "\u001b[0;32mpandas/_libs/hashtable_class_helper.pxi\u001b[0m in \u001b[0;36mpandas._libs.hashtable.PyObjectHashTable.get_item\u001b[0;34m()\u001b[0m\n",
      "\u001b[0;31mKeyError\u001b[0m: 'Cluster'",
      "\nDuring handling of the above exception, another exception occurred:\n",
      "\u001b[0;31mKeyError\u001b[0m                                  Traceback (most recent call last)",
      "\u001b[0;32m<ipython-input-103-c916f4b43cf9>\u001b[0m in \u001b[0;36m<module>\u001b[0;34m()\u001b[0m\n\u001b[0;32m----> 1\u001b[0;31m \u001b[0mnon_cmpl_list\u001b[0m \u001b[0;34m=\u001b[0m \u001b[0mcheck_ind_cluster\u001b[0m\u001b[0;34m(\u001b[0m\u001b[0mdb_df\u001b[0m\u001b[0;34m,\u001b[0m \u001b[0mindicator_list\u001b[0m\u001b[0;34m)\u001b[0m\u001b[0;34m\u001b[0m\u001b[0m\n\u001b[0m\u001b[1;32m      2\u001b[0m \u001b[0mprint\u001b[0m\u001b[0;34m(\u001b[0m\u001b[0mnon_cmpl_list\u001b[0m\u001b[0;34m)\u001b[0m\u001b[0;34m\u001b[0m\u001b[0m\n",
      "\u001b[0;32m<ipython-input-101-9c8581838d6a>\u001b[0m in \u001b[0;36mcheck_ind_cluster\u001b[0;34m(df, ind_list)\u001b[0m\n\u001b[1;32m      2\u001b[0m     \u001b[0;34m'''Verify whether cluster has all of the indicators at 2003 and if others have to be deleted. Return the list with non-complaint indicators'''\u001b[0m\u001b[0;34m\u001b[0m\u001b[0m\n\u001b[1;32m      3\u001b[0m     \u001b[0mnon_compl_indicators\u001b[0m \u001b[0;34m=\u001b[0m \u001b[0;34m[\u001b[0m\u001b[0;34m]\u001b[0m\u001b[0;34m\u001b[0m\u001b[0m\n\u001b[0;32m----> 4\u001b[0;31m     \u001b[0;32mfor\u001b[0m \u001b[0mcluster\u001b[0m \u001b[0;32min\u001b[0m \u001b[0mdf\u001b[0m\u001b[0;34m[\u001b[0m\u001b[0;34m'Cluster'\u001b[0m\u001b[0;34m]\u001b[0m\u001b[0;34m.\u001b[0m\u001b[0munique\u001b[0m\u001b[0;34m(\u001b[0m\u001b[0;34m)\u001b[0m\u001b[0;34m:\u001b[0m\u001b[0;34m\u001b[0m\u001b[0m\n\u001b[0m\u001b[1;32m      5\u001b[0m         \u001b[0;32mfor\u001b[0m \u001b[0mindicator\u001b[0m \u001b[0;32min\u001b[0m \u001b[0mind_list\u001b[0m\u001b[0;34m:\u001b[0m\u001b[0;34m\u001b[0m\u001b[0m\n\u001b[1;32m      6\u001b[0m             \u001b[0;31m# Check whether the cluster and indicator for 2003 are all nulls and append it to the list like a dict.\u001b[0m\u001b[0;34m\u001b[0m\u001b[0;34m\u001b[0m\u001b[0m\n",
      "\u001b[0;32m/usr/local/lib/python3.6/dist-packages/pandas/core/frame.py\u001b[0m in \u001b[0;36m__getitem__\u001b[0;34m(self, key)\u001b[0m\n\u001b[1;32m   2137\u001b[0m             \u001b[0;32mreturn\u001b[0m \u001b[0mself\u001b[0m\u001b[0;34m.\u001b[0m\u001b[0m_getitem_multilevel\u001b[0m\u001b[0;34m(\u001b[0m\u001b[0mkey\u001b[0m\u001b[0;34m)\u001b[0m\u001b[0;34m\u001b[0m\u001b[0m\n\u001b[1;32m   2138\u001b[0m         \u001b[0;32melse\u001b[0m\u001b[0;34m:\u001b[0m\u001b[0;34m\u001b[0m\u001b[0m\n\u001b[0;32m-> 2139\u001b[0;31m             \u001b[0;32mreturn\u001b[0m \u001b[0mself\u001b[0m\u001b[0;34m.\u001b[0m\u001b[0m_getitem_column\u001b[0m\u001b[0;34m(\u001b[0m\u001b[0mkey\u001b[0m\u001b[0;34m)\u001b[0m\u001b[0;34m\u001b[0m\u001b[0m\n\u001b[0m\u001b[1;32m   2140\u001b[0m \u001b[0;34m\u001b[0m\u001b[0m\n\u001b[1;32m   2141\u001b[0m     \u001b[0;32mdef\u001b[0m \u001b[0m_getitem_column\u001b[0m\u001b[0;34m(\u001b[0m\u001b[0mself\u001b[0m\u001b[0;34m,\u001b[0m \u001b[0mkey\u001b[0m\u001b[0;34m)\u001b[0m\u001b[0;34m:\u001b[0m\u001b[0;34m\u001b[0m\u001b[0m\n",
      "\u001b[0;32m/usr/local/lib/python3.6/dist-packages/pandas/core/frame.py\u001b[0m in \u001b[0;36m_getitem_column\u001b[0;34m(self, key)\u001b[0m\n\u001b[1;32m   2144\u001b[0m         \u001b[0;31m# get column\u001b[0m\u001b[0;34m\u001b[0m\u001b[0;34m\u001b[0m\u001b[0m\n\u001b[1;32m   2145\u001b[0m         \u001b[0;32mif\u001b[0m \u001b[0mself\u001b[0m\u001b[0;34m.\u001b[0m\u001b[0mcolumns\u001b[0m\u001b[0;34m.\u001b[0m\u001b[0mis_unique\u001b[0m\u001b[0;34m:\u001b[0m\u001b[0;34m\u001b[0m\u001b[0m\n\u001b[0;32m-> 2146\u001b[0;31m             \u001b[0;32mreturn\u001b[0m \u001b[0mself\u001b[0m\u001b[0;34m.\u001b[0m\u001b[0m_get_item_cache\u001b[0m\u001b[0;34m(\u001b[0m\u001b[0mkey\u001b[0m\u001b[0;34m)\u001b[0m\u001b[0;34m\u001b[0m\u001b[0m\n\u001b[0m\u001b[1;32m   2147\u001b[0m \u001b[0;34m\u001b[0m\u001b[0m\n\u001b[1;32m   2148\u001b[0m         \u001b[0;31m# duplicate columns & possible reduce dimensionality\u001b[0m\u001b[0;34m\u001b[0m\u001b[0;34m\u001b[0m\u001b[0m\n",
      "\u001b[0;32m/usr/local/lib/python3.6/dist-packages/pandas/core/generic.py\u001b[0m in \u001b[0;36m_get_item_cache\u001b[0;34m(self, item)\u001b[0m\n\u001b[1;32m   1840\u001b[0m         \u001b[0mres\u001b[0m \u001b[0;34m=\u001b[0m \u001b[0mcache\u001b[0m\u001b[0;34m.\u001b[0m\u001b[0mget\u001b[0m\u001b[0;34m(\u001b[0m\u001b[0mitem\u001b[0m\u001b[0;34m)\u001b[0m\u001b[0;34m\u001b[0m\u001b[0m\n\u001b[1;32m   1841\u001b[0m         \u001b[0;32mif\u001b[0m \u001b[0mres\u001b[0m \u001b[0;32mis\u001b[0m \u001b[0;32mNone\u001b[0m\u001b[0;34m:\u001b[0m\u001b[0;34m\u001b[0m\u001b[0m\n\u001b[0;32m-> 1842\u001b[0;31m             \u001b[0mvalues\u001b[0m \u001b[0;34m=\u001b[0m \u001b[0mself\u001b[0m\u001b[0;34m.\u001b[0m\u001b[0m_data\u001b[0m\u001b[0;34m.\u001b[0m\u001b[0mget\u001b[0m\u001b[0;34m(\u001b[0m\u001b[0mitem\u001b[0m\u001b[0;34m)\u001b[0m\u001b[0;34m\u001b[0m\u001b[0m\n\u001b[0m\u001b[1;32m   1843\u001b[0m             \u001b[0mres\u001b[0m \u001b[0;34m=\u001b[0m \u001b[0mself\u001b[0m\u001b[0;34m.\u001b[0m\u001b[0m_box_item_values\u001b[0m\u001b[0;34m(\u001b[0m\u001b[0mitem\u001b[0m\u001b[0;34m,\u001b[0m \u001b[0mvalues\u001b[0m\u001b[0;34m)\u001b[0m\u001b[0;34m\u001b[0m\u001b[0m\n\u001b[1;32m   1844\u001b[0m             \u001b[0mcache\u001b[0m\u001b[0;34m[\u001b[0m\u001b[0mitem\u001b[0m\u001b[0;34m]\u001b[0m \u001b[0;34m=\u001b[0m \u001b[0mres\u001b[0m\u001b[0;34m\u001b[0m\u001b[0m\n",
      "\u001b[0;32m/usr/local/lib/python3.6/dist-packages/pandas/core/internals.py\u001b[0m in \u001b[0;36mget\u001b[0;34m(self, item, fastpath)\u001b[0m\n\u001b[1;32m   3841\u001b[0m \u001b[0;34m\u001b[0m\u001b[0m\n\u001b[1;32m   3842\u001b[0m             \u001b[0;32mif\u001b[0m \u001b[0;32mnot\u001b[0m \u001b[0misna\u001b[0m\u001b[0;34m(\u001b[0m\u001b[0mitem\u001b[0m\u001b[0;34m)\u001b[0m\u001b[0;34m:\u001b[0m\u001b[0;34m\u001b[0m\u001b[0m\n\u001b[0;32m-> 3843\u001b[0;31m                 \u001b[0mloc\u001b[0m \u001b[0;34m=\u001b[0m \u001b[0mself\u001b[0m\u001b[0;34m.\u001b[0m\u001b[0mitems\u001b[0m\u001b[0;34m.\u001b[0m\u001b[0mget_loc\u001b[0m\u001b[0;34m(\u001b[0m\u001b[0mitem\u001b[0m\u001b[0;34m)\u001b[0m\u001b[0;34m\u001b[0m\u001b[0m\n\u001b[0m\u001b[1;32m   3844\u001b[0m             \u001b[0;32melse\u001b[0m\u001b[0;34m:\u001b[0m\u001b[0;34m\u001b[0m\u001b[0m\n\u001b[1;32m   3845\u001b[0m                 \u001b[0mindexer\u001b[0m \u001b[0;34m=\u001b[0m \u001b[0mnp\u001b[0m\u001b[0;34m.\u001b[0m\u001b[0marange\u001b[0m\u001b[0;34m(\u001b[0m\u001b[0mlen\u001b[0m\u001b[0;34m(\u001b[0m\u001b[0mself\u001b[0m\u001b[0;34m.\u001b[0m\u001b[0mitems\u001b[0m\u001b[0;34m)\u001b[0m\u001b[0;34m)\u001b[0m\u001b[0;34m[\u001b[0m\u001b[0misna\u001b[0m\u001b[0;34m(\u001b[0m\u001b[0mself\u001b[0m\u001b[0;34m.\u001b[0m\u001b[0mitems\u001b[0m\u001b[0;34m)\u001b[0m\u001b[0;34m]\u001b[0m\u001b[0;34m\u001b[0m\u001b[0m\n",
      "\u001b[0;32m/usr/local/lib/python3.6/dist-packages/pandas/core/indexes/base.py\u001b[0m in \u001b[0;36mget_loc\u001b[0;34m(self, key, method, tolerance)\u001b[0m\n\u001b[1;32m   2525\u001b[0m                 \u001b[0;32mreturn\u001b[0m \u001b[0mself\u001b[0m\u001b[0;34m.\u001b[0m\u001b[0m_engine\u001b[0m\u001b[0;34m.\u001b[0m\u001b[0mget_loc\u001b[0m\u001b[0;34m(\u001b[0m\u001b[0mkey\u001b[0m\u001b[0;34m)\u001b[0m\u001b[0;34m\u001b[0m\u001b[0m\n\u001b[1;32m   2526\u001b[0m             \u001b[0;32mexcept\u001b[0m \u001b[0mKeyError\u001b[0m\u001b[0;34m:\u001b[0m\u001b[0;34m\u001b[0m\u001b[0m\n\u001b[0;32m-> 2527\u001b[0;31m                 \u001b[0;32mreturn\u001b[0m \u001b[0mself\u001b[0m\u001b[0;34m.\u001b[0m\u001b[0m_engine\u001b[0m\u001b[0;34m.\u001b[0m\u001b[0mget_loc\u001b[0m\u001b[0;34m(\u001b[0m\u001b[0mself\u001b[0m\u001b[0;34m.\u001b[0m\u001b[0m_maybe_cast_indexer\u001b[0m\u001b[0;34m(\u001b[0m\u001b[0mkey\u001b[0m\u001b[0;34m)\u001b[0m\u001b[0;34m)\u001b[0m\u001b[0;34m\u001b[0m\u001b[0m\n\u001b[0m\u001b[1;32m   2528\u001b[0m \u001b[0;34m\u001b[0m\u001b[0m\n\u001b[1;32m   2529\u001b[0m         \u001b[0mindexer\u001b[0m \u001b[0;34m=\u001b[0m \u001b[0mself\u001b[0m\u001b[0;34m.\u001b[0m\u001b[0mget_indexer\u001b[0m\u001b[0;34m(\u001b[0m\u001b[0;34m[\u001b[0m\u001b[0mkey\u001b[0m\u001b[0;34m]\u001b[0m\u001b[0;34m,\u001b[0m \u001b[0mmethod\u001b[0m\u001b[0;34m=\u001b[0m\u001b[0mmethod\u001b[0m\u001b[0;34m,\u001b[0m \u001b[0mtolerance\u001b[0m\u001b[0;34m=\u001b[0m\u001b[0mtolerance\u001b[0m\u001b[0;34m)\u001b[0m\u001b[0;34m\u001b[0m\u001b[0m\n",
      "\u001b[0;32mpandas/_libs/index.pyx\u001b[0m in \u001b[0;36mpandas._libs.index.IndexEngine.get_loc\u001b[0;34m()\u001b[0m\n",
      "\u001b[0;32mpandas/_libs/index.pyx\u001b[0m in \u001b[0;36mpandas._libs.index.IndexEngine.get_loc\u001b[0;34m()\u001b[0m\n",
      "\u001b[0;32mpandas/_libs/hashtable_class_helper.pxi\u001b[0m in \u001b[0;36mpandas._libs.hashtable.PyObjectHashTable.get_item\u001b[0;34m()\u001b[0m\n",
      "\u001b[0;32mpandas/_libs/hashtable_class_helper.pxi\u001b[0m in \u001b[0;36mpandas._libs.hashtable.PyObjectHashTable.get_item\u001b[0;34m()\u001b[0m\n",
      "\u001b[0;31mKeyError\u001b[0m: 'Cluster'"
     ]
    }
   ],
   "source": [
    "non_cmpl_list = check_ind_cluster(db_df, indicator_list)\n",
    "print(non_cmpl_list)"
   ]
  },
  {
   "cell_type": "markdown",
   "metadata": {},
   "source": [
    "Essentially an empty list. No more checks. Now forward to filtering our dataframe."
   ]
  },
  {
   "cell_type": "code",
   "execution_count": 40,
   "metadata": {},
   "outputs": [],
   "source": [
    "db_filtered_df = db_df[db_df['Indicator Code'].isin(indicator_list)]"
   ]
  },
  {
   "cell_type": "markdown",
   "metadata": {},
   "source": [
    "Now lets create the function per indicator to get the mean and the variance of the cluster for the year per indicator."
   ]
  },
  {
   "cell_type": "code",
   "execution_count": 41,
   "metadata": {},
   "outputs": [],
   "source": [
    "years = db_filtered_df.columns[4:-1]"
   ]
  },
  {
   "cell_type": "code",
   "execution_count": 42,
   "metadata": {},
   "outputs": [],
   "source": [
    "for year in years:\n",
    "    if year == '2003':\n",
    "        mean_cluster_indicator = db_filtered_df.groupby(['Cluster', 'Indicator Code'], as_index=False)[year].mean()\n",
    "        var_cluster_indicator = db_filtered_df.groupby(['Cluster', 'Indicator Code'], as_index=False)[year].var()\n",
    "    else:\n",
    "        mean_cluster_indicator[year] = db_filtered_df.groupby(['Cluster', 'Indicator Code'], as_index=False)[year].mean()[year]\n",
    "        var_cluster_indicator[year] = db_filtered_df.groupby(['Cluster', 'Indicator Code'], as_index=False)[year].var()[year]"
   ]
  },
  {
   "cell_type": "code",
   "execution_count": 43,
   "metadata": {},
   "outputs": [
    {
     "data": {
      "text/html": [
       "<div>\n",
       "<style scoped>\n",
       "    .dataframe tbody tr th:only-of-type {\n",
       "        vertical-align: middle;\n",
       "    }\n",
       "\n",
       "    .dataframe tbody tr th {\n",
       "        vertical-align: top;\n",
       "    }\n",
       "\n",
       "    .dataframe thead th {\n",
       "        text-align: right;\n",
       "    }\n",
       "</style>\n",
       "<table border=\"1\" class=\"dataframe\">\n",
       "  <thead>\n",
       "    <tr style=\"text-align: right;\">\n",
       "      <th></th>\n",
       "      <th>Cluster</th>\n",
       "      <th>Indicator Code</th>\n",
       "      <th>2003</th>\n",
       "      <th>2004</th>\n",
       "      <th>2005</th>\n",
       "      <th>2006</th>\n",
       "      <th>2007</th>\n",
       "      <th>2008</th>\n",
       "      <th>2009</th>\n",
       "      <th>2010</th>\n",
       "      <th>2011</th>\n",
       "      <th>2012</th>\n",
       "      <th>2013</th>\n",
       "      <th>2014</th>\n",
       "      <th>2015</th>\n",
       "      <th>2016</th>\n",
       "      <th>2017</th>\n",
       "    </tr>\n",
       "  </thead>\n",
       "  <tbody>\n",
       "    <tr>\n",
       "      <th>0</th>\n",
       "      <td>0.0</td>\n",
       "      <td>IC.EC.COST</td>\n",
       "      <td>54.482353</td>\n",
       "      <td>51.315789</td>\n",
       "      <td>50.182609</td>\n",
       "      <td>49.550000</td>\n",
       "      <td>49.466667</td>\n",
       "      <td>49.466667</td>\n",
       "      <td>49.358333</td>\n",
       "      <td>49.304167</td>\n",
       "      <td>49.220833</td>\n",
       "      <td>47.808</td>\n",
       "      <td>43.524</td>\n",
       "      <td>43.524</td>\n",
       "      <td>43.524</td>\n",
       "      <td>43.524</td>\n",
       "      <td>43.524</td>\n",
       "    </tr>\n",
       "    <tr>\n",
       "      <th>1</th>\n",
       "      <td>0.0</td>\n",
       "      <td>IC.ISV.COST</td>\n",
       "      <td>27.321429</td>\n",
       "      <td>26.833333</td>\n",
       "      <td>26.294118</td>\n",
       "      <td>26.500000</td>\n",
       "      <td>26.421053</td>\n",
       "      <td>26.789474</td>\n",
       "      <td>26.789474</td>\n",
       "      <td>26.789474</td>\n",
       "      <td>26.789474</td>\n",
       "      <td>25.700</td>\n",
       "      <td>25.700</td>\n",
       "      <td>25.700</td>\n",
       "      <td>25.700</td>\n",
       "      <td>25.700</td>\n",
       "      <td>25.700</td>\n",
       "    </tr>\n",
       "    <tr>\n",
       "      <th>2</th>\n",
       "      <td>0.0</td>\n",
       "      <td>IC.ISV.DURS</td>\n",
       "      <td>3.392857</td>\n",
       "      <td>3.300000</td>\n",
       "      <td>3.323529</td>\n",
       "      <td>3.361111</td>\n",
       "      <td>3.289474</td>\n",
       "      <td>3.289474</td>\n",
       "      <td>3.289474</td>\n",
       "      <td>3.289474</td>\n",
       "      <td>3.289474</td>\n",
       "      <td>3.240</td>\n",
       "      <td>3.205</td>\n",
       "      <td>3.205</td>\n",
       "      <td>3.205</td>\n",
       "      <td>3.205</td>\n",
       "      <td>3.205</td>\n",
       "    </tr>\n",
       "    <tr>\n",
       "      <th>3</th>\n",
       "      <td>0.0</td>\n",
       "      <td>IC.ISV.OTCM</td>\n",
       "      <td>0.000000</td>\n",
       "      <td>0.000000</td>\n",
       "      <td>0.000000</td>\n",
       "      <td>0.000000</td>\n",
       "      <td>0.000000</td>\n",
       "      <td>0.000000</td>\n",
       "      <td>0.000000</td>\n",
       "      <td>0.000000</td>\n",
       "      <td>0.000000</td>\n",
       "      <td>0.000</td>\n",
       "      <td>0.000</td>\n",
       "      <td>0.000</td>\n",
       "      <td>0.000</td>\n",
       "      <td>0.000</td>\n",
       "      <td>0.000</td>\n",
       "    </tr>\n",
       "    <tr>\n",
       "      <th>4</th>\n",
       "      <td>0.0</td>\n",
       "      <td>IC.ISV.RECRT</td>\n",
       "      <td>9.470588</td>\n",
       "      <td>11.152632</td>\n",
       "      <td>9.860870</td>\n",
       "      <td>13.979167</td>\n",
       "      <td>14.983333</td>\n",
       "      <td>14.733333</td>\n",
       "      <td>14.733333</td>\n",
       "      <td>15.429167</td>\n",
       "      <td>16.154167</td>\n",
       "      <td>17.156</td>\n",
       "      <td>16.548</td>\n",
       "      <td>16.420</td>\n",
       "      <td>16.796</td>\n",
       "      <td>17.396</td>\n",
       "      <td>18.020</td>\n",
       "    </tr>\n",
       "  </tbody>\n",
       "</table>\n",
       "</div>"
      ],
      "text/plain": [
       "   Cluster Indicator Code       2003       2004       2005       2006  \\\n",
       "0      0.0     IC.EC.COST  54.482353  51.315789  50.182609  49.550000   \n",
       "1      0.0    IC.ISV.COST  27.321429  26.833333  26.294118  26.500000   \n",
       "2      0.0    IC.ISV.DURS   3.392857   3.300000   3.323529   3.361111   \n",
       "3      0.0    IC.ISV.OTCM   0.000000   0.000000   0.000000   0.000000   \n",
       "4      0.0   IC.ISV.RECRT   9.470588  11.152632   9.860870  13.979167   \n",
       "\n",
       "        2007       2008       2009       2010       2011    2012    2013  \\\n",
       "0  49.466667  49.466667  49.358333  49.304167  49.220833  47.808  43.524   \n",
       "1  26.421053  26.789474  26.789474  26.789474  26.789474  25.700  25.700   \n",
       "2   3.289474   3.289474   3.289474   3.289474   3.289474   3.240   3.205   \n",
       "3   0.000000   0.000000   0.000000   0.000000   0.000000   0.000   0.000   \n",
       "4  14.983333  14.733333  14.733333  15.429167  16.154167  17.156  16.548   \n",
       "\n",
       "     2014    2015    2016    2017  \n",
       "0  43.524  43.524  43.524  43.524  \n",
       "1  25.700  25.700  25.700  25.700  \n",
       "2   3.205   3.205   3.205   3.205  \n",
       "3   0.000   0.000   0.000   0.000  \n",
       "4  16.420  16.796  17.396  18.020  "
      ]
     },
     "execution_count": 43,
     "metadata": {},
     "output_type": "execute_result"
    }
   ],
   "source": [
    "mean_cluster_indicator.head()"
   ]
  },
  {
   "cell_type": "code",
   "execution_count": 44,
   "metadata": {},
   "outputs": [
    {
     "data": {
      "text/html": [
       "<div>\n",
       "<style scoped>\n",
       "    .dataframe tbody tr th:only-of-type {\n",
       "        vertical-align: middle;\n",
       "    }\n",
       "\n",
       "    .dataframe tbody tr th {\n",
       "        vertical-align: top;\n",
       "    }\n",
       "\n",
       "    .dataframe thead th {\n",
       "        text-align: right;\n",
       "    }\n",
       "</style>\n",
       "<table border=\"1\" class=\"dataframe\">\n",
       "  <thead>\n",
       "    <tr style=\"text-align: right;\">\n",
       "      <th></th>\n",
       "      <th>Cluster</th>\n",
       "      <th>Indicator Code</th>\n",
       "      <th>2003</th>\n",
       "      <th>2004</th>\n",
       "      <th>2005</th>\n",
       "      <th>2006</th>\n",
       "      <th>2007</th>\n",
       "      <th>2008</th>\n",
       "      <th>2009</th>\n",
       "      <th>2010</th>\n",
       "      <th>2011</th>\n",
       "      <th>2012</th>\n",
       "      <th>2013</th>\n",
       "      <th>2014</th>\n",
       "      <th>2015</th>\n",
       "      <th>2016</th>\n",
       "      <th>2017</th>\n",
       "    </tr>\n",
       "  </thead>\n",
       "  <tbody>\n",
       "    <tr>\n",
       "      <th>0</th>\n",
       "      <td>0.0</td>\n",
       "      <td>IC.EC.COST</td>\n",
       "      <td>946.765294</td>\n",
       "      <td>933.885848</td>\n",
       "      <td>894.981502</td>\n",
       "      <td>865.673913</td>\n",
       "      <td>859.223188</td>\n",
       "      <td>859.223188</td>\n",
       "      <td>851.335580</td>\n",
       "      <td>847.603025</td>\n",
       "      <td>852.553025</td>\n",
       "      <td>866.932433</td>\n",
       "      <td>401.472733</td>\n",
       "      <td>401.472733</td>\n",
       "      <td>401.472733</td>\n",
       "      <td>401.472733</td>\n",
       "      <td>401.472733</td>\n",
       "    </tr>\n",
       "    <tr>\n",
       "      <th>1</th>\n",
       "      <td>0.0</td>\n",
       "      <td>IC.ISV.COST</td>\n",
       "      <td>301.407967</td>\n",
       "      <td>283.452381</td>\n",
       "      <td>257.845588</td>\n",
       "      <td>243.441176</td>\n",
       "      <td>230.035088</td>\n",
       "      <td>223.342105</td>\n",
       "      <td>223.342105</td>\n",
       "      <td>223.342105</td>\n",
       "      <td>223.342105</td>\n",
       "      <td>235.326316</td>\n",
       "      <td>235.326316</td>\n",
       "      <td>235.326316</td>\n",
       "      <td>235.326316</td>\n",
       "      <td>235.326316</td>\n",
       "      <td>235.326316</td>\n",
       "    </tr>\n",
       "    <tr>\n",
       "      <th>2</th>\n",
       "      <td>0.0</td>\n",
       "      <td>IC.ISV.DURS</td>\n",
       "      <td>1.477637</td>\n",
       "      <td>1.501429</td>\n",
       "      <td>1.599412</td>\n",
       "      <td>1.295458</td>\n",
       "      <td>1.320994</td>\n",
       "      <td>1.320994</td>\n",
       "      <td>1.320994</td>\n",
       "      <td>1.320994</td>\n",
       "      <td>1.320994</td>\n",
       "      <td>1.300421</td>\n",
       "      <td>1.334184</td>\n",
       "      <td>1.334184</td>\n",
       "      <td>1.334184</td>\n",
       "      <td>1.334184</td>\n",
       "      <td>1.334184</td>\n",
       "    </tr>\n",
       "    <tr>\n",
       "      <th>3</th>\n",
       "      <td>0.0</td>\n",
       "      <td>IC.ISV.OTCM</td>\n",
       "      <td>0.000000</td>\n",
       "      <td>0.000000</td>\n",
       "      <td>0.000000</td>\n",
       "      <td>0.000000</td>\n",
       "      <td>0.000000</td>\n",
       "      <td>0.000000</td>\n",
       "      <td>0.000000</td>\n",
       "      <td>0.000000</td>\n",
       "      <td>0.000000</td>\n",
       "      <td>0.000000</td>\n",
       "      <td>0.000000</td>\n",
       "      <td>0.000000</td>\n",
       "      <td>0.000000</td>\n",
       "      <td>0.000000</td>\n",
       "      <td>0.000000</td>\n",
       "    </tr>\n",
       "    <tr>\n",
       "      <th>4</th>\n",
       "      <td>0.0</td>\n",
       "      <td>IC.ISV.RECRT</td>\n",
       "      <td>102.025956</td>\n",
       "      <td>115.078187</td>\n",
       "      <td>124.794308</td>\n",
       "      <td>139.854764</td>\n",
       "      <td>132.357101</td>\n",
       "      <td>131.867536</td>\n",
       "      <td>131.867536</td>\n",
       "      <td>138.729982</td>\n",
       "      <td>154.822591</td>\n",
       "      <td>183.138400</td>\n",
       "      <td>167.686767</td>\n",
       "      <td>165.055000</td>\n",
       "      <td>174.077067</td>\n",
       "      <td>182.482067</td>\n",
       "      <td>190.350000</td>\n",
       "    </tr>\n",
       "  </tbody>\n",
       "</table>\n",
       "</div>"
      ],
      "text/plain": [
       "   Cluster Indicator Code        2003        2004        2005        2006  \\\n",
       "0      0.0     IC.EC.COST  946.765294  933.885848  894.981502  865.673913   \n",
       "1      0.0    IC.ISV.COST  301.407967  283.452381  257.845588  243.441176   \n",
       "2      0.0    IC.ISV.DURS    1.477637    1.501429    1.599412    1.295458   \n",
       "3      0.0    IC.ISV.OTCM    0.000000    0.000000    0.000000    0.000000   \n",
       "4      0.0   IC.ISV.RECRT  102.025956  115.078187  124.794308  139.854764   \n",
       "\n",
       "         2007        2008        2009        2010        2011        2012  \\\n",
       "0  859.223188  859.223188  851.335580  847.603025  852.553025  866.932433   \n",
       "1  230.035088  223.342105  223.342105  223.342105  223.342105  235.326316   \n",
       "2    1.320994    1.320994    1.320994    1.320994    1.320994    1.300421   \n",
       "3    0.000000    0.000000    0.000000    0.000000    0.000000    0.000000   \n",
       "4  132.357101  131.867536  131.867536  138.729982  154.822591  183.138400   \n",
       "\n",
       "         2013        2014        2015        2016        2017  \n",
       "0  401.472733  401.472733  401.472733  401.472733  401.472733  \n",
       "1  235.326316  235.326316  235.326316  235.326316  235.326316  \n",
       "2    1.334184    1.334184    1.334184    1.334184    1.334184  \n",
       "3    0.000000    0.000000    0.000000    0.000000    0.000000  \n",
       "4  167.686767  165.055000  174.077067  182.482067  190.350000  "
      ]
     },
     "execution_count": 44,
     "metadata": {},
     "output_type": "execute_result"
    }
   ],
   "source": [
    "var_cluster_indicator.head()"
   ]
  },
  {
   "cell_type": "markdown",
   "metadata": {},
   "source": [
    "Now we have two matrices that contain the means of all the cluster-indicators for all of the years. Let's finally fill those missing values. To do this two things need to be done: \n",
    "1. Define a function to generate the random sample based on the cluster mean and variance.\n",
    "2. Actually replacing them. I wasn't planning on another loop, but..."
   ]
  },
  {
   "cell_type": "code",
   "execution_count": 45,
   "metadata": {},
   "outputs": [],
   "source": [
    "def random_cluster_sample(cluster_num, indicator, year, mean_cluster_ind, var_cluster_ind):\n",
    "    dist_mean = mean_cluster_ind[(mean_cluster_ind['Cluster'] == cluster_num) & (mean_cluster_ind['Indicator Code'] == indicator)][year]\n",
    "    dist_var = var_cluster_ind[(var_cluster_ind['Cluster'] == cluster_num) & (var_cluster_ind['Indicator Code'] == indicator)][year]\n",
    "    \n",
    "    return np.random.normal(dist_mean, np.sqrt(dist_var), 1)[0]  "
   ]
  },
  {
   "cell_type": "code",
   "execution_count": 46,
   "metadata": {},
   "outputs": [],
   "source": [
    "def fill_missing_vals(df, mean_cluster_indicator, var_cluster_indicator):\n",
    "    '''\n",
    "        Takes as an input a dataframe and returns a clean one.\n",
    "    '''\n",
    "    df = df.copy()\n",
    "    for index, row in df.iterrows():\n",
    "        country_code = row['Country Code']\n",
    "        indicator = row['Indicator Code']\n",
    "        cluster = row['Cluster']\n",
    "        year_list = list(row[row.isnull()].index)\n",
    "\n",
    "        for year in year_list:\n",
    "            df.loc[(df['Country Code'] == country_code) & (df['Indicator Code'] == indicator), year] = random_cluster_sample(cluster, indicator, year,\n",
    "                                                                                                                             mean_cluster_indicator,\n",
    "                                                                                                                             var_cluster_indicator)\n",
    "    \n",
    "    return df"
   ]
  },
  {
   "cell_type": "code",
   "execution_count": 47,
   "metadata": {},
   "outputs": [],
   "source": [
    "db_dataset = fill_missing_vals(db_filtered_df, mean_cluster_indicator, var_cluster_indicator)"
   ]
  },
  {
   "cell_type": "markdown",
   "metadata": {},
   "source": [
    "So now we have the *Doing Business* dataset with a reduced number of indicators, but all of them have data for the whole period. So what about the *Education* dataset? It was brushed off a while ago, where we tried to remove the indicators, based on a empty clusters. But now as the clusters are available, we can map them unto it and in general repeat the same process for finding the missing values. \n",
    "\n",
    "**Asummption**: The countries are clustered the same way in education, as they are in business."
   ]
  },
  {
   "cell_type": "code",
   "execution_count": 48,
   "metadata": {},
   "outputs": [],
   "source": [
    "# Mapping the clusters to the education dataset\n",
    "edu_df['Cluster'] = edu_df['Country Code'].map(country_cluster_map)\n",
    "\n",
    "# removing the countries without clusters. NB: The proper thing to do here is to actually check this countries and see why they don't have clusters\n",
    "edu_df = edu_df[edu_df['Cluster'].notnull()]\n",
    "\n",
    "# getting the list of indicators that start 2003\n",
    "edu_indicators = list(indicator_edu_year_df[indicator_edu_year_df['Start_Year'] == 2003]['Indicator'])\n",
    "\n",
    "# geting the list with the non-compliant \n",
    "non_compl_list = check_ind_cluster(edu_df, edu_indicators)"
   ]
  },
  {
   "cell_type": "code",
   "execution_count": 49,
   "metadata": {},
   "outputs": [
    {
     "name": "stdout",
     "output_type": "stream",
     "text": [
      "None\n"
     ]
    }
   ],
   "source": [
    "print(non_compl_list)"
   ]
  },
  {
   "cell_type": "markdown",
   "metadata": {},
   "source": [
    "Again an empty list. Thus let's continue with the same steps - filtering and creating the mean-var matrices."
   ]
  },
  {
   "cell_type": "code",
   "execution_count": 50,
   "metadata": {},
   "outputs": [],
   "source": [
    "edu_filtered = edu_df[edu_df['Indicator Code'].isin(edu_indicators)]"
   ]
  },
  {
   "cell_type": "code",
   "execution_count": 51,
   "metadata": {},
   "outputs": [],
   "source": [
    "years = edu_filtered.columns[4:-1]\n",
    "\n",
    "for year in years:\n",
    "    if year == '2003':\n",
    "        edu_mean_cluster_indicator = edu_filtered.groupby(['Cluster', 'Indicator Code'], as_index=False)[year].mean()\n",
    "        edu_var_cluster_indicator = edu_filtered.groupby(['Cluster', 'Indicator Code'], as_index=False)[year].var()\n",
    "    else:\n",
    "        edu_mean_cluster_indicator[year] = edu_filtered.groupby(['Cluster', 'Indicator Code'], as_index=False)[year].mean()[year]\n",
    "        edu_var_cluster_indicator[year] = edu_filtered.groupby(['Cluster', 'Indicator Code'], as_index=False)[year].var()[year]"
   ]
  },
  {
   "cell_type": "code",
   "execution_count": 52,
   "metadata": {},
   "outputs": [
    {
     "data": {
      "text/html": [
       "<div>\n",
       "<style scoped>\n",
       "    .dataframe tbody tr th:only-of-type {\n",
       "        vertical-align: middle;\n",
       "    }\n",
       "\n",
       "    .dataframe tbody tr th {\n",
       "        vertical-align: top;\n",
       "    }\n",
       "\n",
       "    .dataframe thead th {\n",
       "        text-align: right;\n",
       "    }\n",
       "</style>\n",
       "<table border=\"1\" class=\"dataframe\">\n",
       "  <thead>\n",
       "    <tr style=\"text-align: right;\">\n",
       "      <th></th>\n",
       "      <th>Cluster</th>\n",
       "      <th>Indicator Code</th>\n",
       "      <th>2003</th>\n",
       "      <th>2004</th>\n",
       "      <th>2005</th>\n",
       "      <th>2006</th>\n",
       "      <th>2007</th>\n",
       "      <th>2008</th>\n",
       "      <th>2009</th>\n",
       "      <th>2010</th>\n",
       "      <th>2011</th>\n",
       "      <th>2012</th>\n",
       "      <th>2013</th>\n",
       "      <th>2014</th>\n",
       "      <th>2015</th>\n",
       "      <th>2016</th>\n",
       "      <th>2017</th>\n",
       "    </tr>\n",
       "  </thead>\n",
       "  <tbody>\n",
       "    <tr>\n",
       "      <th>0</th>\n",
       "      <td>0.0</td>\n",
       "      <td>HH.DHS.GAR.456</td>\n",
       "      <td>1.116442</td>\n",
       "      <td>3.754989</td>\n",
       "      <td>2.848159</td>\n",
       "      <td>1.952721</td>\n",
       "      <td>2.047845</td>\n",
       "      <td>2.6</td>\n",
       "      <td>NaN</td>\n",
       "      <td>2.752631</td>\n",
       "      <td>8.900000</td>\n",
       "      <td>5.416667</td>\n",
       "      <td>6.195529</td>\n",
       "      <td>6.401001</td>\n",
       "      <td>6.238783</td>\n",
       "      <td>NaN</td>\n",
       "      <td>NaN</td>\n",
       "    </tr>\n",
       "    <tr>\n",
       "      <th>1</th>\n",
       "      <td>0.0</td>\n",
       "      <td>HH.DHS.GAR.456.F</td>\n",
       "      <td>0.893847</td>\n",
       "      <td>3.080128</td>\n",
       "      <td>1.721381</td>\n",
       "      <td>1.090256</td>\n",
       "      <td>1.429105</td>\n",
       "      <td>2.2</td>\n",
       "      <td>NaN</td>\n",
       "      <td>1.978417</td>\n",
       "      <td>7.800000</td>\n",
       "      <td>4.500000</td>\n",
       "      <td>5.017515</td>\n",
       "      <td>5.403566</td>\n",
       "      <td>5.024975</td>\n",
       "      <td>NaN</td>\n",
       "      <td>NaN</td>\n",
       "    </tr>\n",
       "    <tr>\n",
       "      <th>2</th>\n",
       "      <td>0.0</td>\n",
       "      <td>HH.DHS.GAR.456.M</td>\n",
       "      <td>1.398364</td>\n",
       "      <td>4.523657</td>\n",
       "      <td>4.165084</td>\n",
       "      <td>3.270629</td>\n",
       "      <td>2.878495</td>\n",
       "      <td>3.2</td>\n",
       "      <td>NaN</td>\n",
       "      <td>3.809662</td>\n",
       "      <td>10.100000</td>\n",
       "      <td>6.666667</td>\n",
       "      <td>7.506981</td>\n",
       "      <td>7.578769</td>\n",
       "      <td>7.589906</td>\n",
       "      <td>NaN</td>\n",
       "      <td>NaN</td>\n",
       "    </tr>\n",
       "    <tr>\n",
       "      <th>3</th>\n",
       "      <td>0.0</td>\n",
       "      <td>HH.DHS.GAR.456.Q1</td>\n",
       "      <td>0.000000</td>\n",
       "      <td>0.000000</td>\n",
       "      <td>0.045282</td>\n",
       "      <td>0.000000</td>\n",
       "      <td>0.000000</td>\n",
       "      <td>0.0</td>\n",
       "      <td>NaN</td>\n",
       "      <td>0.084143</td>\n",
       "      <td>0.000000</td>\n",
       "      <td>0.263880</td>\n",
       "      <td>0.126978</td>\n",
       "      <td>0.328643</td>\n",
       "      <td>0.126978</td>\n",
       "      <td>NaN</td>\n",
       "      <td>NaN</td>\n",
       "    </tr>\n",
       "    <tr>\n",
       "      <th>4</th>\n",
       "      <td>0.0</td>\n",
       "      <td>HH.DHS.GAR.456.Q2</td>\n",
       "      <td>0.076164</td>\n",
       "      <td>0.000000</td>\n",
       "      <td>0.034460</td>\n",
       "      <td>0.094523</td>\n",
       "      <td>0.425933</td>\n",
       "      <td>0.0</td>\n",
       "      <td>NaN</td>\n",
       "      <td>0.172491</td>\n",
       "      <td>0.193622</td>\n",
       "      <td>1.141971</td>\n",
       "      <td>0.166314</td>\n",
       "      <td>1.662353</td>\n",
       "      <td>0.166314</td>\n",
       "      <td>NaN</td>\n",
       "      <td>NaN</td>\n",
       "    </tr>\n",
       "  </tbody>\n",
       "</table>\n",
       "</div>"
      ],
      "text/plain": [
       "   Cluster     Indicator Code      2003      2004      2005      2006  \\\n",
       "0      0.0     HH.DHS.GAR.456  1.116442  3.754989  2.848159  1.952721   \n",
       "1      0.0   HH.DHS.GAR.456.F  0.893847  3.080128  1.721381  1.090256   \n",
       "2      0.0   HH.DHS.GAR.456.M  1.398364  4.523657  4.165084  3.270629   \n",
       "3      0.0  HH.DHS.GAR.456.Q1  0.000000  0.000000  0.045282  0.000000   \n",
       "4      0.0  HH.DHS.GAR.456.Q2  0.076164  0.000000  0.034460  0.094523   \n",
       "\n",
       "       2007  2008  2009      2010       2011      2012      2013      2014  \\\n",
       "0  2.047845   2.6   NaN  2.752631   8.900000  5.416667  6.195529  6.401001   \n",
       "1  1.429105   2.2   NaN  1.978417   7.800000  4.500000  5.017515  5.403566   \n",
       "2  2.878495   3.2   NaN  3.809662  10.100000  6.666667  7.506981  7.578769   \n",
       "3  0.000000   0.0   NaN  0.084143   0.000000  0.263880  0.126978  0.328643   \n",
       "4  0.425933   0.0   NaN  0.172491   0.193622  1.141971  0.166314  1.662353   \n",
       "\n",
       "       2015  2016  2017  \n",
       "0  6.238783   NaN   NaN  \n",
       "1  5.024975   NaN   NaN  \n",
       "2  7.589906   NaN   NaN  \n",
       "3  0.126978   NaN   NaN  \n",
       "4  0.166314   NaN   NaN  "
      ]
     },
     "execution_count": 52,
     "metadata": {},
     "output_type": "execute_result"
    }
   ],
   "source": [
    "edu_mean_cluster_indicator.head()"
   ]
  },
  {
   "cell_type": "markdown",
   "metadata": {},
   "source": [
    "Just looking at the head it looks that there are a lot of missing values for the mean. However I believe data is better perceived visually."
   ]
  },
  {
   "cell_type": "code",
   "execution_count": 53,
   "metadata": {},
   "outputs": [
    {
     "data": {
      "text/plain": [
       "<matplotlib.axes._subplots.AxesSubplot at 0x7fd225de8470>"
      ]
     },
     "execution_count": 53,
     "metadata": {},
     "output_type": "execute_result"
    },
    {
     "data": {
      "image/png": "[encoded data removed]",
      "text/plain": [
       "<Figure size 1800x720 with 2 Axes>"
      ]
     },
     "metadata": {},
     "output_type": "display_data"
    }
   ],
   "source": [
    "import missingno as msno\n",
    "msno.matrix(edu_mean_cluster_indicator)"
   ]
  },
  {
   "cell_type": "markdown",
   "metadata": {},
   "source": [
    "That's a lot of missing means. Also it appears that the values for *2017* are completely missing. Looking at it, the way forward is to go back to the original question, and let me phrase it in a different way, *is there a correlation between doing business and the availabiliy of skilled worksers*.\n",
    "\n",
    "The *doing business* has all of the data points, however my educated guess is that the *education* one doesn't. So how can we proceed from here?\n",
    "1. From the list of indicators (and there are a lot) filter it by the relevant ones - most likely upto 10. \n",
    "2. Filter the dataset further for the countries I am interested in.\n",
    "3. Look at the missing data there and figure out how to replace it.\n",
    "4. See the correlation between both - education and doing business.\n",
    "\n",
    "The [World Bank](datacatalog.worldbank.org) is kind enough to provide an additional csv file with the description of each indicator for both datasets. I'm going to add it to repo for the sake of information availability, but I will chose the indicators.\n",
    "\n",
    "A quick look at the indicators show that data is collected for age groups, that are above or below the required legal age for work.  \n",
    "**Assumption**: The legal age for working is 18, and the age for retirement is 65(although it differs for man and women).\n",
    "\n",
    "In addition the indicator has to have information about the percentage of the population that completed school of some kind. Looking at the Barro-Lee indicators it seems they group people based on primary, secondary and tertiary school."
   ]
  },
  {
   "cell_type": "code",
   "execution_count": 54,
   "metadata": {},
   "outputs": [],
   "source": [
    "edu_desc = pd.read_csv('./1_DC_Python_Data/EdStatsSeries.csv')\n",
    "age_grp_primary = 'with primary schooling. Completed Primary'\n",
    "age_grp_secondary = 'secondary schooling. Completed Secondary'\n",
    "age_grp_tertiary = 'tertiary schooling. Completed Tertiary'\n",
    "\n",
    "edu_cmp_ed = edu_desc[edu_desc['Indicator Name'].str.contains(age_grp_primary) | \n",
    "         edu_desc['Indicator Name'].str.contains(age_grp_secondary) | \n",
    "         edu_desc['Indicator Name'].str.contains(age_grp_tertiary)]"
   ]
  },
  {
   "cell_type": "code",
   "execution_count": 55,
   "metadata": {},
   "outputs": [],
   "source": [
    "# For the age groups - The assumptions is that data for ages below 18 and above 65 will be discarded.\n",
    "# Discard the ones that have no age group\n",
    "edu_cmp_ed_with_grps = edu_cmp_ed[edu_cmp_ed['Indicator Name'].str.extract('(\\d{2}-\\d{2})').notnull()]\n",
    "edu_cmp_ed_with_grps['Age Group'] = edu_cmp_ed_with_grps['Indicator Name'].str.extract('(\\d{2}-\\d{2})')\n",
    "\n",
    "# Finally drop the age groups that are below our threshold or above it\n",
    "suitable_age_grps = edu_cmp_ed_with_grps['Age Group'].unique()[1:-2]\n",
    "edu_cmp_ed_final = edu_cmp_ed_with_grps[edu_cmp_ed_with_grps['Age Group'].isin(suitable_age_grps)]\n",
    "\n",
    "# We can drop all columns except 'Series Code' and 'Age Group'\n",
    "edu_cmp_ed_final = edu_cmp_ed_final.drop(edu_cmp_ed_final.columns[1:-1], axis=1)\n",
    "indicator_list_edu = edu_cmp_ed_final['Series Code'].values"
   ]
  },
  {
   "cell_type": "markdown",
   "metadata": {},
   "source": [
    "So now we have the indicator list. Now the countries:"
   ]
  },
  {
   "cell_type": "code",
   "execution_count": 56,
   "metadata": {},
   "outputs": [],
   "source": [
    "balkan_country_list = ['BGR', 'BIH', 'SRB', 'HRV', 'GRC', 'MNE','SVN', 'ALB', 'MKD', 'XKX']\n",
    "# If I missed a country, excuse me, it was not intentional. Any order as well.\n",
    "balkan_edu_df = edu_df[edu_df['Country Code'].isin(balkan_country_list)]\n",
    "balkan_db_df = db_dataset[db_dataset['Country Code'].isin(balkan_country_list)]"
   ]
  },
  {
   "cell_type": "code",
   "execution_count": 57,
   "metadata": {},
   "outputs": [],
   "source": [
    "balkan_edu_df = balkan_edu_df[balkan_edu_df['Indicator Code'].isin(indicator_list_edu)]"
   ]
  },
  {
   "cell_type": "markdown",
   "metadata": {},
   "source": [
    "Let's plot the missing values as before."
   ]
  },
  {
   "cell_type": "code",
   "execution_count": 58,
   "metadata": {},
   "outputs": [
    {
     "data": {
      "text/plain": [
       "<matplotlib.axes._subplots.AxesSubplot at 0x7fd225f4d128>"
      ]
     },
     "execution_count": 58,
     "metadata": {},
     "output_type": "execute_result"
    },
    {
     "data": {
      "image/png": "[encoded data removed]",
      "text/plain": [
       "<Figure size 1800x720 with 2 Axes>"
      ]
     },
     "metadata": {},
     "output_type": "display_data"
    }
   ],
   "source": [
    "msno.matrix(balkan_edu_df)"
   ]
  },
  {
   "cell_type": "markdown",
   "metadata": {},
   "source": [
    "It seems that the values are periodic - one sample in 2005 and one sample in 2010. Also there fields that are completely missing.\n",
    "First lets determine which indicators are missing."
   ]
  },
  {
   "cell_type": "code",
   "execution_count": 59,
   "metadata": {},
   "outputs": [
    {
     "name": "stdout",
     "output_type": "stream",
     "text": [
      "Whole countries are missing. List below.\n",
      "['BIH' 'XKX' 'MKD' 'MNE']\n"
     ]
    }
   ],
   "source": [
    "missing_indicators_list = balkan_edu_df[balkan_edu_df['2005'].isnull()]['Indicator Code'].unique()\n",
    "# check how much are missing from the original list\n",
    "if sorted(missing_indicators_list) == sorted(indicator_list_edu):\n",
    "    print(\"Whole countries are missing. List below.\")\n",
    "    print(balkan_edu_df[balkan_edu_df['2005'].isnull()]['Country Code'].unique())\n",
    "else: \n",
    "    print(mssing_indicator_list)"
   ]
  },
  {
   "cell_type": "markdown",
   "metadata": {},
   "source": [
    "Unfortunatelly whole countries are missing from the data. We are not going to use them for now."
   ]
  },
  {
   "cell_type": "code",
   "execution_count": 60,
   "metadata": {},
   "outputs": [],
   "source": [
    "balkan_edu_df = balkan_edu_df[~balkan_edu_df['Country Code'].isin(['BIH','XKX','MKD','MNE'])]"
   ]
  },
  {
   "cell_type": "markdown",
   "metadata": {},
   "source": [
    "On the other hand there appears to be data only for two years - 2005 and 2010. Is that the case throughout the whole dataset though?"
   ]
  },
  {
   "cell_type": "code",
   "execution_count": 61,
   "metadata": {},
   "outputs": [
    {
     "data": {
      "text/plain": [
       "<matplotlib.axes._subplots.AxesSubplot at 0x7fd225cada20>"
      ]
     },
     "execution_count": 61,
     "metadata": {},
     "output_type": "execute_result"
    },
    {
     "data": {
      "image/png": "[encoded data removed]",
      "text/plain": [
       "<Figure size 1800x720 with 2 Axes>"
      ]
     },
     "metadata": {},
     "output_type": "display_data"
    }
   ],
   "source": [
    "msno.matrix(edu_df[(edu_df['Indicator Code'].isin(indicator_list_edu))])"
   ]
  },
  {
   "cell_type": "markdown",
   "metadata": {},
   "source": [
    "It seems that is the case though. Here we have two options:\n",
    "1. Choose a replacement indicators, that have more data. However there may not be enough data to make the search worthwhile. \n",
    "2. Interpolate the missing data. This however means that all variation of the data is lost and we simply assume a linear progression of the indicator. Also this linearity can be justified only for the period 2005 to 2010 - anything after that is along the lines of guesswork. That is why we would truncate the *Doing Business* dataset to the period 2005-2010."
   ]
  },
  {
   "cell_type": "code",
   "execution_count": 62,
   "metadata": {},
   "outputs": [],
   "source": [
    "# Filter the db dataset\n",
    "db_columns_to_delete = np.concatenate((db_dataset.columns.values[4:6],db_dataset.columns.values[12:-1]))\n",
    "db_df = db_dataset.drop(db_columns_to_delete, axis=1)\n",
    "# filtering the countries\n",
    "balkan_db_df = db_df[db_df['Country Code'].isin(balkan_country_list)]\n",
    "balkan_db_df = balkan_db_df[~balkan_db_df['Country Code'].isin(['BIH','XKX','MKD','MNE'])]\n",
    "# filter the edu dataset & interpolating\n",
    "edu_columns_to_delete = np.concatenate((balkan_edu_df.columns.values[4:6],balkan_edu_df.columns.values[12:-1]))\n",
    "balkan_edu1_df = balkan_edu_df.drop(edu_columns_to_delete, axis=1)\n",
    "balkan_edu1_df[balkan_edu1_df.columns.values[4:-1]] = balkan_edu1_df[balkan_edu1_df.columns.values[4:-1]].interpolate(method='linear', axis=1)"
   ]
  },
  {
   "cell_type": "markdown",
   "metadata": {},
   "source": [
    "Finally we have data that we can work with, free of missing values."
   ]
  },
  {
   "cell_type": "markdown",
   "metadata": {},
   "source": [
    "## 3. Finding the correlations."
   ]
  },
  {
   "cell_type": "code",
   "execution_count": 113,
   "metadata": {},
   "outputs": [],
   "source": [
    "# Generating a joint matrix\n",
    "balkan_df = pd.concat([balkan_edu1_df, balkan_db_df])"
   ]
  },
  {
   "cell_type": "markdown",
   "metadata": {},
   "source": [
    "#### 3.1. For the whole balkan area"
   ]
  },
  {
   "cell_type": "code",
   "execution_count": 138,
   "metadata": {},
   "outputs": [],
   "source": [
    "jbalkan = balkan_df.groupby(['Indicator Code'])['2005', '2006','2007','2008','2009','2010'].mean().transpose().corr()"
   ]
  },
  {
   "cell_type": "code",
   "execution_count": 142,
   "metadata": {},
   "outputs": [
    {
     "data": {
      "text/plain": [
       "<matplotlib.axes._subplots.AxesSubplot at 0x7fd225503a20>"
      ]
     },
     "execution_count": 142,
     "metadata": {},
     "output_type": "execute_result"
    },
    {
     "data": {
      "image/png": "[encoded data removed]",
      "text/plain": [
       "<Figure size 1080x720 with 2 Axes>"
      ]
     },
     "metadata": {},
     "output_type": "display_data"
    }
   ],
   "source": [
    "fig, ax = plt.subplots(figsize=(15,10))\n",
    "sns.heatmap(jbalkan, ax=ax)"
   ]
  },
  {
   "cell_type": "markdown",
   "metadata": {},
   "source": [
    "The goal was to show whether there is any correlation between the `Doing Business` and `Education` datasets. It can be clearly seen (upper right corner) there is clearly a positive correlation between indicators from the `Doing Business` dataset and the one from `Education`. Although work is never really done and I would have liked to explore each country individually, and maybe bring some reasoning to the whole plot I will do that at a later date."
   ]
  }
 ],
 "metadata": {
  "kernelspec": {
   "display_name": "Python 3",
   "language": "python",
   "name": "python3"
  },
  "language_info": {
   "codemirror_mode": {
    "name": "ipython",
    "version": 3
   },
   "file_extension": ".py",
   "mimetype": "text/x-python",
   "name": "python",
   "nbconvert_exporter": "python",
   "pygments_lexer": "ipython3",
   "version": "3.6.5"
  }
 },
 "nbformat": 4,
 "nbformat_minor": 2
}

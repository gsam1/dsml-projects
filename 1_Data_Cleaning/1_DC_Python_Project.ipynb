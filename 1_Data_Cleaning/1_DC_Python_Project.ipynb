{
 "cells": [
  {
   "cell_type": "markdown",
   "metadata": {},
   "source": [
    "# Doing Business Indicators in the Balkans and availability of skilled workers\n",
    "Datasets provided by [World Bank](datacatalog.worldbank.org).\n",
    "\n",
    "## 1. Motivation\n",
    "Since I am from Bulgaria and was digging through the datacatalog in the World Bank, I was curious how does it look from the WB's perspective to not only do business in Bulgaria, but the whole Balkan area. Besides general business factors, one is access to a skilled workforce. "
   ]
  },
  {
   "cell_type": "markdown",
   "metadata": {},
   "source": [
    "### 1.1 Importing the libraries\n",
    "Importing the general libraries, used for the analysis. If other libraries are required, they shall be imported further down."
   ]
  },
  {
   "cell_type": "code",
   "execution_count": 1,
   "metadata": {},
   "outputs": [],
   "source": [
    "import numpy as np\n",
    "import pandas as pd\n",
    "import matplotlib.pyplot as plt\n",
    "import seaborn as sns\n",
    "import warnings\n",
    "warnings.filterwarnings('ignore')"
   ]
  },
  {
   "cell_type": "markdown",
   "metadata": {},
   "source": [
    "### 1.2 Loading the Datasets"
   ]
  },
  {
   "cell_type": "code",
   "execution_count": 2,
   "metadata": {},
   "outputs": [],
   "source": [
    "db_data = pd.read_csv('./1_DC_Python_Data/DBData.csv')\n",
    "db_data = db_data.drop(db_data.columns.values[-1], axis=1) # remove last columns as it is empty\n",
    "edu_data = pd.read_csv('./1_DC_Python_Data/EdStatsData.csv')\n",
    "edu_data = edu_data.drop(edu_data.columns.values[-1], axis=1)# remove last columns as it is empty"
   ]
  },
  {
   "cell_type": "markdown",
   "metadata": {},
   "source": [
    "## 2. Data Cleanup\n",
    "This section is going to focus on cleaning the datasets, and by cleaning I mean:\n",
    "1. Making sure that for the chosen period the datasets have an equal number of samples - the process is to be explained here.\n",
    "2. Other irregularities, found in the datasets."
   ]
  },
  {
   "cell_type": "markdown",
   "metadata": {},
   "source": [
    "#### 2.1 Let get our bearings first"
   ]
  },
  {
   "cell_type": "code",
   "execution_count": 3,
   "metadata": {},
   "outputs": [
    {
     "data": {
      "text/html": [
       "<div>\n",
       "<style scoped>\n",
       "    .dataframe tbody tr th:only-of-type {\n",
       "        vertical-align: middle;\n",
       "    }\n",
       "\n",
       "    .dataframe tbody tr th {\n",
       "        vertical-align: top;\n",
       "    }\n",
       "\n",
       "    .dataframe thead th {\n",
       "        text-align: right;\n",
       "    }\n",
       "</style>\n",
       "<table border=\"1\" class=\"dataframe\">\n",
       "  <thead>\n",
       "    <tr style=\"text-align: right;\">\n",
       "      <th></th>\n",
       "      <th>Country Name</th>\n",
       "      <th>Country Code</th>\n",
       "      <th>Indicator Name</th>\n",
       "      <th>Indicator Code</th>\n",
       "      <th>2003</th>\n",
       "      <th>2004</th>\n",
       "      <th>2005</th>\n",
       "      <th>2006</th>\n",
       "      <th>2007</th>\n",
       "      <th>2008</th>\n",
       "      <th>2009</th>\n",
       "      <th>2010</th>\n",
       "      <th>2011</th>\n",
       "      <th>2012</th>\n",
       "      <th>2013</th>\n",
       "      <th>2014</th>\n",
       "      <th>2015</th>\n",
       "      <th>2016</th>\n",
       "      <th>2017</th>\n",
       "    </tr>\n",
       "  </thead>\n",
       "  <tbody>\n",
       "    <tr>\n",
       "      <th>0</th>\n",
       "      <td>Afghanistan</td>\n",
       "      <td>AFG</td>\n",
       "      <td>Building quality control index (0-15)</td>\n",
       "      <td>IC.DCP.BQCI</td>\n",
       "      <td>NaN</td>\n",
       "      <td>NaN</td>\n",
       "      <td>NaN</td>\n",
       "      <td>NaN</td>\n",
       "      <td>NaN</td>\n",
       "      <td>NaN</td>\n",
       "      <td>NaN</td>\n",
       "      <td>NaN</td>\n",
       "      <td>NaN</td>\n",
       "      <td>NaN</td>\n",
       "      <td>NaN</td>\n",
       "      <td>2.5</td>\n",
       "      <td>2.5</td>\n",
       "      <td>2.5</td>\n",
       "      <td>2.5</td>\n",
       "    </tr>\n",
       "    <tr>\n",
       "      <th>1</th>\n",
       "      <td>Afghanistan</td>\n",
       "      <td>AFG</td>\n",
       "      <td>Cost – Women (% of income per capita)</td>\n",
       "      <td>IC.REG.COST.PC.ZS.WOMEN</td>\n",
       "      <td>NaN</td>\n",
       "      <td>72.0</td>\n",
       "      <td>75.2</td>\n",
       "      <td>67.4</td>\n",
       "      <td>84.6</td>\n",
       "      <td>59.5</td>\n",
       "      <td>30.2</td>\n",
       "      <td>26.7</td>\n",
       "      <td>25.8</td>\n",
       "      <td>22.5</td>\n",
       "      <td>14.4</td>\n",
       "      <td>15.1</td>\n",
       "      <td>19.0</td>\n",
       "      <td>19.9</td>\n",
       "      <td>82.3</td>\n",
       "    </tr>\n",
       "    <tr>\n",
       "      <th>2</th>\n",
       "      <td>Afghanistan</td>\n",
       "      <td>AFG</td>\n",
       "      <td>Cost to build a warehouse (% of income per cap...</td>\n",
       "      <td>IC.DCP.COST</td>\n",
       "      <td>NaN</td>\n",
       "      <td>NaN</td>\n",
       "      <td>208.5</td>\n",
       "      <td>193.0</td>\n",
       "      <td>200.5</td>\n",
       "      <td>140.9</td>\n",
       "      <td>121.6</td>\n",
       "      <td>107.2</td>\n",
       "      <td>100.8</td>\n",
       "      <td>89.1</td>\n",
       "      <td>83.8</td>\n",
       "      <td>74.4</td>\n",
       "      <td>76.6</td>\n",
       "      <td>82.7</td>\n",
       "      <td>89.8</td>\n",
       "    </tr>\n",
       "    <tr>\n",
       "      <th>3</th>\n",
       "      <td>Afghanistan</td>\n",
       "      <td>AFG</td>\n",
       "      <td>Cost to enforce a contract (% of claim)</td>\n",
       "      <td>IC.EC.COST</td>\n",
       "      <td>NaN</td>\n",
       "      <td>29.0</td>\n",
       "      <td>29.0</td>\n",
       "      <td>29.0</td>\n",
       "      <td>29.0</td>\n",
       "      <td>29.0</td>\n",
       "      <td>29.0</td>\n",
       "      <td>29.0</td>\n",
       "      <td>29.0</td>\n",
       "      <td>29.0</td>\n",
       "      <td>29.0</td>\n",
       "      <td>29.0</td>\n",
       "      <td>29.0</td>\n",
       "      <td>29.0</td>\n",
       "      <td>29.0</td>\n",
       "    </tr>\n",
       "    <tr>\n",
       "      <th>4</th>\n",
       "      <td>Afghanistan</td>\n",
       "      <td>AFG</td>\n",
       "      <td>Cost to export: Documentary compliance (USD)</td>\n",
       "      <td>IC.EXP.COST.EXP.DOC</td>\n",
       "      <td>NaN</td>\n",
       "      <td>NaN</td>\n",
       "      <td>NaN</td>\n",
       "      <td>NaN</td>\n",
       "      <td>NaN</td>\n",
       "      <td>NaN</td>\n",
       "      <td>NaN</td>\n",
       "      <td>NaN</td>\n",
       "      <td>NaN</td>\n",
       "      <td>NaN</td>\n",
       "      <td>NaN</td>\n",
       "      <td>344.0</td>\n",
       "      <td>344.0</td>\n",
       "      <td>344.0</td>\n",
       "      <td>344.0</td>\n",
       "    </tr>\n",
       "  </tbody>\n",
       "</table>\n",
       "</div>"
      ],
      "text/plain": [
       "  Country Name Country Code  \\\n",
       "0  Afghanistan          AFG   \n",
       "1  Afghanistan          AFG   \n",
       "2  Afghanistan          AFG   \n",
       "3  Afghanistan          AFG   \n",
       "4  Afghanistan          AFG   \n",
       "\n",
       "                                      Indicator Name           Indicator Code  \\\n",
       "0              Building quality control index (0-15)              IC.DCP.BQCI   \n",
       "1              Cost – Women (% of income per capita)  IC.REG.COST.PC.ZS.WOMEN   \n",
       "2  Cost to build a warehouse (% of income per cap...              IC.DCP.COST   \n",
       "3            Cost to enforce a contract (% of claim)               IC.EC.COST   \n",
       "4       Cost to export: Documentary compliance (USD)      IC.EXP.COST.EXP.DOC   \n",
       "\n",
       "   2003  2004   2005   2006   2007   2008   2009   2010   2011  2012  2013  \\\n",
       "0   NaN   NaN    NaN    NaN    NaN    NaN    NaN    NaN    NaN   NaN   NaN   \n",
       "1   NaN  72.0   75.2   67.4   84.6   59.5   30.2   26.7   25.8  22.5  14.4   \n",
       "2   NaN   NaN  208.5  193.0  200.5  140.9  121.6  107.2  100.8  89.1  83.8   \n",
       "3   NaN  29.0   29.0   29.0   29.0   29.0   29.0   29.0   29.0  29.0  29.0   \n",
       "4   NaN   NaN    NaN    NaN    NaN    NaN    NaN    NaN    NaN   NaN   NaN   \n",
       "\n",
       "    2014   2015   2016   2017  \n",
       "0    2.5    2.5    2.5    2.5  \n",
       "1   15.1   19.0   19.9   82.3  \n",
       "2   74.4   76.6   82.7   89.8  \n",
       "3   29.0   29.0   29.0   29.0  \n",
       "4  344.0  344.0  344.0  344.0  "
      ]
     },
     "execution_count": 3,
     "metadata": {},
     "output_type": "execute_result"
    }
   ],
   "source": [
    "db_data.head()"
   ]
  },
  {
   "cell_type": "code",
   "execution_count": 4,
   "metadata": {},
   "outputs": [
    {
     "name": "stdout",
     "output_type": "stream",
     "text": [
      "<class 'pandas.core.frame.DataFrame'>\n",
      "RangeIndex: 15222 entries, 0 to 15221\n",
      "Data columns (total 19 columns):\n",
      "Country Name      15222 non-null object\n",
      "Country Code      15222 non-null object\n",
      "Indicator Name    15222 non-null object\n",
      "Indicator Code    15222 non-null object\n",
      "2003              1862 non-null float64\n",
      "2004              2741 non-null float64\n",
      "2005              5231 non-null float64\n",
      "2006              5348 non-null float64\n",
      "2007              5436 non-null float64\n",
      "2008              5466 non-null float64\n",
      "2009              6085 non-null float64\n",
      "2010              6087 non-null float64\n",
      "2011              6165 non-null float64\n",
      "2012              6262 non-null float64\n",
      "2013              8775 non-null float64\n",
      "2014              10871 non-null float64\n",
      "2015              11704 non-null float64\n",
      "2016              11704 non-null float64\n",
      "2017              11299 non-null float64\n",
      "dtypes: float64(15), object(4)\n",
      "memory usage: 2.2+ MB\n"
     ]
    },
    {
     "data": {
      "text/plain": [
       "(None, (15222, 19))"
      ]
     },
     "execution_count": 4,
     "metadata": {},
     "output_type": "execute_result"
    }
   ],
   "source": [
    "db_data.info(), db_data.shape"
   ]
  },
  {
   "cell_type": "markdown",
   "metadata": {},
   "source": [
    "So the *Doing Bussiness* dataset containes 19 columns in total. What I am interested in is the years the dataset covers - 2003 until 2017. We have to mirror that in the education dataset."
   ]
  },
  {
   "cell_type": "code",
   "execution_count": 5,
   "metadata": {},
   "outputs": [
    {
     "data": {
      "text/html": [
       "<div>\n",
       "<style scoped>\n",
       "    .dataframe tbody tr th:only-of-type {\n",
       "        vertical-align: middle;\n",
       "    }\n",
       "\n",
       "    .dataframe tbody tr th {\n",
       "        vertical-align: top;\n",
       "    }\n",
       "\n",
       "    .dataframe thead th {\n",
       "        text-align: right;\n",
       "    }\n",
       "</style>\n",
       "<table border=\"1\" class=\"dataframe\">\n",
       "  <thead>\n",
       "    <tr style=\"text-align: right;\">\n",
       "      <th></th>\n",
       "      <th>Country Name</th>\n",
       "      <th>Country Code</th>\n",
       "      <th>Indicator Name</th>\n",
       "      <th>Indicator Code</th>\n",
       "      <th>1970</th>\n",
       "      <th>1971</th>\n",
       "      <th>1972</th>\n",
       "      <th>1973</th>\n",
       "      <th>1974</th>\n",
       "      <th>1975</th>\n",
       "      <th>...</th>\n",
       "      <th>2055</th>\n",
       "      <th>2060</th>\n",
       "      <th>2065</th>\n",
       "      <th>2070</th>\n",
       "      <th>2075</th>\n",
       "      <th>2080</th>\n",
       "      <th>2085</th>\n",
       "      <th>2090</th>\n",
       "      <th>2095</th>\n",
       "      <th>2100</th>\n",
       "    </tr>\n",
       "  </thead>\n",
       "  <tbody>\n",
       "    <tr>\n",
       "      <th>0</th>\n",
       "      <td>Arab World</td>\n",
       "      <td>ARB</td>\n",
       "      <td>Adjusted net enrolment rate, lower secondary, ...</td>\n",
       "      <td>UIS.NERA.2</td>\n",
       "      <td>NaN</td>\n",
       "      <td>NaN</td>\n",
       "      <td>NaN</td>\n",
       "      <td>NaN</td>\n",
       "      <td>NaN</td>\n",
       "      <td>NaN</td>\n",
       "      <td>...</td>\n",
       "      <td>NaN</td>\n",
       "      <td>NaN</td>\n",
       "      <td>NaN</td>\n",
       "      <td>NaN</td>\n",
       "      <td>NaN</td>\n",
       "      <td>NaN</td>\n",
       "      <td>NaN</td>\n",
       "      <td>NaN</td>\n",
       "      <td>NaN</td>\n",
       "      <td>NaN</td>\n",
       "    </tr>\n",
       "    <tr>\n",
       "      <th>1</th>\n",
       "      <td>Arab World</td>\n",
       "      <td>ARB</td>\n",
       "      <td>Adjusted net enrolment rate, lower secondary, ...</td>\n",
       "      <td>UIS.NERA.2.F</td>\n",
       "      <td>NaN</td>\n",
       "      <td>NaN</td>\n",
       "      <td>NaN</td>\n",
       "      <td>NaN</td>\n",
       "      <td>NaN</td>\n",
       "      <td>NaN</td>\n",
       "      <td>...</td>\n",
       "      <td>NaN</td>\n",
       "      <td>NaN</td>\n",
       "      <td>NaN</td>\n",
       "      <td>NaN</td>\n",
       "      <td>NaN</td>\n",
       "      <td>NaN</td>\n",
       "      <td>NaN</td>\n",
       "      <td>NaN</td>\n",
       "      <td>NaN</td>\n",
       "      <td>NaN</td>\n",
       "    </tr>\n",
       "    <tr>\n",
       "      <th>2</th>\n",
       "      <td>Arab World</td>\n",
       "      <td>ARB</td>\n",
       "      <td>Adjusted net enrolment rate, lower secondary, ...</td>\n",
       "      <td>UIS.NERA.2.GPI</td>\n",
       "      <td>NaN</td>\n",
       "      <td>NaN</td>\n",
       "      <td>NaN</td>\n",
       "      <td>NaN</td>\n",
       "      <td>NaN</td>\n",
       "      <td>NaN</td>\n",
       "      <td>...</td>\n",
       "      <td>NaN</td>\n",
       "      <td>NaN</td>\n",
       "      <td>NaN</td>\n",
       "      <td>NaN</td>\n",
       "      <td>NaN</td>\n",
       "      <td>NaN</td>\n",
       "      <td>NaN</td>\n",
       "      <td>NaN</td>\n",
       "      <td>NaN</td>\n",
       "      <td>NaN</td>\n",
       "    </tr>\n",
       "    <tr>\n",
       "      <th>3</th>\n",
       "      <td>Arab World</td>\n",
       "      <td>ARB</td>\n",
       "      <td>Adjusted net enrolment rate, lower secondary, ...</td>\n",
       "      <td>UIS.NERA.2.M</td>\n",
       "      <td>NaN</td>\n",
       "      <td>NaN</td>\n",
       "      <td>NaN</td>\n",
       "      <td>NaN</td>\n",
       "      <td>NaN</td>\n",
       "      <td>NaN</td>\n",
       "      <td>...</td>\n",
       "      <td>NaN</td>\n",
       "      <td>NaN</td>\n",
       "      <td>NaN</td>\n",
       "      <td>NaN</td>\n",
       "      <td>NaN</td>\n",
       "      <td>NaN</td>\n",
       "      <td>NaN</td>\n",
       "      <td>NaN</td>\n",
       "      <td>NaN</td>\n",
       "      <td>NaN</td>\n",
       "    </tr>\n",
       "    <tr>\n",
       "      <th>4</th>\n",
       "      <td>Arab World</td>\n",
       "      <td>ARB</td>\n",
       "      <td>Adjusted net enrolment rate, primary, both sex...</td>\n",
       "      <td>SE.PRM.TENR</td>\n",
       "      <td>54.822121</td>\n",
       "      <td>54.894138</td>\n",
       "      <td>56.209438</td>\n",
       "      <td>57.267109</td>\n",
       "      <td>57.991138</td>\n",
       "      <td>59.36554</td>\n",
       "      <td>...</td>\n",
       "      <td>NaN</td>\n",
       "      <td>NaN</td>\n",
       "      <td>NaN</td>\n",
       "      <td>NaN</td>\n",
       "      <td>NaN</td>\n",
       "      <td>NaN</td>\n",
       "      <td>NaN</td>\n",
       "      <td>NaN</td>\n",
       "      <td>NaN</td>\n",
       "      <td>NaN</td>\n",
       "    </tr>\n",
       "  </tbody>\n",
       "</table>\n",
       "<p>5 rows × 69 columns</p>\n",
       "</div>"
      ],
      "text/plain": [
       "  Country Name Country Code  \\\n",
       "0   Arab World          ARB   \n",
       "1   Arab World          ARB   \n",
       "2   Arab World          ARB   \n",
       "3   Arab World          ARB   \n",
       "4   Arab World          ARB   \n",
       "\n",
       "                                      Indicator Name  Indicator Code  \\\n",
       "0  Adjusted net enrolment rate, lower secondary, ...      UIS.NERA.2   \n",
       "1  Adjusted net enrolment rate, lower secondary, ...    UIS.NERA.2.F   \n",
       "2  Adjusted net enrolment rate, lower secondary, ...  UIS.NERA.2.GPI   \n",
       "3  Adjusted net enrolment rate, lower secondary, ...    UIS.NERA.2.M   \n",
       "4  Adjusted net enrolment rate, primary, both sex...     SE.PRM.TENR   \n",
       "\n",
       "        1970       1971       1972       1973       1974      1975  ...  2055  \\\n",
       "0        NaN        NaN        NaN        NaN        NaN       NaN  ...   NaN   \n",
       "1        NaN        NaN        NaN        NaN        NaN       NaN  ...   NaN   \n",
       "2        NaN        NaN        NaN        NaN        NaN       NaN  ...   NaN   \n",
       "3        NaN        NaN        NaN        NaN        NaN       NaN  ...   NaN   \n",
       "4  54.822121  54.894138  56.209438  57.267109  57.991138  59.36554  ...   NaN   \n",
       "\n",
       "   2060  2065  2070  2075  2080  2085  2090  2095  2100  \n",
       "0   NaN   NaN   NaN   NaN   NaN   NaN   NaN   NaN   NaN  \n",
       "1   NaN   NaN   NaN   NaN   NaN   NaN   NaN   NaN   NaN  \n",
       "2   NaN   NaN   NaN   NaN   NaN   NaN   NaN   NaN   NaN  \n",
       "3   NaN   NaN   NaN   NaN   NaN   NaN   NaN   NaN   NaN  \n",
       "4   NaN   NaN   NaN   NaN   NaN   NaN   NaN   NaN   NaN  \n",
       "\n",
       "[5 rows x 69 columns]"
      ]
     },
     "execution_count": 5,
     "metadata": {},
     "output_type": "execute_result"
    }
   ],
   "source": [
    "edu_data.head()"
   ]
  },
  {
   "cell_type": "code",
   "execution_count": 6,
   "metadata": {},
   "outputs": [
    {
     "name": "stdout",
     "output_type": "stream",
     "text": [
      "<class 'pandas.core.frame.DataFrame'>\n",
      "RangeIndex: 886930 entries, 0 to 886929\n",
      "Data columns (total 69 columns):\n",
      "Country Name      886930 non-null object\n",
      "Country Code      886930 non-null object\n",
      "Indicator Name    886930 non-null object\n",
      "Indicator Code    886930 non-null object\n",
      "1970              72288 non-null float64\n",
      "1971              35537 non-null float64\n",
      "1972              35619 non-null float64\n",
      "1973              35545 non-null float64\n",
      "1974              35730 non-null float64\n",
      "1975              87306 non-null float64\n",
      "1976              37483 non-null float64\n",
      "1977              37574 non-null float64\n",
      "1978              37576 non-null float64\n",
      "1979              36809 non-null float64\n",
      "1980              89122 non-null float64\n",
      "1981              38777 non-null float64\n",
      "1982              37511 non-null float64\n",
      "1983              38460 non-null float64\n",
      "1984              38606 non-null float64\n",
      "1985              90296 non-null float64\n",
      "1986              39372 non-null float64\n",
      "1987              38641 non-null float64\n",
      "1988              38552 non-null float64\n",
      "1989              37540 non-null float64\n",
      "1990              124405 non-null float64\n",
      "1991              74437 non-null float64\n",
      "1992              75543 non-null float64\n",
      "1993              75793 non-null float64\n",
      "1994              77462 non-null float64\n",
      "1995              131361 non-null float64\n",
      "1996              76807 non-null float64\n",
      "1997              73453 non-null float64\n",
      "1998              84914 non-null float64\n",
      "1999              118839 non-null float64\n",
      "2000              176676 non-null float64\n",
      "2001              123509 non-null float64\n",
      "2002              124205 non-null float64\n",
      "2003              130363 non-null float64\n",
      "2004              128814 non-null float64\n",
      "2005              184108 non-null float64\n",
      "2006              140312 non-null float64\n",
      "2007              137272 non-null float64\n",
      "2008              134387 non-null float64\n",
      "2009              142108 non-null float64\n",
      "2010              242442 non-null float64\n",
      "2011              146012 non-null float64\n",
      "2012              147264 non-null float64\n",
      "2013              137509 non-null float64\n",
      "2014              113789 non-null float64\n",
      "2015              131058 non-null float64\n",
      "2016              16460 non-null float64\n",
      "2017              143 non-null float64\n",
      "2020              51436 non-null float64\n",
      "2025              51436 non-null float64\n",
      "2030              51436 non-null float64\n",
      "2035              51436 non-null float64\n",
      "2040              51436 non-null float64\n",
      "2045              51436 non-null float64\n",
      "2050              51436 non-null float64\n",
      "2055              51436 non-null float64\n",
      "2060              51436 non-null float64\n",
      "2065              51436 non-null float64\n",
      "2070              51436 non-null float64\n",
      "2075              51436 non-null float64\n",
      "2080              51436 non-null float64\n",
      "2085              51436 non-null float64\n",
      "2090              51436 non-null float64\n",
      "2095              51436 non-null float64\n",
      "2100              51436 non-null float64\n",
      "dtypes: float64(65), object(4)\n",
      "memory usage: 466.9+ MB\n"
     ]
    },
    {
     "data": {
      "text/plain": [
       "(None, (886930, 69))"
      ]
     },
     "execution_count": 6,
     "metadata": {},
     "output_type": "execute_result"
    }
   ],
   "source": [
    "edu_data.info(), edu_data.shape"
   ]
  },
  {
   "cell_type": "markdown",
   "metadata": {},
   "source": [
    "Wow, so the education data is going until 2100 and contains 69 columns in total. So lets create a new dataset *Education*  to the same time frame - 2003 until 2017."
   ]
  },
  {
   "cell_type": "code",
   "execution_count": 7,
   "metadata": {},
   "outputs": [],
   "source": [
    "edu_df = edu_data.copy() # copy the dataset\n",
    "columns_to_delete = np.concatenate((edu_df.columns.values[4:37], edu_df.columns.values[52:]))\n",
    "edu_df = edu_df.drop(columns_to_delete, axis=1)"
   ]
  },
  {
   "cell_type": "markdown",
   "metadata": {},
   "source": [
    "Two interesting question that come to mind are:\n",
    "1. *Do different indicators start at the same year?*\n",
    "    A way to do that is just count the missing values by columns for each indicator and see if they match to the number of contries \n",
    "2. *Are all the indicators recorded for all the countries?*\n",
    "    Here I would check whether the number of indicators for each country is consistent."
   ]
  },
  {
   "cell_type": "code",
   "execution_count": 8,
   "metadata": {},
   "outputs": [],
   "source": [
    "# 1\n",
    "def get_indicator_start_year(df):\n",
    "    '''\n",
    "    Takes as input a dataframe, extracts the indicators and countries and returns a new dataframe,\n",
    "    which maps each indicator to a start year.\n",
    "    '''\n",
    "    indicators = df['Indicator Code'].unique()\n",
    "    num_indicators = np.count_nonzero(indicators)\n",
    "    countries = db_data['Country Code'].unique()\n",
    "    num_countries = np.count_nonzero(countries)\n",
    "    \n",
    "    # initiate the new dataframe\n",
    "    new_df = pd.DataFrame(data={'Indicator': indicators, 'Start_Year': np.zeros(num_indicators)})\n",
    "    \n",
    "    # Get the Start Year\n",
    "    # not the most elegant way...\n",
    "    for indicator in indicators:\n",
    "        start_year = 0\n",
    "        indicator_series = df[df['Indicator Code'] == indicator].count()\n",
    "        for year in range(2003, 2018):\n",
    "            if indicator_series[str(year)] != 0:\n",
    "                new_df.loc[new_df['Indicator'] == indicator, 'Start_Year'] = int(year)\n",
    "                break\n",
    "    \n",
    "    return new_df"
   ]
  },
  {
   "cell_type": "code",
   "execution_count": 9,
   "metadata": {},
   "outputs": [],
   "source": [
    "indicator_db_year_df = get_indicator_start_year(db_data)"
   ]
  },
  {
   "cell_type": "code",
   "execution_count": 10,
   "metadata": {},
   "outputs": [],
   "source": [
    "indicator_edu_year_df = get_indicator_start_year(edu_df) # slow poke..."
   ]
  },
  {
   "cell_type": "markdown",
   "metadata": {},
   "source": [
    "Good. Now we have for both datasets which indicator starts when. However a question comes to mind - are all the indicators used? We could simply find out if the start year remained at 0."
   ]
  },
  {
   "cell_type": "code",
   "execution_count": 11,
   "metadata": {},
   "outputs": [
    {
     "data": {
      "text/plain": [
       "(3, 12)"
      ]
     },
     "execution_count": 11,
     "metadata": {},
     "output_type": "execute_result"
    }
   ],
   "source": [
    "indicator_db_year_df[indicator_db_year_df['Start_Year'] == 0]['Indicator'].count(), indicator_edu_year_df[indicator_edu_year_df['Start_Year'] == 0]['Indicator'].count()"
   ]
  },
  {
   "cell_type": "markdown",
   "metadata": {},
   "source": [
    "So now we know that 3 indicators from the *Doing Business* Dataset and 12 indicators from the *Education* dataset have no data in them at all. On the other hand question *1* we can safely answer with just looking at the desription."
   ]
  },
  {
   "cell_type": "code",
   "execution_count": 12,
   "metadata": {},
   "outputs": [
    {
     "data": {
      "text/html": [
       "<div>\n",
       "<style scoped>\n",
       "    .dataframe tbody tr th:only-of-type {\n",
       "        vertical-align: middle;\n",
       "    }\n",
       "\n",
       "    .dataframe tbody tr th {\n",
       "        vertical-align: top;\n",
       "    }\n",
       "\n",
       "    .dataframe thead th {\n",
       "        text-align: right;\n",
       "    }\n",
       "</style>\n",
       "<table border=\"1\" class=\"dataframe\">\n",
       "  <thead>\n",
       "    <tr style=\"text-align: right;\">\n",
       "      <th></th>\n",
       "      <th>Start_Year</th>\n",
       "    </tr>\n",
       "  </thead>\n",
       "  <tbody>\n",
       "    <tr>\n",
       "      <th>count</th>\n",
       "      <td>59.000000</td>\n",
       "    </tr>\n",
       "    <tr>\n",
       "      <th>mean</th>\n",
       "      <td>1906.288136</td>\n",
       "    </tr>\n",
       "    <tr>\n",
       "      <th>std</th>\n",
       "      <td>445.032585</td>\n",
       "    </tr>\n",
       "    <tr>\n",
       "      <th>min</th>\n",
       "      <td>0.000000</td>\n",
       "    </tr>\n",
       "    <tr>\n",
       "      <th>25%</th>\n",
       "      <td>2003.000000</td>\n",
       "    </tr>\n",
       "    <tr>\n",
       "      <th>50%</th>\n",
       "      <td>2005.000000</td>\n",
       "    </tr>\n",
       "    <tr>\n",
       "      <th>75%</th>\n",
       "      <td>2013.000000</td>\n",
       "    </tr>\n",
       "    <tr>\n",
       "      <th>max</th>\n",
       "      <td>2015.000000</td>\n",
       "    </tr>\n",
       "  </tbody>\n",
       "</table>\n",
       "</div>"
      ],
      "text/plain": [
       "        Start_Year\n",
       "count    59.000000\n",
       "mean   1906.288136\n",
       "std     445.032585\n",
       "min       0.000000\n",
       "25%    2003.000000\n",
       "50%    2005.000000\n",
       "75%    2013.000000\n",
       "max    2015.000000"
      ]
     },
     "execution_count": 12,
     "metadata": {},
     "output_type": "execute_result"
    }
   ],
   "source": [
    "indicator_db_year_df.describe()"
   ]
  },
  {
   "cell_type": "code",
   "execution_count": 13,
   "metadata": {},
   "outputs": [
    {
     "data": {
      "text/html": [
       "<div>\n",
       "<style scoped>\n",
       "    .dataframe tbody tr th:only-of-type {\n",
       "        vertical-align: middle;\n",
       "    }\n",
       "\n",
       "    .dataframe tbody tr th {\n",
       "        vertical-align: top;\n",
       "    }\n",
       "\n",
       "    .dataframe thead th {\n",
       "        text-align: right;\n",
       "    }\n",
       "</style>\n",
       "<table border=\"1\" class=\"dataframe\">\n",
       "  <thead>\n",
       "    <tr style=\"text-align: right;\">\n",
       "      <th></th>\n",
       "      <th>Start_Year</th>\n",
       "    </tr>\n",
       "  </thead>\n",
       "  <tbody>\n",
       "    <tr>\n",
       "      <th>count</th>\n",
       "      <td>3665.000000</td>\n",
       "    </tr>\n",
       "    <tr>\n",
       "      <th>mean</th>\n",
       "      <td>1999.740518</td>\n",
       "    </tr>\n",
       "    <tr>\n",
       "      <th>std</th>\n",
       "      <td>114.695865</td>\n",
       "    </tr>\n",
       "    <tr>\n",
       "      <th>min</th>\n",
       "      <td>0.000000</td>\n",
       "    </tr>\n",
       "    <tr>\n",
       "      <th>25%</th>\n",
       "      <td>2003.000000</td>\n",
       "    </tr>\n",
       "    <tr>\n",
       "      <th>50%</th>\n",
       "      <td>2005.000000</td>\n",
       "    </tr>\n",
       "    <tr>\n",
       "      <th>75%</th>\n",
       "      <td>2010.000000</td>\n",
       "    </tr>\n",
       "    <tr>\n",
       "      <th>max</th>\n",
       "      <td>2017.000000</td>\n",
       "    </tr>\n",
       "  </tbody>\n",
       "</table>\n",
       "</div>"
      ],
      "text/plain": [
       "        Start_Year\n",
       "count  3665.000000\n",
       "mean   1999.740518\n",
       "std     114.695865\n",
       "min       0.000000\n",
       "25%    2003.000000\n",
       "50%    2005.000000\n",
       "75%    2010.000000\n",
       "max    2017.000000"
      ]
     },
     "execution_count": 13,
     "metadata": {},
     "output_type": "execute_result"
    }
   ],
   "source": [
    "indicator_edu_year_df.describe()"
   ]
  },
  {
   "cell_type": "markdown",
   "metadata": {},
   "source": [
    "Let's drop the rows that we don't need."
   ]
  },
  {
   "cell_type": "code",
   "execution_count": 14,
   "metadata": {},
   "outputs": [],
   "source": [
    "nill_indicator_db = list(indicator_db_year_df[indicator_db_year_df['Start_Year'] == 0]['Indicator'])\n",
    "nill_indicator_edu = list(indicator_edu_year_df[indicator_edu_year_df['Start_Year'] == 0]['Indicator'])"
   ]
  },
  {
   "cell_type": "code",
   "execution_count": 15,
   "metadata": {},
   "outputs": [],
   "source": [
    "db_df = db_data.copy()"
   ]
  },
  {
   "cell_type": "code",
   "execution_count": 16,
   "metadata": {},
   "outputs": [],
   "source": [
    "def remove_empty_indicators(df, indicators):\n",
    "    '''\n",
    "    Takes in a dataframe and a list of indicators and removes them.\n",
    "    '''\n",
    "    for indicator in indicators:\n",
    "        df = df.drop(df[df['Indicator Code'] == indicator].index)\n",
    "        \n",
    "    return df"
   ]
  },
  {
   "cell_type": "code",
   "execution_count": 17,
   "metadata": {},
   "outputs": [],
   "source": [
    "db_df = remove_empty_indicators(db_df, nill_indicator_db)\n",
    "edu_df = remove_empty_indicators(edu_df, nill_indicator_edu)"
   ]
  },
  {
   "cell_type": "markdown",
   "metadata": {},
   "source": [
    "So what about *2.Are all the indicators recorded for all the countries?*"
   ]
  },
  {
   "cell_type": "code",
   "execution_count": 18,
   "metadata": {},
   "outputs": [],
   "source": [
    "# 2\n",
    "def get_indicator_number_of_countries(df):\n",
    "    '''\n",
    "    Takes as input a dataframe and returns the list of indicators,\n",
    "    that have less than 'num_countries'\n",
    "    '''\n",
    "    indicators = list(df['Indicator Code'].unique())\n",
    "    num_countries = np.count_nonzero(df['Country Code'].unique())\n",
    "    less_country_indicators = []\n",
    "    \n",
    "    for indicator in indicators:\n",
    "        indicator_countries = df[df['Indicator Code'] == indicator].count()['Country Code']\n",
    "        \n",
    "        if indicator_countries != num_countries:\n",
    "            less_country_indicators.append(indicator)\n",
    "            \n",
    "    \n",
    "    return less_country_indicators\n",
    "        "
   ]
  },
  {
   "cell_type": "code",
   "execution_count": 19,
   "metadata": {},
   "outputs": [],
   "source": [
    "faulty_indicators_db = get_indicator_number_of_countries(db_df)\n",
    "faulty_indicators_edu = get_indicator_number_of_countries(edu_df)"
   ]
  },
  {
   "cell_type": "code",
   "execution_count": 20,
   "metadata": {},
   "outputs": [
    {
     "data": {
      "text/plain": [
       "([], [])"
      ]
     },
     "execution_count": 20,
     "metadata": {},
     "output_type": "execute_result"
    }
   ],
   "source": [
    "faulty_indicators_db, faulty_indicators_edu"
   ]
  },
  {
   "cell_type": "markdown",
   "metadata": {},
   "source": [
    "Displaying the arrays shows us that they are both empty, which means that all countries have all indicators."
   ]
  },
  {
   "cell_type": "markdown",
   "metadata": {},
   "source": [
    "#### 2.2 Handling the missing values\n",
    "As it can be seen from the samples from the datasets there is a lot of missing data. My first intuituion was to look at what are the global trends and/or seasonality. However since the data is aggregated for each country for each year the seasonality doesn't make much sense. Of course there might be 5-year or decade cycles, but that doesn't help with series that are completely missing. That's why my idea is based on similarity - infer the missing data from countries that are similar. \n",
    "\n",
    "How do we find the missing data for each indicator and each country?\n",
    "1. Linear Regression for each country and each indicator.\n",
    "2. Clustering Algorithm\n",
    "\n",
    "##### **1. Linear Regression on each country for each indicator.**\n",
    "Simple as that - run *linreg* for each row individualy. Now for the *Doing Business* dataset this might be fine, but for the education dataset that won't be feasible as it will take a lot of computational time.\n",
    "I might do it for the sake of it anyway.\n",
    "\n",
    "##### **2. A Clustering Algorithm.**\n",
    "The most important part is looking for a clustering algorithm, that can group the countries and later on we can infer the missing values. Of course some discrepencies can be expected.\n",
    "So what options do we have:\n",
    "\n",
    "1. Geo clustering - Cluster countries based on the relative distances between countries - this could be feasible, as it will go straight to the initial problem I have defined for myself. Also I could just infer the data from the neighbors. A question that comes to mind is what happens when all of the countries in the predefined region have empty values? Do I truncate the whole series to start from the earliest date? Also that might not be feasible as one would imagine - two neighboring countries may have different situations (i.e. North and South Koreas). In addition how do I define distances? Is it capital-to-capital distances or based on the numbers of neighboring countries\n",
    "\n",
    "2. K-Means - Not really suitable for time-series, but let's say we take the calculate the mean for each country and represent it countries vs mean indicators. Then we will have a *n_countries* vs *m_mean_indicators*. From then on either we choose the indicators are most representative of a country, or we apply some sort of a dimensionality reduction (t-SNE as we like to preserve the clusters).\n",
    "\n",
    "3. Dynamic Time Warping clustering of some sort?\n",
    "\n",
    "**Further work:**\n",
    "Show the corelation between each indicator for a country that has the full set of data - correlogram."
   ]
  },
  {
   "cell_type": "markdown",
   "metadata": {},
   "source": [
    "#### 2.2.1 Creating the country vs mean indicator matrix."
   ]
  },
  {
   "cell_type": "code",
   "execution_count": 21,
   "metadata": {},
   "outputs": [],
   "source": [
    "def country_indicator_mat(df):\n",
    "    '''\n",
    "    Takes as input a pandas dataframe and returns a dataframe that has country codes for indices, while columns are indicators.\n",
    "    '''\n",
    "    df_new = df.copy() # copy just to be sure\n",
    "    df_new['ind_mean'] = df_new.iloc[:,4:].mean(axis=1)\n",
    "    return df_new.pivot(index='Country Code', columns='Indicator Code', values='ind_mean')"
   ]
  },
  {
   "cell_type": "code",
   "execution_count": 22,
   "metadata": {},
   "outputs": [],
   "source": [
    "db_ind_mat = country_indicator_mat(db_df)\n",
    "edu_ind_mat = country_indicator_mat(edu_df)"
   ]
  },
  {
   "cell_type": "markdown",
   "metadata": {},
   "source": [
    "Good. Not let's clean some more. \n",
    "\n",
    "Unfortunatelly I suspect that some countries are lacking data at all. That means that the 'mean_indicator' value will still be N/A. \n",
    "A method for cleaning the data would be to get the shape of the df and remove the countries for which all indicators are empty.\n",
    "\n",
    "In addition - since we are trying to group the countries together - the indicators which have a single missing value will be removed."
   ]
  },
  {
   "cell_type": "code",
   "execution_count": 23,
   "metadata": {},
   "outputs": [],
   "source": [
    "def remove_null_rows_cols(df):\n",
    "    '''\n",
    "    Takes as an input a dataframe, removes the countries and indicators that are empty throughout and returns the 'clean' dataframe.\n",
    "    ''' \n",
    "    # Removing the countries with no data\n",
    "    is_not_nulls = (df.isnull().sum(axis=1) != df.shape[1]).values\n",
    "    wo_nan_countries_df = df[is_not_nulls]\n",
    "    \n",
    "    # Removing the indicators with no data\n",
    "    is_not_nulls_inds = (wo_nan_countries_df.isnull().sum() == 0)\n",
    "    clean_df = wo_nan_countries_df[is_not_nulls_inds.index[is_not_nulls_inds]]\n",
    "    \n",
    "    return clean_df"
   ]
  },
  {
   "cell_type": "code",
   "execution_count": 24,
   "metadata": {},
   "outputs": [],
   "source": [
    "db_clean = remove_null_rows_cols(db_ind_mat)\n",
    "edu_clean = remove_null_rows_cols(edu_ind_mat)"
   ]
  },
  {
   "cell_type": "code",
   "execution_count": 25,
   "metadata": {},
   "outputs": [
    {
     "data": {
      "text/plain": [
       "((212, 25), (242, 0))"
      ]
     },
     "execution_count": 25,
     "metadata": {},
     "output_type": "execute_result"
    }
   ],
   "source": [
    "db_clean.shape, edu_clean.shape"
   ]
  },
  {
   "cell_type": "markdown",
   "metadata": {},
   "source": [
    "Looking at the shapes it seems that 25 indicators on the *Doing Business* dataset are good-to-go. However in the *Education* dataset it seems that is not the case as all of the indicators were removed. \n",
    "\n",
    "One solution would be to just assume that the clusters are the same for both datasets and infer based on the clustering done on the *Doing Business*.\n",
    "Another one would be to try a different approach to cleaning the data altogether. [WIP]"
   ]
  },
  {
   "cell_type": "markdown",
   "metadata": {},
   "source": [
    "#### 2.2.2 Dealing with the dimensions.\n",
    "\n",
    "One would assume that the best way to deal with this many features is to look through them and decide which ones are the important ones (either due to domain engineering or just good ol' plain common sense), however  because of the sheer amount of indicators on both datasets I would use PCA.\n",
    "\n",
    "This approach will require that I first normalize the data (since PCA maximizes variance) and then apply PCA. [Scikit-Learn](http://scikit-learn.org/stable/) to the rescue!"
   ]
  },
  {
   "cell_type": "code",
   "execution_count": 26,
   "metadata": {},
   "outputs": [],
   "source": [
    "# Scaling\n",
    "from sklearn.preprocessing import StandardScaler\n",
    "scaler = StandardScaler()\n",
    "db_scaled = scaler.fit_transform(db_clean.values)"
   ]
  },
  {
   "cell_type": "code",
   "execution_count": 27,
   "metadata": {},
   "outputs": [],
   "source": [
    "# Dimensionality reduction with t-SNE\n",
    "from sklearn.manifold import TSNE\n",
    "tsne = TSNE(n_components = 2, random_state=42)\n",
    "db_decomp = tsne.fit_transform(db_scaled)"
   ]
  },
  {
   "cell_type": "code",
   "execution_count": 28,
   "metadata": {},
   "outputs": [
    {
     "data": {
      "text/plain": [
       "(212, 2)"
      ]
     },
     "execution_count": 28,
     "metadata": {},
     "output_type": "execute_result"
    }
   ],
   "source": [
    "db_decomp.shape"
   ]
  },
  {
   "cell_type": "markdown",
   "metadata": {},
   "source": [
    "Let's see how it looks:"
   ]
  },
  {
   "cell_type": "code",
   "execution_count": 29,
   "metadata": {},
   "outputs": [
    {
     "data": {
      "text/plain": [
       "<matplotlib.axes._subplots.AxesSubplot at 0x7f90b8e93a20>"
      ]
     },
     "execution_count": 29,
     "metadata": {},
     "output_type": "execute_result"
    },
    {
     "data": {
      "image/png": "[encoded data removed]",
      "text/plain": [
       "<Figure size 432x288 with 1 Axes>"
      ]
     },
     "metadata": {
      "needs_background": "light"
     },
     "output_type": "display_data"
    }
   ],
   "source": [
    "sns.regplot(x=db_decomp[:,0], y=db_decomp[:,1], fit_reg=False)"
   ]
  },
  {
   "cell_type": "markdown",
   "metadata": {},
   "source": [
    "Distinct clusters are not really observable, however you could see a steady gradient from left to right, as well as one outlier. Here's a task to expand on - find the outlier!\n",
    "Also the visualization gives us more questions than answers - I was slightly hoping that the chart will show me the right answer to the question of the number of clusters."
   ]
  },
  {
   "cell_type": "markdown",
   "metadata": {},
   "source": [
    "#### 2.2.3 Finally clustering.\n",
    "\n",
    "When doing clustering the most important question is the number of clusters. Here again we have a number of options:\n",
    "1. Choose an arbitrary split, based on a geographical *common sense* approach - 6 continents - say 2 economical regions per continent will yield 12 clusters. However this is more akin to eyeballing the solution and it may never converge.\n",
    "2. Elbow method - which minimizes the WSS (within-cluster sum of squares, the measure of compactness)."
   ]
  },
  {
   "cell_type": "code",
   "execution_count": 30,
   "metadata": {},
   "outputs": [],
   "source": [
    "# Determining the number of clusters - Elbow Method\n",
    "from sklearn.cluster import KMeans\n",
    "\n",
    "wss = []\n",
    "max_clusters = 20\n",
    "\n",
    "for i in range(1,max_clusters+1):\n",
    "    model = KMeans(n_clusters = i, init = 'k-means++', max_iter=300, random_state=42)\n",
    "    model.fit(db_decomp)\n",
    "    wss.append(model.inertia_)"
   ]
  },
  {
   "cell_type": "code",
   "execution_count": 31,
   "metadata": {},
   "outputs": [
    {
     "data": {
      "image/png": "[encoded data removed]",
      "text/plain": [
       "<Figure size 432x288 with 1 Axes>"
      ]
     },
     "metadata": {
      "needs_background": "light"
     },
     "output_type": "display_data"
    }
   ],
   "source": [
    "plt.plot(np.linspace(1,max_clusters,max_clusters), wss)\n",
    "plt.title('The Elbow Method')\n",
    "plt.xticks(np.linspace(1,max_clusters,max_clusters))\n",
    "plt.xlabel('Number of clusters')\n",
    "plt.ylabel('WSS')\n",
    "plt.show()"
   ]
  },
  {
   "cell_type": "markdown",
   "metadata": {},
   "source": [
    "From the result, visualy, it seems that 8 clusters will suffice."
   ]
  },
  {
   "cell_type": "code",
   "execution_count": 32,
   "metadata": {},
   "outputs": [],
   "source": [
    "# Finally clustering the countries\n",
    "final_model = KMeans(n_clusters = 8, init='k-means++', max_iter=300, random_state=42)\n",
    "clusters = final_model.fit_predict(db_decomp)"
   ]
  },
  {
   "cell_type": "code",
   "execution_count": 33,
   "metadata": {},
   "outputs": [],
   "source": [
    "cluster_countries_df = pd.DataFrame({'country_code':db_clean.index.values, 'cluster':clusters})\n",
    "# creating the dict\n",
    "country_cluster_map = {}\n",
    "# i love my loops :)\n",
    "for country in cluster_countries_df['country_code'].values:\n",
    "    country_cluster_map[country] = cluster_countries_df[cluster_countries_df['country_code'] == country]['cluster'].values[0] "
   ]
  },
  {
   "cell_type": "code",
   "execution_count": 34,
   "metadata": {},
   "outputs": [],
   "source": [
    "# Assigning the cluster to the whole dataframe\n",
    "db_df['Cluster'] = db_df['Country Code'].map(country_cluster_map)"
   ]
  },
  {
   "cell_type": "code",
   "execution_count": 35,
   "metadata": {},
   "outputs": [
    {
     "data": {
      "image/png": "[encoded data removed]",
      "text/plain": [
       "<Figure size 432x288 with 1 Axes>"
      ]
     },
     "metadata": {
      "needs_background": "light"
     },
     "output_type": "display_data"
    }
   ],
   "source": [
    "# Visualizing the clusters\n",
    "sns.scatterplot(x=db_decomp[:,0], y=db_decomp[:,1], hue=clusters)\n",
    "plt.xlabel('Component A')\n",
    "plt.ylabel('Component B')\n",
    "plt.title('Country Clusters')\n",
    "plt.show()"
   ]
  },
  {
   "cell_type": "markdown",
   "metadata": {},
   "source": [
    "#### 2.2.4 And finally filling out the missing values.\n",
    "\n",
    "The working plan is to infer the values for each cluster by sampling from a (also an asumption) normal distribution for each year of the cluster.\n",
    "This is going to be done via:\n",
    "1. Determining the mean and variance for each cluster for each year for each indicator (if it measured).\n",
    "2. Well... sampling from it.\n",
    "\n",
    "But first - more clean up.\n",
    "\n",
    "[/edit this part]\n",
    "Quick write up:\n",
    "1. Filter the original dataframe by indicators that have data in 2003\n",
    "2. Do the inference only on them.\n",
    "3. Correlate them with education indicators\n",
    "[/edit this part]\n",
    "\n",
    "**Assumption**: Indicators for a different clusters follow a normal distribution."
   ]
  },
  {
   "cell_type": "code",
   "execution_count": 36,
   "metadata": {},
   "outputs": [],
   "source": [
    "# Removing the countries that have not been assigned to a cluster\n",
    "db_df = db_df[db_df['Cluster'].notnull()]"
   ]
  },
  {
   "cell_type": "code",
   "execution_count": 37,
   "metadata": {},
   "outputs": [],
   "source": [
    "# Getting the list of indicators that start at 2003 - the earliest start year\n",
    "indicator_list = indicator_db_year_df[indicator_db_year_df['Start_Year'] == 2003]['Indicator'].values"
   ]
  },
  {
   "cell_type": "code",
   "execution_count": 38,
   "metadata": {},
   "outputs": [
    {
     "data": {
      "text/plain": [
       "array(['IC.REG.COST.PC.ZS.WOMEN', 'IC.EC.COST', 'IC.REG.COST.PC.ZS',\n",
       "       'IC.REG.CAP', 'IC.ISV.OTCM', 'IC.REG.PROC.WOMEN', 'IC.REG.PROC',\n",
       "       'IC.ISV.COST', 'IC.ISV.RECRT', 'IC.LGL.DURS', 'IC.REG.DURS.WOMEN',\n",
       "       'IC.REG.DURS', 'IC.ISV.DURS'], dtype=object)"
      ]
     },
     "execution_count": 38,
     "metadata": {},
     "output_type": "execute_result"
    }
   ],
   "source": [
    "indicator_list"
   ]
  },
  {
   "cell_type": "code",
   "execution_count": 39,
   "metadata": {},
   "outputs": [],
   "source": [
    "def check_ind_cluster(df, ind_list):\n",
    "    '''Verify whether cluster has all of the indicators at 2003 and if others have to be deleted. Return the list with non-complaint indicators'''\n",
    "    non_compl_indicators = []\n",
    "    for cluster in df['Cluster'].unique():\n",
    "        for indicator in ind_list:\n",
    "            # Check whether the cluster and indicator for 2003 are all nulls and append it to the list like a dict.\n",
    "            if df[(df['Cluster'] == cluster) & (df['Indicator Code'] == indicator)]['2003'].isnull().values.all():\n",
    "                non_compl_indicators.append({cluster: indicator})"
   ]
  },
  {
   "cell_type": "code",
   "execution_count": 40,
   "metadata": {},
   "outputs": [
    {
     "name": "stdout",
     "output_type": "stream",
     "text": [
      "None\n"
     ]
    }
   ],
   "source": [
    "non_cmpl_list = check_ind_cluster(db_df, indicator_list)\n",
    "print(non_cmpl_list)"
   ]
  },
  {
   "cell_type": "markdown",
   "metadata": {},
   "source": [
    "Essentially an empty list. No more checks. Now forward to filtering our dataframe."
   ]
  },
  {
   "cell_type": "code",
   "execution_count": 41,
   "metadata": {},
   "outputs": [],
   "source": [
    "db_filtered_df = db_df[db_df['Indicator Code'].isin(indicator_list)]"
   ]
  },
  {
   "cell_type": "markdown",
   "metadata": {},
   "source": [
    "Now lets create the function per indicator to get the mean and the variance of the cluster for the year per indicator."
   ]
  },
  {
   "cell_type": "code",
   "execution_count": 42,
   "metadata": {},
   "outputs": [],
   "source": [
    "years = db_filtered_df.columns[4:-1]"
   ]
  },
  {
   "cell_type": "code",
   "execution_count": 43,
   "metadata": {},
   "outputs": [],
   "source": [
    "for year in years:\n",
    "    if year == '2003':\n",
    "        mean_cluster_indicator = db_filtered_df.groupby(['Cluster', 'Indicator Code'], as_index=False)[year].mean()\n",
    "        var_cluster_indicator = db_filtered_df.groupby(['Cluster', 'Indicator Code'], as_index=False)[year].var()\n",
    "    else:\n",
    "        mean_cluster_indicator[year] = db_filtered_df.groupby(['Cluster', 'Indicator Code'], as_index=False)[year].mean()[year]\n",
    "        var_cluster_indicator[year] = db_filtered_df.groupby(['Cluster', 'Indicator Code'], as_index=False)[year].var()[year]"
   ]
  },
  {
   "cell_type": "code",
   "execution_count": 44,
   "metadata": {},
   "outputs": [
    {
     "data": {
      "text/html": [
       "<div>\n",
       "<style scoped>\n",
       "    .dataframe tbody tr th:only-of-type {\n",
       "        vertical-align: middle;\n",
       "    }\n",
       "\n",
       "    .dataframe tbody tr th {\n",
       "        vertical-align: top;\n",
       "    }\n",
       "\n",
       "    .dataframe thead th {\n",
       "        text-align: right;\n",
       "    }\n",
       "</style>\n",
       "<table border=\"1\" class=\"dataframe\">\n",
       "  <thead>\n",
       "    <tr style=\"text-align: right;\">\n",
       "      <th></th>\n",
       "      <th>Cluster</th>\n",
       "      <th>Indicator Code</th>\n",
       "      <th>2003</th>\n",
       "      <th>2004</th>\n",
       "      <th>2005</th>\n",
       "      <th>2006</th>\n",
       "      <th>2007</th>\n",
       "      <th>2008</th>\n",
       "      <th>2009</th>\n",
       "      <th>2010</th>\n",
       "      <th>2011</th>\n",
       "      <th>2012</th>\n",
       "      <th>2013</th>\n",
       "      <th>2014</th>\n",
       "      <th>2015</th>\n",
       "      <th>2016</th>\n",
       "      <th>2017</th>\n",
       "    </tr>\n",
       "  </thead>\n",
       "  <tbody>\n",
       "    <tr>\n",
       "      <th>0</th>\n",
       "      <td>0.0</td>\n",
       "      <td>IC.EC.COST</td>\n",
       "      <td>35.264286</td>\n",
       "      <td>34.593333</td>\n",
       "      <td>33.864000</td>\n",
       "      <td>32.900000</td>\n",
       "      <td>32.751852</td>\n",
       "      <td>32.751852</td>\n",
       "      <td>33.266667</td>\n",
       "      <td>32.862963</td>\n",
       "      <td>32.392857</td>\n",
       "      <td>32.546429</td>\n",
       "      <td>33.258621</td>\n",
       "      <td>33.258621</td>\n",
       "      <td>33.258621</td>\n",
       "      <td>33.258621</td>\n",
       "      <td>33.320690</td>\n",
       "    </tr>\n",
       "    <tr>\n",
       "      <th>1</th>\n",
       "      <td>0.0</td>\n",
       "      <td>IC.ISV.COST</td>\n",
       "      <td>20.730769</td>\n",
       "      <td>21.285714</td>\n",
       "      <td>17.261905</td>\n",
       "      <td>17.136364</td>\n",
       "      <td>16.913043</td>\n",
       "      <td>16.913043</td>\n",
       "      <td>16.913043</td>\n",
       "      <td>16.913043</td>\n",
       "      <td>16.833333</td>\n",
       "      <td>16.833333</td>\n",
       "      <td>16.480000</td>\n",
       "      <td>16.480000</td>\n",
       "      <td>16.480000</td>\n",
       "      <td>16.480000</td>\n",
       "      <td>16.480000</td>\n",
       "    </tr>\n",
       "    <tr>\n",
       "      <th>2</th>\n",
       "      <td>0.0</td>\n",
       "      <td>IC.ISV.DURS</td>\n",
       "      <td>2.430769</td>\n",
       "      <td>2.471429</td>\n",
       "      <td>2.505000</td>\n",
       "      <td>2.480952</td>\n",
       "      <td>2.504545</td>\n",
       "      <td>2.504545</td>\n",
       "      <td>2.504545</td>\n",
       "      <td>2.504545</td>\n",
       "      <td>2.473913</td>\n",
       "      <td>2.473913</td>\n",
       "      <td>2.584000</td>\n",
       "      <td>2.568000</td>\n",
       "      <td>2.548000</td>\n",
       "      <td>2.528000</td>\n",
       "      <td>2.528000</td>\n",
       "    </tr>\n",
       "    <tr>\n",
       "      <th>3</th>\n",
       "      <td>0.0</td>\n",
       "      <td>IC.ISV.OTCM</td>\n",
       "      <td>0.230769</td>\n",
       "      <td>0.214286</td>\n",
       "      <td>0.173913</td>\n",
       "      <td>0.181818</td>\n",
       "      <td>0.227273</td>\n",
       "      <td>0.217391</td>\n",
       "      <td>0.192308</td>\n",
       "      <td>0.192308</td>\n",
       "      <td>0.230769</td>\n",
       "      <td>0.222222</td>\n",
       "      <td>0.240000</td>\n",
       "      <td>0.240000</td>\n",
       "      <td>0.240000</td>\n",
       "      <td>0.240000</td>\n",
       "      <td>0.206897</td>\n",
       "    </tr>\n",
       "    <tr>\n",
       "      <th>4</th>\n",
       "      <td>0.0</td>\n",
       "      <td>IC.ISV.RECRT</td>\n",
       "      <td>29.071429</td>\n",
       "      <td>28.733333</td>\n",
       "      <td>28.352000</td>\n",
       "      <td>29.023077</td>\n",
       "      <td>30.081481</td>\n",
       "      <td>30.281481</td>\n",
       "      <td>30.281481</td>\n",
       "      <td>30.370370</td>\n",
       "      <td>32.050000</td>\n",
       "      <td>32.085714</td>\n",
       "      <td>31.927586</td>\n",
       "      <td>32.293103</td>\n",
       "      <td>32.406897</td>\n",
       "      <td>32.789655</td>\n",
       "      <td>32.865517</td>\n",
       "    </tr>\n",
       "  </tbody>\n",
       "</table>\n",
       "</div>"
      ],
      "text/plain": [
       "   Cluster Indicator Code       2003       2004       2005       2006  \\\n",
       "0      0.0     IC.EC.COST  35.264286  34.593333  33.864000  32.900000   \n",
       "1      0.0    IC.ISV.COST  20.730769  21.285714  17.261905  17.136364   \n",
       "2      0.0    IC.ISV.DURS   2.430769   2.471429   2.505000   2.480952   \n",
       "3      0.0    IC.ISV.OTCM   0.230769   0.214286   0.173913   0.181818   \n",
       "4      0.0   IC.ISV.RECRT  29.071429  28.733333  28.352000  29.023077   \n",
       "\n",
       "        2007       2008       2009       2010       2011       2012  \\\n",
       "0  32.751852  32.751852  33.266667  32.862963  32.392857  32.546429   \n",
       "1  16.913043  16.913043  16.913043  16.913043  16.833333  16.833333   \n",
       "2   2.504545   2.504545   2.504545   2.504545   2.473913   2.473913   \n",
       "3   0.227273   0.217391   0.192308   0.192308   0.230769   0.222222   \n",
       "4  30.081481  30.281481  30.281481  30.370370  32.050000  32.085714   \n",
       "\n",
       "        2013       2014       2015       2016       2017  \n",
       "0  33.258621  33.258621  33.258621  33.258621  33.320690  \n",
       "1  16.480000  16.480000  16.480000  16.480000  16.480000  \n",
       "2   2.584000   2.568000   2.548000   2.528000   2.528000  \n",
       "3   0.240000   0.240000   0.240000   0.240000   0.206897  \n",
       "4  31.927586  32.293103  32.406897  32.789655  32.865517  "
      ]
     },
     "execution_count": 44,
     "metadata": {},
     "output_type": "execute_result"
    }
   ],
   "source": [
    "mean_cluster_indicator.head()"
   ]
  },
  {
   "cell_type": "code",
   "execution_count": 45,
   "metadata": {},
   "outputs": [
    {
     "data": {
      "text/html": [
       "<div>\n",
       "<style scoped>\n",
       "    .dataframe tbody tr th:only-of-type {\n",
       "        vertical-align: middle;\n",
       "    }\n",
       "\n",
       "    .dataframe tbody tr th {\n",
       "        vertical-align: top;\n",
       "    }\n",
       "\n",
       "    .dataframe thead th {\n",
       "        text-align: right;\n",
       "    }\n",
       "</style>\n",
       "<table border=\"1\" class=\"dataframe\">\n",
       "  <thead>\n",
       "    <tr style=\"text-align: right;\">\n",
       "      <th></th>\n",
       "      <th>Cluster</th>\n",
       "      <th>Indicator Code</th>\n",
       "      <th>2003</th>\n",
       "      <th>2004</th>\n",
       "      <th>2005</th>\n",
       "      <th>2006</th>\n",
       "      <th>2007</th>\n",
       "      <th>2008</th>\n",
       "      <th>2009</th>\n",
       "      <th>2010</th>\n",
       "      <th>2011</th>\n",
       "      <th>2012</th>\n",
       "      <th>2013</th>\n",
       "      <th>2014</th>\n",
       "      <th>2015</th>\n",
       "      <th>2016</th>\n",
       "      <th>2017</th>\n",
       "    </tr>\n",
       "  </thead>\n",
       "  <tbody>\n",
       "    <tr>\n",
       "      <th>0</th>\n",
       "      <td>0.0</td>\n",
       "      <td>IC.EC.COST</td>\n",
       "      <td>213.848626</td>\n",
       "      <td>205.326381</td>\n",
       "      <td>191.702400</td>\n",
       "      <td>208.196000</td>\n",
       "      <td>200.781054</td>\n",
       "      <td>200.781054</td>\n",
       "      <td>201.426923</td>\n",
       "      <td>189.791652</td>\n",
       "      <td>188.950317</td>\n",
       "      <td>186.395913</td>\n",
       "      <td>215.722512</td>\n",
       "      <td>215.722512</td>\n",
       "      <td>215.722512</td>\n",
       "      <td>215.722512</td>\n",
       "      <td>214.798128</td>\n",
       "    </tr>\n",
       "    <tr>\n",
       "      <th>1</th>\n",
       "      <td>0.0</td>\n",
       "      <td>IC.ISV.COST</td>\n",
       "      <td>158.275641</td>\n",
       "      <td>150.412088</td>\n",
       "      <td>112.165476</td>\n",
       "      <td>107.170996</td>\n",
       "      <td>103.446640</td>\n",
       "      <td>103.446640</td>\n",
       "      <td>103.446640</td>\n",
       "      <td>103.446640</td>\n",
       "      <td>99.101449</td>\n",
       "      <td>99.101449</td>\n",
       "      <td>98.093333</td>\n",
       "      <td>98.093333</td>\n",
       "      <td>98.093333</td>\n",
       "      <td>98.093333</td>\n",
       "      <td>98.093333</td>\n",
       "    </tr>\n",
       "    <tr>\n",
       "      <th>2</th>\n",
       "      <td>0.0</td>\n",
       "      <td>IC.ISV.DURS</td>\n",
       "      <td>0.843974</td>\n",
       "      <td>0.802198</td>\n",
       "      <td>0.720500</td>\n",
       "      <td>0.696619</td>\n",
       "      <td>0.675693</td>\n",
       "      <td>0.675693</td>\n",
       "      <td>0.675693</td>\n",
       "      <td>0.675693</td>\n",
       "      <td>0.666561</td>\n",
       "      <td>0.666561</td>\n",
       "      <td>0.790567</td>\n",
       "      <td>0.803100</td>\n",
       "      <td>0.836767</td>\n",
       "      <td>0.890433</td>\n",
       "      <td>0.890433</td>\n",
       "    </tr>\n",
       "    <tr>\n",
       "      <th>3</th>\n",
       "      <td>0.0</td>\n",
       "      <td>IC.ISV.OTCM</td>\n",
       "      <td>0.192308</td>\n",
       "      <td>0.181319</td>\n",
       "      <td>0.150198</td>\n",
       "      <td>0.155844</td>\n",
       "      <td>0.183983</td>\n",
       "      <td>0.177866</td>\n",
       "      <td>0.161538</td>\n",
       "      <td>0.161538</td>\n",
       "      <td>0.184615</td>\n",
       "      <td>0.179487</td>\n",
       "      <td>0.190000</td>\n",
       "      <td>0.190000</td>\n",
       "      <td>0.190000</td>\n",
       "      <td>0.190000</td>\n",
       "      <td>0.169951</td>\n",
       "    </tr>\n",
       "    <tr>\n",
       "      <th>4</th>\n",
       "      <td>0.0</td>\n",
       "      <td>IC.ISV.RECRT</td>\n",
       "      <td>206.020659</td>\n",
       "      <td>203.349524</td>\n",
       "      <td>258.498433</td>\n",
       "      <td>253.553846</td>\n",
       "      <td>284.763875</td>\n",
       "      <td>289.423105</td>\n",
       "      <td>289.423105</td>\n",
       "      <td>286.982165</td>\n",
       "      <td>319.775926</td>\n",
       "      <td>321.323492</td>\n",
       "      <td>314.703498</td>\n",
       "      <td>320.421379</td>\n",
       "      <td>323.754951</td>\n",
       "      <td>329.713818</td>\n",
       "      <td>329.996626</td>\n",
       "    </tr>\n",
       "  </tbody>\n",
       "</table>\n",
       "</div>"
      ],
      "text/plain": [
       "   Cluster Indicator Code        2003        2004        2005        2006  \\\n",
       "0      0.0     IC.EC.COST  213.848626  205.326381  191.702400  208.196000   \n",
       "1      0.0    IC.ISV.COST  158.275641  150.412088  112.165476  107.170996   \n",
       "2      0.0    IC.ISV.DURS    0.843974    0.802198    0.720500    0.696619   \n",
       "3      0.0    IC.ISV.OTCM    0.192308    0.181319    0.150198    0.155844   \n",
       "4      0.0   IC.ISV.RECRT  206.020659  203.349524  258.498433  253.553846   \n",
       "\n",
       "         2007        2008        2009        2010        2011        2012  \\\n",
       "0  200.781054  200.781054  201.426923  189.791652  188.950317  186.395913   \n",
       "1  103.446640  103.446640  103.446640  103.446640   99.101449   99.101449   \n",
       "2    0.675693    0.675693    0.675693    0.675693    0.666561    0.666561   \n",
       "3    0.183983    0.177866    0.161538    0.161538    0.184615    0.179487   \n",
       "4  284.763875  289.423105  289.423105  286.982165  319.775926  321.323492   \n",
       "\n",
       "         2013        2014        2015        2016        2017  \n",
       "0  215.722512  215.722512  215.722512  215.722512  214.798128  \n",
       "1   98.093333   98.093333   98.093333   98.093333   98.093333  \n",
       "2    0.790567    0.803100    0.836767    0.890433    0.890433  \n",
       "3    0.190000    0.190000    0.190000    0.190000    0.169951  \n",
       "4  314.703498  320.421379  323.754951  329.713818  329.996626  "
      ]
     },
     "execution_count": 45,
     "metadata": {},
     "output_type": "execute_result"
    }
   ],
   "source": [
    "var_cluster_indicator.head()"
   ]
  },
  {
   "cell_type": "markdown",
   "metadata": {},
   "source": [
    "Now we have two matrices that contain the means of all the cluster-indicators for all of the years. Let's finally fill those missing values. To do this two things need to be done: \n",
    "1. Define a function to generate the random sample based on the cluster mean and variance.\n",
    "2. Actually replacing them. I wasn't planning on another loop, but..."
   ]
  },
  {
   "cell_type": "code",
   "execution_count": 46,
   "metadata": {},
   "outputs": [],
   "source": [
    "def random_cluster_sample(cluster_num, indicator, year, mean_cluster_ind, var_cluster_ind):\n",
    "    dist_mean = mean_cluster_ind[(mean_cluster_ind['Cluster'] == cluster_num) & (mean_cluster_ind['Indicator Code'] == indicator)][year]\n",
    "    dist_var = var_cluster_ind[(var_cluster_ind['Cluster'] == cluster_num) & (var_cluster_ind['Indicator Code'] == indicator)][year]\n",
    "    \n",
    "    return np.random.normal(dist_mean, np.sqrt(dist_var), 1)[0]  "
   ]
  },
  {
   "cell_type": "code",
   "execution_count": 47,
   "metadata": {},
   "outputs": [],
   "source": [
    "def fill_missing_vals(df, mean_cluster_indicator, var_cluster_indicator):\n",
    "    '''\n",
    "        Takes as an input a dataframe and returns a clean one.\n",
    "    '''\n",
    "    df = df.copy()\n",
    "    for index, row in df.iterrows():\n",
    "        country_code = row['Country Code']\n",
    "        indicator = row['Indicator Code']\n",
    "        cluster = row['Cluster']\n",
    "        year_list = list(row[row.isnull()].index)\n",
    "\n",
    "        for year in year_list:\n",
    "            df.loc[(df['Country Code'] == country_code) & (df['Indicator Code'] == indicator), year] = random_cluster_sample(cluster, indicator, year,\n",
    "                                                                                                                             mean_cluster_indicator,\n",
    "                                                                                                                             var_cluster_indicator)\n",
    "    \n",
    "    return df"
   ]
  },
  {
   "cell_type": "code",
   "execution_count": 48,
   "metadata": {},
   "outputs": [],
   "source": [
    "db_dataset = fill_missing_vals(db_filtered_df, mean_cluster_indicator, var_cluster_indicator)"
   ]
  },
  {
   "cell_type": "markdown",
   "metadata": {},
   "source": [
    "So now we have the *Doing Business* dataset with a reduced number of indicators, but all of them have data for the whole period. So what about the *Education* dataset? It was brushed off a while ago, where we tried to remove the indicators, based on a empty clusters. But now as the clusters are available, we can map them unto it and in general repeat the same process for finding the missing values. \n",
    "\n",
    "**Asummption**: The countries are clustered the same way in education, as they are in business."
   ]
  },
  {
   "cell_type": "code",
   "execution_count": 49,
   "metadata": {},
   "outputs": [],
   "source": [
    "# Mapping the clusters to the education dataset\n",
    "edu_df['Cluster'] = edu_df['Country Code'].map(country_cluster_map)\n",
    "\n",
    "# removing the countries without clusters. NB: The proper thing to do here is to actually check this countries and see why they don't have clusters\n",
    "edu_df = edu_df[edu_df['Cluster'].notnull()]\n",
    "\n",
    "# getting the list of indicators that start 2003\n",
    "edu_indicators = list(indicator_edu_year_df[indicator_edu_year_df['Start_Year'] == 2003]['Indicator'])\n",
    "\n",
    "# geting the list with the non-compliant \n",
    "non_compl_list = check_ind_cluster(edu_df, edu_indicators)"
   ]
  },
  {
   "cell_type": "code",
   "execution_count": 50,
   "metadata": {},
   "outputs": [
    {
     "name": "stdout",
     "output_type": "stream",
     "text": [
      "None\n"
     ]
    }
   ],
   "source": [
    "print(non_compl_list)"
   ]
  },
  {
   "cell_type": "markdown",
   "metadata": {},
   "source": [
    "Again an empty list. Thus let's continue with the same steps - filtering and creating the mean-var matrices."
   ]
  },
  {
   "cell_type": "code",
   "execution_count": 51,
   "metadata": {},
   "outputs": [],
   "source": [
    "edu_filtered = edu_df[edu_df['Indicator Code'].isin(edu_indicators)]"
   ]
  },
  {
   "cell_type": "code",
   "execution_count": 52,
   "metadata": {},
   "outputs": [],
   "source": [
    "years = edu_filtered.columns[4:-1]\n",
    "\n",
    "for year in years:\n",
    "    if year == '2003':\n",
    "        edu_mean_cluster_indicator = edu_filtered.groupby(['Cluster', 'Indicator Code'], as_index=False)[year].mean()\n",
    "        edu_var_cluster_indicator = edu_filtered.groupby(['Cluster', 'Indicator Code'], as_index=False)[year].var()\n",
    "    else:\n",
    "        edu_mean_cluster_indicator[year] = edu_filtered.groupby(['Cluster', 'Indicator Code'], as_index=False)[year].mean()[year]\n",
    "        edu_var_cluster_indicator[year] = edu_filtered.groupby(['Cluster', 'Indicator Code'], as_index=False)[year].var()[year]"
   ]
  },
  {
   "cell_type": "code",
   "execution_count": 53,
   "metadata": {},
   "outputs": [
    {
     "data": {
      "text/html": [
       "<div>\n",
       "<style scoped>\n",
       "    .dataframe tbody tr th:only-of-type {\n",
       "        vertical-align: middle;\n",
       "    }\n",
       "\n",
       "    .dataframe tbody tr th {\n",
       "        vertical-align: top;\n",
       "    }\n",
       "\n",
       "    .dataframe thead th {\n",
       "        text-align: right;\n",
       "    }\n",
       "</style>\n",
       "<table border=\"1\" class=\"dataframe\">\n",
       "  <thead>\n",
       "    <tr style=\"text-align: right;\">\n",
       "      <th></th>\n",
       "      <th>Cluster</th>\n",
       "      <th>Indicator Code</th>\n",
       "      <th>2003</th>\n",
       "      <th>2004</th>\n",
       "      <th>2005</th>\n",
       "      <th>2006</th>\n",
       "      <th>2007</th>\n",
       "      <th>2008</th>\n",
       "      <th>2009</th>\n",
       "      <th>2010</th>\n",
       "      <th>2011</th>\n",
       "      <th>2012</th>\n",
       "      <th>2013</th>\n",
       "      <th>2014</th>\n",
       "      <th>2015</th>\n",
       "      <th>2016</th>\n",
       "      <th>2017</th>\n",
       "    </tr>\n",
       "  </thead>\n",
       "  <tbody>\n",
       "    <tr>\n",
       "      <th>0</th>\n",
       "      <td>0.0</td>\n",
       "      <td>HH.DHS.GAR.456</td>\n",
       "      <td>2.788683</td>\n",
       "      <td>6.698618</td>\n",
       "      <td>8.804472</td>\n",
       "      <td>11.760876</td>\n",
       "      <td>7.333348</td>\n",
       "      <td>4.250000</td>\n",
       "      <td>4.640694</td>\n",
       "      <td>NaN</td>\n",
       "      <td>30.835041</td>\n",
       "      <td>NaN</td>\n",
       "      <td>4.577861</td>\n",
       "      <td>11.661902</td>\n",
       "      <td>NaN</td>\n",
       "      <td>NaN</td>\n",
       "      <td>NaN</td>\n",
       "    </tr>\n",
       "    <tr>\n",
       "      <th>1</th>\n",
       "      <td>0.0</td>\n",
       "      <td>HH.DHS.GAR.456.F</td>\n",
       "      <td>2.424952</td>\n",
       "      <td>5.271189</td>\n",
       "      <td>9.184794</td>\n",
       "      <td>8.630935</td>\n",
       "      <td>5.711816</td>\n",
       "      <td>3.550000</td>\n",
       "      <td>4.592575</td>\n",
       "      <td>NaN</td>\n",
       "      <td>25.147417</td>\n",
       "      <td>NaN</td>\n",
       "      <td>4.300946</td>\n",
       "      <td>10.443924</td>\n",
       "      <td>NaN</td>\n",
       "      <td>NaN</td>\n",
       "      <td>NaN</td>\n",
       "    </tr>\n",
       "    <tr>\n",
       "      <th>2</th>\n",
       "      <td>0.0</td>\n",
       "      <td>HH.DHS.GAR.456.M</td>\n",
       "      <td>3.203700</td>\n",
       "      <td>8.486646</td>\n",
       "      <td>8.404019</td>\n",
       "      <td>16.398020</td>\n",
       "      <td>9.441072</td>\n",
       "      <td>5.150000</td>\n",
       "      <td>4.699769</td>\n",
       "      <td>NaN</td>\n",
       "      <td>39.356241</td>\n",
       "      <td>NaN</td>\n",
       "      <td>4.912454</td>\n",
       "      <td>13.218589</td>\n",
       "      <td>NaN</td>\n",
       "      <td>NaN</td>\n",
       "      <td>NaN</td>\n",
       "    </tr>\n",
       "    <tr>\n",
       "      <th>3</th>\n",
       "      <td>0.0</td>\n",
       "      <td>HH.DHS.GAR.456.Q1</td>\n",
       "      <td>0.425458</td>\n",
       "      <td>0.217842</td>\n",
       "      <td>3.312862</td>\n",
       "      <td>2.335211</td>\n",
       "      <td>0.652305</td>\n",
       "      <td>0.483800</td>\n",
       "      <td>0.921824</td>\n",
       "      <td>NaN</td>\n",
       "      <td>7.346062</td>\n",
       "      <td>NaN</td>\n",
       "      <td>0.000000</td>\n",
       "      <td>3.199418</td>\n",
       "      <td>NaN</td>\n",
       "      <td>NaN</td>\n",
       "      <td>NaN</td>\n",
       "    </tr>\n",
       "    <tr>\n",
       "      <th>4</th>\n",
       "      <td>0.0</td>\n",
       "      <td>HH.DHS.GAR.456.Q2</td>\n",
       "      <td>0.439270</td>\n",
       "      <td>1.602817</td>\n",
       "      <td>3.577048</td>\n",
       "      <td>3.167737</td>\n",
       "      <td>1.579121</td>\n",
       "      <td>0.863318</td>\n",
       "      <td>1.192940</td>\n",
       "      <td>NaN</td>\n",
       "      <td>14.769075</td>\n",
       "      <td>NaN</td>\n",
       "      <td>0.296468</td>\n",
       "      <td>6.356137</td>\n",
       "      <td>NaN</td>\n",
       "      <td>NaN</td>\n",
       "      <td>NaN</td>\n",
       "    </tr>\n",
       "  </tbody>\n",
       "</table>\n",
       "</div>"
      ],
      "text/plain": [
       "   Cluster     Indicator Code      2003      2004      2005       2006  \\\n",
       "0      0.0     HH.DHS.GAR.456  2.788683  6.698618  8.804472  11.760876   \n",
       "1      0.0   HH.DHS.GAR.456.F  2.424952  5.271189  9.184794   8.630935   \n",
       "2      0.0   HH.DHS.GAR.456.M  3.203700  8.486646  8.404019  16.398020   \n",
       "3      0.0  HH.DHS.GAR.456.Q1  0.425458  0.217842  3.312862   2.335211   \n",
       "4      0.0  HH.DHS.GAR.456.Q2  0.439270  1.602817  3.577048   3.167737   \n",
       "\n",
       "       2007      2008      2009  2010       2011  2012      2013       2014  \\\n",
       "0  7.333348  4.250000  4.640694   NaN  30.835041   NaN  4.577861  11.661902   \n",
       "1  5.711816  3.550000  4.592575   NaN  25.147417   NaN  4.300946  10.443924   \n",
       "2  9.441072  5.150000  4.699769   NaN  39.356241   NaN  4.912454  13.218589   \n",
       "3  0.652305  0.483800  0.921824   NaN   7.346062   NaN  0.000000   3.199418   \n",
       "4  1.579121  0.863318  1.192940   NaN  14.769075   NaN  0.296468   6.356137   \n",
       "\n",
       "   2015  2016  2017  \n",
       "0   NaN   NaN   NaN  \n",
       "1   NaN   NaN   NaN  \n",
       "2   NaN   NaN   NaN  \n",
       "3   NaN   NaN   NaN  \n",
       "4   NaN   NaN   NaN  "
      ]
     },
     "execution_count": 53,
     "metadata": {},
     "output_type": "execute_result"
    }
   ],
   "source": [
    "edu_mean_cluster_indicator.head()"
   ]
  },
  {
   "cell_type": "markdown",
   "metadata": {},
   "source": [
    "Just looking at the head it looks that there are a lot of missing values for the mean. However I believe data is better perceived visually."
   ]
  },
  {
   "cell_type": "code",
   "execution_count": 54,
   "metadata": {},
   "outputs": [
    {
     "ename": "ModuleNotFoundError",
     "evalue": "No module named 'missingno'",
     "output_type": "error",
     "traceback": [
      "\u001b[0;31m---------------------------------------------------------------------------\u001b[0m",
      "\u001b[0;31mModuleNotFoundError\u001b[0m                       Traceback (most recent call last)",
      "\u001b[0;32m<ipython-input-54-507af3625215>\u001b[0m in \u001b[0;36m<module>\u001b[0;34m\u001b[0m\n\u001b[0;32m----> 1\u001b[0;31m \u001b[0;32mimport\u001b[0m \u001b[0mmissingno\u001b[0m \u001b[0;32mas\u001b[0m \u001b[0mmsno\u001b[0m\u001b[0;34m\u001b[0m\u001b[0;34m\u001b[0m\u001b[0m\n\u001b[0m\u001b[1;32m      2\u001b[0m \u001b[0mmsno\u001b[0m\u001b[0;34m.\u001b[0m\u001b[0mmatrix\u001b[0m\u001b[0;34m(\u001b[0m\u001b[0medu_mean_cluster_indicator\u001b[0m\u001b[0;34m)\u001b[0m\u001b[0;34m\u001b[0m\u001b[0;34m\u001b[0m\u001b[0m\n",
      "\u001b[0;31mModuleNotFoundError\u001b[0m: No module named 'missingno'"
     ]
    }
   ],
   "source": [
    "import missingno as msno\n",
    "msno.matrix(edu_mean_cluster_indicator)"
   ]
  },
  {
   "cell_type": "markdown",
   "metadata": {},
   "source": [
    "That's a lot of missing means. Also it appears that the values for *2017* are completely missing. Looking at it, the way forward is to go back to the original question, and let me phrase it in a different way, *is there a correlation between doing business and the availabiliy of skilled worksers*.\n",
    "\n",
    "The *doing business* has all of the data points, however my educated guess is that the *education* one doesn't. So how can we proceed from here?\n",
    "1. From the list of indicators (and there are a lot) filter it by the relevant ones - most likely upto 10. \n",
    "2. Filter the dataset further for the countries I am interested in.\n",
    "3. Look at the missing data there and figure out how to replace it.\n",
    "4. See the correlation between both - education and doing business.\n",
    "\n",
    "The [World Bank](datacatalog.worldbank.org) is kind enough to provide an additional csv file with the description of each indicator for both datasets. I'm going to add it to repo for the sake of information availability, but I will chose the indicators.\n",
    "\n",
    "A quick look at the indicators show that data is collected for age groups, that are above or below the required legal age for work.  \n",
    "**Assumption**: The legal age for working is 18, and the age for retirement is 65(although it differs for man and women).\n",
    "\n",
    "In addition the indicator has to have information about the percentage of the population that completed school of some kind. Looking at the Barro-Lee indicators it seems they group people based on primary, secondary and tertiary school."
   ]
  },
  {
   "cell_type": "code",
   "execution_count": 55,
   "metadata": {},
   "outputs": [],
   "source": [
    "edu_desc = pd.read_csv('./1_DC_Python_Data/EdStatsSeries.csv')\n",
    "age_grp_primary = 'with primary schooling. Completed Primary'\n",
    "age_grp_secondary = 'secondary schooling. Completed Secondary'\n",
    "age_grp_tertiary = 'tertiary schooling. Completed Tertiary'\n",
    "\n",
    "edu_cmp_ed = edu_desc[edu_desc['Indicator Name'].str.contains(age_grp_primary) | \n",
    "         edu_desc['Indicator Name'].str.contains(age_grp_secondary) | \n",
    "         edu_desc['Indicator Name'].str.contains(age_grp_tertiary)]"
   ]
  },
  {
   "cell_type": "code",
   "execution_count": 56,
   "metadata": {},
   "outputs": [],
   "source": [
    "# For the age groups - The assumptions is that data for ages below 18 and above 65 will be discarded.\n",
    "# Discard the ones that have no age group\n",
    "edu_cmp_ed_with_grps = edu_cmp_ed[edu_cmp_ed['Indicator Name'].str.extract('(\\d{2}-\\d{2})').notnull()]\n",
    "edu_cmp_ed_with_grps['Age Group'] = edu_cmp_ed_with_grps['Indicator Name'].str.extract('(\\d{2}-\\d{2})')\n",
    "\n",
    "# Finally drop the age groups that are below our threshold or above it\n",
    "suitable_age_grps = edu_cmp_ed_with_grps['Age Group'].unique()[1:-2]\n",
    "edu_cmp_ed_final = edu_cmp_ed_with_grps[edu_cmp_ed_with_grps['Age Group'].isin(suitable_age_grps)]\n",
    "\n",
    "# We can drop all columns except 'Series Code' and 'Age Group'\n",
    "edu_cmp_ed_final = edu_cmp_ed_final.drop(edu_cmp_ed_final.columns[1:-1], axis=1)\n",
    "indicator_list_edu = edu_cmp_ed_final['Series Code'].values"
   ]
  },
  {
   "cell_type": "markdown",
   "metadata": {},
   "source": [
    "So now we have the indicator list. Now the countries:"
   ]
  },
  {
   "cell_type": "code",
   "execution_count": 57,
   "metadata": {},
   "outputs": [],
   "source": [
    "balkan_country_list = ['BGR', 'BIH', 'SRB', 'HRV', 'GRC', 'MNE','SVN', 'ALB', 'MKD', 'XKX']\n",
    "# If I missed a country, excuse me, it was not intentional. Any order as well.\n",
    "balkan_edu_df = edu_df[edu_df['Country Code'].isin(balkan_country_list)]\n",
    "balkan_db_df = db_dataset[db_dataset['Country Code'].isin(balkan_country_list)]"
   ]
  },
  {
   "cell_type": "code",
   "execution_count": 58,
   "metadata": {},
   "outputs": [],
   "source": [
    "balkan_edu_df = balkan_edu_df[balkan_edu_df['Indicator Code'].isin(indicator_list_edu)]"
   ]
  },
  {
   "cell_type": "markdown",
   "metadata": {},
   "source": [
    "Let's plot the missing values as before."
   ]
  },
  {
   "cell_type": "markdown",
   "metadata": {},
   "source": [
    "It seems that the values are periodic - one sample in 2005 and one sample in 2010. Also there fields that are completely missing.\n",
    "First lets determine which indicators are missing."
   ]
  },
  {
   "cell_type": "code",
   "execution_count": 59,
   "metadata": {},
   "outputs": [
    {
     "name": "stdout",
     "output_type": "stream",
     "text": [
      "Whole countries are missing. List below.\n",
      "[]\n"
     ]
    }
   ],
   "source": [
    "missing_indicators_list = balkan_edu_df[balkan_edu_df['2005'].isnull()]['Indicator Code'].unique()\n",
    "# check how much are missing from the original list\n",
    "if sorted(missing_indicators_list) == sorted(indicator_list_edu):\n",
    "    print(\"Whole countries are missing. List below.\")\n",
    "    print(balkan_edu_df[balkan_edu_df['2005'].isnull()]['Country Code'].unique())\n",
    "else: \n",
    "    print(mssing_indicator_list)"
   ]
  },
  {
   "cell_type": "markdown",
   "metadata": {},
   "source": [
    "Unfortunatelly whole countries are missing from the data. We are not going to use them for now."
   ]
  },
  {
   "cell_type": "code",
   "execution_count": 60,
   "metadata": {},
   "outputs": [],
   "source": [
    "balkan_edu_df = balkan_edu_df[~balkan_edu_df['Country Code'].isin(['BIH','XKX','MKD','MNE'])]"
   ]
  },
  {
   "cell_type": "markdown",
   "metadata": {},
   "source": [
    "On the other hand there appears to be data only for two years - 2005 and 2010. Is that the case throughout the whole dataset though?"
   ]
  },
  {
   "cell_type": "code",
   "execution_count": 61,
   "metadata": {},
   "outputs": [
    {
     "ename": "ValueError",
     "evalue": "zero-size array to reduction operation minimum which has no identity",
     "output_type": "error",
     "traceback": [
      "\u001b[0;31m---------------------------------------------------------------------------\u001b[0m",
      "\u001b[0;31mValueError\u001b[0m                                Traceback (most recent call last)",
      "\u001b[0;32m<ipython-input-61-aafd421e5633>\u001b[0m in \u001b[0;36m<module>\u001b[0;34m()\u001b[0m\n\u001b[0;32m----> 1\u001b[0;31m \u001b[0mmsno\u001b[0m\u001b[0;34m.\u001b[0m\u001b[0mmatrix\u001b[0m\u001b[0;34m(\u001b[0m\u001b[0medu_df\u001b[0m\u001b[0;34m[\u001b[0m\u001b[0;34m(\u001b[0m\u001b[0medu_df\u001b[0m\u001b[0;34m[\u001b[0m\u001b[0;34m'Indicator Code'\u001b[0m\u001b[0;34m]\u001b[0m\u001b[0;34m.\u001b[0m\u001b[0misin\u001b[0m\u001b[0;34m(\u001b[0m\u001b[0mindicator_list_edu\u001b[0m\u001b[0;34m)\u001b[0m\u001b[0;34m)\u001b[0m\u001b[0;34m]\u001b[0m\u001b[0;34m)\u001b[0m\u001b[0;34m\u001b[0m\u001b[0m\n\u001b[0m",
      "\u001b[0;32m/usr/local/lib/python3.6/dist-packages/missingno/missingno.py\u001b[0m in \u001b[0;36mmatrix\u001b[0;34m(df, filter, n, p, sort, figsize, width_ratios, color, fontsize, labels, sparkline, inline, freq)\u001b[0m\n\u001b[1;32m     59\u001b[0m \u001b[0;34m\u001b[0m\u001b[0m\n\u001b[1;32m     60\u001b[0m     \u001b[0;31m# Create the nullity plot.\u001b[0m\u001b[0;34m\u001b[0m\u001b[0;34m\u001b[0m\u001b[0m\n\u001b[0;32m---> 61\u001b[0;31m     \u001b[0max0\u001b[0m\u001b[0;34m.\u001b[0m\u001b[0mimshow\u001b[0m\u001b[0;34m(\u001b[0m\u001b[0mg\u001b[0m\u001b[0;34m,\u001b[0m \u001b[0minterpolation\u001b[0m\u001b[0;34m=\u001b[0m\u001b[0;34m'none'\u001b[0m\u001b[0;34m)\u001b[0m\u001b[0;34m\u001b[0m\u001b[0m\n\u001b[0m\u001b[1;32m     62\u001b[0m \u001b[0;34m\u001b[0m\u001b[0m\n\u001b[1;32m     63\u001b[0m     \u001b[0;31m# Remove extraneous default visual elements.\u001b[0m\u001b[0;34m\u001b[0m\u001b[0;34m\u001b[0m\u001b[0m\n",
      "\u001b[0;32m/usr/local/lib/python3.6/dist-packages/matplotlib/__init__.py\u001b[0m in \u001b[0;36minner\u001b[0;34m(ax, *args, **kwargs)\u001b[0m\n\u001b[1;32m   1865\u001b[0m                         \u001b[0;34m\"the Matplotlib list!)\"\u001b[0m \u001b[0;34m%\u001b[0m \u001b[0;34m(\u001b[0m\u001b[0mlabel_namer\u001b[0m\u001b[0;34m,\u001b[0m \u001b[0mfunc\u001b[0m\u001b[0;34m.\u001b[0m\u001b[0m__name__\u001b[0m\u001b[0;34m)\u001b[0m\u001b[0;34m,\u001b[0m\u001b[0;34m\u001b[0m\u001b[0m\n\u001b[1;32m   1866\u001b[0m                         RuntimeWarning, stacklevel=2)\n\u001b[0;32m-> 1867\u001b[0;31m             \u001b[0;32mreturn\u001b[0m \u001b[0mfunc\u001b[0m\u001b[0;34m(\u001b[0m\u001b[0max\u001b[0m\u001b[0;34m,\u001b[0m \u001b[0;34m*\u001b[0m\u001b[0margs\u001b[0m\u001b[0;34m,\u001b[0m \u001b[0;34m**\u001b[0m\u001b[0mkwargs\u001b[0m\u001b[0;34m)\u001b[0m\u001b[0;34m\u001b[0m\u001b[0m\n\u001b[0m\u001b[1;32m   1868\u001b[0m \u001b[0;34m\u001b[0m\u001b[0m\n\u001b[1;32m   1869\u001b[0m         inner.__doc__ = _add_data_doc(inner.__doc__,\n",
      "\u001b[0;32m/usr/local/lib/python3.6/dist-packages/matplotlib/axes/_axes.py\u001b[0m in \u001b[0;36mimshow\u001b[0;34m(self, X, cmap, norm, aspect, interpolation, alpha, vmin, vmax, origin, extent, shape, filternorm, filterrad, imlim, resample, url, **kwargs)\u001b[0m\n\u001b[1;32m   5499\u001b[0m                               resample=resample, **kwargs)\n\u001b[1;32m   5500\u001b[0m \u001b[0;34m\u001b[0m\u001b[0m\n\u001b[0;32m-> 5501\u001b[0;31m         \u001b[0mim\u001b[0m\u001b[0;34m.\u001b[0m\u001b[0mset_data\u001b[0m\u001b[0;34m(\u001b[0m\u001b[0mX\u001b[0m\u001b[0;34m)\u001b[0m\u001b[0;34m\u001b[0m\u001b[0m\n\u001b[0m\u001b[1;32m   5502\u001b[0m         \u001b[0mim\u001b[0m\u001b[0;34m.\u001b[0m\u001b[0mset_alpha\u001b[0m\u001b[0;34m(\u001b[0m\u001b[0malpha\u001b[0m\u001b[0;34m)\u001b[0m\u001b[0;34m\u001b[0m\u001b[0m\n\u001b[1;32m   5503\u001b[0m         \u001b[0;32mif\u001b[0m \u001b[0mim\u001b[0m\u001b[0;34m.\u001b[0m\u001b[0mget_clip_path\u001b[0m\u001b[0;34m(\u001b[0m\u001b[0;34m)\u001b[0m \u001b[0;32mis\u001b[0m \u001b[0;32mNone\u001b[0m\u001b[0;34m:\u001b[0m\u001b[0;34m\u001b[0m\u001b[0m\n",
      "\u001b[0;32m/usr/local/lib/python3.6/dist-packages/matplotlib/image.py\u001b[0m in \u001b[0;36mset_data\u001b[0;34m(self, A)\u001b[0m\n\u001b[1;32m    660\u001b[0m             \u001b[0;31m# making reliable interpretation impossible.\u001b[0m\u001b[0;34m\u001b[0m\u001b[0;34m\u001b[0m\u001b[0m\n\u001b[1;32m    661\u001b[0m             \u001b[0mhigh\u001b[0m \u001b[0;34m=\u001b[0m \u001b[0;36m255\u001b[0m \u001b[0;32mif\u001b[0m \u001b[0mnp\u001b[0m\u001b[0;34m.\u001b[0m\u001b[0missubdtype\u001b[0m\u001b[0;34m(\u001b[0m\u001b[0mself\u001b[0m\u001b[0;34m.\u001b[0m\u001b[0m_A\u001b[0m\u001b[0;34m.\u001b[0m\u001b[0mdtype\u001b[0m\u001b[0;34m,\u001b[0m \u001b[0mnp\u001b[0m\u001b[0;34m.\u001b[0m\u001b[0minteger\u001b[0m\u001b[0;34m)\u001b[0m \u001b[0;32melse\u001b[0m \u001b[0;36m1\u001b[0m\u001b[0;34m\u001b[0m\u001b[0m\n\u001b[0;32m--> 662\u001b[0;31m             \u001b[0;32mif\u001b[0m \u001b[0mself\u001b[0m\u001b[0;34m.\u001b[0m\u001b[0m_A\u001b[0m\u001b[0;34m.\u001b[0m\u001b[0mmin\u001b[0m\u001b[0;34m(\u001b[0m\u001b[0;34m)\u001b[0m \u001b[0;34m<\u001b[0m \u001b[0;36m0\u001b[0m \u001b[0;32mor\u001b[0m \u001b[0mhigh\u001b[0m \u001b[0;34m<\u001b[0m \u001b[0mself\u001b[0m\u001b[0;34m.\u001b[0m\u001b[0m_A\u001b[0m\u001b[0;34m.\u001b[0m\u001b[0mmax\u001b[0m\u001b[0;34m(\u001b[0m\u001b[0;34m)\u001b[0m\u001b[0;34m:\u001b[0m\u001b[0;34m\u001b[0m\u001b[0m\n\u001b[0m\u001b[1;32m    663\u001b[0m                 _log.warning(\n\u001b[1;32m    664\u001b[0m                     \u001b[0;34m'Clipping input data to the valid range for imshow with '\u001b[0m\u001b[0;34m\u001b[0m\u001b[0m\n",
      "\u001b[0;32m/usr/local/lib/python3.6/dist-packages/numpy/ma/core.py\u001b[0m in \u001b[0;36mmin\u001b[0;34m(self, axis, out, fill_value, keepdims)\u001b[0m\n\u001b[1;32m   5586\u001b[0m         \u001b[0;32mif\u001b[0m \u001b[0mout\u001b[0m \u001b[0;32mis\u001b[0m \u001b[0;32mNone\u001b[0m\u001b[0;34m:\u001b[0m\u001b[0;34m\u001b[0m\u001b[0m\n\u001b[1;32m   5587\u001b[0m             result = self.filled(fill_value).min(\n\u001b[0;32m-> 5588\u001b[0;31m                 axis=axis, out=out, **kwargs).view(type(self))\n\u001b[0m\u001b[1;32m   5589\u001b[0m             \u001b[0;32mif\u001b[0m \u001b[0mresult\u001b[0m\u001b[0;34m.\u001b[0m\u001b[0mndim\u001b[0m\u001b[0;34m:\u001b[0m\u001b[0;34m\u001b[0m\u001b[0m\n\u001b[1;32m   5590\u001b[0m                 \u001b[0;31m# Set the mask\u001b[0m\u001b[0;34m\u001b[0m\u001b[0;34m\u001b[0m\u001b[0m\n",
      "\u001b[0;32m/usr/local/lib/python3.6/dist-packages/numpy/core/_methods.py\u001b[0m in \u001b[0;36m_amin\u001b[0;34m(a, axis, out, keepdims, initial)\u001b[0m\n\u001b[1;32m     30\u001b[0m def _amin(a, axis=None, out=None, keepdims=False,\n\u001b[1;32m     31\u001b[0m           initial=_NoValue):\n\u001b[0;32m---> 32\u001b[0;31m     \u001b[0;32mreturn\u001b[0m \u001b[0mumr_minimum\u001b[0m\u001b[0;34m(\u001b[0m\u001b[0ma\u001b[0m\u001b[0;34m,\u001b[0m \u001b[0maxis\u001b[0m\u001b[0;34m,\u001b[0m \u001b[0;32mNone\u001b[0m\u001b[0;34m,\u001b[0m \u001b[0mout\u001b[0m\u001b[0;34m,\u001b[0m \u001b[0mkeepdims\u001b[0m\u001b[0;34m,\u001b[0m \u001b[0minitial\u001b[0m\u001b[0;34m)\u001b[0m\u001b[0;34m\u001b[0m\u001b[0m\n\u001b[0m\u001b[1;32m     33\u001b[0m \u001b[0;34m\u001b[0m\u001b[0m\n\u001b[1;32m     34\u001b[0m def _sum(a, axis=None, dtype=None, out=None, keepdims=False,\n",
      "\u001b[0;31mValueError\u001b[0m: zero-size array to reduction operation minimum which has no identity"
     ]
    },
    {
     "data": {
      "image/png": "[encoded data removed]",
      "text/plain": [
       "<Figure size 1800x720 with 2 Axes>"
      ]
     },
     "metadata": {},
     "output_type": "display_data"
    }
   ],
   "source": [
    "msno.matrix(edu_df[(edu_df['Indicator Code'].isin(indicator_list_edu))])"
   ]
  },
  {
   "cell_type": "markdown",
   "metadata": {},
   "source": [
    "It seems that is the case though. Here we have two options:\n",
    "1. Choose a replacement indicators, that have more data. However there may not be enough data to make the search worthwhile. \n",
    "2. Interpolate the missing data. This however means that all variation of the data is lost and we simply assume a linear progression of the indicator. Also this linearity can be justified only for the period 2005 to 2010 - anything after that is along the lines of guesswork. That is why we would truncate the *Doing Business* dataset to the period 2005-2010."
   ]
  },
  {
   "cell_type": "code",
   "execution_count": null,
   "metadata": {},
   "outputs": [],
   "source": [
    "# Filter the db dataset\n",
    "db_columns_to_delete = np.concatenate((db_dataset.columns.values[4:6],db_dataset.columns.values[12:-1]))\n",
    "db_df = db_dataset.drop(db_columns_to_delete, axis=1)\n",
    "# filtering the countries\n",
    "balkan_db_df = db_df[db_df['Country Code'].isin(balkan_country_list)]\n",
    "balkan_db_df = balkan_db_df[~balkan_db_df['Country Code'].isin(['BIH','XKX','MKD','MNE'])]\n",
    "# filter the edu dataset & interpolating\n",
    "edu_columns_to_delete = np.concatenate((balkan_edu_df.columns.values[4:6],balkan_edu_df.columns.values[12:-1]))\n",
    "balkan_edu1_df = balkan_edu_df.drop(edu_columns_to_delete, axis=1)\n",
    "balkan_edu1_df[balkan_edu1_df.columns.values[4:-1]] = balkan_edu1_df[balkan_edu1_df.columns.values[4:-1]].interpolate(method='linear', axis=1)"
   ]
  },
  {
   "cell_type": "markdown",
   "metadata": {},
   "source": [
    "Finally we have data that we can work with, free of missing values."
   ]
  },
  {
   "cell_type": "markdown",
   "metadata": {},
   "source": [
    "## 3. Finding the correlations."
   ]
  },
  {
   "cell_type": "code",
   "execution_count": null,
   "metadata": {},
   "outputs": [],
   "source": [
    "# Generating a joint matrix\n",
    "balkan_df = pd.concat([balkan_edu1_df, balkan_db_df])"
   ]
  },
  {
   "cell_type": "markdown",
   "metadata": {},
   "source": [
    "#### 3.1. For the whole balkan area"
   ]
  },
  {
   "cell_type": "code",
   "execution_count": null,
   "metadata": {},
   "outputs": [],
   "source": [
    "jbalkan = balkan_df.groupby(['Indicator Code'])['2005', '2006','2007','2008','2009','2010'].mean().transpose().corr()"
   ]
  },
  {
   "cell_type": "code",
   "execution_count": null,
   "metadata": {},
   "outputs": [],
   "source": [
    "fig, ax = plt.subplots(figsize=(15,10))\n",
    "sns.heatmap(jbalkan, ax=ax)"
   ]
  },
  {
   "cell_type": "markdown",
   "metadata": {},
   "source": [
    "The goal was to show whether there is any correlation between the `Doing Business` and `Education` datasets. It can be clearly seen (upper right corner) there is clearly a positive correlation between indicators from the `Doing Business` dataset and the one from `Education`. Although work is never really done and I would have liked to explore each country individually, and maybe bring some reasoning to the whole plot I will do that at a later date."
   ]
  }
 ],
 "metadata": {
  "kernelspec": {
   "display_name": "Python 3",
   "language": "python",
   "name": "python3"
  },
  "language_info": {
   "codemirror_mode": {
    "name": "ipython",
    "version": 3
   },
   "file_extension": ".py",
   "mimetype": "text/x-python",
   "name": "python",
   "nbconvert_exporter": "python",
   "pygments_lexer": "ipython3",
   "version": "3.7.3"
  }
 },
 "nbformat": 4,
 "nbformat_minor": 2
}

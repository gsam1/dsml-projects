{
 "cells": [
  {
   "cell_type": "markdown",
   "metadata": {},
   "source": [
    "# Doing Business Indicators in the Balkans and availability of skilled workers\n",
    "Datasets provided by [World Bank](datacatalog.worldbank.org)\n",
    "\n",
    "## 1. Motivation\n",
    "Since I am from Bulgaria and was digging through the datacatalog in the World Bank, I was curious how does it look from the WB's perspective to not only do business in Bulgaria, but the whole Balkan area. Besides general business factors, one is access to a skilled workforce. "
   ]
  },
  {
   "cell_type": "markdown",
   "metadata": {},
   "source": [
    "### 1.1 Importing the libraries\n",
    "Importing the general libraries, used for the analysis. If other libraries are required, they shall be imported further down."
   ]
  },
  {
   "cell_type": "code",
   "execution_count": 1,
   "metadata": {},
   "outputs": [],
   "source": [
    "import numpy as np\n",
    "import pandas as pd\n",
    "import matplotlib.pyplot as plt\n",
    "import seaborn as sns"
   ]
  },
  {
   "cell_type": "markdown",
   "metadata": {},
   "source": [
    "### 1.2 Loading the Datasets"
   ]
  },
  {
   "cell_type": "code",
   "execution_count": 2,
   "metadata": {},
   "outputs": [],
   "source": [
    "db_data = pd.read_csv('./1_DC_Python_Data/DBData.csv')\n",
    "db_data = db_data.drop(db_data.columns.values[-1], axis=1) # remove last columns as it is empty\n",
    "edu_data = pd.read_csv('./1_DC_Python_Data/EdStatsData.csv')\n",
    "edu_data = edu_data.drop(edu_data.columns.values[-1], axis=1)# remove last columns as it is empty"
   ]
  },
  {
   "cell_type": "markdown",
   "metadata": {},
   "source": [
    "## 2. Data Cleanup\n",
    "This section is going to focus on cleaning the datasets, and by cleaning I mean:\n",
    "1. Making sure that for the chosen period the datasets have an equal number of samples - the process is to be explained here.\n",
    "2. Other irregularities, found in the datasets."
   ]
  },
  {
   "cell_type": "markdown",
   "metadata": {},
   "source": [
    "#### 2.1 Let get our bearings first"
   ]
  },
  {
   "cell_type": "code",
   "execution_count": 3,
   "metadata": {},
   "outputs": [
    {
     "data": {
      "text/html": [
       "<div>\n",
       "<style scoped>\n",
       "    .dataframe tbody tr th:only-of-type {\n",
       "        vertical-align: middle;\n",
       "    }\n",
       "\n",
       "    .dataframe tbody tr th {\n",
       "        vertical-align: top;\n",
       "    }\n",
       "\n",
       "    .dataframe thead th {\n",
       "        text-align: right;\n",
       "    }\n",
       "</style>\n",
       "<table border=\"1\" class=\"dataframe\">\n",
       "  <thead>\n",
       "    <tr style=\"text-align: right;\">\n",
       "      <th></th>\n",
       "      <th>Country Name</th>\n",
       "      <th>Country Code</th>\n",
       "      <th>Indicator Name</th>\n",
       "      <th>Indicator Code</th>\n",
       "      <th>2003</th>\n",
       "      <th>2004</th>\n",
       "      <th>2005</th>\n",
       "      <th>2006</th>\n",
       "      <th>2007</th>\n",
       "      <th>2008</th>\n",
       "      <th>2009</th>\n",
       "      <th>2010</th>\n",
       "      <th>2011</th>\n",
       "      <th>2012</th>\n",
       "      <th>2013</th>\n",
       "      <th>2014</th>\n",
       "      <th>2015</th>\n",
       "      <th>2016</th>\n",
       "      <th>2017</th>\n",
       "    </tr>\n",
       "  </thead>\n",
       "  <tbody>\n",
       "    <tr>\n",
       "      <th>0</th>\n",
       "      <td>Afghanistan</td>\n",
       "      <td>AFG</td>\n",
       "      <td>Building quality control index (0-15)</td>\n",
       "      <td>IC.DCP.BQCI</td>\n",
       "      <td>NaN</td>\n",
       "      <td>NaN</td>\n",
       "      <td>NaN</td>\n",
       "      <td>NaN</td>\n",
       "      <td>NaN</td>\n",
       "      <td>NaN</td>\n",
       "      <td>NaN</td>\n",
       "      <td>NaN</td>\n",
       "      <td>NaN</td>\n",
       "      <td>NaN</td>\n",
       "      <td>NaN</td>\n",
       "      <td>2.5</td>\n",
       "      <td>2.5</td>\n",
       "      <td>2.5</td>\n",
       "      <td>2.5</td>\n",
       "    </tr>\n",
       "    <tr>\n",
       "      <th>1</th>\n",
       "      <td>Afghanistan</td>\n",
       "      <td>AFG</td>\n",
       "      <td>Cost – Women (% of income per capita)</td>\n",
       "      <td>IC.REG.COST.PC.ZS.WOMEN</td>\n",
       "      <td>NaN</td>\n",
       "      <td>72.0</td>\n",
       "      <td>75.2</td>\n",
       "      <td>67.4</td>\n",
       "      <td>84.6</td>\n",
       "      <td>59.5</td>\n",
       "      <td>30.2</td>\n",
       "      <td>26.7</td>\n",
       "      <td>25.8</td>\n",
       "      <td>22.5</td>\n",
       "      <td>14.4</td>\n",
       "      <td>15.1</td>\n",
       "      <td>19.0</td>\n",
       "      <td>19.9</td>\n",
       "      <td>82.3</td>\n",
       "    </tr>\n",
       "    <tr>\n",
       "      <th>2</th>\n",
       "      <td>Afghanistan</td>\n",
       "      <td>AFG</td>\n",
       "      <td>Cost to build a warehouse (% of income per cap...</td>\n",
       "      <td>IC.DCP.COST</td>\n",
       "      <td>NaN</td>\n",
       "      <td>NaN</td>\n",
       "      <td>208.5</td>\n",
       "      <td>193.0</td>\n",
       "      <td>200.5</td>\n",
       "      <td>140.9</td>\n",
       "      <td>121.6</td>\n",
       "      <td>107.2</td>\n",
       "      <td>100.8</td>\n",
       "      <td>89.1</td>\n",
       "      <td>83.8</td>\n",
       "      <td>74.4</td>\n",
       "      <td>76.6</td>\n",
       "      <td>82.7</td>\n",
       "      <td>89.8</td>\n",
       "    </tr>\n",
       "    <tr>\n",
       "      <th>3</th>\n",
       "      <td>Afghanistan</td>\n",
       "      <td>AFG</td>\n",
       "      <td>Cost to enforce a contract (% of claim)</td>\n",
       "      <td>IC.EC.COST</td>\n",
       "      <td>NaN</td>\n",
       "      <td>29.0</td>\n",
       "      <td>29.0</td>\n",
       "      <td>29.0</td>\n",
       "      <td>29.0</td>\n",
       "      <td>29.0</td>\n",
       "      <td>29.0</td>\n",
       "      <td>29.0</td>\n",
       "      <td>29.0</td>\n",
       "      <td>29.0</td>\n",
       "      <td>29.0</td>\n",
       "      <td>29.0</td>\n",
       "      <td>29.0</td>\n",
       "      <td>29.0</td>\n",
       "      <td>29.0</td>\n",
       "    </tr>\n",
       "    <tr>\n",
       "      <th>4</th>\n",
       "      <td>Afghanistan</td>\n",
       "      <td>AFG</td>\n",
       "      <td>Cost to export: Documentary compliance (USD)</td>\n",
       "      <td>IC.EXP.COST.EXP.DOC</td>\n",
       "      <td>NaN</td>\n",
       "      <td>NaN</td>\n",
       "      <td>NaN</td>\n",
       "      <td>NaN</td>\n",
       "      <td>NaN</td>\n",
       "      <td>NaN</td>\n",
       "      <td>NaN</td>\n",
       "      <td>NaN</td>\n",
       "      <td>NaN</td>\n",
       "      <td>NaN</td>\n",
       "      <td>NaN</td>\n",
       "      <td>344.0</td>\n",
       "      <td>344.0</td>\n",
       "      <td>344.0</td>\n",
       "      <td>344.0</td>\n",
       "    </tr>\n",
       "  </tbody>\n",
       "</table>\n",
       "</div>"
      ],
      "text/plain": [
       "  Country Name Country Code  \\\n",
       "0  Afghanistan          AFG   \n",
       "1  Afghanistan          AFG   \n",
       "2  Afghanistan          AFG   \n",
       "3  Afghanistan          AFG   \n",
       "4  Afghanistan          AFG   \n",
       "\n",
       "                                      Indicator Name           Indicator Code  \\\n",
       "0              Building quality control index (0-15)              IC.DCP.BQCI   \n",
       "1              Cost – Women (% of income per capita)  IC.REG.COST.PC.ZS.WOMEN   \n",
       "2  Cost to build a warehouse (% of income per cap...              IC.DCP.COST   \n",
       "3            Cost to enforce a contract (% of claim)               IC.EC.COST   \n",
       "4       Cost to export: Documentary compliance (USD)      IC.EXP.COST.EXP.DOC   \n",
       "\n",
       "   2003  2004   2005   2006   2007   2008   2009   2010   2011  2012  2013  \\\n",
       "0   NaN   NaN    NaN    NaN    NaN    NaN    NaN    NaN    NaN   NaN   NaN   \n",
       "1   NaN  72.0   75.2   67.4   84.6   59.5   30.2   26.7   25.8  22.5  14.4   \n",
       "2   NaN   NaN  208.5  193.0  200.5  140.9  121.6  107.2  100.8  89.1  83.8   \n",
       "3   NaN  29.0   29.0   29.0   29.0   29.0   29.0   29.0   29.0  29.0  29.0   \n",
       "4   NaN   NaN    NaN    NaN    NaN    NaN    NaN    NaN    NaN   NaN   NaN   \n",
       "\n",
       "    2014   2015   2016   2017  \n",
       "0    2.5    2.5    2.5    2.5  \n",
       "1   15.1   19.0   19.9   82.3  \n",
       "2   74.4   76.6   82.7   89.8  \n",
       "3   29.0   29.0   29.0   29.0  \n",
       "4  344.0  344.0  344.0  344.0  "
      ]
     },
     "execution_count": 3,
     "metadata": {},
     "output_type": "execute_result"
    }
   ],
   "source": [
    "db_data.head()"
   ]
  },
  {
   "cell_type": "code",
   "execution_count": 4,
   "metadata": {},
   "outputs": [
    {
     "name": "stdout",
     "output_type": "stream",
     "text": [
      "<class 'pandas.core.frame.DataFrame'>\n",
      "RangeIndex: 15222 entries, 0 to 15221\n",
      "Data columns (total 19 columns):\n",
      "Country Name      15222 non-null object\n",
      "Country Code      15222 non-null object\n",
      "Indicator Name    15222 non-null object\n",
      "Indicator Code    15222 non-null object\n",
      "2003              1862 non-null float64\n",
      "2004              2741 non-null float64\n",
      "2005              5231 non-null float64\n",
      "2006              5348 non-null float64\n",
      "2007              5436 non-null float64\n",
      "2008              5466 non-null float64\n",
      "2009              6085 non-null float64\n",
      "2010              6087 non-null float64\n",
      "2011              6165 non-null float64\n",
      "2012              6262 non-null float64\n",
      "2013              8775 non-null float64\n",
      "2014              10871 non-null float64\n",
      "2015              11704 non-null float64\n",
      "2016              11704 non-null float64\n",
      "2017              11299 non-null float64\n",
      "dtypes: float64(15), object(4)\n",
      "memory usage: 2.2+ MB\n"
     ]
    },
    {
     "data": {
      "text/plain": [
       "(None, (15222, 19))"
      ]
     },
     "execution_count": 4,
     "metadata": {},
     "output_type": "execute_result"
    }
   ],
   "source": [
    "db_data.info(), db_data.shape"
   ]
  },
  {
   "cell_type": "markdown",
   "metadata": {},
   "source": [
    "So the *Doing Bussiness* dataset containes 19 columns in total. What I am interested in is the years the dataset covers - 2003 until 2017. We have to mirror that in the education dataset."
   ]
  },
  {
   "cell_type": "code",
   "execution_count": 5,
   "metadata": {},
   "outputs": [
    {
     "data": {
      "text/html": [
       "<div>\n",
       "<style scoped>\n",
       "    .dataframe tbody tr th:only-of-type {\n",
       "        vertical-align: middle;\n",
       "    }\n",
       "\n",
       "    .dataframe tbody tr th {\n",
       "        vertical-align: top;\n",
       "    }\n",
       "\n",
       "    .dataframe thead th {\n",
       "        text-align: right;\n",
       "    }\n",
       "</style>\n",
       "<table border=\"1\" class=\"dataframe\">\n",
       "  <thead>\n",
       "    <tr style=\"text-align: right;\">\n",
       "      <th></th>\n",
       "      <th>Country Name</th>\n",
       "      <th>Country Code</th>\n",
       "      <th>Indicator Name</th>\n",
       "      <th>Indicator Code</th>\n",
       "      <th>1970</th>\n",
       "      <th>1971</th>\n",
       "      <th>1972</th>\n",
       "      <th>1973</th>\n",
       "      <th>1974</th>\n",
       "      <th>1975</th>\n",
       "      <th>...</th>\n",
       "      <th>2055</th>\n",
       "      <th>2060</th>\n",
       "      <th>2065</th>\n",
       "      <th>2070</th>\n",
       "      <th>2075</th>\n",
       "      <th>2080</th>\n",
       "      <th>2085</th>\n",
       "      <th>2090</th>\n",
       "      <th>2095</th>\n",
       "      <th>2100</th>\n",
       "    </tr>\n",
       "  </thead>\n",
       "  <tbody>\n",
       "    <tr>\n",
       "      <th>0</th>\n",
       "      <td>Arab World</td>\n",
       "      <td>ARB</td>\n",
       "      <td>Adjusted net enrolment rate, lower secondary, ...</td>\n",
       "      <td>UIS.NERA.2</td>\n",
       "      <td>NaN</td>\n",
       "      <td>NaN</td>\n",
       "      <td>NaN</td>\n",
       "      <td>NaN</td>\n",
       "      <td>NaN</td>\n",
       "      <td>NaN</td>\n",
       "      <td>...</td>\n",
       "      <td>NaN</td>\n",
       "      <td>NaN</td>\n",
       "      <td>NaN</td>\n",
       "      <td>NaN</td>\n",
       "      <td>NaN</td>\n",
       "      <td>NaN</td>\n",
       "      <td>NaN</td>\n",
       "      <td>NaN</td>\n",
       "      <td>NaN</td>\n",
       "      <td>NaN</td>\n",
       "    </tr>\n",
       "    <tr>\n",
       "      <th>1</th>\n",
       "      <td>Arab World</td>\n",
       "      <td>ARB</td>\n",
       "      <td>Adjusted net enrolment rate, lower secondary, ...</td>\n",
       "      <td>UIS.NERA.2.F</td>\n",
       "      <td>NaN</td>\n",
       "      <td>NaN</td>\n",
       "      <td>NaN</td>\n",
       "      <td>NaN</td>\n",
       "      <td>NaN</td>\n",
       "      <td>NaN</td>\n",
       "      <td>...</td>\n",
       "      <td>NaN</td>\n",
       "      <td>NaN</td>\n",
       "      <td>NaN</td>\n",
       "      <td>NaN</td>\n",
       "      <td>NaN</td>\n",
       "      <td>NaN</td>\n",
       "      <td>NaN</td>\n",
       "      <td>NaN</td>\n",
       "      <td>NaN</td>\n",
       "      <td>NaN</td>\n",
       "    </tr>\n",
       "    <tr>\n",
       "      <th>2</th>\n",
       "      <td>Arab World</td>\n",
       "      <td>ARB</td>\n",
       "      <td>Adjusted net enrolment rate, lower secondary, ...</td>\n",
       "      <td>UIS.NERA.2.GPI</td>\n",
       "      <td>NaN</td>\n",
       "      <td>NaN</td>\n",
       "      <td>NaN</td>\n",
       "      <td>NaN</td>\n",
       "      <td>NaN</td>\n",
       "      <td>NaN</td>\n",
       "      <td>...</td>\n",
       "      <td>NaN</td>\n",
       "      <td>NaN</td>\n",
       "      <td>NaN</td>\n",
       "      <td>NaN</td>\n",
       "      <td>NaN</td>\n",
       "      <td>NaN</td>\n",
       "      <td>NaN</td>\n",
       "      <td>NaN</td>\n",
       "      <td>NaN</td>\n",
       "      <td>NaN</td>\n",
       "    </tr>\n",
       "    <tr>\n",
       "      <th>3</th>\n",
       "      <td>Arab World</td>\n",
       "      <td>ARB</td>\n",
       "      <td>Adjusted net enrolment rate, lower secondary, ...</td>\n",
       "      <td>UIS.NERA.2.M</td>\n",
       "      <td>NaN</td>\n",
       "      <td>NaN</td>\n",
       "      <td>NaN</td>\n",
       "      <td>NaN</td>\n",
       "      <td>NaN</td>\n",
       "      <td>NaN</td>\n",
       "      <td>...</td>\n",
       "      <td>NaN</td>\n",
       "      <td>NaN</td>\n",
       "      <td>NaN</td>\n",
       "      <td>NaN</td>\n",
       "      <td>NaN</td>\n",
       "      <td>NaN</td>\n",
       "      <td>NaN</td>\n",
       "      <td>NaN</td>\n",
       "      <td>NaN</td>\n",
       "      <td>NaN</td>\n",
       "    </tr>\n",
       "    <tr>\n",
       "      <th>4</th>\n",
       "      <td>Arab World</td>\n",
       "      <td>ARB</td>\n",
       "      <td>Adjusted net enrolment rate, primary, both sex...</td>\n",
       "      <td>SE.PRM.TENR</td>\n",
       "      <td>54.822121</td>\n",
       "      <td>54.894138</td>\n",
       "      <td>56.209438</td>\n",
       "      <td>57.267109</td>\n",
       "      <td>57.991138</td>\n",
       "      <td>59.36554</td>\n",
       "      <td>...</td>\n",
       "      <td>NaN</td>\n",
       "      <td>NaN</td>\n",
       "      <td>NaN</td>\n",
       "      <td>NaN</td>\n",
       "      <td>NaN</td>\n",
       "      <td>NaN</td>\n",
       "      <td>NaN</td>\n",
       "      <td>NaN</td>\n",
       "      <td>NaN</td>\n",
       "      <td>NaN</td>\n",
       "    </tr>\n",
       "  </tbody>\n",
       "</table>\n",
       "<p>5 rows × 69 columns</p>\n",
       "</div>"
      ],
      "text/plain": [
       "  Country Name Country Code  \\\n",
       "0   Arab World          ARB   \n",
       "1   Arab World          ARB   \n",
       "2   Arab World          ARB   \n",
       "3   Arab World          ARB   \n",
       "4   Arab World          ARB   \n",
       "\n",
       "                                      Indicator Name  Indicator Code  \\\n",
       "0  Adjusted net enrolment rate, lower secondary, ...      UIS.NERA.2   \n",
       "1  Adjusted net enrolment rate, lower secondary, ...    UIS.NERA.2.F   \n",
       "2  Adjusted net enrolment rate, lower secondary, ...  UIS.NERA.2.GPI   \n",
       "3  Adjusted net enrolment rate, lower secondary, ...    UIS.NERA.2.M   \n",
       "4  Adjusted net enrolment rate, primary, both sex...     SE.PRM.TENR   \n",
       "\n",
       "        1970       1971       1972       1973       1974      1975  ...   \\\n",
       "0        NaN        NaN        NaN        NaN        NaN       NaN  ...    \n",
       "1        NaN        NaN        NaN        NaN        NaN       NaN  ...    \n",
       "2        NaN        NaN        NaN        NaN        NaN       NaN  ...    \n",
       "3        NaN        NaN        NaN        NaN        NaN       NaN  ...    \n",
       "4  54.822121  54.894138  56.209438  57.267109  57.991138  59.36554  ...    \n",
       "\n",
       "   2055  2060  2065  2070  2075  2080  2085  2090  2095  2100  \n",
       "0   NaN   NaN   NaN   NaN   NaN   NaN   NaN   NaN   NaN   NaN  \n",
       "1   NaN   NaN   NaN   NaN   NaN   NaN   NaN   NaN   NaN   NaN  \n",
       "2   NaN   NaN   NaN   NaN   NaN   NaN   NaN   NaN   NaN   NaN  \n",
       "3   NaN   NaN   NaN   NaN   NaN   NaN   NaN   NaN   NaN   NaN  \n",
       "4   NaN   NaN   NaN   NaN   NaN   NaN   NaN   NaN   NaN   NaN  \n",
       "\n",
       "[5 rows x 69 columns]"
      ]
     },
     "execution_count": 5,
     "metadata": {},
     "output_type": "execute_result"
    }
   ],
   "source": [
    "edu_data.head()"
   ]
  },
  {
   "cell_type": "code",
   "execution_count": 6,
   "metadata": {},
   "outputs": [
    {
     "name": "stdout",
     "output_type": "stream",
     "text": [
      "<class 'pandas.core.frame.DataFrame'>\n",
      "RangeIndex: 886930 entries, 0 to 886929\n",
      "Data columns (total 69 columns):\n",
      "Country Name      886930 non-null object\n",
      "Country Code      886930 non-null object\n",
      "Indicator Name    886930 non-null object\n",
      "Indicator Code    886930 non-null object\n",
      "1970              72288 non-null float64\n",
      "1971              35537 non-null float64\n",
      "1972              35619 non-null float64\n",
      "1973              35545 non-null float64\n",
      "1974              35730 non-null float64\n",
      "1975              87306 non-null float64\n",
      "1976              37483 non-null float64\n",
      "1977              37574 non-null float64\n",
      "1978              37576 non-null float64\n",
      "1979              36809 non-null float64\n",
      "1980              89122 non-null float64\n",
      "1981              38777 non-null float64\n",
      "1982              37511 non-null float64\n",
      "1983              38460 non-null float64\n",
      "1984              38606 non-null float64\n",
      "1985              90296 non-null float64\n",
      "1986              39372 non-null float64\n",
      "1987              38641 non-null float64\n",
      "1988              38552 non-null float64\n",
      "1989              37540 non-null float64\n",
      "1990              124405 non-null float64\n",
      "1991              74437 non-null float64\n",
      "1992              75543 non-null float64\n",
      "1993              75793 non-null float64\n",
      "1994              77462 non-null float64\n",
      "1995              131361 non-null float64\n",
      "1996              76807 non-null float64\n",
      "1997              73453 non-null float64\n",
      "1998              84914 non-null float64\n",
      "1999              118839 non-null float64\n",
      "2000              176676 non-null float64\n",
      "2001              123509 non-null float64\n",
      "2002              124205 non-null float64\n",
      "2003              130363 non-null float64\n",
      "2004              128814 non-null float64\n",
      "2005              184108 non-null float64\n",
      "2006              140312 non-null float64\n",
      "2007              137272 non-null float64\n",
      "2008              134387 non-null float64\n",
      "2009              142108 non-null float64\n",
      "2010              242442 non-null float64\n",
      "2011              146012 non-null float64\n",
      "2012              147264 non-null float64\n",
      "2013              137509 non-null float64\n",
      "2014              113789 non-null float64\n",
      "2015              131058 non-null float64\n",
      "2016              16460 non-null float64\n",
      "2017              143 non-null float64\n",
      "2020              51436 non-null float64\n",
      "2025              51436 non-null float64\n",
      "2030              51436 non-null float64\n",
      "2035              51436 non-null float64\n",
      "2040              51436 non-null float64\n",
      "2045              51436 non-null float64\n",
      "2050              51436 non-null float64\n",
      "2055              51436 non-null float64\n",
      "2060              51436 non-null float64\n",
      "2065              51436 non-null float64\n",
      "2070              51436 non-null float64\n",
      "2075              51436 non-null float64\n",
      "2080              51436 non-null float64\n",
      "2085              51436 non-null float64\n",
      "2090              51436 non-null float64\n",
      "2095              51436 non-null float64\n",
      "2100              51436 non-null float64\n",
      "dtypes: float64(65), object(4)\n",
      "memory usage: 466.9+ MB\n"
     ]
    },
    {
     "data": {
      "text/plain": [
       "(None, (886930, 69))"
      ]
     },
     "execution_count": 6,
     "metadata": {},
     "output_type": "execute_result"
    }
   ],
   "source": [
    "edu_data.info(), edu_data.shape"
   ]
  },
  {
   "cell_type": "markdown",
   "metadata": {},
   "source": [
    "Wow, so the education data is going until 2100 and contains 69 columns in total. So lets create a new dataset *Education*  to the same time frame - 2003 until 2017."
   ]
  },
  {
   "cell_type": "code",
   "execution_count": 7,
   "metadata": {},
   "outputs": [],
   "source": [
    "edu_df = edu_data.copy() # copy the dataset\n",
    "columns_to_delete = np.concatenate((edu_df.columns.values[4:37], edu_df.columns.values[52:]))\n",
    "edu_df = edu_df.drop(columns_to_delete, axis=1)"
   ]
  },
  {
   "cell_type": "markdown",
   "metadata": {},
   "source": [
    "Two interesting question that come to mind are:\n",
    "1. *Do different indicators start at the same year?*\n",
    "    A way to do that is just count the missing values by columns for each indicator and see if they match to the number of contries \n",
    "2. *Are all the indicators recorded for all the countries?*\n",
    "    Here I would check whether the number of indicators for each country is consistent."
   ]
  },
  {
   "cell_type": "code",
   "execution_count": 8,
   "metadata": {},
   "outputs": [],
   "source": [
    "# 1\n",
    "def get_indicator_start_year(df):\n",
    "    '''\n",
    "    Takes as input a dataframe, extracts the indicators and countries and returns a new dataframe,\n",
    "    which maps each indicator to a start year.\n",
    "    '''\n",
    "    indicators = df['Indicator Code'].unique()\n",
    "    num_indicators = np.count_nonzero(indicators)\n",
    "    countries = db_data['Country Code'].unique()\n",
    "    num_countries = np.count_nonzero(countries)\n",
    "    \n",
    "    # initiate the new dataframe\n",
    "    new_df = pd.DataFrame(data={'Indicator': indicators, 'Start_Year': np.zeros(num_indicators)})\n",
    "    \n",
    "    # Get the Start Year\n",
    "    # not the most elegant way...\n",
    "    for indicator in indicators:\n",
    "        start_year = 0\n",
    "        indicator_series = df[df['Indicator Code'] == indicator].count()\n",
    "        for year in range(2003, 2018):\n",
    "            if indicator_series[str(year)] != 0:\n",
    "                new_df.loc[new_df['Indicator'] == indicator, 'Start_Year'] = int(year)\n",
    "                break\n",
    "    \n",
    "    return new_df"
   ]
  },
  {
   "cell_type": "code",
   "execution_count": 9,
   "metadata": {},
   "outputs": [],
   "source": [
    "indicator_db_year_df = get_indicator_start_year(db_data)"
   ]
  },
  {
   "cell_type": "code",
   "execution_count": 10,
   "metadata": {},
   "outputs": [],
   "source": [
    "indicator_edu_year_df = get_indicator_start_year(edu_df) # slow poke..."
   ]
  },
  {
   "cell_type": "markdown",
   "metadata": {},
   "source": [
    "Good. Now we have for both datasets which indicator starts when. However a question comes to mind - are all the indicators used? We could simply find out if the start year remained at 0."
   ]
  },
  {
   "cell_type": "code",
   "execution_count": 11,
   "metadata": {},
   "outputs": [
    {
     "data": {
      "text/plain": [
       "(3, 12)"
      ]
     },
     "execution_count": 11,
     "metadata": {},
     "output_type": "execute_result"
    }
   ],
   "source": [
    "indicator_db_year_df[indicator_db_year_df['Start_Year'] == 0]['Indicator'].count(), indicator_edu_year_df[indicator_edu_year_df['Start_Year'] == 0]['Indicator'].count()"
   ]
  },
  {
   "cell_type": "markdown",
   "metadata": {},
   "source": [
    "So now we know that 3 indicators from the *Doing Business* Dataset and 12 indicators from the *Education* dataset have no data in them at all. On the other hand question *1* we can safely answer with just looking at the desription."
   ]
  },
  {
   "cell_type": "code",
   "execution_count": 12,
   "metadata": {},
   "outputs": [
    {
     "data": {
      "text/html": [
       "<div>\n",
       "<style scoped>\n",
       "    .dataframe tbody tr th:only-of-type {\n",
       "        vertical-align: middle;\n",
       "    }\n",
       "\n",
       "    .dataframe tbody tr th {\n",
       "        vertical-align: top;\n",
       "    }\n",
       "\n",
       "    .dataframe thead th {\n",
       "        text-align: right;\n",
       "    }\n",
       "</style>\n",
       "<table border=\"1\" class=\"dataframe\">\n",
       "  <thead>\n",
       "    <tr style=\"text-align: right;\">\n",
       "      <th></th>\n",
       "      <th>Start_Year</th>\n",
       "    </tr>\n",
       "  </thead>\n",
       "  <tbody>\n",
       "    <tr>\n",
       "      <th>count</th>\n",
       "      <td>59.000000</td>\n",
       "    </tr>\n",
       "    <tr>\n",
       "      <th>mean</th>\n",
       "      <td>1906.288136</td>\n",
       "    </tr>\n",
       "    <tr>\n",
       "      <th>std</th>\n",
       "      <td>445.032585</td>\n",
       "    </tr>\n",
       "    <tr>\n",
       "      <th>min</th>\n",
       "      <td>0.000000</td>\n",
       "    </tr>\n",
       "    <tr>\n",
       "      <th>25%</th>\n",
       "      <td>2003.000000</td>\n",
       "    </tr>\n",
       "    <tr>\n",
       "      <th>50%</th>\n",
       "      <td>2005.000000</td>\n",
       "    </tr>\n",
       "    <tr>\n",
       "      <th>75%</th>\n",
       "      <td>2013.000000</td>\n",
       "    </tr>\n",
       "    <tr>\n",
       "      <th>max</th>\n",
       "      <td>2015.000000</td>\n",
       "    </tr>\n",
       "  </tbody>\n",
       "</table>\n",
       "</div>"
      ],
      "text/plain": [
       "        Start_Year\n",
       "count    59.000000\n",
       "mean   1906.288136\n",
       "std     445.032585\n",
       "min       0.000000\n",
       "25%    2003.000000\n",
       "50%    2005.000000\n",
       "75%    2013.000000\n",
       "max    2015.000000"
      ]
     },
     "execution_count": 12,
     "metadata": {},
     "output_type": "execute_result"
    }
   ],
   "source": [
    "indicator_db_year_df.describe()"
   ]
  },
  {
   "cell_type": "code",
   "execution_count": 13,
   "metadata": {},
   "outputs": [
    {
     "data": {
      "text/html": [
       "<div>\n",
       "<style scoped>\n",
       "    .dataframe tbody tr th:only-of-type {\n",
       "        vertical-align: middle;\n",
       "    }\n",
       "\n",
       "    .dataframe tbody tr th {\n",
       "        vertical-align: top;\n",
       "    }\n",
       "\n",
       "    .dataframe thead th {\n",
       "        text-align: right;\n",
       "    }\n",
       "</style>\n",
       "<table border=\"1\" class=\"dataframe\">\n",
       "  <thead>\n",
       "    <tr style=\"text-align: right;\">\n",
       "      <th></th>\n",
       "      <th>Start_Year</th>\n",
       "    </tr>\n",
       "  </thead>\n",
       "  <tbody>\n",
       "    <tr>\n",
       "      <th>count</th>\n",
       "      <td>3665.000000</td>\n",
       "    </tr>\n",
       "    <tr>\n",
       "      <th>mean</th>\n",
       "      <td>1999.740518</td>\n",
       "    </tr>\n",
       "    <tr>\n",
       "      <th>std</th>\n",
       "      <td>114.695865</td>\n",
       "    </tr>\n",
       "    <tr>\n",
       "      <th>min</th>\n",
       "      <td>0.000000</td>\n",
       "    </tr>\n",
       "    <tr>\n",
       "      <th>25%</th>\n",
       "      <td>2003.000000</td>\n",
       "    </tr>\n",
       "    <tr>\n",
       "      <th>50%</th>\n",
       "      <td>2005.000000</td>\n",
       "    </tr>\n",
       "    <tr>\n",
       "      <th>75%</th>\n",
       "      <td>2010.000000</td>\n",
       "    </tr>\n",
       "    <tr>\n",
       "      <th>max</th>\n",
       "      <td>2017.000000</td>\n",
       "    </tr>\n",
       "  </tbody>\n",
       "</table>\n",
       "</div>"
      ],
      "text/plain": [
       "        Start_Year\n",
       "count  3665.000000\n",
       "mean   1999.740518\n",
       "std     114.695865\n",
       "min       0.000000\n",
       "25%    2003.000000\n",
       "50%    2005.000000\n",
       "75%    2010.000000\n",
       "max    2017.000000"
      ]
     },
     "execution_count": 13,
     "metadata": {},
     "output_type": "execute_result"
    }
   ],
   "source": [
    "indicator_edu_year_df.describe()"
   ]
  },
  {
   "cell_type": "markdown",
   "metadata": {},
   "source": [
    "Let's drop the rows that we don't need."
   ]
  },
  {
   "cell_type": "code",
   "execution_count": 14,
   "metadata": {},
   "outputs": [],
   "source": [
    "nill_indicator_db = list(indicator_db_year_df[indicator_db_year_df['Start_Year'] == 0]['Indicator'])\n",
    "nill_indicator_edu = list(indicator_edu_year_df[indicator_edu_year_df['Start_Year'] == 0]['Indicator'])"
   ]
  },
  {
   "cell_type": "code",
   "execution_count": 15,
   "metadata": {},
   "outputs": [],
   "source": [
    "db_df = db_data.copy()"
   ]
  },
  {
   "cell_type": "code",
   "execution_count": 16,
   "metadata": {},
   "outputs": [],
   "source": [
    "def remove_empty_indicators(df, indicators):\n",
    "    '''\n",
    "    Takes in a dataframe and a list of indicators and removes them.\n",
    "    '''\n",
    "    for indicator in indicators:\n",
    "        df = df.drop(df[df['Indicator Code'] == indicator].index)\n",
    "        \n",
    "    return df"
   ]
  },
  {
   "cell_type": "code",
   "execution_count": 17,
   "metadata": {},
   "outputs": [],
   "source": [
    "db_df = remove_empty_indicators(db_df, nill_indicator_db)\n",
    "edu_df = remove_empty_indicators(edu_df, nill_indicator_edu)"
   ]
  },
  {
   "cell_type": "markdown",
   "metadata": {},
   "source": [
    "So what about *2.Are all the indicators recorded for all the countries?*"
   ]
  },
  {
   "cell_type": "code",
   "execution_count": 18,
   "metadata": {},
   "outputs": [],
   "source": [
    "# 2\n",
    "def get_indicator_number_of_countries(df):\n",
    "    '''\n",
    "    Takes as input a dataframe and returns the list of indicators,\n",
    "    that have less than 'num_countries'\n",
    "    '''\n",
    "    indicators = list(df['Indicator Code'].unique())\n",
    "    num_countries = np.count_nonzero(df['Country Code'].unique())\n",
    "    less_country_indicators = []\n",
    "    \n",
    "    for indicator in indicators:\n",
    "        indicator_countries = df[df['Indicator Code'] == indicator].count()['Country Code']\n",
    "        \n",
    "        if indicator_countries != num_countries:\n",
    "            less_country_indicators.append(indicator)\n",
    "            \n",
    "    \n",
    "    return less_country_indicators\n",
    "        "
   ]
  },
  {
   "cell_type": "code",
   "execution_count": 19,
   "metadata": {},
   "outputs": [],
   "source": [
    "faulty_indicators_db = get_indicator_number_of_countries(db_df)\n",
    "faulty_indicators_edu = get_indicator_number_of_countries(edu_df)"
   ]
  },
  {
   "cell_type": "code",
   "execution_count": 20,
   "metadata": {},
   "outputs": [
    {
     "data": {
      "text/plain": [
       "([], [])"
      ]
     },
     "execution_count": 20,
     "metadata": {},
     "output_type": "execute_result"
    }
   ],
   "source": [
    "faulty_indicators_db, faulty_indicators_edu"
   ]
  },
  {
   "cell_type": "markdown",
   "metadata": {},
   "source": [
    "Displaying the arrays shows us that they are both empty, which means that all countries have all indicators."
   ]
  },
  {
   "cell_type": "markdown",
   "metadata": {},
   "source": [
    "#### 2.2 Handling the missing values\n",
    "As it can be seen from the samples from the datasets there is a lot of missing data. My first intuituion was to look at what are the global trends and/or seasonality. However since the data is aggregated for each country for each year the seasonality doesn't make much sense. Of course there might be 5-year or decade cycles, but that doesn't help with series that are completely missing. That's why my idea is based on similarity - infer the missing data from countries that are similar. \n",
    "\n",
    "How do we find the missing data for each indicator and each country?\n",
    "1. Linear Regression for each country and each indicator.\n",
    "2. Clustering Algorithm\n",
    "\n",
    "##### **1. Linear Regression on each country for each indicator.**\n",
    "Simple as that - run *linreg* for each row individualy. Now for the *Doing Business* dataset this might be fine, but for the education dataset that won't be feasible as it will take a lot of computational time.\n",
    "I might do it for the sake of it anyway.\n",
    "\n",
    "##### **2. A Clustering Algorithm. **\n",
    "The most important part is looking for a clustering algorithm, that can group the countries and later on we can infer the missing values. Of course some discrepencies can be expected.\n",
    "So what options do we have:\n",
    "\n",
    "1. Geo clustering - Cluster countries based on the relative distances between countries - this could be feasible, as it will go straight to the initial problem I have defined for myself. Also I could just infer the data from the neighbors. A question that comes to mind is what happens when all of the countries in the predefined region have empty values? Do I truncate the whole series to start from the earliest date? Also that might not be feasible as one would imagine - two neighboring countries may have different situations (i.e. North and South Koreas). In addition how do I define distances? Is it capital-to-capital distances or based on the numbers of neighboring countries\n",
    "\n",
    "2. K-Means - Not really suitable for time-series, but let's say we take the calculate the mean for each country and represent it countries vs mean indicators. Then we will have a *n_countries* vs *m_mean_indicators*. From then on either we choose the indicators are most representative of a country, or we apply some sort of a dimensionality reduction (PCA? t-SNE?). Then perform K-means on that.\n",
    "\n",
    "3. Dynamic Time Warping clustering of some sort?\n",
    "\n",
    "** Further work: **\n",
    "Show the corelation between each indicator for a country that has the full set of data - correlogram."
   ]
  },
  {
   "cell_type": "markdown",
   "metadata": {},
   "source": [
    "#### 2.2.1 Creating the country vs mean indicator matrix."
   ]
  },
  {
   "cell_type": "code",
   "execution_count": 38,
   "metadata": {},
   "outputs": [],
   "source": [
    "def country_indicator_mat(df):\n",
    "    '''\n",
    "    Takes as input a pandas dataframe and returns a dataframe that has country codes for indices, while columns are indicators.\n",
    "    '''\n",
    "    df_new = df.copy() # copy just to be sure\n",
    "    df_new['ind_mean'] = df_new.iloc[:,4:].mean(axis=1)\n",
    "    return df_new.pivot(index='Country Code', columns='Indicator Code', values='ind_mean')"
   ]
  },
  {
   "cell_type": "code",
   "execution_count": 39,
   "metadata": {},
   "outputs": [],
   "source": [
    "db_ind_mat = country_indicator_mat(db_df)\n",
    "edu_ind_mat = country_indicator_mat(edu_df)"
   ]
  },
  {
   "cell_type": "markdown",
   "metadata": {},
   "source": [
    "Good. Not let's clean some more. \n",
    "\n",
    "Unfortunatelly I suspect that some countries are lacking data at all. That means that the 'mean_indicator' value will still be N/A. \n",
    "A method for cleaning the data would be to get the shape of the df and remove the countries for which all indicators are empty."
   ]
  },
  {
   "cell_type": "code",
   "execution_count": 59,
   "metadata": {},
   "outputs": [],
   "source": [
    "def remove_null_countries(df):\n",
    "    '''\n",
    "    Takes as an input a dataframe, removes the countries and indicators that are empty throughout and returns the 'clean' dataframe.\n",
    "    '''\n",
    "    cnts, ind = df.shape\n",
    "    \n",
    "    is_nulls = df.isnull().sum(axis=1)\n",
    "    \n",
    "    \n",
    "    "
   ]
  }
 ],
 "metadata": {
  "kernelspec": {
   "display_name": "Python 3",
   "language": "python",
   "name": "python3"
  },
  "language_info": {
   "codemirror_mode": {
    "name": "ipython",
    "version": 3
   },
   "file_extension": ".py",
   "mimetype": "text/x-python",
   "name": "python",
   "nbconvert_exporter": "python",
   "pygments_lexer": "ipython3",
   "version": "3.6.5"
  }
 },
 "nbformat": 4,
 "nbformat_minor": 2
}

{
 "cells": [
  {
   "cell_type": "markdown",
   "metadata": {},
   "source": [
    "# Differences between Rotten Tomatoes' Tomatometer and Audience score - filtered by genre.\n",
    "Does the difference between critic score and audience score vary by genre. The project's idea is to mine the famous [Rotten Tomatoes](https://www.rottentomatoes.com) for the scores of movies and then look-up the genres in imdb.\n",
    "\n",
    "Once I got the data I will store it in a MySQL database and query from there."
   ]
  },
  {
   "cell_type": "code",
   "execution_count": 14,
   "metadata": {},
   "outputs": [],
   "source": [
    "from bs4 import BeautifulSoup\n",
    "from urllib.request import urlopen\n",
    "from urllib.parse import urlencode\n",
    "from selenium import webdriver\n",
    "from selenium.webdriver.chrome.options import Options\n",
    "from sqlalchemy import *\n",
    "import json\n",
    "import requests"
   ]
  },
  {
   "cell_type": "code",
   "execution_count": 2,
   "metadata": {},
   "outputs": [],
   "source": [
    "# Defining the options for our browser\n",
    "chrome_options = Options()\n",
    "chrome_options.add_argument(\"--headless\") # to not display the page\n",
    "\n",
    "# Defining the drivers and the URL\n",
    "driver = webdriver.Chrome(chrome_options=chrome_options)\n",
    "driver.get('https://www.rottentomatoes.com/browse/dvd-streaming-all/')\n",
    "soup = BeautifulSoup(driver.page_source, 'html.parser')"
   ]
  },
  {
   "cell_type": "code",
   "execution_count": 3,
   "metadata": {},
   "outputs": [],
   "source": [
    "# Loading the Connection String + database\n",
    "DB_CON = json.loads(open('dbcon.json').read())['db']\n",
    "OMBDB_KEY = json.loads(open('apikey.json').read())['key']"
   ]
  },
  {
   "cell_type": "markdown",
   "metadata": {},
   "source": [
    "## Scraping Rotten Tomatoes"
   ]
  },
  {
   "cell_type": "code",
   "execution_count": 4,
   "metadata": {},
   "outputs": [],
   "source": [
    "# Scraping Functions\n",
    "def get_movie_count(webdriver):\n",
    "    html = BeautifulSoup(webdriver.page_source, 'html.parser')\n",
    "    init_movie_count = html.find(attrs={\"id\": \"count-link\"}).findAll('span')[2].text.split()[1]\n",
    "    movie_count = html.find(attrs={\"id\": \"count-link\"}).findAll('span')[2].text.split()[-1]\n",
    "    \n",
    "    return int(init_movie_count), int(movie_count)\n",
    "\n",
    "def click_on_show_more(webdriver):\n",
    "    webdriver.find_element_by_css_selector('.mb-load-btn').click()\n",
    "    # no returns\n",
    "\n",
    "def scrape_all_movies(webdriver):\n",
    "    '''\n",
    "    The function takes the webdriver and return the whole page source for further work.\n",
    "    '''\n",
    "    init_count, total_count = get_movie_count(webdriver)\n",
    "    \n",
    "    while init_count < total_count:\n",
    "        click_on_show_more(webdriver)\n",
    "        init_count, total_count = get_movie_count(webdriver)\n",
    "    \n",
    "    return webdriver.page_source"
   ]
  },
  {
   "cell_type": "code",
   "execution_count": 5,
   "metadata": {},
   "outputs": [],
   "source": [
    "# Scraping the actual page - can take a lot of time... get a coffee.\n",
    "html = scrape_all_movies(driver)"
   ]
  },
  {
   "cell_type": "code",
   "execution_count": 6,
   "metadata": {},
   "outputs": [],
   "source": [
    "def get_all_movies(html):\n",
    "    soup_page = BeautifulSoup(html, 'html.parser')\n",
    "    movie_infos = soup_page.find_all(attrs={'class':'movie_info'})\n",
    "    \n",
    "    movies = []\n",
    "    for info in movie_infos:\n",
    "        if len(info.find_all(attrs={'class':'tMeterScore'})) == 2:\n",
    "            # filter the released movies that have both - the viewer and the critic scores\n",
    "            movie = { 'title': info.find(attrs={'class':'movieTitle'}).text,\n",
    "                      'critic_score':int(info.find_all(attrs={'class':'tMeterScore'})[0].text.strip('%')),\n",
    "                      'viewer_score':int(info.find_all(attrs={'class':'tMeterScore'})[1].text.strip('%'))\n",
    "                    }\n",
    "            movies.append(movie)\n",
    "            \n",
    "    return movies"
   ]
  },
  {
   "cell_type": "code",
   "execution_count": 7,
   "metadata": {},
   "outputs": [],
   "source": [
    "rt_movies = get_all_movies(html)"
   ]
  },
  {
   "cell_type": "markdown",
   "metadata": {},
   "source": [
    "## Scraping IMDB\n",
    "Here I cheated a bit. Instead of scraping IMDB, I opted out for using the excellent unofficial IMDB database [omdbapi.com](http://www.omdbapi.com) and used the provided API to check the genre of each movie scraped from Rotten Tomatoes."
   ]
  },
  {
   "cell_type": "code",
   "execution_count": 11,
   "metadata": {},
   "outputs": [
    {
     "data": {
      "text/plain": [
       "'A Kid Like Jake'"
      ]
     },
     "execution_count": 11,
     "metadata": {},
     "output_type": "execute_result"
    }
   ],
   "source": [
    "rt_movies[5]['title']"
   ]
  },
  {
   "cell_type": "code",
   "execution_count": 74,
   "metadata": {},
   "outputs": [],
   "source": [
    "# Functions for getting the movies\n",
    "def get_movie(title):\n",
    "    title_url = urlencode({'t':title})\n",
    "    url = 'http://www.omdbapi.com/?apikey=' + OMBDB_KEY + '&' + title_url\n",
    "    r = requests.get(url)\n",
    "    if r.status_code == 200:\n",
    "        return r.json()\n",
    "    else:\n",
    "        return {\n",
    "            'Title':title,\n",
    "            'Genre':'N\\A',\n",
    "            'imdbRating':'N\\A',\n",
    "            'Response':'True'\n",
    "        }\n",
    "\n",
    "def try_convert_score(value):\n",
    "    try:\n",
    "        val = float(value)\n",
    "    except ValueError:\n",
    "        val = 'N/A'\n",
    "    \n",
    "    return val\n",
    "\n",
    "def get_imdb_movies(movies):\n",
    "    imdb_movies = []\n",
    "    for movie in movies:\n",
    "        imdb_res = get_movie(movie['title'])\n",
    "        if imdb_res['Response'] == 'True':\n",
    "            imdb_movie = {\n",
    "                'title': imdb_res['Title'],\n",
    "                'genre': imdb_res['Genre'],\n",
    "                'imdbRating': try_convert_score(imdb_res['imdbRating'])\n",
    "            }\n",
    "            imdb_movies.append(imdb_movie)\n",
    "        \n",
    "    return imdb_movies"
   ]
  },
  {
   "cell_type": "code",
   "execution_count": null,
   "metadata": {},
   "outputs": [],
   "source": [
    "imdb_movies = get_imdb_movies(rt_movies)"
   ]
  },
  {
   "cell_type": "markdown",
   "metadata": {},
   "source": [
    "## Uploading to MySQL Database"
   ]
  },
  {
   "cell_type": "code",
   "execution_count": 41,
   "metadata": {},
   "outputs": [],
   "source": [
    "def db_tables():\n",
    "    # create the engine\n",
    "    metadata = MetaData()\n",
    "        \n",
    "    rt_movies = Table('rt_movies', metadata,\n",
    "                    Column('id', Integer, primary_key=True),\n",
    "                    Column('title', String),\n",
    "                    Column('critic_score', Integer),\n",
    "                    Column('viewer_score', Integer))\n",
    "    \n",
    "    imdb_movies = Table('imdb_movies', metadata,\n",
    "                      Column('id', Integer, primary_key=True),\n",
    "                      Column('title', String),\n",
    "                      Column('genre', String),\n",
    "                      Column('imdbRating', Float))\n",
    "    \n",
    "    return rt_movies, imdb_movies\n",
    "\n",
    "def db_upload(data, engine, table):\n",
    "    if table.name == 'rt_movies':\n",
    "        ins = table.insert().values(\n",
    "            title = data['title'],\n",
    "            critic_score = data['critic_score'],\n",
    "            viewer_score = data['viewer_score']\n",
    "        )\n",
    "    else:\n",
    "        ins = table.insert().values(\n",
    "            title = data['title'],\n",
    "            genre = data['genre']\n",
    "        )\n",
    "    \n",
    "    connection = engine.connect()\n",
    "    connection.execute(ins)"
   ]
  },
  {
   "cell_type": "code",
   "execution_count": 44,
   "metadata": {},
   "outputs": [],
   "source": [
    "rt_movies_table, imdb_movies_table = db_tables()"
   ]
  },
  {
   "cell_type": "code",
   "execution_count": 59,
   "metadata": {},
   "outputs": [],
   "source": [
    "# Create the db engine\n",
    "dbengine = create_engine(DB_CON)\n",
    "# UPLOAD the data\n",
    "for rt_movie in rt_movies:\n",
    "    db_upload(rt_movie, dbengine, rt_movies_table)"
   ]
  },
  {
   "cell_type": "code",
   "execution_count": null,
   "metadata": {},
   "outputs": [],
   "source": []
  }
 ],
 "metadata": {
  "kernelspec": {
   "display_name": "Python 3",
   "language": "python",
   "name": "python3"
  },
  "language_info": {
   "codemirror_mode": {
    "name": "ipython",
    "version": 3
   },
   "file_extension": ".py",
   "mimetype": "text/x-python",
   "name": "python",
   "nbconvert_exporter": "python",
   "pygments_lexer": "ipython3",
   "version": "3.6.5"
  }
 },
 "nbformat": 4,
 "nbformat_minor": 2
}

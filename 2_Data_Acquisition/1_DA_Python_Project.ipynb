{
 "cells": [
  {
   "cell_type": "markdown",
   "metadata": {},
   "source": [
    "# Differences between Rotten Tomatoes' Tomatometer and Audience score - filtered by genre.\n",
    "Does the difference between critic score and audience score vary by genre. The project's idea is to mine the famous [Rotten Tomatoes](https://www.rottentomatoes.com) for the scores of movies and then look-up the genres in [IMDB](https://www.imdb.com/).\n",
    "\n",
    "The Rotten Tomatoes scores are only for DVD releases.\n",
    "\n",
    "Once I got the data I will store it in a MySQL database and query from there."
   ]
  },
  {
   "cell_type": "code",
   "execution_count": 202,
   "metadata": {},
   "outputs": [],
   "source": [
    "from bs4 import BeautifulSoup\n",
    "from urllib.request import urlopen\n",
    "from urllib.parse import urlencode\n",
    "from selenium import webdriver\n",
    "from selenium.webdriver.chrome.options import Options\n",
    "from sqlalchemy import *\n",
    "from sqlalchemy.orm import sessionmaker\n",
    "import json\n",
    "import requests\n",
    "import numpy as np"
   ]
  },
  {
   "cell_type": "code",
   "execution_count": 3,
   "metadata": {},
   "outputs": [],
   "source": [
    "# Defining the options for our browser\n",
    "chrome_options = Options()\n",
    "chrome_options.add_argument(\"--headless\") # to not display the page\n",
    "\n",
    "# Defining the drivers and the URL\n",
    "driver = webdriver.Chrome(chrome_options=chrome_options)\n",
    "driver.get('https://www.rottentomatoes.com/browse/dvd-streaming-all/')"
   ]
  },
  {
   "cell_type": "code",
   "execution_count": 2,
   "metadata": {},
   "outputs": [],
   "source": [
    "# Loading the Connection String + database\n",
    "DB_CON = json.loads(open('dbcon.json').read())['db']\n",
    "OMBDB_KEY = json.loads(open('apikey.json').read())['key']"
   ]
  },
  {
   "cell_type": "markdown",
   "metadata": {},
   "source": [
    "## Scraping Rotten Tomatoes"
   ]
  },
  {
   "cell_type": "code",
   "execution_count": 4,
   "metadata": {},
   "outputs": [],
   "source": [
    "# Scraping Functions\n",
    "def get_movie_count(webdriver):\n",
    "    html = BeautifulSoup(webdriver.page_source, 'html.parser')\n",
    "    init_movie_count = html.find(attrs={\"id\": \"count-link\"}).findAll('span')[2].text.split()[1]\n",
    "    movie_count = html.find(attrs={\"id\": \"count-link\"}).findAll('span')[2].text.split()[-1]\n",
    "    \n",
    "    return int(init_movie_count), int(movie_count)\n",
    "\n",
    "def click_on_show_more(webdriver):\n",
    "    webdriver.find_element_by_css_selector('.mb-load-btn').click()\n",
    "    # no returns\n",
    "\n",
    "def scrape_all_movies(webdriver):\n",
    "    '''\n",
    "    The function takes the webdriver and return the whole page source for further work.\n",
    "    '''\n",
    "    init_count, total_count = get_movie_count(webdriver)\n",
    "    \n",
    "    while init_count < total_count:\n",
    "        click_on_show_more(webdriver)\n",
    "        init_count, total_count = get_movie_count(webdriver)\n",
    "    \n",
    "    return webdriver.page_source"
   ]
  },
  {
   "cell_type": "code",
   "execution_count": null,
   "metadata": {},
   "outputs": [],
   "source": [
    "# Scraping the actual page - can take a lot of time... get a coffee.\n",
    "html = scrape_all_movies(driver)"
   ]
  },
  {
   "cell_type": "code",
   "execution_count": 5,
   "metadata": {},
   "outputs": [],
   "source": [
    "def get_all_movies(html):\n",
    "    soup_page = BeautifulSoup(html, 'html.parser')\n",
    "    movie_infos = soup_page.find_all(attrs={'class':'movie_info'})\n",
    "    \n",
    "    movies = []\n",
    "    for info in movie_infos:\n",
    "        if len(info.find_all(attrs={'class':'tMeterScore'})) == 2:\n",
    "            # filter the released movies that have both - the viewer and the critic scores\n",
    "            movie = { 'title': info.find(attrs={'class':'movieTitle'}).text,\n",
    "                      'critic_score':int(info.find_all(attrs={'class':'tMeterScore'})[0].text.strip('%')),\n",
    "                      'viewer_score':int(info.find_all(attrs={'class':'tMeterScore'})[1].text.strip('%'))\n",
    "                    }\n",
    "            movies.append(movie)\n",
    "            \n",
    "    return movies"
   ]
  },
  {
   "cell_type": "code",
   "execution_count": null,
   "metadata": {},
   "outputs": [],
   "source": [
    "rt_movies = get_all_movies(html)"
   ]
  },
  {
   "cell_type": "markdown",
   "metadata": {},
   "source": [
    "## Scraping IMDB\n",
    "Here I cheated a bit. Instead of scraping IMDB, I opted out for using the excellent unofficial IMDB database [omdbapi.com](http://www.omdbapi.com) and used the provided API to check the genre of each movie scraped from Rotten Tomatoes."
   ]
  },
  {
   "cell_type": "code",
   "execution_count": 9,
   "metadata": {},
   "outputs": [],
   "source": [
    "rtmovs = get_rt_movies_all()"
   ]
  },
  {
   "cell_type": "code",
   "execution_count": 10,
   "metadata": {},
   "outputs": [],
   "source": [
    "# Functions for getting the movies\n",
    "def get_movie(title):\n",
    "    title_url = urlencode({'t':title})\n",
    "    url = 'http://www.omdbapi.com/?apikey=' + OMBDB_KEY + '&' + title_url\n",
    "    r = requests.get(url)\n",
    "    if r.status_code == 200:\n",
    "        return r.json()\n",
    "    else:\n",
    "        return {\n",
    "            'Title':title,\n",
    "            'Genre':'N\\A',\n",
    "            'imdbRating':'N\\A',\n",
    "            'Response':'True',\n",
    "            'Released':'N\\A'\n",
    "        }\n",
    "\n",
    "def try_convert_score(value):\n",
    "    try:\n",
    "        val = value\n",
    "    except ValueError:\n",
    "        val = 'N/A'\n",
    "    \n",
    "    return val\n",
    "\n",
    "def get_imdb_movies(movies):\n",
    "    imdb_movies = []\n",
    "    for movie in movies:\n",
    "        imdb_res = get_movie(movie['title'])\n",
    "        if imdb_res['Response'] == 'True':\n",
    "            imdb_movie = {\n",
    "                'title': imdb_res['Title'],\n",
    "                'genre': imdb_res['Genre'],\n",
    "                'imdbRating': try_convert_score(imdb_res['imdbRating']),\n",
    "                'Released':try_convert_score(imdb_res['Released'])\n",
    "            }\n",
    "            imdb_movies.append(imdb_movie)\n",
    "        \n",
    "    return imdb_movies"
   ]
  },
  {
   "cell_type": "code",
   "execution_count": 11,
   "metadata": {},
   "outputs": [],
   "source": [
    "imdb_movies = get_imdb_movies(rtmovs)"
   ]
  },
  {
   "cell_type": "markdown",
   "metadata": {},
   "source": [
    "## Uploading to MySQL Database"
   ]
  },
  {
   "cell_type": "code",
   "execution_count": 5,
   "metadata": {},
   "outputs": [],
   "source": [
    "def db_tables():\n",
    "    # create the engine\n",
    "    metadata = MetaData()\n",
    "        \n",
    "    rt_movies = Table('rt_movies', metadata,\n",
    "                    Column('id', Integer, primary_key=True),\n",
    "                    Column('title', String),\n",
    "                    Column('critic_score', Integer),\n",
    "                    Column('viewer_score', Integer))\n",
    "    \n",
    "    imdb_movies = Table('imdb_movies', metadata,\n",
    "                      Column('id', Integer, primary_key=True),\n",
    "                      Column('title', String),\n",
    "                      Column('genre', String),\n",
    "                      Column('imdbRating', String),\n",
    "                      Column('Released', String))\n",
    "    \n",
    "    return rt_movies, imdb_movies\n",
    "\n",
    "def db_upload(data, engine, table):\n",
    "    if table.name == 'rt_movies':\n",
    "        ins = table.insert().values(\n",
    "            title = data['title'],\n",
    "            critic_score = data['critic_score'],\n",
    "            viewer_score = data['viewer_score']\n",
    "        )\n",
    "    else:\n",
    "        ins = table.insert().values(\n",
    "            title = data['title'],\n",
    "            genre = data['genre'],\n",
    "            imdbRating = data['imdbRating'],\n",
    "            Released = data['Released']\n",
    "        )\n",
    "    \n",
    "    connection = engine.connect()\n",
    "    connection.execute(ins)"
   ]
  },
  {
   "cell_type": "code",
   "execution_count": 6,
   "metadata": {},
   "outputs": [],
   "source": [
    "rt_movies_table, imdb_movies_table = db_tables()"
   ]
  },
  {
   "cell_type": "code",
   "execution_count": 7,
   "metadata": {},
   "outputs": [],
   "source": [
    "dbengine = create_engine(DB_CON)"
   ]
  },
  {
   "cell_type": "code",
   "execution_count": 8,
   "metadata": {},
   "outputs": [],
   "source": [
    "# fast and simple query to get the RT movies from the database instead of re-doing the whole RT Scraping\n",
    "def get_rt_movies_all():\n",
    "    Session = sessionmaker(bind=dbengine)\n",
    "    session = Session()\n",
    "    movies = session.query(rt_movies_table).all()\n",
    "    rtmovies = []\n",
    "    for movie in movies:\n",
    "        rtmovies.append({'title':movie[1]})\n",
    "    \n",
    "    return rtmovies"
   ]
  },
  {
   "cell_type": "code",
   "execution_count": null,
   "metadata": {},
   "outputs": [],
   "source": [
    "# UPLOAD the data\n",
    "for rt_movie in rt_movies:\n",
    "    db_upload(rt_movie, dbengine, rt_movies_table)"
   ]
  },
  {
   "cell_type": "code",
   "execution_count": 15,
   "metadata": {},
   "outputs": [],
   "source": [
    "for imdb_movie in imdb_movies:\n",
    "    db_upload(imdb_movie, dbengine, imdb_movies_table)"
   ]
  },
  {
   "cell_type": "markdown",
   "metadata": {},
   "source": [
    "## Getting the data from the database\n",
    "Although the `pandas` package can handle all of the extraction from the mySQL db, I want to take the hard route and do it all in SQL - just for practice from which I will create the PD dataframes."
   ]
  },
  {
   "cell_type": "code",
   "execution_count": 8,
   "metadata": {},
   "outputs": [],
   "source": [
    "# Secondary Packages\n",
    "import pandas as pd\n",
    "import matplotlib.pyplot as plt\n",
    "import seaborn as sns "
   ]
  },
  {
   "cell_type": "code",
   "execution_count": 28,
   "metadata": {},
   "outputs": [],
   "source": [
    "def exec_sql(sql):\n",
    "    '''\n",
    "    Takes an SQL statement as input and returns an itterable sqlalchemy engine\n",
    "    '''\n",
    "    statement = text(sql)\n",
    "    return dbengine.execute(statement)"
   ]
  },
  {
   "cell_type": "code",
   "execution_count": 10,
   "metadata": {},
   "outputs": [],
   "source": [
    "imdb_movs = exec_sql('SELECT * FROM imdb_movies LIMIT 1') # sample query IMDB\n",
    "rt_movs = exec_sql('SELECT * FROM rt_movies LIMIT 1') # sample query Rotten Tomatoes Movies"
   ]
  },
  {
   "cell_type": "code",
   "execution_count": 11,
   "metadata": {},
   "outputs": [
    {
     "name": "stdout",
     "output_type": "stream",
     "text": [
      "(9937, \"God's Not Dead: A Light in Darkness\", 'Drama', '3.8', '30 Mar 2018')\n",
      "(1, \"God's Not Dead: A Light in Darkness\", 13, 53)\n"
     ]
    }
   ],
   "source": [
    "for item in imdb_movs:\n",
    "    print(item)\n",
    "\n",
    "for item in rt_movs:\n",
    "    print(item)"
   ]
  },
  {
   "cell_type": "markdown",
   "metadata": {},
   "source": [
    "## Analysis\n",
    "So again - the goal is to answer the questions:\n",
    "1. Mean difference between scores (critic and viewer) in time?\n",
    "2. Is there a difference between the genres in the mean values for the Rotten Tomatoes `mean critic score` and `mean user score`?\n",
    "3. How does this vary in time (years)?"
   ]
  },
  {
   "cell_type": "code",
   "execution_count": 12,
   "metadata": {},
   "outputs": [],
   "source": [
    "# Lets define a function that will take the data from the SQL query and turn it to a dataframe\n",
    "# ... yes, I know I can do that directly from pandas...\n",
    "def to_df(query_res, columns_list):\n",
    "    data = []\n",
    "    for item in query_res:\n",
    "        data.append(list(item))\n",
    "    \n",
    "    return pd.DataFrame(data, columns = columns_list)"
   ]
  },
  {
   "cell_type": "markdown",
   "metadata": {},
   "source": [
    "### 1. Mean difference between scores (critic and viewer) in time?"
   ]
  },
  {
   "cell_type": "code",
   "execution_count": 13,
   "metadata": {},
   "outputs": [],
   "source": [
    "sql = '''SELECT  ROUND(AVG(A.`critic_score`),2), ROUND(AVG(A.`viewer_score`),2), RIGHT(B.`Released`,4)\n",
    "       FROM `rt_movies` AS A\n",
    "       INNER JOIN `imdb_movies` AS B \n",
    "       ON A.`title` = B.`title`\n",
    "       GROUP BY RIGHT(B.`Released`, 4)'''\n",
    "rt_imdb_table = exec_sql(sql)"
   ]
  },
  {
   "cell_type": "code",
   "execution_count": 14,
   "metadata": {},
   "outputs": [],
   "source": [
    "# Convert the response to a dataframe\n",
    "rt_imdb_df = to_df(rt_imdb_table, ['mean_critic_score','mean_viewer_score','year'])"
   ]
  },
  {
   "cell_type": "code",
   "execution_count": 15,
   "metadata": {},
   "outputs": [
    {
     "data": {
      "text/html": [
       "<div>\n",
       "<style scoped>\n",
       "    .dataframe tbody tr th:only-of-type {\n",
       "        vertical-align: middle;\n",
       "    }\n",
       "\n",
       "    .dataframe tbody tr th {\n",
       "        vertical-align: top;\n",
       "    }\n",
       "\n",
       "    .dataframe thead th {\n",
       "        text-align: right;\n",
       "    }\n",
       "</style>\n",
       "<table border=\"1\" class=\"dataframe\">\n",
       "  <thead>\n",
       "    <tr style=\"text-align: right;\">\n",
       "      <th></th>\n",
       "      <th>mean_critic_score</th>\n",
       "      <th>mean_viewer_score</th>\n",
       "      <th>year</th>\n",
       "    </tr>\n",
       "  </thead>\n",
       "  <tbody>\n",
       "    <tr>\n",
       "      <th>0</th>\n",
       "      <td>57.00</td>\n",
       "      <td>50.00</td>\n",
       "      <td>1907</td>\n",
       "    </tr>\n",
       "    <tr>\n",
       "      <th>1</th>\n",
       "      <td>76.00</td>\n",
       "      <td>65.00</td>\n",
       "      <td>1915</td>\n",
       "    </tr>\n",
       "    <tr>\n",
       "      <th>2</th>\n",
       "      <td>94.00</td>\n",
       "      <td>69.00</td>\n",
       "      <td>1920</td>\n",
       "    </tr>\n",
       "    <tr>\n",
       "      <th>3</th>\n",
       "      <td>80.00</td>\n",
       "      <td>75.00</td>\n",
       "      <td>1921</td>\n",
       "    </tr>\n",
       "    <tr>\n",
       "      <th>4</th>\n",
       "      <td>97.00</td>\n",
       "      <td>93.00</td>\n",
       "      <td>1923</td>\n",
       "    </tr>\n",
       "  </tbody>\n",
       "</table>\n",
       "</div>"
      ],
      "text/plain": [
       "  mean_critic_score mean_viewer_score  year\n",
       "0             57.00             50.00  1907\n",
       "1             76.00             65.00  1915\n",
       "2             94.00             69.00  1920\n",
       "3             80.00             75.00  1921\n",
       "4             97.00             93.00  1923"
      ]
     },
     "execution_count": 15,
     "metadata": {},
     "output_type": "execute_result"
    }
   ],
   "source": [
    "# Check the head\n",
    "rt_imdb_df.head()"
   ]
  },
  {
   "cell_type": "code",
   "execution_count": 16,
   "metadata": {},
   "outputs": [
    {
     "data": {
      "text/html": [
       "<div>\n",
       "<style scoped>\n",
       "    .dataframe tbody tr th:only-of-type {\n",
       "        vertical-align: middle;\n",
       "    }\n",
       "\n",
       "    .dataframe tbody tr th {\n",
       "        vertical-align: top;\n",
       "    }\n",
       "\n",
       "    .dataframe thead th {\n",
       "        text-align: right;\n",
       "    }\n",
       "</style>\n",
       "<table border=\"1\" class=\"dataframe\">\n",
       "  <thead>\n",
       "    <tr style=\"text-align: right;\">\n",
       "      <th></th>\n",
       "      <th>mean_critic_score</th>\n",
       "      <th>mean_viewer_score</th>\n",
       "      <th>year</th>\n",
       "    </tr>\n",
       "  </thead>\n",
       "  <tbody>\n",
       "    <tr>\n",
       "      <th>96</th>\n",
       "      <td>59.40</td>\n",
       "      <td>55.03</td>\n",
       "      <td>2016</td>\n",
       "    </tr>\n",
       "    <tr>\n",
       "      <th>97</th>\n",
       "      <td>61.57</td>\n",
       "      <td>58.00</td>\n",
       "      <td>2017</td>\n",
       "    </tr>\n",
       "    <tr>\n",
       "      <th>98</th>\n",
       "      <td>55.23</td>\n",
       "      <td>57.03</td>\n",
       "      <td>2018</td>\n",
       "    </tr>\n",
       "    <tr>\n",
       "      <th>99</th>\n",
       "      <td>60.62</td>\n",
       "      <td>58.59</td>\n",
       "      <td>N/A</td>\n",
       "    </tr>\n",
       "    <tr>\n",
       "      <th>100</th>\n",
       "      <td>100.00</td>\n",
       "      <td>43.00</td>\n",
       "      <td>N\\A</td>\n",
       "    </tr>\n",
       "  </tbody>\n",
       "</table>\n",
       "</div>"
      ],
      "text/plain": [
       "    mean_critic_score mean_viewer_score  year\n",
       "96              59.40             55.03  2016\n",
       "97              61.57             58.00  2017\n",
       "98              55.23             57.03  2018\n",
       "99              60.62             58.59   N/A\n",
       "100            100.00             43.00   N\\A"
      ]
     },
     "execution_count": 16,
     "metadata": {},
     "output_type": "execute_result"
    }
   ],
   "source": [
    "rt_imdb_df.tail()"
   ]
  },
  {
   "cell_type": "markdown",
   "metadata": {},
   "source": [
    "Whoops - some N/A values have snuck through and its only the last 2 rows - I will drop them."
   ]
  },
  {
   "cell_type": "code",
   "execution_count": 17,
   "metadata": {},
   "outputs": [],
   "source": [
    "rt_imdb_df = rt_imdb_df.drop([99,100])"
   ]
  },
  {
   "cell_type": "code",
   "execution_count": 18,
   "metadata": {},
   "outputs": [
    {
     "name": "stdout",
     "output_type": "stream",
     "text": [
      "<class 'pandas.core.frame.DataFrame'>\n",
      "Int64Index: 99 entries, 0 to 98\n",
      "Data columns (total 3 columns):\n",
      "mean_critic_score    99 non-null object\n",
      "mean_viewer_score    99 non-null object\n",
      "year                 99 non-null object\n",
      "dtypes: object(3)\n",
      "memory usage: 3.1+ KB\n"
     ]
    }
   ],
   "source": [
    "rt_imdb_df.info()"
   ]
  },
  {
   "cell_type": "markdown",
   "metadata": {},
   "source": [
    "Since the `mean_critic_score` and `mean_viewer_score` are not the right type we need to convert them"
   ]
  },
  {
   "cell_type": "code",
   "execution_count": 19,
   "metadata": {},
   "outputs": [],
   "source": [
    "rt_imdb_df[['year','mean_critic_score','mean_viewer_score']] = rt_imdb_df[['year','mean_critic_score','mean_viewer_score']].apply(pd.to_numeric)"
   ]
  },
  {
   "cell_type": "code",
   "execution_count": 20,
   "metadata": {},
   "outputs": [],
   "source": [
    "# melting\n",
    "rt_imdb_df = rt_imdb_df.melt('year', var_name='score_type', value_name='value')"
   ]
  },
  {
   "cell_type": "code",
   "execution_count": 21,
   "metadata": {},
   "outputs": [
    {
     "data": {
      "text/plain": [
       "<matplotlib.axes._subplots.AxesSubplot at 0x7f861baedc88>"
      ]
     },
     "execution_count": 21,
     "metadata": {},
     "output_type": "execute_result"
    },
    {
     "data": {
      "image/png": "[encoded data removed]",
      "text/plain": [
       "<Figure size 1080x720 with 1 Axes>"
      ]
     },
     "metadata": {},
     "output_type": "display_data"
    }
   ],
   "source": [
    "# plotting\n",
    "plt.subplots(figsize=(15,10))\n",
    "sns.lineplot(x='year',y='value', hue='score_type', data=rt_imdb_df)"
   ]
  },
  {
   "cell_type": "markdown",
   "metadata": {},
   "source": [
    "It seems that in the 20s, as well as from the 60s trhough the 80s the `mean_viewer_score` follows closely the viewer score. Howerever, with the advent of 2000s the things radically change, as the `mean_viewer_score` and `mean_critic_score` seems to be opposite."
   ]
  },
  {
   "cell_type": "markdown",
   "metadata": {},
   "source": [
    "### 2. Is there a difference between the genres in the mean values for the Rotten Tomatoes `mean critic score` and `mean user score`?"
   ]
  },
  {
   "cell_type": "code",
   "execution_count": 23,
   "metadata": {},
   "outputs": [],
   "source": [
    "# Demonstrating Genres\n",
    "sql = '''SELECT *\n",
    "       FROM `imdb_movies`\n",
    "       LIMIT 10'''\n",
    "genre_table = exec_sql(sql)"
   ]
  },
  {
   "cell_type": "code",
   "execution_count": 25,
   "metadata": {},
   "outputs": [
    {
     "name": "stdout",
     "output_type": "stream",
     "text": [
      "(9937, \"God's Not Dead: A Light in Darkness\", 'Drama', '3.8', '30 Mar 2018')\n",
      "(9938, 'Show Dogs', 'Adventure, Comedy, Family', '3.3', '18 May 2018')\n",
      "(9939, 'Action Point', 'Comedy', '4.9', '01 Jun 2018')\n",
      "(9940, 'Tag', 'Comedy', '6.6', '15 Jun 2018')\n",
      "(9941, 'Western', 'Drama', '7.2', '24 Aug 2017')\n",
      "(9942, 'A Kid Like Jake', 'Drama, Family', '5.0', '01 Jun 2018')\n",
      "(9943, 'Mary Shelley', 'Biography, Drama, Romance', '6.3', '06 Jul 2018')\n",
      "(9944, 'Woman Walks Ahead', 'Biography, Drama, History', '6.0', '29 Jun 2018')\n",
      "(9945, 'The Little Vampire 3D', 'Animation, Adventure, Comedy', '5.4', '04 Oct 2017')\n",
      "(9946, 'RBG', 'Documentary, Biography', '7.5', '14 Sep 2018')\n"
     ]
    }
   ],
   "source": [
    "for res in genre_table:\n",
    "    print(res)"
   ]
  },
  {
   "cell_type": "markdown",
   "metadata": {},
   "source": [
    "From the results by query it seems that a movie is not assigned just 1 genre, but a multitude of values. Thus I will get all the genres and create a vector for each movie, whether it gets all the genres right."
   ]
  },
  {
   "cell_type": "code",
   "execution_count": 224,
   "metadata": {},
   "outputs": [],
   "source": [
    "sql = '''SELECT DISTINCT `genre` FROM `imdb_movies`'''\n",
    "distinct_genres = exec_sql(sql)"
   ]
  },
  {
   "cell_type": "code",
   "execution_count": 225,
   "metadata": {},
   "outputs": [],
   "source": [
    "# Define the Dict where the genres will be stored\n",
    "genre_glossary = []\n",
    "# Go through the results\n",
    "for res in distinct_genres:\n",
    "    # strip the chars we don't need\n",
    "    res = str(res).strip(\")\").strip(\"(\").replace(\"'\", \"\").replace(\" \", \"\").split(\",\") # There's an easier way... I guess...\n",
    "    # remove the empty items in the arrays\n",
    "    res = list(filter(None, res))\n",
    "    # Go through the items in the results\n",
    "    for item in res:\n",
    "        if item not in genre_glossary:\n",
    "            genre_glossary.append(item)"
   ]
  },
  {
   "cell_type": "code",
   "execution_count": 226,
   "metadata": {},
   "outputs": [
    {
     "data": {
      "text/plain": [
       "['Action',\n",
       " 'Adult',\n",
       " 'Adventure',\n",
       " 'Animation',\n",
       " 'Biography',\n",
       " 'Comedy',\n",
       " 'Crime',\n",
       " 'Documentary',\n",
       " 'Drama',\n",
       " 'Family',\n",
       " 'Fantasy',\n",
       " 'Film-Noir',\n",
       " 'Game-Show',\n",
       " 'History',\n",
       " 'Horror',\n",
       " 'Music',\n",
       " 'Musical',\n",
       " 'Mystery',\n",
       " 'N/A',\n",
       " 'N\\\\\\\\A',\n",
       " 'News',\n",
       " 'Reality-TV',\n",
       " 'Romance',\n",
       " 'Sci-Fi',\n",
       " 'Short',\n",
       " 'Sport',\n",
       " 'Thriller',\n",
       " 'War',\n",
       " 'Western']"
      ]
     },
     "execution_count": 226,
     "metadata": {},
     "output_type": "execute_result"
    }
   ],
   "source": [
    "# Let's sort it and see what we have here\n",
    "genre_glossary = sorted(genre_glossary)\n",
    "genre_glossary"
   ]
  },
  {
   "cell_type": "code",
   "execution_count": 196,
   "metadata": {},
   "outputs": [],
   "source": [
    "# Double entries of 'N/A' - lets remove them\n",
    "genre_glossary.remove('N/A')\n",
    "genre_glossary.remove('N\\\\\\\\A')"
   ]
  },
  {
   "cell_type": "code",
   "execution_count": 248,
   "metadata": {},
   "outputs": [],
   "source": [
    "# Create a dict to record items in it\n",
    "genre_glossary_dict = {}\n",
    "for genre in genre_glossary:\n",
    "    genre_glossary_dict[genre] = 0"
   ]
  },
  {
   "cell_type": "markdown",
   "metadata": {},
   "source": [
    "Now we have the unique genres. Now what is left is to compose a function that given the genres will return a *genre* vector."
   ]
  },
  {
   "cell_type": "code",
   "execution_count": 251,
   "metadata": {},
   "outputs": [],
   "source": [
    "def gen_vector(genres, glossary):\n",
    "    # check each item in the genres array\n",
    "    new_glossary = glossary.copy()\n",
    "    for genre in genres:\n",
    "        new_glossary[genre] = 1\n",
    "    \n",
    "    return list(new_glossary.values())"
   ]
  },
  {
   "cell_type": "code",
   "execution_count": 253,
   "metadata": {},
   "outputs": [
    {
     "name": "stdout",
     "output_type": "stream",
     "text": [
      "['Drama']\n",
      "[0, 0, 0, 0, 0, 0, 0, 0, 1, 0, 0, 0, 0, 0, 0, 0, 0, 0, 0, 0, 0, 0, 0, 0, 0, 0, 0, 0, 0]\n",
      "['Adventure', 'Comedy', 'Family']\n",
      "[0, 0, 1, 0, 0, 1, 0, 0, 0, 1, 0, 0, 0, 0, 0, 0, 0, 0, 0, 0, 0, 0, 0, 0, 0, 0, 0, 0, 0]\n",
      "['Comedy']\n",
      "[0, 0, 0, 0, 0, 1, 0, 0, 0, 0, 0, 0, 0, 0, 0, 0, 0, 0, 0, 0, 0, 0, 0, 0, 0, 0, 0, 0, 0]\n",
      "['Comedy']\n",
      "[0, 0, 0, 0, 0, 1, 0, 0, 0, 0, 0, 0, 0, 0, 0, 0, 0, 0, 0, 0, 0, 0, 0, 0, 0, 0, 0, 0, 0]\n",
      "['Drama']\n",
      "[0, 0, 0, 0, 0, 0, 0, 0, 1, 0, 0, 0, 0, 0, 0, 0, 0, 0, 0, 0, 0, 0, 0, 0, 0, 0, 0, 0, 0]\n",
      "['Drama', 'Family']\n",
      "[0, 0, 0, 0, 0, 0, 0, 0, 1, 1, 0, 0, 0, 0, 0, 0, 0, 0, 0, 0, 0, 0, 0, 0, 0, 0, 0, 0, 0]\n",
      "['Biography', 'Drama', 'Romance']\n",
      "[0, 0, 0, 0, 1, 0, 0, 0, 1, 0, 0, 0, 0, 0, 0, 0, 0, 0, 0, 0, 0, 0, 1, 0, 0, 0, 0, 0, 0]\n",
      "['Biography', 'Drama', 'History']\n",
      "[0, 0, 0, 0, 1, 0, 0, 0, 1, 0, 0, 0, 0, 1, 0, 0, 0, 0, 0, 0, 0, 0, 0, 0, 0, 0, 0, 0, 0]\n",
      "['Animation', 'Adventure', 'Comedy']\n",
      "[0, 0, 1, 1, 0, 1, 0, 0, 0, 0, 0, 0, 0, 0, 0, 0, 0, 0, 0, 0, 0, 0, 0, 0, 0, 0, 0, 0, 0]\n",
      "['Documentary', 'Biography']\n",
      "[0, 0, 0, 0, 1, 0, 0, 1, 0, 0, 0, 0, 0, 0, 0, 0, 0, 0, 0, 0, 0, 0, 0, 0, 0, 0, 0, 0, 0]\n"
     ]
    }
   ],
   "source": [
    "# Lets test it\n",
    "sql = '''SELECT *\n",
    "       FROM `imdb_movies`\n",
    "       LIMIT 10'''\n",
    "movies = exec_sql(sql)\n",
    "\n",
    "for movie in movies:\n",
    "    movie_genres = movie[2].replace(\" \",\"\").split(\",\")\n",
    "    genre_vector = gen_vector(movie_genres, genre_glossary_dict)\n",
    "    print(movie_genres)\n",
    "    print(genre_vector)"
   ]
  }
 ],
 "metadata": {
  "kernelspec": {
   "display_name": "Python 3",
   "language": "python",
   "name": "python3"
  },
  "language_info": {
   "codemirror_mode": {
    "name": "ipython",
    "version": 3
   },
   "file_extension": ".py",
   "mimetype": "text/x-python",
   "name": "python",
   "nbconvert_exporter": "python",
   "pygments_lexer": "ipython3",
   "version": "3.6.5"
  }
 },
 "nbformat": 4,
 "nbformat_minor": 2
}

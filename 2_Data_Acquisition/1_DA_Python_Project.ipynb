{
 "cells": [
  {
   "cell_type": "markdown",
   "metadata": {},
   "source": [
    "# Differences between Rotten Tomatoes' Tomatometer and Audience score - filtered by genre.\n",
    "Does the difference between critic score and audience score vary by genre. The project's idea is to mine the famous [Rotten Tomatoes](https://www.rottentomatoes.com) for the scores of movies and then look-up the genres in imdb.\n",
    "\n",
    "Once I got the data I will store it in a MySQL database and query from there."
   ]
  },
  {
   "cell_type": "code",
   "execution_count": 47,
   "metadata": {},
   "outputs": [],
   "source": [
    "from bs4 import BeautifulSoup\n",
    "from urllib.request import urlopen\n",
    "from selenium import webdriver\n",
    "from selenium.webdriver.chrome.options import Options\n",
    "from sqlalchemy import *\n",
    "import json"
   ]
  },
  {
   "cell_type": "code",
   "execution_count": 2,
   "metadata": {},
   "outputs": [],
   "source": [
    "# Defining the options for our browser\n",
    "chrome_options = Options()\n",
    "chrome_options.add_argument(\"--headless\") # to not display the page\n",
    "\n",
    "# Defining the drivers and the URL\n",
    "driver = webdriver.Chrome(chrome_options=chrome_options)\n",
    "driver.get('https://www.rottentomatoes.com/browse/dvd-streaming-all/')\n",
    "soup = BeautifulSoup(driver.page_source, 'html.parser')"
   ]
  },
  {
   "cell_type": "code",
   "execution_count": 49,
   "metadata": {},
   "outputs": [],
   "source": [
    "# Loading the Connection String + database\n",
    "DB_CON = json.loads(open('dbcon.json').read())['db']"
   ]
  },
  {
   "cell_type": "markdown",
   "metadata": {},
   "source": [
    "## Scraping Rotten Tomatoes"
   ]
  },
  {
   "cell_type": "code",
   "execution_count": 3,
   "metadata": {},
   "outputs": [],
   "source": [
    "# Scraping Functions\n",
    "def get_movie_count(webdriver):\n",
    "    html = BeautifulSoup(webdriver.page_source, 'html.parser')\n",
    "    init_movie_count = html.find(attrs={\"id\": \"count-link\"}).findAll('span')[2].text.split()[1]\n",
    "    movie_count = html.find(attrs={\"id\": \"count-link\"}).findAll('span')[2].text.split()[-1]\n",
    "    \n",
    "    return int(init_movie_count), int(movie_count)\n",
    "\n",
    "def click_on_show_more(webdriver):\n",
    "    webdriver.find_element_by_css_selector('.mb-load-btn').click()\n",
    "    # no returns\n",
    "\n",
    "def scrape_all_movies(webdriver):\n",
    "    '''\n",
    "    The function takes the webdriver and return the whole page source for further work.\n",
    "    '''\n",
    "    init_count, total_count = get_movie_count(webdriver)\n",
    "    \n",
    "    while init_count < total_count:\n",
    "        click_on_show_more(webdriver)\n",
    "        init_count, total_count = get_movie_count(webdriver)\n",
    "    \n",
    "    return webdriver.page_source"
   ]
  },
  {
   "cell_type": "code",
   "execution_count": 4,
   "metadata": {},
   "outputs": [],
   "source": [
    "# Scraping the actual page - can take a lot of time... get a coffee.\n",
    "html = scrape_all_movies(driver)"
   ]
  },
  {
   "cell_type": "code",
   "execution_count": 53,
   "metadata": {},
   "outputs": [],
   "source": [
    "def get_all_movies(html):\n",
    "    soup_page = BeautifulSoup(html, 'html.parser')\n",
    "    movie_infos = soup_page.find_all(attrs={'class':'movie_info'})\n",
    "    \n",
    "    movies = []\n",
    "    for info in movie_infos:\n",
    "        if len(info.find_all(attrs={'class':'tMeterScore'})) == 2:\n",
    "            # filter the released movies that have both - the viewer and the critic scores\n",
    "            movie = { 'title': info.find(attrs={'class':'movieTitle'}).text,\n",
    "                      'critic_score':int(info.find_all(attrs={'class':'tMeterScore'})[0].text.strip('%')),\n",
    "                      'viewer_score':int(info.find_all(attrs={'class':'tMeterScore'})[1].text.strip('%'))\n",
    "                    }\n",
    "            movies.append(movie)\n",
    "            \n",
    "    return movies"
   ]
  },
  {
   "cell_type": "code",
   "execution_count": 54,
   "metadata": {},
   "outputs": [],
   "source": [
    "rt_movies = get_all_movies(html)"
   ]
  },
  {
   "cell_type": "markdown",
   "metadata": {},
   "source": [
    "## Scraping IMDB"
   ]
  },
  {
   "cell_type": "code",
   "execution_count": 43,
   "metadata": {},
   "outputs": [],
   "source": [
    "# placeholder"
   ]
  },
  {
   "cell_type": "markdown",
   "metadata": {},
   "source": [
    "## Uploading to MySQL Database"
   ]
  },
  {
   "cell_type": "code",
   "execution_count": 41,
   "metadata": {},
   "outputs": [],
   "source": [
    "def db_tables():\n",
    "    # create the engine\n",
    "    metadata = MetaData()\n",
    "        \n",
    "    rt_movies = Table('rt_movies', metadata,\n",
    "                    Column('id', Integer, primary_key=True),\n",
    "                    Column('title', String),\n",
    "                    Column('critic_score', Integer),\n",
    "                    Column('viewer_score', Integer))\n",
    "    \n",
    "    imdb_movies = Table('imdb_movies', metadata,\n",
    "                      Column('id', Integer, primary_key=True),\n",
    "                      Column('title', String),\n",
    "                      Column('genre', String))\n",
    "    \n",
    "    return rt_movies, imdb_movies\n",
    "\n",
    "def db_upload(data, engine, table):\n",
    "    if table.name == 'rt_movies':\n",
    "        ins = table.insert().values(\n",
    "            title = data['title'],\n",
    "            critic_score = data['critic_score'],\n",
    "            viewer_score = data['viewer_score']\n",
    "        )\n",
    "    else:\n",
    "        ins = table.insert().values(\n",
    "            title = data['title'],\n",
    "            genre = data['genre']\n",
    "        )\n",
    "    \n",
    "    connection = engine.connect()\n",
    "    connection.execute(ins)"
   ]
  },
  {
   "cell_type": "code",
   "execution_count": 44,
   "metadata": {},
   "outputs": [],
   "source": [
    "rt_movies_table, imdb_movies_table = db_tables()"
   ]
  },
  {
   "cell_type": "code",
   "execution_count": 59,
   "metadata": {},
   "outputs": [],
   "source": [
    "# Create the db engine\n",
    "dbengine = create_engine(DB_CON)\n",
    "# UPLOAD the data\n",
    "for rt_movie in rt_movies:\n",
    "    db_upload(rt_movie, dbengine, rt_movies_table)"
   ]
  },
  {
   "cell_type": "code",
   "execution_count": null,
   "metadata": {},
   "outputs": [],
   "source": []
  }
 ],
 "metadata": {
  "kernelspec": {
   "display_name": "Python 3",
   "language": "python",
   "name": "python3"
  },
  "language_info": {
   "codemirror_mode": {
    "name": "ipython",
    "version": 3
   },
   "file_extension": ".py",
   "mimetype": "text/x-python",
   "name": "python",
   "nbconvert_exporter": "python",
   "pygments_lexer": "ipython3",
   "version": "3.6.5"
  }
 },
 "nbformat": 4,
 "nbformat_minor": 2
}

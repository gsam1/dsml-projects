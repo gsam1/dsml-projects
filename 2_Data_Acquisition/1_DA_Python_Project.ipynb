{
 "cells": [
  {
   "cell_type": "markdown",
   "metadata": {},
   "source": [
    "# Differences between Rotten Tomatoes' Tomatometer and Audience score - filtered by genre.\n",
    "Does the difference between critic score and audience score vary by genre. The project's idea is to mine the famous [Rotten Tomatoes](https://www.rottentomatoes.com) for the scores of movies and then look-up the genres in imdb.\n",
    "\n",
    "Once I got the data I will store it in a MySQL database and query from there."
   ]
  },
  {
   "cell_type": "code",
   "execution_count": 1,
   "metadata": {},
   "outputs": [],
   "source": [
    "from bs4 import BeautifulSoup\n",
    "from urllib.request import urlopen\n",
    "from selenium import webdriver\n",
    "from selenium.webdriver.chrome.options import Options"
   ]
  },
  {
   "cell_type": "code",
   "execution_count": 2,
   "metadata": {},
   "outputs": [],
   "source": [
    "# Defining the options for our browser\n",
    "chrome_options = Options()\n",
    "chrome_options.add_argument(\"--headless\") # to not display the page\n",
    "\n",
    "# Defining the drivers and the URL\n",
    "driver = webdriver.Chrome(chrome_options=chrome_options)\n",
    "driver.get('https://www.rottentomatoes.com/browse/dvd-streaming-all/')\n",
    "soup = BeautifulSoup(driver.page_source, 'html.parser')"
   ]
  },
  {
   "cell_type": "code",
   "execution_count": 5,
   "metadata": {},
   "outputs": [],
   "source": [
    "# Scraping Functions\n",
    "def get_movie_count(webdriver):\n",
    "    html = BeautifulSoup(webdriver.page_source, 'html.parser')\n",
    "    init_movie_count = html.find(attrs={\"id\": \"count-link\"}).findAll('span')[2].text.split()[1]\n",
    "    movie_count = html.find(attrs={\"id\": \"count-link\"}).findAll('span')[2].text.split()[-1]\n",
    "    \n",
    "    return int(init_movie_count), int(movie_count)\n",
    "\n",
    "def click_on_show_more(webdriver):\n",
    "    webdriver.find_element_by_css_selector('.mb-load-btn').click()\n",
    "    # no returns\n",
    "\n",
    "def scrape_all_movies(webdriver):\n",
    "    '''\n",
    "    The function takes the webdriver and return the whole page source for further work.\n",
    "    '''\n",
    "    init_count, total_count = get_movie_count(webdriver)\n",
    "    \n",
    "    while init_count < total_count:\n",
    "        click_on_show_more(webdriver)\n",
    "        init_count, total_count = get_movie_count(webdriver)\n",
    "    \n",
    "    return webdriver.page_source"
   ]
  },
  {
   "cell_type": "code",
   "execution_count": null,
   "metadata": {},
   "outputs": [],
   "source": [
    "# Scraping the actual page - can take a lot of time... get a coffee.\n",
    "html = scrape_all_movies(driver)"
   ]
  },
  {
   "cell_type": "code",
   "execution_count": 30,
   "metadata": {},
   "outputs": [],
   "source": [
    "def get_all_movies(html):\n",
    "    soup_page = BeautifulSoup(html, 'html.parser')\n",
    "    movie_infos = soup_page.find_all(attrs={'class':'movie_info'})\n",
    "    \n",
    "    movies = []\n",
    "    item = 0\n",
    "    for info in movie_infos:\n",
    "        movie = { 'movie': title:info.find(attrs={'class':'movieTitle'}).text,\n",
    "                  'critic_score':info.find_all(attrs={'class':'tMeterScore'})[0].text,\n",
    "                   'user_score':info.find_all(attrs={'class':'tMeterScore'})[1].text}\n",
    "        movies.append(movie)\n",
    "        \n",
    "        item += 1\n",
    "        if item > 3:\n",
    "            break\n",
    "        \n",
    "     \n",
    "    return movies"
   ]
  },
  {
   "cell_type": "code",
   "execution_count": 31,
   "metadata": {},
   "outputs": [
    {
     "name": "stdout",
     "output_type": "stream",
     "text": [
      "<class 'bs4.element.ResultSet'>\n",
      "Avengers: Infinity War\n",
      "83%\n",
      "91%\n"
     ]
    }
   ],
   "source": [
    "movie_info = get_all_movies(driver)"
   ]
  },
  {
   "cell_type": "code",
   "execution_count": 13,
   "metadata": {},
   "outputs": [
    {
     "data": {
      "text/plain": [
       "NoneType"
      ]
     },
     "execution_count": 13,
     "metadata": {},
     "output_type": "execute_result"
    }
   ],
   "source": [
    "type(movie_info)"
   ]
  },
  {
   "cell_type": "code",
   "execution_count": null,
   "metadata": {},
   "outputs": [],
   "source": []
  }
 ],
 "metadata": {
  "kernelspec": {
   "display_name": "Python 3",
   "language": "python",
   "name": "python3"
  },
  "language_info": {
   "codemirror_mode": {
    "name": "ipython",
    "version": 3
   },
   "file_extension": ".py",
   "mimetype": "text/x-python",
   "name": "python",
   "nbconvert_exporter": "python",
   "pygments_lexer": "ipython3",
   "version": "3.6.5"
  }
 },
 "nbformat": 4,
 "nbformat_minor": 2
}

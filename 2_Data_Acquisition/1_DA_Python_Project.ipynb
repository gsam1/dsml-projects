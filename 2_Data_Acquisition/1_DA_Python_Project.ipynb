{
 "cells": [
  {
   "cell_type": "markdown",
   "metadata": {},
   "source": [
    "# Differences between Rotten Tomatoes Tomatometer and Audience score - filtered by genre.\n",
    "Does the difference between critic score and audience score vary by genre. The project's idea is to mine the famous [Rotten Tomatoes](https://www.rottentomatoes.com) for the scores of movies and then look-up the genres in imdb.\n",
    "\n",
    "Once I got the data I will store it in a MySQL database and query from there."
   ]
  },
  {
   "cell_type": "code",
   "execution_count": 23,
   "metadata": {},
   "outputs": [],
   "source": [
    "from bs4 import BeautifulSoup\n",
    "from urllib.request import urlopen\n",
    "import sys"
   ]
  },
  {
   "cell_type": "code",
   "execution_count": 26,
   "metadata": {},
   "outputs": [],
   "source": [
    "#URL \n",
    "# page = urlopen('https://www.rottentomatoes.com/browse/dvd-streaming-all/')\n",
    "page = requests.get('https://www.rottentomatoes.com/browse/dvd-streaming-all/')\n",
    "soup = BeautifulSoup(page.content, 'html5lib')"
   ]
  },
  {
   "cell_type": "code",
   "execution_count": 32,
   "metadata": {},
   "outputs": [
    {
     "data": {
      "text/plain": [
       "[<div class=\"main-column-item\" id=\"count-link\">\n",
       "                     <div class=\"pull-right\" id=\"view-icon-grp\">\n",
       "                         <div class=\"btn-group\">\n",
       "                             <a class=\"btn active view-icon\" id=\"grid-view-icon\">\n",
       "                                 <span class=\"fontelloIcon icon-grid\">\n",
       "                             </span></a>\n",
       "                             <a class=\"btn view-icon\" id=\"list-view-icon\">\n",
       "                                 <span class=\"fontelloIcon icon-list\">\n",
       "                             </span></a>\n",
       "                         </div>\n",
       "                     </div>\n",
       "                     <span id=\"showing-count\">Showing  of </span>\n",
       "                     <a href=\"/browse/box-office/\" id=\"boxoffice-earnings-link\" style=\"display:none\">\n",
       "                         <div id=\"dollar-icon\">\n",
       "                             <span class=\"glyphicon glyphicon-usd\"></span>\n",
       "                         </div>\n",
       "                         Weekend Box Office Earnings\n",
       "                     </a>\n",
       "                 </div>]"
      ]
     },
     "execution_count": 32,
     "metadata": {},
     "output_type": "execute_result"
    }
   ],
   "source": [
    "soup.find_all(attrs={\"id\": \"count-link\"})"
   ]
  },
  {
   "cell_type": "code",
   "execution_count": null,
   "metadata": {},
   "outputs": [],
   "source": []
  }
 ],
 "metadata": {
  "kernelspec": {
   "display_name": "Python 3",
   "language": "python",
   "name": "python3"
  },
  "language_info": {
   "codemirror_mode": {
    "name": "ipython",
    "version": 3
   },
   "file_extension": ".py",
   "mimetype": "text/x-python",
   "name": "python",
   "nbconvert_exporter": "python",
   "pygments_lexer": "ipython3",
   "version": "3.6.5"
  }
 },
 "nbformat": 4,
 "nbformat_minor": 2
}

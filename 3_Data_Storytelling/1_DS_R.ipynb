{
 "cells": [
  {
   "cell_type": "markdown",
   "metadata": {},
   "source": [
    "# Google Play Store Twitter Sentiment Analysis\n",
    "Data provided by [Kaggle](https://www.kaggle.com/lava18/google-play-store-apps). In addition Twitter will be analyzed for any further data on the app itself.\n",
    "\n",
    "A coulple questions come to mind:\n",
    "1. Is there really a corelation between the number of times an app was downloaded and the Twitter sentiment.\n",
    "2. Try to find from the top 10000 apps (based on installs) how each install correlates to the positve and negative sentiments on Twitter.\n",
    "3. Try to find which genre of apps brings the most positive and negative sentiment out of the top 10 downloads from the play store.\n",
    "\n",
    "\n",
    "For the purpose of the second task **Syuzhet** will be used. **Syuzhet** get's the sentiment into 10 emotions: anger, anticipation, disgust, fear, joy, sadness, surprise, trust, negative and positive.\n",
    "The notebook will examine only the positive and negative sentiments for each first 100 tweets for each app.\n",
    "\n",
    "But first let's start with loading the libraries:"
   ]
  },
  {
   "cell_type": "code",
   "execution_count": 1,
   "metadata": {},
   "outputs": [
    {
     "name": "stderr",
     "output_type": "stream",
     "text": [
      "Loading required package: Rcpp\n",
      "## \n",
      "## Amelia II: Multiple Imputation\n",
      "## (Version 1.7.4, built: 2015-12-05)\n",
      "## Copyright (C) 2005-2018 James Honaker, Gary King and Matthew Blackwell\n",
      "## Refer to http://gking.harvard.edu/amelia/ for more information\n",
      "## \n",
      "\n",
      "Attaching package: ‘dplyr’\n",
      "\n",
      "The following objects are masked from ‘package:stats’:\n",
      "\n",
      "    filter, lag\n",
      "\n",
      "The following objects are masked from ‘package:base’:\n",
      "\n",
      "    intersect, setdiff, setequal, union\n",
      "\n",
      "\n",
      "Attaching package: ‘twitteR’\n",
      "\n",
      "The following objects are masked from ‘package:dplyr’:\n",
      "\n",
      "    id, location\n",
      "\n"
     ]
    }
   ],
   "source": [
    "library(ggplot2)\n",
    "library(Amelia)\n",
    "library(dplyr)\n",
    "library(rjson)\n",
    "library(twitteR)\n",
    "library(syuzhet)\n",
    "\n",
    "set.seed(42)"
   ]
  },
  {
   "cell_type": "markdown",
   "metadata": {},
   "source": [
    "## 1. Loading and preprocessing the data."
   ]
  },
  {
   "cell_type": "markdown",
   "metadata": {},
   "source": [
    "### 1.1 Loading the dataset."
   ]
  },
  {
   "cell_type": "code",
   "execution_count": 2,
   "metadata": {},
   "outputs": [],
   "source": [
    "df <- data.frame(read.csv('data/googleplaystore.csv'))"
   ]
  },
  {
   "cell_type": "code",
   "execution_count": 3,
   "metadata": {},
   "outputs": [
    {
     "data": {
      "text/html": [
       "<table>\n",
       "<thead><tr><th scope=col>App</th><th scope=col>Category</th><th scope=col>Rating</th><th scope=col>Reviews</th><th scope=col>Size</th><th scope=col>Installs</th><th scope=col>Type</th><th scope=col>Price</th><th scope=col>Content.Rating</th><th scope=col>Genres</th><th scope=col>Last.Updated</th><th scope=col>Current.Ver</th><th scope=col>Android.Ver</th></tr></thead>\n",
       "<tbody>\n",
       "\t<tr><td><span style=white-space:pre-wrap>Photo Editor &amp; Candy Camera &amp; Grid &amp; ScrapBook    </span></td><td>ART_AND_DESIGN                                                                                        </td><td>4.1                                                                                                   </td><td><span style=white-space:pre-wrap>159   </span>                                                        </td><td>19M                                                                                                   </td><td><span style=white-space:pre-wrap>10,000+    </span>                                                   </td><td>Free                                                                                                  </td><td>0                                                                                                     </td><td>Everyone                                                                                              </td><td><span style=white-space:pre-wrap>Art &amp; Design             </span>                                 </td><td>January 7, 2018                                                                                       </td><td><span style=white-space:pre-wrap>1.0.0             </span>                                            </td><td>4.0.3 and up                                                                                          </td></tr>\n",
       "\t<tr><td><span style=white-space:pre-wrap>Coloring book moana                               </span></td><td>ART_AND_DESIGN                                                                            </td><td>3.9                                                                                       </td><td><span style=white-space:pre-wrap>967   </span>                                            </td><td>14M                                                                                       </td><td><span style=white-space:pre-wrap>500,000+   </span>                                       </td><td>Free                                                                                      </td><td>0                                                                                         </td><td>Everyone                                                                                  </td><td>Art &amp; Design;Pretend Play                                                             </td><td>January 15, 2018                                                                          </td><td><span style=white-space:pre-wrap>2.0.0             </span>                                </td><td>4.0.3 and up                                                                              </td></tr>\n",
       "\t<tr><td>U Launcher Lite – FREE Live Cool Themes, Hide Apps                   </td><td>ART_AND_DESIGN                                                       </td><td>4.7                                                                  </td><td>87510                                                                </td><td>8.7M                                                                 </td><td>5,000,000+                                                           </td><td>Free                                                                 </td><td>0                                                                    </td><td>Everyone                                                             </td><td><span style=white-space:pre-wrap>Art &amp; Design             </span></td><td><span style=white-space:pre-wrap>August 1, 2018  </span>             </td><td><span style=white-space:pre-wrap>1.2.4             </span>           </td><td>4.0.3 and up                                                         </td></tr>\n",
       "\t<tr><td><span style=white-space:pre-wrap>Sketch - Draw &amp; Paint                             </span></td><td>ART_AND_DESIGN                                                                                </td><td>4.5                                                                                           </td><td>215644                                                                                        </td><td>25M                                                                                           </td><td>50,000,000+                                                                                   </td><td>Free                                                                                          </td><td>0                                                                                             </td><td><span style=white-space:pre-wrap>Teen    </span>                                              </td><td><span style=white-space:pre-wrap>Art &amp; Design             </span>                         </td><td><span style=white-space:pre-wrap>June 8, 2018    </span>                                      </td><td>Varies with device                                                                            </td><td><span style=white-space:pre-wrap>4.2 and up  </span>                                          </td></tr>\n",
       "\t<tr><td><span style=white-space:pre-wrap>Pixel Draw - Number Art Coloring Book             </span></td><td>ART_AND_DESIGN                                                                            </td><td>4.3                                                                                       </td><td><span style=white-space:pre-wrap>967   </span>                                            </td><td>2.8M                                                                                      </td><td><span style=white-space:pre-wrap>100,000+   </span>                                       </td><td>Free                                                                                      </td><td>0                                                                                         </td><td>Everyone                                                                                  </td><td><span style=white-space:pre-wrap>Art &amp; Design;Creativity  </span>                     </td><td><span style=white-space:pre-wrap>June 20, 2018   </span>                                  </td><td><span style=white-space:pre-wrap>1.1               </span>                                </td><td><span style=white-space:pre-wrap>4.4 and up  </span>                                      </td></tr>\n",
       "\t<tr><td><span style=white-space:pre-wrap>Paper flowers instructions                        </span></td><td>ART_AND_DESIGN                                                                            </td><td>4.4                                                                                       </td><td><span style=white-space:pre-wrap>167   </span>                                            </td><td>5.6M                                                                                      </td><td><span style=white-space:pre-wrap>50,000+    </span>                                       </td><td>Free                                                                                      </td><td>0                                                                                         </td><td>Everyone                                                                                  </td><td><span style=white-space:pre-wrap>Art &amp; Design             </span>                     </td><td><span style=white-space:pre-wrap>March 26, 2017  </span>                                  </td><td><span style=white-space:pre-wrap>1.0               </span>                                </td><td><span style=white-space:pre-wrap>2.3 and up  </span>                                      </td></tr>\n",
       "</tbody>\n",
       "</table>\n"
      ],
      "text/latex": [
       "\\begin{tabular}{r|lllllllllllll}\n",
       " App & Category & Rating & Reviews & Size & Installs & Type & Price & Content.Rating & Genres & Last.Updated & Current.Ver & Android.Ver\\\\\n",
       "\\hline\n",
       "\t Photo Editor \\& Candy Camera \\& Grid \\& ScrapBook     & ART\\_AND\\_DESIGN                                       & 4.1                                                      & 159                                                      & 19M                                                      & 10,000+                                                  & Free                                                     & 0                                                        & Everyone                                                 & Art \\& Design                                           & January 7, 2018                                          & 1.0.0                                                    & 4.0.3 and up                                            \\\\\n",
       "\t Coloring book moana                                & ART\\_AND\\_DESIGN                                 & 3.9                                                & 967                                                & 14M                                                & 500,000+                                           & Free                                               & 0                                                  & Everyone                                           & Art \\& Design;Pretend Play                        & January 15, 2018                                   & 2.0.0                                              & 4.0.3 and up                                      \\\\\n",
       "\t U Launcher Lite – FREE Live Cool Themes, Hide Apps & ART\\_AND\\_DESIGN                                 & 4.7                                                & 87510                                              & 8.7M                                               & 5,000,000+                                         & Free                                               & 0                                                  & Everyone                                           & Art \\& Design                                     & August 1, 2018                                     & 1.2.4                                              & 4.0.3 and up                                      \\\\\n",
       "\t Sketch - Draw \\& Paint                              & ART\\_AND\\_DESIGN                                   & 4.5                                                  & 215644                                               & 25M                                                  & 50,000,000+                                          & Free                                                 & 0                                                    & Teen                                                 & Art \\& Design                                       & June 8, 2018                                         & Varies with device                                   & 4.2 and up                                          \\\\\n",
       "\t Pixel Draw - Number Art Coloring Book              & ART\\_AND\\_DESIGN                                 & 4.3                                                & 967                                                & 2.8M                                               & 100,000+                                           & Free                                               & 0                                                  & Everyone                                           & Art \\& Design;Creativity                          & June 20, 2018                                      & 1.1                                                & 4.4 and up                                        \\\\\n",
       "\t Paper flowers instructions                         & ART\\_AND\\_DESIGN                                 & 4.4                                                & 167                                                & 5.6M                                               & 50,000+                                            & Free                                               & 0                                                  & Everyone                                           & Art \\& Design                                     & March 26, 2017                                     & 1.0                                                & 2.3 and up                                        \\\\\n",
       "\\end{tabular}\n"
      ],
      "text/markdown": [
       "\n",
       "App | Category | Rating | Reviews | Size | Installs | Type | Price | Content.Rating | Genres | Last.Updated | Current.Ver | Android.Ver | \n",
       "|---|---|---|---|---|---|\n",
       "| Photo Editor & Candy Camera & Grid & ScrapBook     | ART_AND_DESIGN                                     | 4.1                                                | 159                                                | 19M                                                | 10,000+                                            | Free                                               | 0                                                  | Everyone                                           | Art & Design                                       | January 7, 2018                                    | 1.0.0                                              | 4.0.3 and up                                       | \n",
       "| Coloring book moana                                | ART_AND_DESIGN                                     | 3.9                                                | 967                                                | 14M                                                | 500,000+                                           | Free                                               | 0                                                  | Everyone                                           | Art & Design;Pretend Play                          | January 15, 2018                                   | 2.0.0                                              | 4.0.3 and up                                       | \n",
       "| U Launcher Lite – FREE Live Cool Themes, Hide Apps | ART_AND_DESIGN                                     | 4.7                                                | 87510                                              | 8.7M                                               | 5,000,000+                                         | Free                                               | 0                                                  | Everyone                                           | Art & Design                                       | August 1, 2018                                     | 1.2.4                                              | 4.0.3 and up                                       | \n",
       "| Sketch - Draw & Paint                              | ART_AND_DESIGN                                     | 4.5                                                | 215644                                             | 25M                                                | 50,000,000+                                        | Free                                               | 0                                                  | Teen                                               | Art & Design                                       | June 8, 2018                                       | Varies with device                                 | 4.2 and up                                         | \n",
       "| Pixel Draw - Number Art Coloring Book              | ART_AND_DESIGN                                     | 4.3                                                | 967                                                | 2.8M                                               | 100,000+                                           | Free                                               | 0                                                  | Everyone                                           | Art & Design;Creativity                            | June 20, 2018                                      | 1.1                                                | 4.4 and up                                         | \n",
       "| Paper flowers instructions                         | ART_AND_DESIGN                                     | 4.4                                                | 167                                                | 5.6M                                               | 50,000+                                            | Free                                               | 0                                                  | Everyone                                           | Art & Design                                       | March 26, 2017                                     | 1.0                                                | 2.3 and up                                         | \n",
       "\n",
       "\n"
      ],
      "text/plain": [
       "  App                                                Category       Rating\n",
       "1 Photo Editor & Candy Camera & Grid & ScrapBook     ART_AND_DESIGN 4.1   \n",
       "2 Coloring book moana                                ART_AND_DESIGN 3.9   \n",
       "3 U Launcher Lite – FREE Live Cool Themes, Hide Apps ART_AND_DESIGN 4.7   \n",
       "4 Sketch - Draw & Paint                              ART_AND_DESIGN 4.5   \n",
       "5 Pixel Draw - Number Art Coloring Book              ART_AND_DESIGN 4.3   \n",
       "6 Paper flowers instructions                         ART_AND_DESIGN 4.4   \n",
       "  Reviews Size Installs    Type Price Content.Rating Genres                   \n",
       "1 159     19M  10,000+     Free 0     Everyone       Art & Design             \n",
       "2 967     14M  500,000+    Free 0     Everyone       Art & Design;Pretend Play\n",
       "3 87510   8.7M 5,000,000+  Free 0     Everyone       Art & Design             \n",
       "4 215644  25M  50,000,000+ Free 0     Teen           Art & Design             \n",
       "5 967     2.8M 100,000+    Free 0     Everyone       Art & Design;Creativity  \n",
       "6 167     5.6M 50,000+     Free 0     Everyone       Art & Design             \n",
       "  Last.Updated     Current.Ver        Android.Ver \n",
       "1 January 7, 2018  1.0.0              4.0.3 and up\n",
       "2 January 15, 2018 2.0.0              4.0.3 and up\n",
       "3 August 1, 2018   1.2.4              4.0.3 and up\n",
       "4 June 8, 2018     Varies with device 4.2 and up  \n",
       "5 June 20, 2018    1.1                4.4 and up  \n",
       "6 March 26, 2017   1.0                2.3 and up  "
      ]
     },
     "metadata": {},
     "output_type": "display_data"
    }
   ],
   "source": [
    "# Displaying the head\n",
    "head(df)"
   ]
  },
  {
   "cell_type": "markdown",
   "metadata": {},
   "source": [
    "### 1.2 Configuring the twitter connection"
   ]
  },
  {
   "cell_type": "code",
   "execution_count": 4,
   "metadata": {},
   "outputs": [],
   "source": [
    "twitterCreds <- fromJSON(file = \"data/twitter_access.json\")"
   ]
  },
  {
   "cell_type": "code",
   "execution_count": 5,
   "metadata": {},
   "outputs": [
    {
     "name": "stdout",
     "output_type": "stream",
     "text": [
      "[1] \"Using direct authentication\"\n"
     ]
    }
   ],
   "source": [
    "setup_twitter_oauth(twitterCreds$consumer_key, \n",
    "                    twitterCreds$consumer_secret, \n",
    "                    access_token=twitterCreds$access_token, \n",
    "                    access_secret=twitterCreds$access_token_secret)"
   ]
  },
  {
   "cell_type": "code",
   "execution_count": 6,
   "metadata": {},
   "outputs": [],
   "source": [
    "# code snippets to remind me how its done.\n",
    "# soccer.tweets <- searchTwitter(\"soccer\", n=2000, lang=\"en\")\n",
    "# soccer.tweets.df <- twListToDF(soccer.tweets)\n",
    "# get_nrc_sentiment(soccer.tweets.df$text)"
   ]
  },
  {
   "cell_type": "markdown",
   "metadata": {},
   "source": [
    "### 1.3 Getting the bearings of the datasets.\n",
    "First - let's get the dimensions and structure of the dataset."
   ]
  },
  {
   "cell_type": "code",
   "execution_count": 7,
   "metadata": {},
   "outputs": [
    {
     "data": {
      "text/html": [
       "<ol class=list-inline>\n",
       "\t<li>10841</li>\n",
       "\t<li>13</li>\n",
       "</ol>\n"
      ],
      "text/latex": [
       "\\begin{enumerate*}\n",
       "\\item 10841\n",
       "\\item 13\n",
       "\\end{enumerate*}\n"
      ],
      "text/markdown": [
       "1. 10841\n",
       "2. 13\n",
       "\n",
       "\n"
      ],
      "text/plain": [
       "[1] 10841    13"
      ]
     },
     "metadata": {},
     "output_type": "display_data"
    }
   ],
   "source": [
    "dim(df)"
   ]
  },
  {
   "cell_type": "code",
   "execution_count": 8,
   "metadata": {},
   "outputs": [
    {
     "name": "stdout",
     "output_type": "stream",
     "text": [
      "'data.frame':\t10841 obs. of  13 variables:\n",
      " $ App           : Factor w/ 9660 levels \"- Free Comics - Comic Apps\",..: 7206 2551 8970 8089 7272 7103 8149 5568 4926 5806 ...\n",
      " $ Category      : Factor w/ 34 levels \"1.9\",\"ART_AND_DESIGN\",..: 2 2 2 2 2 2 2 2 2 2 ...\n",
      " $ Rating        : num  4.1 3.9 4.7 4.5 4.3 4.4 3.8 4.1 4.4 4.7 ...\n",
      " $ Reviews       : Factor w/ 6002 levels \"0\",\"1\",\"10\",\"100\",..: 1183 5924 5681 1947 5924 1310 1464 3385 816 485 ...\n",
      " $ Size          : Factor w/ 462 levels \"1,000+\",\"1.0M\",..: 55 30 368 102 64 222 55 118 146 120 ...\n",
      " $ Installs      : Factor w/ 22 levels \"0\",\"0+\",\"1,000,000,000+\",..: 8 20 13 16 11 17 17 4 4 8 ...\n",
      " $ Type          : Factor w/ 4 levels \"0\",\"Free\",\"NaN\",..: 2 2 2 2 2 2 2 2 2 2 ...\n",
      " $ Price         : Factor w/ 93 levels \"$0.99\",\"$1.00\",..: 92 92 92 92 92 92 92 92 92 92 ...\n",
      " $ Content.Rating: Factor w/ 7 levels \"\",\"Adults only 18+\",..: 3 3 3 6 3 3 3 3 3 3 ...\n",
      " $ Genres        : Factor w/ 120 levels \"Action\",\"Action;Action & Adventure\",..: 10 13 10 10 12 10 10 10 10 12 ...\n",
      " $ Last.Updated  : Factor w/ 1378 levels \"1.0.19\",\"April 1, 2016\",..: 562 482 117 825 757 901 76 726 1317 670 ...\n",
      " $ Current.Ver   : Factor w/ 2834 levels \"\",\"0.0.0.2\",\"0.0.1\",..: 122 1020 468 2827 280 116 280 2393 1457 1431 ...\n",
      " $ Android.Ver   : Factor w/ 35 levels \"\",\"1.0 and up\",..: 17 17 17 20 22 10 17 20 12 17 ...\n"
     ]
    }
   ],
   "source": [
    "str(df)"
   ]
  },
  {
   "cell_type": "markdown",
   "metadata": {},
   "source": [
    "**Structure summary**:  \n",
    "From the structure it seems that some columns, that one would expect to be of type *numerical* are actually *categoricals*. The only one that would be true is *Reviews* as the column indicates the number of reviews an app is getting. In addition *Size* also could be translated to a numerical value as there are 462 levels. On the other hand it seems that the column *Installs* is aggregated in 22 levels and is indeed a categorical value. Same goes for the *Price* with 93 levels. The *Last.Updated* column seems like a date-time.  \n",
    "\n",
    "But first let's clean the dataset of any potential errors - what does this mean - we need to check each column if there is a value(s) that is out of context for the column. Let's make a small plan with each of the columns.\n",
    "\n",
    "1. App - nothing to do here as names can vary quite a lot.\n",
    "2. Category - as there aren't many factors we can get the unique values and check if something is out of context.\n",
    "3. Rating - nothing to do here as well, as the structure of the dataframe indicated it is a numerical - which we expect.\n",
    "4. Reviews - check if the column in entirely composed of integers. A non-integer will indicate a problem with the data.\n",
    "5. Size - looking at the head we can see that if the value begins with a number - it will indicate a valid value. Anything else we have to do per item basis.\n",
    "6. Installs - again like the reviews - if the first digit is an integer its okay - else process it manually.\n",
    "7. Type - only 4 factors, thus we can examine them one by one.\n",
    "8. Price - again a simple check - the first char should be either a 0, an F (for Free) or a dollar sign.\n",
    "9. Content.Rating - only 7 factors - again we can treat them case by case.\n",
    "10. Genres - this is a tricky one as the case can be as the App column. We can leave it for now and see if outliers happen go back and fix them.\n",
    "11. Last.Updated - try to convert to  a date - if it fails - examine it.\n",
    "12. Curent.Ver & Android.Ver - leave as is, as they are not intended to be used."
   ]
  },
  {
   "cell_type": "markdown",
   "metadata": {},
   "source": [
    "##### *2. Category*"
   ]
  },
  {
   "cell_type": "code",
   "execution_count": 9,
   "metadata": {},
   "outputs": [
    {
     "data": {
      "text/html": [
       "<ol class=list-inline>\n",
       "\t<li>ART_AND_DESIGN</li>\n",
       "\t<li>AUTO_AND_VEHICLES</li>\n",
       "\t<li>BEAUTY</li>\n",
       "\t<li>BOOKS_AND_REFERENCE</li>\n",
       "\t<li>BUSINESS</li>\n",
       "\t<li>COMICS</li>\n",
       "\t<li>COMMUNICATION</li>\n",
       "\t<li>DATING</li>\n",
       "\t<li>EDUCATION</li>\n",
       "\t<li>ENTERTAINMENT</li>\n",
       "\t<li>EVENTS</li>\n",
       "\t<li>FINANCE</li>\n",
       "\t<li>FOOD_AND_DRINK</li>\n",
       "\t<li>HEALTH_AND_FITNESS</li>\n",
       "\t<li>HOUSE_AND_HOME</li>\n",
       "\t<li>LIBRARIES_AND_DEMO</li>\n",
       "\t<li>LIFESTYLE</li>\n",
       "\t<li>GAME</li>\n",
       "\t<li>FAMILY</li>\n",
       "\t<li>MEDICAL</li>\n",
       "\t<li>SOCIAL</li>\n",
       "\t<li>SHOPPING</li>\n",
       "\t<li>PHOTOGRAPHY</li>\n",
       "\t<li>SPORTS</li>\n",
       "\t<li>TRAVEL_AND_LOCAL</li>\n",
       "\t<li>TOOLS</li>\n",
       "\t<li>PERSONALIZATION</li>\n",
       "\t<li>PRODUCTIVITY</li>\n",
       "\t<li>PARENTING</li>\n",
       "\t<li>WEATHER</li>\n",
       "\t<li>VIDEO_PLAYERS</li>\n",
       "\t<li>NEWS_AND_MAGAZINES</li>\n",
       "\t<li>MAPS_AND_NAVIGATION</li>\n",
       "\t<li>1.9</li>\n",
       "</ol>\n"
      ],
      "text/latex": [
       "\\begin{enumerate*}\n",
       "\\item ART\\_AND\\_DESIGN\n",
       "\\item AUTO\\_AND\\_VEHICLES\n",
       "\\item BEAUTY\n",
       "\\item BOOKS\\_AND\\_REFERENCE\n",
       "\\item BUSINESS\n",
       "\\item COMICS\n",
       "\\item COMMUNICATION\n",
       "\\item DATING\n",
       "\\item EDUCATION\n",
       "\\item ENTERTAINMENT\n",
       "\\item EVENTS\n",
       "\\item FINANCE\n",
       "\\item FOOD\\_AND\\_DRINK\n",
       "\\item HEALTH\\_AND\\_FITNESS\n",
       "\\item HOUSE\\_AND\\_HOME\n",
       "\\item LIBRARIES\\_AND\\_DEMO\n",
       "\\item LIFESTYLE\n",
       "\\item GAME\n",
       "\\item FAMILY\n",
       "\\item MEDICAL\n",
       "\\item SOCIAL\n",
       "\\item SHOPPING\n",
       "\\item PHOTOGRAPHY\n",
       "\\item SPORTS\n",
       "\\item TRAVEL\\_AND\\_LOCAL\n",
       "\\item TOOLS\n",
       "\\item PERSONALIZATION\n",
       "\\item PRODUCTIVITY\n",
       "\\item PARENTING\n",
       "\\item WEATHER\n",
       "\\item VIDEO\\_PLAYERS\n",
       "\\item NEWS\\_AND\\_MAGAZINES\n",
       "\\item MAPS\\_AND\\_NAVIGATION\n",
       "\\item 1.9\n",
       "\\end{enumerate*}\n"
      ],
      "text/markdown": [
       "1. ART_AND_DESIGN\n",
       "2. AUTO_AND_VEHICLES\n",
       "3. BEAUTY\n",
       "4. BOOKS_AND_REFERENCE\n",
       "5. BUSINESS\n",
       "6. COMICS\n",
       "7. COMMUNICATION\n",
       "8. DATING\n",
       "9. EDUCATION\n",
       "10. ENTERTAINMENT\n",
       "11. EVENTS\n",
       "12. FINANCE\n",
       "13. FOOD_AND_DRINK\n",
       "14. HEALTH_AND_FITNESS\n",
       "15. HOUSE_AND_HOME\n",
       "16. LIBRARIES_AND_DEMO\n",
       "17. LIFESTYLE\n",
       "18. GAME\n",
       "19. FAMILY\n",
       "20. MEDICAL\n",
       "21. SOCIAL\n",
       "22. SHOPPING\n",
       "23. PHOTOGRAPHY\n",
       "24. SPORTS\n",
       "25. TRAVEL_AND_LOCAL\n",
       "26. TOOLS\n",
       "27. PERSONALIZATION\n",
       "28. PRODUCTIVITY\n",
       "29. PARENTING\n",
       "30. WEATHER\n",
       "31. VIDEO_PLAYERS\n",
       "32. NEWS_AND_MAGAZINES\n",
       "33. MAPS_AND_NAVIGATION\n",
       "34. 1.9\n",
       "\n",
       "\n"
      ],
      "text/plain": [
       " [1] ART_AND_DESIGN      AUTO_AND_VEHICLES   BEAUTY             \n",
       " [4] BOOKS_AND_REFERENCE BUSINESS            COMICS             \n",
       " [7] COMMUNICATION       DATING              EDUCATION          \n",
       "[10] ENTERTAINMENT       EVENTS              FINANCE            \n",
       "[13] FOOD_AND_DRINK      HEALTH_AND_FITNESS  HOUSE_AND_HOME     \n",
       "[16] LIBRARIES_AND_DEMO  LIFESTYLE           GAME               \n",
       "[19] FAMILY              MEDICAL             SOCIAL             \n",
       "[22] SHOPPING            PHOTOGRAPHY         SPORTS             \n",
       "[25] TRAVEL_AND_LOCAL    TOOLS               PERSONALIZATION    \n",
       "[28] PRODUCTIVITY        PARENTING           WEATHER            \n",
       "[31] VIDEO_PLAYERS       NEWS_AND_MAGAZINES  MAPS_AND_NAVIGATION\n",
       "[34] 1.9                \n",
       "34 Levels: 1.9 ART_AND_DESIGN AUTO_AND_VEHICLES BEAUTY ... WEATHER"
      ]
     },
     "metadata": {},
     "output_type": "display_data"
    }
   ],
   "source": [
    "unique(df$Category)"
   ]
  },
  {
   "cell_type": "markdown",
   "metadata": {},
   "source": [
    "Right of the bat we encounter an error. - 1.9 should not be there. Since the data is a csv, this is likely caused by missing a comma. Let's try to find the number of these columns."
   ]
  },
  {
   "cell_type": "code",
   "execution_count": 10,
   "metadata": {},
   "outputs": [
    {
     "data": {
      "text/html": [
       "1"
      ],
      "text/latex": [
       "1"
      ],
      "text/markdown": [
       "1"
      ],
      "text/plain": [
       "[1] 1"
      ]
     },
     "metadata": {},
     "output_type": "display_data"
    }
   ],
   "source": [
    "length(df[df$Category == 1.9,]$Category)"
   ]
  },
  {
   "cell_type": "markdown",
   "metadata": {},
   "source": [
    "Just one row - we can drop it."
   ]
  },
  {
   "cell_type": "code",
   "execution_count": 11,
   "metadata": {},
   "outputs": [],
   "source": [
    "df = df[!(df$Category == 1.9),]"
   ]
  },
  {
   "cell_type": "markdown",
   "metadata": {},
   "source": [
    "##### *4. Reviews*"
   ]
  },
  {
   "cell_type": "code",
   "execution_count": 12,
   "metadata": {},
   "outputs": [],
   "source": [
    "# should give us an error if there is a value we need to take into an account\n",
    "df$Reviews = as.numeric(as.character(df$Reviews))"
   ]
  },
  {
   "cell_type": "markdown",
   "metadata": {},
   "source": [
    "Since the transform didn't give us any errors we may proceed to the next item.  \n",
    "##### *5. Size*"
   ]
  },
  {
   "cell_type": "code",
   "execution_count": 14,
   "metadata": {},
   "outputs": [
    {
     "name": "stderr",
     "output_type": "stream",
     "text": [
      "Warning message in eval(expr, envir, enclos):\n",
      "“NAs introduced by coercion”"
     ]
    },
    {
     "name": "stdout",
     "output_type": "stream",
     "text": [
      "[1] \"Varies with device\"\n"
     ]
    }
   ],
   "source": [
    "# bad code a head\n",
    "non_numeric_size <- c()\n",
    "for (item in unique(df$Size)) {\n",
    "    x = is.na(as.numeric(substr(as.character(item), 1, 1)))\n",
    "    if(x) {\n",
    "        non_numeric_size <- c(non_numeric_size, item)\n",
    "    }\n",
    "}\n",
    "\n",
    "print(non_numeric_size)"
   ]
  },
  {
   "cell_type": "markdown",
   "metadata": {},
   "source": [
    "So it seems that the only issue is with \"Varies with device\", which is a valid category.\n",
    "##### *6.Installs*"
   ]
  },
  {
   "cell_type": "code",
   "execution_count": 16,
   "metadata": {},
   "outputs": [
    {
     "name": "stderr",
     "output_type": "stream",
     "text": [
      "Warning message in eval(expr, envir, enclos):\n",
      "“NAs introduced by coercion”"
     ]
    }
   ],
   "source": [
    "installs <- as.numeric(as.character(df$Installs))"
   ]
  },
  {
   "cell_type": "markdown",
   "metadata": {},
   "source": [
    "It returned a warning, that some of the values cannot be effectively transformed to numeric ones. Since there are only 22 levels we can inspect them one by one."
   ]
  },
  {
   "cell_type": "code",
   "execution_count": 17,
   "metadata": {},
   "outputs": [
    {
     "data": {
      "text/html": [
       "<ol class=list-inline>\n",
       "\t<li>10,000+</li>\n",
       "\t<li>500,000+</li>\n",
       "\t<li>5,000,000+</li>\n",
       "\t<li>50,000,000+</li>\n",
       "\t<li>100,000+</li>\n",
       "\t<li>50,000+</li>\n",
       "\t<li>1,000,000+</li>\n",
       "\t<li>10,000,000+</li>\n",
       "\t<li>5,000+</li>\n",
       "\t<li>100,000,000+</li>\n",
       "\t<li>1,000,000,000+</li>\n",
       "\t<li>1,000+</li>\n",
       "\t<li>500,000,000+</li>\n",
       "\t<li>50+</li>\n",
       "\t<li>100+</li>\n",
       "\t<li>500+</li>\n",
       "\t<li>10+</li>\n",
       "\t<li>1+</li>\n",
       "\t<li>5+</li>\n",
       "\t<li>0+</li>\n",
       "\t<li>0</li>\n",
       "</ol>\n"
      ],
      "text/latex": [
       "\\begin{enumerate*}\n",
       "\\item 10,000+\n",
       "\\item 500,000+\n",
       "\\item 5,000,000+\n",
       "\\item 50,000,000+\n",
       "\\item 100,000+\n",
       "\\item 50,000+\n",
       "\\item 1,000,000+\n",
       "\\item 10,000,000+\n",
       "\\item 5,000+\n",
       "\\item 100,000,000+\n",
       "\\item 1,000,000,000+\n",
       "\\item 1,000+\n",
       "\\item 500,000,000+\n",
       "\\item 50+\n",
       "\\item 100+\n",
       "\\item 500+\n",
       "\\item 10+\n",
       "\\item 1+\n",
       "\\item 5+\n",
       "\\item 0+\n",
       "\\item 0\n",
       "\\end{enumerate*}\n"
      ],
      "text/markdown": [
       "1. 10,000+\n",
       "2. 500,000+\n",
       "3. 5,000,000+\n",
       "4. 50,000,000+\n",
       "5. 100,000+\n",
       "6. 50,000+\n",
       "7. 1,000,000+\n",
       "8. 10,000,000+\n",
       "9. 5,000+\n",
       "10. 100,000,000+\n",
       "11. 1,000,000,000+\n",
       "12. 1,000+\n",
       "13. 500,000,000+\n",
       "14. 50+\n",
       "15. 100+\n",
       "16. 500+\n",
       "17. 10+\n",
       "18. 1+\n",
       "19. 5+\n",
       "20. 0+\n",
       "21. 0\n",
       "\n",
       "\n"
      ],
      "text/plain": [
       " [1] 10,000+        500,000+       5,000,000+     50,000,000+    100,000+      \n",
       " [6] 50,000+        1,000,000+     10,000,000+    5,000+         100,000,000+  \n",
       "[11] 1,000,000,000+ 1,000+         500,000,000+   50+            100+          \n",
       "[16] 500+           10+            1+             5+             0+            \n",
       "[21] 0             \n",
       "22 Levels: 0 0+ 1,000,000,000+ 1,000,000+ 1,000+ 1+ 10,000,000+ 10,000+ ... Free"
      ]
     },
     "metadata": {},
     "output_type": "display_data"
    }
   ],
   "source": [
    "unique(df$Installs)"
   ]
  },
  {
   "cell_type": "markdown",
   "metadata": {},
   "source": [
    "It seems that the `+` sign after each level created the problem. But we see that the values are numeric. However since it is a factor there is no point to transform it into a numerical column."
   ]
  },
  {
   "cell_type": "markdown",
   "metadata": {},
   "source": [
    "##### *7. Type*"
   ]
  },
  {
   "cell_type": "code",
   "execution_count": 18,
   "metadata": {},
   "outputs": [
    {
     "data": {
      "text/html": [
       "<ol class=list-inline>\n",
       "\t<li>Free</li>\n",
       "\t<li>Paid</li>\n",
       "\t<li>NaN</li>\n",
       "</ol>\n"
      ],
      "text/latex": [
       "\\begin{enumerate*}\n",
       "\\item Free\n",
       "\\item Paid\n",
       "\\item NaN\n",
       "\\end{enumerate*}\n"
      ],
      "text/markdown": [
       "1. Free\n",
       "2. Paid\n",
       "3. NaN\n",
       "\n",
       "\n"
      ],
      "text/plain": [
       "[1] Free Paid NaN \n",
       "Levels: 0 Free NaN Paid"
      ]
     },
     "metadata": {},
     "output_type": "display_data"
    }
   ],
   "source": [
    "unique(df$Type)"
   ]
  },
  {
   "cell_type": "markdown",
   "metadata": {},
   "source": [
    "The structure reported that we have 4 factors, but here there are only 3. Same with the *Installs* column - it seems that the row that was dropped in *Category* removed an unnesecary category.\n",
    "\n",
    "##### 8. *Price*"
   ]
  },
  {
   "cell_type": "code",
   "execution_count": 24,
   "metadata": {},
   "outputs": [
    {
     "name": "stdout",
     "output_type": "stream",
     "text": [
      "NULL\n"
     ]
    }
   ],
   "source": [
    "irregular_items <- c()\n",
    "for (item in unique(df$Price)) {\n",
    "    if (!(substr(item,1,1) == '$' | substr(item,1,1) == '0')) {\n",
    "        irregular_items <- c(irregular_items, item)\n",
    "    }\n",
    "}\n",
    "\n",
    "print(irregular_items)"
   ]
  },
  {
   "cell_type": "markdown",
   "metadata": {},
   "source": [
    "The check returned an empty list.\n",
    "\n",
    "##### *9. Content.Rating*"
   ]
  },
  {
   "cell_type": "code",
   "execution_count": 25,
   "metadata": {},
   "outputs": [
    {
     "data": {
      "text/html": [
       "<ol class=list-inline>\n",
       "\t<li>Everyone</li>\n",
       "\t<li>Teen</li>\n",
       "\t<li>Everyone 10+</li>\n",
       "\t<li>Mature 17+</li>\n",
       "\t<li>Adults only 18+</li>\n",
       "\t<li>Unrated</li>\n",
       "</ol>\n"
      ],
      "text/latex": [
       "\\begin{enumerate*}\n",
       "\\item Everyone\n",
       "\\item Teen\n",
       "\\item Everyone 10+\n",
       "\\item Mature 17+\n",
       "\\item Adults only 18+\n",
       "\\item Unrated\n",
       "\\end{enumerate*}\n"
      ],
      "text/markdown": [
       "1. Everyone\n",
       "2. Teen\n",
       "3. Everyone 10+\n",
       "4. Mature 17+\n",
       "5. Adults only 18+\n",
       "6. Unrated\n",
       "\n",
       "\n"
      ],
      "text/plain": [
       "[1] Everyone        Teen            Everyone 10+    Mature 17+     \n",
       "[5] Adults only 18+ Unrated        \n",
       "Levels:  Adults only 18+ Everyone Everyone 10+ Mature 17+ Teen Unrated"
      ]
     },
     "metadata": {},
     "output_type": "display_data"
    }
   ],
   "source": [
    "unique(df$Content.Rating)"
   ]
  },
  {
   "cell_type": "markdown",
   "metadata": {},
   "source": [
    "This column seems right and no unexpected values came up.\n",
    "\n",
    "##### *11 Last.Updated*"
   ]
  },
  {
   "cell_type": "code",
   "execution_count": 58,
   "metadata": {},
   "outputs": [
    {
     "data": {
      "text/html": [
       "'C'"
      ],
      "text/latex": [
       "'C'"
      ],
      "text/markdown": [
       "'C'"
      ],
      "text/plain": [
       "[1] \"C\""
      ]
     },
     "metadata": {},
     "output_type": "display_data"
    }
   ],
   "source": [
    "Sys.setlocale('LC_TIME', 'C') # To work with the format\n",
    "df$Last.Updated <- as.Date(df$Last.Updated, format=\"%B %d, %Y\")"
   ]
  },
  {
   "cell_type": "markdown",
   "metadata": {},
   "source": [
    "Let's verify the structure once more."
   ]
  },
  {
   "cell_type": "code",
   "execution_count": 59,
   "metadata": {},
   "outputs": [
    {
     "name": "stdout",
     "output_type": "stream",
     "text": [
      "'data.frame':\t10840 obs. of  13 variables:\n",
      " $ App           : Factor w/ 9660 levels \"- Free Comics - Comic Apps\",..: 7206 2551 8970 8089 7272 7103 8149 5568 4926 5806 ...\n",
      " $ Category      : Factor w/ 34 levels \"1.9\",\"ART_AND_DESIGN\",..: 2 2 2 2 2 2 2 2 2 2 ...\n",
      " $ Rating        : num  4.1 3.9 4.7 4.5 4.3 4.4 3.8 4.1 4.4 4.7 ...\n",
      " $ Reviews       : num  159 967 87510 215644 967 ...\n",
      " $ Size          : Factor w/ 462 levels \"1,000+\",\"1.0M\",..: 55 30 368 102 64 222 55 118 146 120 ...\n",
      " $ Installs      : Factor w/ 22 levels \"0\",\"0+\",\"1,000,000,000+\",..: 8 20 13 16 11 17 17 4 4 8 ...\n",
      " $ Type          : Factor w/ 4 levels \"0\",\"Free\",\"NaN\",..: 2 2 2 2 2 2 2 2 2 2 ...\n",
      " $ Price         : Factor w/ 93 levels \"$0.99\",\"$1.00\",..: 92 92 92 92 92 92 92 92 92 92 ...\n",
      " $ Content.Rating: Factor w/ 7 levels \"\",\"Adults only 18+\",..: 3 3 3 6 3 3 3 3 3 3 ...\n",
      " $ Genres        : Factor w/ 120 levels \"Action\",\"Action;Action & Adventure\",..: 10 13 10 10 12 10 10 10 10 12 ...\n",
      " $ Last.Updated  : Date, format: \"2018-01-07\" \"2018-01-15\" ...\n",
      " $ Current.Ver   : Factor w/ 2834 levels \"\",\"0.0.0.2\",\"0.0.1\",..: 122 1020 468 2827 280 116 280 2393 1457 1431 ...\n",
      " $ Android.Ver   : Factor w/ 35 levels \"\",\"1.0 and up\",..: 17 17 17 20 22 10 17 20 12 17 ...\n"
     ]
    }
   ],
   "source": [
    "str(df)"
   ]
  },
  {
   "cell_type": "markdown",
   "metadata": {},
   "source": [
    "All seems according to plan."
   ]
  },
  {
   "cell_type": "markdown",
   "metadata": {},
   "source": [
    "**Plan**:  \n",
    "1. *Preprocessing Data:*  \n",
    "    * Check for outliers, as I saw some of the factors are unexpected, when taking into account the column's context.\n",
    "    * Finish transforming the other columns.  \n",
    "2. *Initial Dataviz:*  \n",
    "    * Treat `Installs` as a target variable and get the relation between the Category, Rating, #Reviews, Type, Genres and Price.\n",
    "    * Sort the dataset, based on Installs and start scraping Twitter."
   ]
  },
  {
   "cell_type": "code",
   "execution_count": null,
   "metadata": {},
   "outputs": [],
   "source": []
  },
  {
   "cell_type": "code",
   "execution_count": null,
   "metadata": {},
   "outputs": [],
   "source": []
  }
 ],
 "metadata": {
  "kernelspec": {
   "display_name": "R",
   "language": "R",
   "name": "ir"
  },
  "language_info": {
   "codemirror_mode": "r",
   "file_extension": ".r",
   "mimetype": "text/x-r-source",
   "name": "R",
   "pygments_lexer": "r",
   "version": "3.4.2"
  }
 },
 "nbformat": 4,
 "nbformat_minor": 2
}

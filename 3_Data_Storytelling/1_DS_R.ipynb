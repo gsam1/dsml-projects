{
 "cells": [
  {
   "cell_type": "markdown",
   "metadata": {},
   "source": [
    "# Google Play Store Twitter Sentiment Analysis\n",
    "Data provided by [Kaggle](https://www.kaggle.com/lava18/google-play-store-apps). In addition Twitter will be analyzed for any further data on the app itself.\n",
    "\n",
    "A coulple questions come to mind:\n",
    "1. Is there really a corelation between the number of times an app was downloaded and the Twitter sentiment.\n",
    "2. Try to find from the top 10000 apps (based on installs) how each install correlates to the positve and negative sentiments on Twitter.\n",
    "3. Try to find which genre of apps brings the most positive and negative sentiment out of the top 10 downloads from the play store.\n",
    "\n",
    "\n",
    "For the purpose of the second task **Syuzhet** will be used. **Syuzhet** get's the sentiment into 10 emotions: anger, anticipation, disgust, fear, joy, sadness, surprise, trust, negative and positive.\n",
    "The notebook will examine only the positive and negative sentiments for each first 100 tweets for each app.\n",
    "\n",
    "But first let's start with loading the libraries:"
   ]
  },
  {
   "cell_type": "code",
   "execution_count": 7,
   "metadata": {},
   "outputs": [],
   "source": [
    "library(ggplot2)\n",
    "library(Amelia)\n",
    "library(dplyr)\n",
    "library(rjson)\n",
    "library(twitteR)\n",
    "library(syuzhet)\n",
    "\n",
    "set.seed(42)"
   ]
  },
  {
   "cell_type": "markdown",
   "metadata": {},
   "source": [
    "## 1. Loading and preprocessing the data."
   ]
  },
  {
   "cell_type": "markdown",
   "metadata": {},
   "source": [
    "### 1.1 Loading the dataset."
   ]
  },
  {
   "cell_type": "code",
   "execution_count": 8,
   "metadata": {},
   "outputs": [],
   "source": [
    "df <- data.frame(read.csv('data/googleplaystore.csv'))"
   ]
  },
  {
   "cell_type": "code",
   "execution_count": 18,
   "metadata": {},
   "outputs": [
    {
     "data": {
      "text/html": [
       "<table>\n",
       "<thead><tr><th scope=col>App</th><th scope=col>Category</th><th scope=col>Rating</th><th scope=col>Reviews</th><th scope=col>Size</th><th scope=col>Installs</th><th scope=col>Type</th><th scope=col>Price</th><th scope=col>Content.Rating</th><th scope=col>Genres</th><th scope=col>Last.Updated</th><th scope=col>Current.Ver</th><th scope=col>Android.Ver</th></tr></thead>\n",
       "<tbody>\n",
       "\t<tr><td><span style=white-space:pre-wrap>Photo Editor &amp; Candy Camera &amp; Grid &amp; ScrapBook    </span></td><td>ART_AND_DESIGN                                                                                        </td><td>4.1                                                                                                   </td><td><span style=white-space:pre-wrap>159   </span>                                                        </td><td>19M                                                                                                   </td><td><span style=white-space:pre-wrap>10,000+    </span>                                                   </td><td>Free                                                                                                  </td><td>0                                                                                                     </td><td>Everyone                                                                                              </td><td><span style=white-space:pre-wrap>Art &amp; Design             </span>                                 </td><td>January 7, 2018                                                                                       </td><td><span style=white-space:pre-wrap>1.0.0             </span>                                            </td><td>4.0.3 and up                                                                                          </td></tr>\n",
       "\t<tr><td><span style=white-space:pre-wrap>Coloring book moana                               </span></td><td>ART_AND_DESIGN                                                                            </td><td>3.9                                                                                       </td><td><span style=white-space:pre-wrap>967   </span>                                            </td><td>14M                                                                                       </td><td><span style=white-space:pre-wrap>500,000+   </span>                                       </td><td>Free                                                                                      </td><td>0                                                                                         </td><td>Everyone                                                                                  </td><td>Art &amp; Design;Pretend Play                                                             </td><td>January 15, 2018                                                                          </td><td><span style=white-space:pre-wrap>2.0.0             </span>                                </td><td>4.0.3 and up                                                                              </td></tr>\n",
       "\t<tr><td>U Launcher Lite – FREE Live Cool Themes, Hide Apps                   </td><td>ART_AND_DESIGN                                                       </td><td>4.7                                                                  </td><td>87510                                                                </td><td>8.7M                                                                 </td><td>5,000,000+                                                           </td><td>Free                                                                 </td><td>0                                                                    </td><td>Everyone                                                             </td><td><span style=white-space:pre-wrap>Art &amp; Design             </span></td><td><span style=white-space:pre-wrap>August 1, 2018  </span>             </td><td><span style=white-space:pre-wrap>1.2.4             </span>           </td><td>4.0.3 and up                                                         </td></tr>\n",
       "\t<tr><td><span style=white-space:pre-wrap>Sketch - Draw &amp; Paint                             </span></td><td>ART_AND_DESIGN                                                                                </td><td>4.5                                                                                           </td><td>215644                                                                                        </td><td>25M                                                                                           </td><td>50,000,000+                                                                                   </td><td>Free                                                                                          </td><td>0                                                                                             </td><td><span style=white-space:pre-wrap>Teen    </span>                                              </td><td><span style=white-space:pre-wrap>Art &amp; Design             </span>                         </td><td><span style=white-space:pre-wrap>June 8, 2018    </span>                                      </td><td>Varies with device                                                                            </td><td><span style=white-space:pre-wrap>4.2 and up  </span>                                          </td></tr>\n",
       "\t<tr><td><span style=white-space:pre-wrap>Pixel Draw - Number Art Coloring Book             </span></td><td>ART_AND_DESIGN                                                                            </td><td>4.3                                                                                       </td><td><span style=white-space:pre-wrap>967   </span>                                            </td><td>2.8M                                                                                      </td><td><span style=white-space:pre-wrap>100,000+   </span>                                       </td><td>Free                                                                                      </td><td>0                                                                                         </td><td>Everyone                                                                                  </td><td><span style=white-space:pre-wrap>Art &amp; Design;Creativity  </span>                     </td><td><span style=white-space:pre-wrap>June 20, 2018   </span>                                  </td><td><span style=white-space:pre-wrap>1.1               </span>                                </td><td><span style=white-space:pre-wrap>4.4 and up  </span>                                      </td></tr>\n",
       "\t<tr><td><span style=white-space:pre-wrap>Paper flowers instructions                        </span></td><td>ART_AND_DESIGN                                                                            </td><td>4.4                                                                                       </td><td><span style=white-space:pre-wrap>167   </span>                                            </td><td>5.6M                                                                                      </td><td><span style=white-space:pre-wrap>50,000+    </span>                                       </td><td>Free                                                                                      </td><td>0                                                                                         </td><td>Everyone                                                                                  </td><td><span style=white-space:pre-wrap>Art &amp; Design             </span>                     </td><td><span style=white-space:pre-wrap>March 26, 2017  </span>                                  </td><td><span style=white-space:pre-wrap>1.0               </span>                                </td><td><span style=white-space:pre-wrap>2.3 and up  </span>                                      </td></tr>\n",
       "</tbody>\n",
       "</table>\n"
      ],
      "text/latex": [
       "\\begin{tabular}{r|lllllllllllll}\n",
       " App & Category & Rating & Reviews & Size & Installs & Type & Price & Content.Rating & Genres & Last.Updated & Current.Ver & Android.Ver\\\\\n",
       "\\hline\n",
       "\t Photo Editor \\& Candy Camera \\& Grid \\& ScrapBook     & ART\\_AND\\_DESIGN                                       & 4.1                                                      & 159                                                      & 19M                                                      & 10,000+                                                  & Free                                                     & 0                                                        & Everyone                                                 & Art \\& Design                                           & January 7, 2018                                          & 1.0.0                                                    & 4.0.3 and up                                            \\\\\n",
       "\t Coloring book moana                                & ART\\_AND\\_DESIGN                                 & 3.9                                                & 967                                                & 14M                                                & 500,000+                                           & Free                                               & 0                                                  & Everyone                                           & Art \\& Design;Pretend Play                        & January 15, 2018                                   & 2.0.0                                              & 4.0.3 and up                                      \\\\\n",
       "\t U Launcher Lite – FREE Live Cool Themes, Hide Apps & ART\\_AND\\_DESIGN                                 & 4.7                                                & 87510                                              & 8.7M                                               & 5,000,000+                                         & Free                                               & 0                                                  & Everyone                                           & Art \\& Design                                     & August 1, 2018                                     & 1.2.4                                              & 4.0.3 and up                                      \\\\\n",
       "\t Sketch - Draw \\& Paint                              & ART\\_AND\\_DESIGN                                   & 4.5                                                  & 215644                                               & 25M                                                  & 50,000,000+                                          & Free                                                 & 0                                                    & Teen                                                 & Art \\& Design                                       & June 8, 2018                                         & Varies with device                                   & 4.2 and up                                          \\\\\n",
       "\t Pixel Draw - Number Art Coloring Book              & ART\\_AND\\_DESIGN                                 & 4.3                                                & 967                                                & 2.8M                                               & 100,000+                                           & Free                                               & 0                                                  & Everyone                                           & Art \\& Design;Creativity                          & June 20, 2018                                      & 1.1                                                & 4.4 and up                                        \\\\\n",
       "\t Paper flowers instructions                         & ART\\_AND\\_DESIGN                                 & 4.4                                                & 167                                                & 5.6M                                               & 50,000+                                            & Free                                               & 0                                                  & Everyone                                           & Art \\& Design                                     & March 26, 2017                                     & 1.0                                                & 2.3 and up                                        \\\\\n",
       "\\end{tabular}\n"
      ],
      "text/markdown": [
       "\n",
       "App | Category | Rating | Reviews | Size | Installs | Type | Price | Content.Rating | Genres | Last.Updated | Current.Ver | Android.Ver | \n",
       "|---|---|---|---|---|---|\n",
       "| Photo Editor & Candy Camera & Grid & ScrapBook     | ART_AND_DESIGN                                     | 4.1                                                | 159                                                | 19M                                                | 10,000+                                            | Free                                               | 0                                                  | Everyone                                           | Art & Design                                       | January 7, 2018                                    | 1.0.0                                              | 4.0.3 and up                                       | \n",
       "| Coloring book moana                                | ART_AND_DESIGN                                     | 3.9                                                | 967                                                | 14M                                                | 500,000+                                           | Free                                               | 0                                                  | Everyone                                           | Art & Design;Pretend Play                          | January 15, 2018                                   | 2.0.0                                              | 4.0.3 and up                                       | \n",
       "| U Launcher Lite – FREE Live Cool Themes, Hide Apps | ART_AND_DESIGN                                     | 4.7                                                | 87510                                              | 8.7M                                               | 5,000,000+                                         | Free                                               | 0                                                  | Everyone                                           | Art & Design                                       | August 1, 2018                                     | 1.2.4                                              | 4.0.3 and up                                       | \n",
       "| Sketch - Draw & Paint                              | ART_AND_DESIGN                                     | 4.5                                                | 215644                                             | 25M                                                | 50,000,000+                                        | Free                                               | 0                                                  | Teen                                               | Art & Design                                       | June 8, 2018                                       | Varies with device                                 | 4.2 and up                                         | \n",
       "| Pixel Draw - Number Art Coloring Book              | ART_AND_DESIGN                                     | 4.3                                                | 967                                                | 2.8M                                               | 100,000+                                           | Free                                               | 0                                                  | Everyone                                           | Art & Design;Creativity                            | June 20, 2018                                      | 1.1                                                | 4.4 and up                                         | \n",
       "| Paper flowers instructions                         | ART_AND_DESIGN                                     | 4.4                                                | 167                                                | 5.6M                                               | 50,000+                                            | Free                                               | 0                                                  | Everyone                                           | Art & Design                                       | March 26, 2017                                     | 1.0                                                | 2.3 and up                                         | \n",
       "\n",
       "\n"
      ],
      "text/plain": [
       "  App                                                Category       Rating\n",
       "1 Photo Editor & Candy Camera & Grid & ScrapBook     ART_AND_DESIGN 4.1   \n",
       "2 Coloring book moana                                ART_AND_DESIGN 3.9   \n",
       "3 U Launcher Lite – FREE Live Cool Themes, Hide Apps ART_AND_DESIGN 4.7   \n",
       "4 Sketch - Draw & Paint                              ART_AND_DESIGN 4.5   \n",
       "5 Pixel Draw - Number Art Coloring Book              ART_AND_DESIGN 4.3   \n",
       "6 Paper flowers instructions                         ART_AND_DESIGN 4.4   \n",
       "  Reviews Size Installs    Type Price Content.Rating Genres                   \n",
       "1 159     19M  10,000+     Free 0     Everyone       Art & Design             \n",
       "2 967     14M  500,000+    Free 0     Everyone       Art & Design;Pretend Play\n",
       "3 87510   8.7M 5,000,000+  Free 0     Everyone       Art & Design             \n",
       "4 215644  25M  50,000,000+ Free 0     Teen           Art & Design             \n",
       "5 967     2.8M 100,000+    Free 0     Everyone       Art & Design;Creativity  \n",
       "6 167     5.6M 50,000+     Free 0     Everyone       Art & Design             \n",
       "  Last.Updated     Current.Ver        Android.Ver \n",
       "1 January 7, 2018  1.0.0              4.0.3 and up\n",
       "2 January 15, 2018 2.0.0              4.0.3 and up\n",
       "3 August 1, 2018   1.2.4              4.0.3 and up\n",
       "4 June 8, 2018     Varies with device 4.2 and up  \n",
       "5 June 20, 2018    1.1                4.4 and up  \n",
       "6 March 26, 2017   1.0                2.3 and up  "
      ]
     },
     "metadata": {},
     "output_type": "display_data"
    }
   ],
   "source": [
    "# Displaying the head\n",
    "head(df)"
   ]
  },
  {
   "cell_type": "markdown",
   "metadata": {},
   "source": [
    "### 1.2 Configuring the twitter connection"
   ]
  },
  {
   "cell_type": "code",
   "execution_count": 10,
   "metadata": {},
   "outputs": [],
   "source": [
    "twitterCreds <- fromJSON(file = \"data/twitter_access.json\")"
   ]
  },
  {
   "cell_type": "code",
   "execution_count": 11,
   "metadata": {},
   "outputs": [
    {
     "name": "stdout",
     "output_type": "stream",
     "text": [
      "[1] \"Using direct authentication\"\n"
     ]
    }
   ],
   "source": [
    "setup_twitter_oauth(twitterCreds$consumer_key, \n",
    "                    twitterCreds$consumer_secret, \n",
    "                    access_token=twitterCreds$access_token, \n",
    "                    access_secret=twitterCreds$access_token_secret)"
   ]
  },
  {
   "cell_type": "code",
   "execution_count": 17,
   "metadata": {},
   "outputs": [],
   "source": [
    "# code snippets to remind me how its done.\n",
    "# soccer.tweets <- searchTwitter(\"soccer\", n=2000, lang=\"en\")\n",
    "# soccer.tweets.df <- twListToDF(soccer.tweets)\n",
    "# get_nrc_sentiment(soccer.tweets.df$text)"
   ]
  },
  {
   "cell_type": "markdown",
   "metadata": {},
   "source": [
    "### 1.3 Getting the bearings of the datasets.\n",
    "First - let's get the dimensions and structure of the dataset."
   ]
  },
  {
   "cell_type": "code",
   "execution_count": 28,
   "metadata": {},
   "outputs": [
    {
     "data": {
      "text/html": [
       "<ol class=list-inline>\n",
       "\t<li>10841</li>\n",
       "\t<li>13</li>\n",
       "</ol>\n"
      ],
      "text/latex": [
       "\\begin{enumerate*}\n",
       "\\item 10841\n",
       "\\item 13\n",
       "\\end{enumerate*}\n"
      ],
      "text/markdown": [
       "1. 10841\n",
       "2. 13\n",
       "\n",
       "\n"
      ],
      "text/plain": [
       "[1] 10841    13"
      ]
     },
     "metadata": {},
     "output_type": "display_data"
    }
   ],
   "source": [
    "dim(df)"
   ]
  },
  {
   "cell_type": "code",
   "execution_count": 19,
   "metadata": {},
   "outputs": [
    {
     "name": "stdout",
     "output_type": "stream",
     "text": [
      "'data.frame':\t10841 obs. of  13 variables:\n",
      " $ App           : Factor w/ 9660 levels \"- Free Comics - Comic Apps\",..: 7206 2551 8970 8089 7272 7103 8149 5568 4926 5806 ...\n",
      " $ Category      : Factor w/ 34 levels \"1.9\",\"ART_AND_DESIGN\",..: 2 2 2 2 2 2 2 2 2 2 ...\n",
      " $ Rating        : num  4.1 3.9 4.7 4.5 4.3 4.4 3.8 4.1 4.4 4.7 ...\n",
      " $ Reviews       : Factor w/ 6002 levels \"0\",\"1\",\"10\",\"100\",..: 1183 5924 5681 1947 5924 1310 1464 3385 816 485 ...\n",
      " $ Size          : Factor w/ 462 levels \"1,000+\",\"1.0M\",..: 55 30 368 102 64 222 55 118 146 120 ...\n",
      " $ Installs      : Factor w/ 22 levels \"0\",\"0+\",\"1,000,000,000+\",..: 8 20 13 16 11 17 17 4 4 8 ...\n",
      " $ Type          : Factor w/ 4 levels \"0\",\"Free\",\"NaN\",..: 2 2 2 2 2 2 2 2 2 2 ...\n",
      " $ Price         : Factor w/ 93 levels \"$0.99\",\"$1.00\",..: 92 92 92 92 92 92 92 92 92 92 ...\n",
      " $ Content.Rating: Factor w/ 7 levels \"\",\"Adults only 18+\",..: 3 3 3 6 3 3 3 3 3 3 ...\n",
      " $ Genres        : Factor w/ 120 levels \"Action\",\"Action;Action & Adventure\",..: 10 13 10 10 12 10 10 10 10 12 ...\n",
      " $ Last.Updated  : Factor w/ 1378 levels \"1.0.19\",\"April 1, 2016\",..: 562 482 117 825 757 901 76 726 1317 670 ...\n",
      " $ Current.Ver   : Factor w/ 2834 levels \"\",\"0.0.0.2\",\"0.0.1\",..: 122 1020 468 2827 280 116 280 2393 1457 1431 ...\n",
      " $ Android.Ver   : Factor w/ 35 levels \"\",\"1.0 and up\",..: 17 17 17 20 22 10 17 20 12 17 ...\n"
     ]
    }
   ],
   "source": [
    "str(df)"
   ]
  },
  {
   "cell_type": "markdown",
   "metadata": {},
   "source": [
    "**Structure summary**:  \n",
    "From the structure it seems that some columns, that one would expect to be of type *numerical* are actually *categoricals*. The only one that would be true is *Reviews* as the column indicates the number of reviews an app is getting. In addition *Size* also could be translated to a numerical value as there are 462 levels. On the other hand it seems that the column *Installs* is aggregated in 22 levels and is indeed a categorical value. Same goes for the *Price*. The *Last.Updated* column seems like a date-time.  \n",
    "\n",
    "Let's start with the transformation of the columns."
   ]
  },
  {
   "cell_type": "code",
   "execution_count": 32,
   "metadata": {},
   "outputs": [],
   "source": [
    "gplay_df = transform(df, Reviews = as.numeric(Reviews)) # start with column reviews"
   ]
  },
  {
   "cell_type": "markdown",
   "metadata": {},
   "source": [
    "**Plan**:  \n",
    "1. *Preprocessing Data*  \n",
    "    *. Check for outliers, as I saw some of the factors are unexpected, when taking into account the column's context.\n",
    "    *. Finish transforming the other columns.  \n",
    "2.*Initial Dataviz*  \n",
    "1. Treat `Installs` as a target variable and get the relation between the Category, Rating, #Reviews, Type, Genres and Price.\n",
    "2. Sort the dataset, based on Installs and start scraping Twitter."
   ]
  },
  {
   "cell_type": "code",
   "execution_count": null,
   "metadata": {},
   "outputs": [],
   "source": []
  }
 ],
 "metadata": {
  "kernelspec": {
   "display_name": "R",
   "language": "R",
   "name": "ir"
  },
  "language_info": {
   "codemirror_mode": "r",
   "file_extension": ".r",
   "mimetype": "text/x-r-source",
   "name": "R",
   "pygments_lexer": "r",
   "version": "3.4.2"
  }
 },
 "nbformat": 4,
 "nbformat_minor": 2
}

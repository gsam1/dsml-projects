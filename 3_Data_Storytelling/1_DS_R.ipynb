{
 "cells": [
  {
   "cell_type": "markdown",
   "metadata": {},
   "source": [
    "# Google Play Store Twitter Sentiment Analysis\n",
    "Data provided by [Kaggle](https://www.kaggle.com/lava18/google-play-store-apps). In addition Twitter will be analyzed for any further data on the app itself.\n",
    "\n",
    "A coulple questions come to mind:\n",
    "1. Is there really a corelation between the number of times an app was downloaded and the Twitter sentiment.\n",
    "2. Try to find which genre of apps brings the most positive sentiment out of the top 10 downloads from the play store.\n",
    "\n",
    "Let's start with loading the libraries:"
   ]
  },
  {
   "cell_type": "code",
   "execution_count": 13,
   "metadata": {},
   "outputs": [],
   "source": [
    "library(ggplot2)\n",
    "library(Amelia)\n",
    "library(dplyr)\n",
    "library(rjson)\n",
    "library(twitteR)\n",
    "library(syuzhet)\n",
    "\n",
    "set.seed(42)"
   ]
  },
  {
   "cell_type": "markdown",
   "metadata": {},
   "source": [
    "1. Loading and preprocessing the data."
   ]
  },
  {
   "cell_type": "code",
   "execution_count": 3,
   "metadata": {},
   "outputs": [],
   "source": [
    "df <- data.frame(read.csv('data/googleplaystore.csv'))"
   ]
  },
  {
   "cell_type": "code",
   "execution_count": 5,
   "metadata": {},
   "outputs": [
    {
     "data": {
      "text/html": [
       "<table>\n",
       "<thead><tr><th scope=col>App</th><th scope=col>Category</th><th scope=col>Rating</th><th scope=col>Reviews</th><th scope=col>Size</th><th scope=col>Installs</th><th scope=col>Type</th><th scope=col>Price</th><th scope=col>Content.Rating</th><th scope=col>Genres</th><th scope=col>Last.Updated</th><th scope=col>Current.Ver</th><th scope=col>Android.Ver</th></tr></thead>\n",
       "<tbody>\n",
       "\t<tr><td><span style=white-space:pre-wrap>Photo Editor &amp; Candy Camera &amp; Grid &amp; ScrapBook    </span></td><td>ART_AND_DESIGN                                                                                        </td><td>4.1                                                                                                   </td><td><span style=white-space:pre-wrap>159   </span>                                                        </td><td>19M                                                                                                   </td><td><span style=white-space:pre-wrap>10,000+    </span>                                                   </td><td>Free                                                                                                  </td><td>0                                                                                                     </td><td>Everyone                                                                                              </td><td><span style=white-space:pre-wrap>Art &amp; Design             </span>                                 </td><td>January 7, 2018                                                                                       </td><td><span style=white-space:pre-wrap>1.0.0             </span>                                            </td><td>4.0.3 and up                                                                                          </td></tr>\n",
       "\t<tr><td><span style=white-space:pre-wrap>Coloring book moana                               </span></td><td>ART_AND_DESIGN                                                                            </td><td>3.9                                                                                       </td><td><span style=white-space:pre-wrap>967   </span>                                            </td><td>14M                                                                                       </td><td><span style=white-space:pre-wrap>500,000+   </span>                                       </td><td>Free                                                                                      </td><td>0                                                                                         </td><td>Everyone                                                                                  </td><td>Art &amp; Design;Pretend Play                                                             </td><td>January 15, 2018                                                                          </td><td><span style=white-space:pre-wrap>2.0.0             </span>                                </td><td>4.0.3 and up                                                                              </td></tr>\n",
       "\t<tr><td>U Launcher Lite – FREE Live Cool Themes, Hide Apps                   </td><td>ART_AND_DESIGN                                                       </td><td>4.7                                                                  </td><td>87510                                                                </td><td>8.7M                                                                 </td><td>5,000,000+                                                           </td><td>Free                                                                 </td><td>0                                                                    </td><td>Everyone                                                             </td><td><span style=white-space:pre-wrap>Art &amp; Design             </span></td><td><span style=white-space:pre-wrap>August 1, 2018  </span>             </td><td><span style=white-space:pre-wrap>1.2.4             </span>           </td><td>4.0.3 and up                                                         </td></tr>\n",
       "\t<tr><td><span style=white-space:pre-wrap>Sketch - Draw &amp; Paint                             </span></td><td>ART_AND_DESIGN                                                                                </td><td>4.5                                                                                           </td><td>215644                                                                                        </td><td>25M                                                                                           </td><td>50,000,000+                                                                                   </td><td>Free                                                                                          </td><td>0                                                                                             </td><td><span style=white-space:pre-wrap>Teen    </span>                                              </td><td><span style=white-space:pre-wrap>Art &amp; Design             </span>                         </td><td><span style=white-space:pre-wrap>June 8, 2018    </span>                                      </td><td>Varies with device                                                                            </td><td><span style=white-space:pre-wrap>4.2 and up  </span>                                          </td></tr>\n",
       "\t<tr><td><span style=white-space:pre-wrap>Pixel Draw - Number Art Coloring Book             </span></td><td>ART_AND_DESIGN                                                                            </td><td>4.3                                                                                       </td><td><span style=white-space:pre-wrap>967   </span>                                            </td><td>2.8M                                                                                      </td><td><span style=white-space:pre-wrap>100,000+   </span>                                       </td><td>Free                                                                                      </td><td>0                                                                                         </td><td>Everyone                                                                                  </td><td><span style=white-space:pre-wrap>Art &amp; Design;Creativity  </span>                     </td><td><span style=white-space:pre-wrap>June 20, 2018   </span>                                  </td><td><span style=white-space:pre-wrap>1.1               </span>                                </td><td><span style=white-space:pre-wrap>4.4 and up  </span>                                      </td></tr>\n",
       "\t<tr><td><span style=white-space:pre-wrap>Paper flowers instructions                        </span></td><td>ART_AND_DESIGN                                                                            </td><td>4.4                                                                                       </td><td><span style=white-space:pre-wrap>167   </span>                                            </td><td>5.6M                                                                                      </td><td><span style=white-space:pre-wrap>50,000+    </span>                                       </td><td>Free                                                                                      </td><td>0                                                                                         </td><td>Everyone                                                                                  </td><td><span style=white-space:pre-wrap>Art &amp; Design             </span>                     </td><td><span style=white-space:pre-wrap>March 26, 2017  </span>                                  </td><td><span style=white-space:pre-wrap>1.0               </span>                                </td><td><span style=white-space:pre-wrap>2.3 and up  </span>                                      </td></tr>\n",
       "</tbody>\n",
       "</table>\n"
      ],
      "text/latex": [
       "\\begin{tabular}{r|lllllllllllll}\n",
       " App & Category & Rating & Reviews & Size & Installs & Type & Price & Content.Rating & Genres & Last.Updated & Current.Ver & Android.Ver\\\\\n",
       "\\hline\n",
       "\t Photo Editor \\& Candy Camera \\& Grid \\& ScrapBook     & ART\\_AND\\_DESIGN                                       & 4.1                                                      & 159                                                      & 19M                                                      & 10,000+                                                  & Free                                                     & 0                                                        & Everyone                                                 & Art \\& Design                                           & January 7, 2018                                          & 1.0.0                                                    & 4.0.3 and up                                            \\\\\n",
       "\t Coloring book moana                                & ART\\_AND\\_DESIGN                                 & 3.9                                                & 967                                                & 14M                                                & 500,000+                                           & Free                                               & 0                                                  & Everyone                                           & Art \\& Design;Pretend Play                        & January 15, 2018                                   & 2.0.0                                              & 4.0.3 and up                                      \\\\\n",
       "\t U Launcher Lite – FREE Live Cool Themes, Hide Apps & ART\\_AND\\_DESIGN                                 & 4.7                                                & 87510                                              & 8.7M                                               & 5,000,000+                                         & Free                                               & 0                                                  & Everyone                                           & Art \\& Design                                     & August 1, 2018                                     & 1.2.4                                              & 4.0.3 and up                                      \\\\\n",
       "\t Sketch - Draw \\& Paint                              & ART\\_AND\\_DESIGN                                   & 4.5                                                  & 215644                                               & 25M                                                  & 50,000,000+                                          & Free                                                 & 0                                                    & Teen                                                 & Art \\& Design                                       & June 8, 2018                                         & Varies with device                                   & 4.2 and up                                          \\\\\n",
       "\t Pixel Draw - Number Art Coloring Book              & ART\\_AND\\_DESIGN                                 & 4.3                                                & 967                                                & 2.8M                                               & 100,000+                                           & Free                                               & 0                                                  & Everyone                                           & Art \\& Design;Creativity                          & June 20, 2018                                      & 1.1                                                & 4.4 and up                                        \\\\\n",
       "\t Paper flowers instructions                         & ART\\_AND\\_DESIGN                                 & 4.4                                                & 167                                                & 5.6M                                               & 50,000+                                            & Free                                               & 0                                                  & Everyone                                           & Art \\& Design                                     & March 26, 2017                                     & 1.0                                                & 2.3 and up                                        \\\\\n",
       "\\end{tabular}\n"
      ],
      "text/markdown": [
       "\n",
       "App | Category | Rating | Reviews | Size | Installs | Type | Price | Content.Rating | Genres | Last.Updated | Current.Ver | Android.Ver | \n",
       "|---|---|---|---|---|---|\n",
       "| Photo Editor & Candy Camera & Grid & ScrapBook     | ART_AND_DESIGN                                     | 4.1                                                | 159                                                | 19M                                                | 10,000+                                            | Free                                               | 0                                                  | Everyone                                           | Art & Design                                       | January 7, 2018                                    | 1.0.0                                              | 4.0.3 and up                                       | \n",
       "| Coloring book moana                                | ART_AND_DESIGN                                     | 3.9                                                | 967                                                | 14M                                                | 500,000+                                           | Free                                               | 0                                                  | Everyone                                           | Art & Design;Pretend Play                          | January 15, 2018                                   | 2.0.0                                              | 4.0.3 and up                                       | \n",
       "| U Launcher Lite – FREE Live Cool Themes, Hide Apps | ART_AND_DESIGN                                     | 4.7                                                | 87510                                              | 8.7M                                               | 5,000,000+                                         | Free                                               | 0                                                  | Everyone                                           | Art & Design                                       | August 1, 2018                                     | 1.2.4                                              | 4.0.3 and up                                       | \n",
       "| Sketch - Draw & Paint                              | ART_AND_DESIGN                                     | 4.5                                                | 215644                                             | 25M                                                | 50,000,000+                                        | Free                                               | 0                                                  | Teen                                               | Art & Design                                       | June 8, 2018                                       | Varies with device                                 | 4.2 and up                                         | \n",
       "| Pixel Draw - Number Art Coloring Book              | ART_AND_DESIGN                                     | 4.3                                                | 967                                                | 2.8M                                               | 100,000+                                           | Free                                               | 0                                                  | Everyone                                           | Art & Design;Creativity                            | June 20, 2018                                      | 1.1                                                | 4.4 and up                                         | \n",
       "| Paper flowers instructions                         | ART_AND_DESIGN                                     | 4.4                                                | 167                                                | 5.6M                                               | 50,000+                                            | Free                                               | 0                                                  | Everyone                                           | Art & Design                                       | March 26, 2017                                     | 1.0                                                | 2.3 and up                                         | \n",
       "\n",
       "\n"
      ],
      "text/plain": [
       "  App                                                Category       Rating\n",
       "1 Photo Editor & Candy Camera & Grid & ScrapBook     ART_AND_DESIGN 4.1   \n",
       "2 Coloring book moana                                ART_AND_DESIGN 3.9   \n",
       "3 U Launcher Lite – FREE Live Cool Themes, Hide Apps ART_AND_DESIGN 4.7   \n",
       "4 Sketch - Draw & Paint                              ART_AND_DESIGN 4.5   \n",
       "5 Pixel Draw - Number Art Coloring Book              ART_AND_DESIGN 4.3   \n",
       "6 Paper flowers instructions                         ART_AND_DESIGN 4.4   \n",
       "  Reviews Size Installs    Type Price Content.Rating Genres                   \n",
       "1 159     19M  10,000+     Free 0     Everyone       Art & Design             \n",
       "2 967     14M  500,000+    Free 0     Everyone       Art & Design;Pretend Play\n",
       "3 87510   8.7M 5,000,000+  Free 0     Everyone       Art & Design             \n",
       "4 215644  25M  50,000,000+ Free 0     Teen           Art & Design             \n",
       "5 967     2.8M 100,000+    Free 0     Everyone       Art & Design;Creativity  \n",
       "6 167     5.6M 50,000+     Free 0     Everyone       Art & Design             \n",
       "  Last.Updated     Current.Ver        Android.Ver \n",
       "1 January 7, 2018  1.0.0              4.0.3 and up\n",
       "2 January 15, 2018 2.0.0              4.0.3 and up\n",
       "3 August 1, 2018   1.2.4              4.0.3 and up\n",
       "4 June 8, 2018     Varies with device 4.2 and up  \n",
       "5 June 20, 2018    1.1                4.4 and up  \n",
       "6 March 26, 2017   1.0                2.3 and up  "
      ]
     },
     "metadata": {},
     "output_type": "display_data"
    }
   ],
   "source": [
    "head(df)"
   ]
  },
  {
   "cell_type": "code",
   "execution_count": 8,
   "metadata": {},
   "outputs": [],
   "source": [
    "twitterCreds <- fromJSON(file = \"data/twitter_access.json\")"
   ]
  },
  {
   "cell_type": "code",
   "execution_count": 10,
   "metadata": {},
   "outputs": [
    {
     "name": "stdout",
     "output_type": "stream",
     "text": [
      "[1] \"Using direct authentication\"\n"
     ]
    }
   ],
   "source": [
    "setup_twitter_oauth(twitterCreds$consumer_key, \n",
    "                    twitterCreds$consumer_secret, \n",
    "                    access_token=twitterCreds$access_token, \n",
    "                    access_secret=twitterCreds$access_token_secret)"
   ]
  },
  {
   "cell_type": "code",
   "execution_count": null,
   "metadata": {},
   "outputs": [],
   "source": []
  },
  {
   "cell_type": "code",
   "execution_count": null,
   "metadata": {},
   "outputs": [],
   "source": []
  }
 ],
 "metadata": {
  "kernelspec": {
   "display_name": "R",
   "language": "R",
   "name": "ir"
  },
  "language_info": {
   "codemirror_mode": "r",
   "file_extension": ".r",
   "mimetype": "text/x-r-source",
   "name": "R",
   "pygments_lexer": "r",
   "version": "3.4.2"
  }
 },
 "nbformat": 4,
 "nbformat_minor": 2
}

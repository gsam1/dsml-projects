{
 "cells": [
  {
   "cell_type": "markdown",
   "metadata": {},
   "source": [
    "# Counting Crowds with DL\n",
    "## Proof Of Concept\n",
    "The notebook will implement [Dense Scale Networks](https://arxiv.org/pdf/1906.09707.pdf) for the purpose of counting crowds for images.\n",
    "The dataset will be the same as the one, detailed in the paper - the ShangaiTech."
   ]
  },
  {
   "cell_type": "markdown",
   "metadata": {},
   "source": [
    "## 1. Imports and loading the data."
   ]
  },
  {
   "cell_type": "code",
   "execution_count": 1,
   "metadata": {},
   "outputs": [
    {
     "name": "stderr",
     "output_type": "stream",
     "text": [
      "Using TensorFlow backend.\n"
     ]
    }
   ],
   "source": [
    "import os\n",
    "import pandas as pd\n",
    "import numpy as np\n",
    "import keras\n",
    "from keras.layers import Conv2D, MaxPooling2D\n",
    "from keras.layers import Dense, Dropout, Flatten\n",
    "from keras.models import load_model\n",
    "from keras.preprocessing.image import ImageDataGenerator\n",
    "from keras.optimizers import Adam\n",
    "from keras.metrics import mse, mae"
   ]
  },
  {
   "cell_type": "code",
   "execution_count": 20,
   "metadata": {},
   "outputs": [],
   "source": [
    "import scipy.io\n",
    "\n",
    "gt_file = scipy.io.loadmat('training_dataset/ShanghaiTech/part_A/train_data/ground-truth/GT_IMG_1.mat')"
   ]
  },
  {
   "cell_type": "code",
   "execution_count": 43,
   "metadata": {},
   "outputs": [
    {
     "data": {
      "text/plain": [
       "array([[array([[(array([[ 29.6225116 , 472.92022152],\n",
       "       [ 54.35533603, 454.96602305],\n",
       "       [ 51.79045053, 460.46220626],\n",
       "       ...,\n",
       "       [597.89732076, 688.27900015],\n",
       "       [965.77518336, 638.44693908],\n",
       "       [166.9965574 , 628.1873971 ]]), array([[1546]], dtype=uint16))]],\n",
       "      dtype=[('location', 'O'), ('number', 'O')])]], dtype=object)"
      ]
     },
     "execution_count": 43,
     "metadata": {},
     "output_type": "execute_result"
    }
   ],
   "source": [
    "gt_file['image_info']"
   ]
  },
  {
   "cell_type": "markdown",
   "metadata": {},
   "source": [
    "## 2. Building the Model\n",
    "In order to build ithe Deep scale network first the Dense Dialated Convolution Block has to be implemented."
   ]
  },
  {
   "cell_type": "code",
   "execution_count": 2,
   "metadata": {},
   "outputs": [],
   "source": [
    "class ConvBlock(keras.models.Model):\n",
    "    '''\n",
    "        TODO: Add Docstring\n",
    "    '''\n",
    "    def __init__(self, activation='relu', padding=1, dilation_rate=1, **kwargs):\n",
    "        super.__init__(**kwargs)\n",
    "        self.conv1 = keras.layers.Conv2D(256, (1, 1), activation=activation)\n",
    "        self.padding = keras.layers.ZeroPadding2D(padding=(padding, padding))\n",
    "        self.conv2 = keras.layers.Conv2D(64, (3, 3), padding='valid', dilation_rate=dilation_rate, activation=activation)\n",
    "    def call(self, inputs):\n",
    "        out = self.conv1(inputs)\n",
    "        out = self.padding(out)\n",
    "        out = self.conv2(out)\n",
    "        \n",
    "        return out    "
   ]
  },
  {
   "cell_type": "code",
   "execution_count": 3,
   "metadata": {},
   "outputs": [],
   "source": [
    "class DDCB(keras.models.Model):\n",
    "    '''\n",
    "        TODO: Add Docstring\n",
    "    '''\n",
    "    def __init__(self, activation='relu', **kwargs):\n",
    "        super().__init__(**kwargs)\n",
    "        self.convBlock1 = ConvBlock()\n",
    "        self.convBlock2 = ConvBlock(padding=2, dilation_rate=2)\n",
    "        self.convBlock3 = ConvBlock(padding=3, dilation_rate=3)\n",
    "        self.paddingOut = keras.layers.ZeroPadding2D(padding=(1,1))\n",
    "        self.convOut = keras.layers.Conv2D(512, (3, 3), padding='valid', activation='relu')\n",
    "    \n",
    "    def call(inputs):\n",
    "        out1 = self.convBlock1(inputs)\n",
    "        out2 = keras.layers.Concatenate([inputs, out1])\n",
    "        out3 = self.convBlock2(out2)\n",
    "        out4 = keras.layers.Concatenate([inputs, out1, out3])\n",
    "        out5 = self.convBlock3(out4)\n",
    "        out6 = keras.layers.Concatenate([inputs, out3, out5])\n",
    "        out7 = self.paddingOut(out6)\n",
    "        out8 = self.convOut(out7)\n",
    "        return out8 "
   ]
  },
  {
   "cell_type": "code",
   "execution_count": 16,
   "metadata": {},
   "outputs": [],
   "source": [
    "class DenseScaleNet(keras.models.Model):\n",
    "    '''\n",
    "        TODO: Add Docstring\n",
    "    '''\n",
    "    def __init__(self, model=None, input_shape=None):\n",
    "        super().__init__(**kwargs)\n",
    "        if model is None:\n",
    "            if input_shape is None:\n",
    "                raise Exception('A model could not have an input shape set to None.')\n",
    "                \n",
    "            model = self.__create_backbone(input_shape)\n",
    "        \n",
    "        self.model = model\n",
    "        self.DDCB1 = DDCB()\n",
    "        self.DDCB2 = DDCB()\n",
    "        self.DDCB3 = DDCB()\n",
    "        self.padding1 = keras.layers.ZeroPadding2D(padding=(1,1))\n",
    "        self.conv1 = keras.layers.Conv2D(128, (3, 3), padding='valid', activation='relu')\n",
    "        self.padding2 = keras.layers.ZeroPadding2D(padding=(1,1))\n",
    "        self.conv2 = keras.layers.Conv2D(64, (3,3), padding='valid', activation='relu')\n",
    "        self.outconv = keras.layers.Conv2D(1, (1, 1), activation='relu')\n",
    "    \n",
    "    def __create_backbone(self, input_shape):\n",
    "        '''\n",
    "            TODO: Add Doctstring\n",
    "        '''\n",
    "        vgg16_model = keras.applications.vgg16.VGG16(weights='imagenet', input_shape=input_shape)\n",
    "        model = keras.models.Sequential()\n",
    "        \n",
    "        # we want to copy the first ten layers from VGG16\n",
    "        for layer in vgg16_model[:11]:\n",
    "            model.add(layer)\n",
    "        \n",
    "        return model\n",
    "        \n",
    "    def call(self, inputs):\n",
    "        out1 = self.model(inputs)\n",
    "        out2 = self.DDCB1(out1)\n",
    "        out3 = out2 + out3\n",
    "        out4 = self.DDCB2(out3)\n",
    "        out5 = out4 + out2 + out1\n",
    "        out6 = self.DDCB3(out5)\n",
    "        out7 = out6 + out4 + out2 + out1\n",
    "        out = self.padding1(out)\n",
    "        out = self.conv1(out)\n",
    "        out = self.padding2(out)\n",
    "        out = self.conv2(out)\n",
    "        out = self.outconv(out)\n",
    "        \n",
    "        return out           "
   ]
  },
  {
   "cell_type": "code",
   "execution_count": null,
   "metadata": {},
   "outputs": [],
   "source": []
  }
 ],
 "metadata": {
  "kernelspec": {
   "display_name": "Python 3",
   "language": "python",
   "name": "python3"
  },
  "language_info": {
   "codemirror_mode": {
    "name": "ipython",
    "version": 3
   },
   "file_extension": ".py",
   "mimetype": "text/x-python",
   "name": "python",
   "nbconvert_exporter": "python",
   "pygments_lexer": "ipython3",
   "version": "3.7.3"
  }
 },
 "nbformat": 4,
 "nbformat_minor": 2
}

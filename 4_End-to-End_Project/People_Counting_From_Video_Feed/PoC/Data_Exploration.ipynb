{
 "cells": [
  {
   "cell_type": "markdown",
   "metadata": {},
   "source": [
    "# Data Exploration"
   ]
  },
  {
   "cell_type": "markdown",
   "metadata": {},
   "source": [
    "## Default imports"
   ]
  },
  {
   "cell_type": "code",
   "execution_count": 103,
   "metadata": {},
   "outputs": [],
   "source": [
    "import os\n",
    "import sys\n",
    "import cv2\n",
    "import numpy as np\n",
    "import pandas as pd\n",
    "import sklearn\n",
    "import requests"
   ]
  },
  {
   "cell_type": "markdown",
   "metadata": {},
   "source": [
    "## Video Image Split"
   ]
  },
  {
   "cell_type": "code",
   "execution_count": 2,
   "metadata": {},
   "outputs": [
    {
     "name": "stdout",
     "output_type": "stream",
     "text": [
      "VIRAT_S_000002_fr_0.2\n"
     ]
    }
   ],
   "source": [
    "!ls ./example_dataset/images"
   ]
  },
  {
   "cell_type": "code",
   "execution_count": 3,
   "metadata": {},
   "outputs": [],
   "source": [
    "def filter_file_extension(filename):\n",
    "    \n",
    "    file_extension = 'mp4'\n",
    "    \n",
    "    if file_extension in filename:\n",
    "        return True\n",
    "    else:\n",
    "        return False\n",
    "\n",
    "def get_videos_from_folder(path):\n",
    "    \n",
    "    all_items = os.listdir(path)\n",
    "    only_videos = [video_name for video_name in filter(filter_file_extension, all_items)]\n",
    "    video_filenames = [video_name.split('.')[0] for video_name in only_videos]\n",
    "    videos_file_paths = [os.path.join(path, video_fp) for video_fp in only_videos]\n",
    "    \n",
    "    return videos_file_paths, video_filenames"
   ]
  },
  {
   "cell_type": "code",
   "execution_count": 4,
   "metadata": {},
   "outputs": [],
   "source": [
    "video_file_paths, video_filenames = get_videos_from_folder('./example_dataset')"
   ]
  },
  {
   "cell_type": "code",
   "execution_count": 55,
   "metadata": {},
   "outputs": [],
   "source": [
    "def get_frame(sec, video_object):\n",
    "    '''\n",
    "        Based on the given sec, extract the resulting image from the video_object.\n",
    "    '''\n",
    "    video_object.set(cv2.CAP_PROP_POS_MSEC, sec*1000)\n",
    "    success, image = video_object.read()\n",
    "    return success, image\n",
    "    \n",
    "\n",
    "def write_images_from_video(video_path, video_filename, frame_rate):\n",
    "    '''\n",
    "        Splits the video by the frame_rate, shown in the video_path variable into different frames,\n",
    "        then writes the resulting images in a folder with the  video's filename.\n",
    "        Creates the folder if it exits.\n",
    "    \n",
    "    '''\n",
    "    video_object = cv2.VideoCapture(video_path)\n",
    "    sec = 0\n",
    "    count = 0\n",
    "    frame_rate = 1 / frame_rate # looking at the actual time from second to the next\n",
    "    success = 1\n",
    "    \n",
    "    while success:\n",
    "        \n",
    "        success, image = get_frame(sec, video_object)\n",
    "        \n",
    "        # create the folder if not exists\n",
    "        video_file_name = f'{video_filename}_fr_{frame_rate}'\n",
    "        folder_path = f'./poc_dataset/images/{video_file_name}'\n",
    "        if not os.path.exists(folder_path):\n",
    "            os.makedirs(folder_path)\n",
    "        \n",
    "        # write the image\n",
    "        cv2.imwrite(os.path.join(folder_path, f'{video_filename}_frame_{np.round(count,2)}.png'), image)\n",
    "        \n",
    "        sec = sec + frame_rate\n",
    "        count += 1\n",
    "    \n",
    "    print(f'File {video_filename} processed.')"
   ]
  },
  {
   "cell_type": "code",
   "execution_count": 56,
   "metadata": {},
   "outputs": [
    {
     "name": "stdout",
     "output_type": "stream",
     "text": [
      "File VIRAT_S_000002 processed.\n"
     ]
    }
   ],
   "source": [
    "write_images_from_video(video_file_paths[0], video_filenames[0], 5)"
   ]
  },
  {
   "cell_type": "markdown",
   "metadata": {},
   "source": [
    "## Utils\n",
    "Various helper functions that are used in general."
   ]
  },
  {
   "cell_type": "code",
   "execution_count": 7,
   "metadata": {},
   "outputs": [],
   "source": [
    "def load_csv_datasets(path):\n",
    "    files = os.listdir(path)\n",
    "    \n",
    "    data = {}\n",
    "    for file in files:\n",
    "        filename = file.split('.')[0]\n",
    "        filepath = os.path.join(path, file)\n",
    "        data[filename] = pd.read_csv(filepath)\n",
    "    \n",
    "    return data"
   ]
  },
  {
   "cell_type": "markdown",
   "metadata": {},
   "source": [
    "## People Counting with Object Recognition Methods\n",
    "\n",
    "[Reference](https://machinelearningmastery.com/object-recognition-with-deep-learning/?fbclid=IwAR3QHzwV3iteB2tE7EJo3GkNTT_v7loLqHtCqYuH5nopySIkzvTmHiUa-H0)\n",
    "\n",
    "### 1. Faster R-CNN\n",
    "* [Reference of Faster R-CNN](https://arxiv.org/pdf/1506.01497.pdf)  \n",
    "* [Reference of implementation](https://towardsdatascience.com/faster-r-cnn-object-detection-implemented-by-keras-for-custom-data-from-googles-open-images-125f62b9141a)\n",
    "* [Reference Jupyter Notebook for the implementation](https://github.com/RockyXu66/Faster_RCNN_for_Open_Images_Dataset_Keras/blob/master/frcnn_train_vgg.ipynb)"
   ]
  },
  {
   "cell_type": "markdown",
   "metadata": {},
   "source": [
    "#### 1.1 Getting The Data:\n",
    "\n",
    "#### 1.1.1 Downloading the dataset information with the corresponding bounding boxes"
   ]
  },
  {
   "cell_type": "code",
   "execution_count": 7,
   "metadata": {},
   "outputs": [
    {
     "name": "stdout",
     "output_type": "stream",
     "text": [
      "--2019-11-26 21:53:32--  https://datasets.figure-eight.com/figure_eight_datasets/open-images/train-annotations-bbox.csv\n",
      "Resolving datasets.figure-eight.com (datasets.figure-eight.com)... 52.200.149.96, 3.227.119.162, 3.227.227.96\n",
      "Connecting to datasets.figure-eight.com (datasets.figure-eight.com)|52.200.149.96|:443... connected.\n",
      "HTTP request sent, awaiting response... 200 OK\n",
      "Length: 1194033454 (1,1G) [text/csv]\n",
      "Saving to: ‘train-annotations-bbox.csv’\n",
      "\n",
      "train-annotations-b 100%[===================>]   1,11G   448KB/s    in 72m 55s \n",
      "\n",
      "2019-11-26 23:06:28 (267 KB/s) - ‘train-annotations-bbox.csv’ saved [1194033454/1194033454]\n",
      "\n"
     ]
    }
   ],
   "source": [
    "!wget https://datasets.figure-eight.com/figure_eight_datasets/open-images/train-annotations-bbox.csv && \\\n",
    "!wget https://datasets.figure-eight.com/figure_eight_datasets/open-images/train-images-boxable.csv"
   ]
  },
  {
   "cell_type": "code",
   "execution_count": 11,
   "metadata": {},
   "outputs": [],
   "source": [
    "datasets = load_csv_datasets('./training_dataset/')"
   ]
  },
  {
   "cell_type": "code",
   "execution_count": 20,
   "metadata": {},
   "outputs": [
    {
     "data": {
      "text/plain": [
       "['train-images-boxable',\n",
       " 'train-annotations-bbox',\n",
       " 'class-descriptions-boxable']"
      ]
     },
     "execution_count": 20,
     "metadata": {},
     "output_type": "execute_result"
    }
   ],
   "source": [
    "list(datasets.keys())"
   ]
  },
  {
   "cell_type": "markdown",
   "metadata": {},
   "source": [
    "#### 1.1.2 Downloading the actual dataset"
   ]
  },
  {
   "cell_type": "code",
   "execution_count": 73,
   "metadata": {},
   "outputs": [],
   "source": [
    "cldesc_df = datasets['class-descriptions-boxable']\n",
    "cldesc_df.columns = ['label_id', 'class']\n",
    "# get the Label Name that I need - person\n",
    "label_id = cldesc_df.loc[cldesc_df['class'] == 'Person', 'label_id'].values[0]"
   ]
  },
  {
   "cell_type": "code",
   "execution_count": 57,
   "metadata": {},
   "outputs": [],
   "source": [
    "trannbb_df = datasets['train-annotations-bbox']\n",
    "trimb_df = datasets['train-images-boxable']"
   ]
  },
  {
   "cell_type": "code",
   "execution_count": 66,
   "metadata": {},
   "outputs": [
    {
     "data": {
      "text/html": [
       "<div>\n",
       "<style scoped>\n",
       "    .dataframe tbody tr th:only-of-type {\n",
       "        vertical-align: middle;\n",
       "    }\n",
       "\n",
       "    .dataframe tbody tr th {\n",
       "        vertical-align: top;\n",
       "    }\n",
       "\n",
       "    .dataframe thead th {\n",
       "        text-align: right;\n",
       "    }\n",
       "</style>\n",
       "<table border=\"1\" class=\"dataframe\">\n",
       "  <thead>\n",
       "    <tr style=\"text-align: right;\">\n",
       "      <th></th>\n",
       "      <th>image_name</th>\n",
       "      <th>image_url</th>\n",
       "      <th>ImageID</th>\n",
       "    </tr>\n",
       "  </thead>\n",
       "  <tbody>\n",
       "    <tr>\n",
       "      <th>0</th>\n",
       "      <td>e39871fd9fd74f55.jpg</td>\n",
       "      <td>https://requestor-proxy.figure-eight.com/figur...</td>\n",
       "      <td>e39871fd9fd74f55</td>\n",
       "    </tr>\n",
       "    <tr>\n",
       "      <th>1</th>\n",
       "      <td>f18b91585c4d3f3e.jpg</td>\n",
       "      <td>https://requestor-proxy.figure-eight.com/figur...</td>\n",
       "      <td>f18b91585c4d3f3e</td>\n",
       "    </tr>\n",
       "    <tr>\n",
       "      <th>2</th>\n",
       "      <td>ede6e66b2fb59aab.jpg</td>\n",
       "      <td>https://requestor-proxy.figure-eight.com/figur...</td>\n",
       "      <td>ede6e66b2fb59aab</td>\n",
       "    </tr>\n",
       "    <tr>\n",
       "      <th>3</th>\n",
       "      <td>ed600d57fcee4f94.jpg</td>\n",
       "      <td>https://requestor-proxy.figure-eight.com/figur...</td>\n",
       "      <td>ed600d57fcee4f94</td>\n",
       "    </tr>\n",
       "    <tr>\n",
       "      <th>4</th>\n",
       "      <td>ff47e649b23f446d.jpg</td>\n",
       "      <td>https://requestor-proxy.figure-eight.com/figur...</td>\n",
       "      <td>ff47e649b23f446d</td>\n",
       "    </tr>\n",
       "  </tbody>\n",
       "</table>\n",
       "</div>"
      ],
      "text/plain": [
       "             image_name                                          image_url  \\\n",
       "0  e39871fd9fd74f55.jpg  https://requestor-proxy.figure-eight.com/figur...   \n",
       "1  f18b91585c4d3f3e.jpg  https://requestor-proxy.figure-eight.com/figur...   \n",
       "2  ede6e66b2fb59aab.jpg  https://requestor-proxy.figure-eight.com/figur...   \n",
       "3  ed600d57fcee4f94.jpg  https://requestor-proxy.figure-eight.com/figur...   \n",
       "4  ff47e649b23f446d.jpg  https://requestor-proxy.figure-eight.com/figur...   \n",
       "\n",
       "            ImageID  \n",
       "0  e39871fd9fd74f55  \n",
       "1  f18b91585c4d3f3e  \n",
       "2  ede6e66b2fb59aab  \n",
       "3  ed600d57fcee4f94  \n",
       "4  ff47e649b23f446d  "
      ]
     },
     "execution_count": 66,
     "metadata": {},
     "output_type": "execute_result"
    }
   ],
   "source": [
    "# Creating an image id from the name\n",
    "trimb_df['ImageID'] = trimb_df['image_name'].apply(lambda x: x.split('.')[0])\n",
    "trimb_df.head()"
   ]
  },
  {
   "cell_type": "code",
   "execution_count": 89,
   "metadata": {},
   "outputs": [],
   "source": [
    "num_images = 100000\n",
    "person_bb_df = trannbb_df[trannbb_df['LabelName'] == label_id] # getting a filtered dataset of only images that contain persons\n",
    "image_ids = list(trannbb_df.loc[trannbb_df['LabelName'] == label_id, 'ImageID'].unique())[:num_images] # get a list with the image ids"
   ]
  },
  {
   "cell_type": "code",
   "execution_count": 93,
   "metadata": {},
   "outputs": [],
   "source": [
    "# filtered df based on the image ids\n",
    "filtered_trimb_df = trimb_df[trimb_df['ImageID'].isin(image_ids)]"
   ]
  },
  {
   "cell_type": "code",
   "execution_count": 107,
   "metadata": {},
   "outputs": [],
   "source": [
    "def pull_write_img(url, filename, path):\n",
    "    r = requests.get(url)\n",
    "    filepath = os.path.join(path, filename + '.jpg')\n",
    "    if r.status_code == 200:\n",
    "        with open(filepath, 'wb') as w:\n",
    "            w.write(r.content)\n",
    "            \n",
    "def download_images(df, path):\n",
    "    # hardcoding column names is not a good idea... \n",
    "    for imid, url in zip(df['ImageID'].values, df['image_url'].values):\n",
    "        pull_write_img(url, imid, path)\n",
    "    \n",
    "    print('Done!')"
   ]
  },
  {
   "cell_type": "code",
   "execution_count": null,
   "metadata": {},
   "outputs": [],
   "source": [
    "download_images(filtered_trimb_df, './training_dataset/images')"
   ]
  },
  {
   "cell_type": "code",
   "execution_count": null,
   "metadata": {},
   "outputs": [],
   "source": []
  }
 ],
 "metadata": {
  "kernelspec": {
   "display_name": "Python 3.7 OpenCV",
   "language": "python",
   "name": "opencv"
  },
  "language_info": {
   "codemirror_mode": {
    "name": "ipython",
    "version": 3
   },
   "file_extension": ".py",
   "mimetype": "text/x-python",
   "name": "python",
   "nbconvert_exporter": "python",
   "pygments_lexer": "ipython3",
   "version": "3.7.3"
  }
 },
 "nbformat": 4,
 "nbformat_minor": 2
}

{
 "cells": [
  {
   "cell_type": "markdown",
   "metadata": {},
   "source": [
    "# CIFAR 10 Example\n",
    "Since my experience until now has been mostly with Tensorflow/Keras, this notebook is intended to play around with PyTorch and run through their tutorial for training on the CIFAR10 dataset. In addition - it will be all done on the gpu.\n",
    "\n",
    "### What is CIFAR 10?\n",
    "Taken straight from the [website](https://www.cs.toronto.edu/~kriz/cifar.html):\n",
    "\"The CIFAR-10 dataset consists of 60000 32x32 colour images in 10 classes, with 6000 images per class. There are 50000 training images and 10000 test images. \n",
    "\n",
    "The dataset is divided into five training batches and one test batch, each with 10000 images. The test batch contains exactly 1000 randomly-selected images from each class. The training batches contain the remaining images in random order, but some training batches may contain more images from one class than another. Between them, the training batches contain exactly 5000 images from each class.\"\n",
    "\n",
    "### What is the goal?\n",
    "As an introduction to PyTorch - use the tutorial, get its results and improve them.\n",
    "\n",
    "### Project Structure:\n",
    "\n",
    "1. Loading the data & Loading the libraries.\n",
    "2. Showing a sample of images.\n",
    "3. Defining and training a convolutional neural network.\n",
    "4. Evaluating the results.\n",
    "5. Improving the results.\n",
    "\n",
    "...\n",
    "\n",
    "### References\n",
    "* [Learning Multiple Layers of Features from Tiny Images](https://www.cs.toronto.edu/~kriz/learning-features-2009-TR.pdf), Alex Krizhevsky\n",
    "* [Training a classifier](https://pytorch.org/tutorials/beginner/blitz/cifar10_tutorial.html), PyTorch"
   ]
  },
  {
   "cell_type": "markdown",
   "metadata": {},
   "source": [
    "## 1. Loading the data & Loading the libraries."
   ]
  },
  {
   "cell_type": "code",
   "execution_count": 1,
   "metadata": {},
   "outputs": [],
   "source": [
    "import torch\n",
    "import torchvision\n",
    "import torchvision.transforms as transforms\n",
    "import matplotlib.pyplot as plt\n",
    "import numpy as np"
   ]
  },
  {
   "cell_type": "code",
   "execution_count": 2,
   "metadata": {},
   "outputs": [],
   "source": [
    "# Set the device to the GPU\n",
    "device = torch.device(\"cuda:0\" if torch.cuda.is_available() else \"cpu\")"
   ]
  },
  {
   "cell_type": "markdown",
   "metadata": {},
   "source": [
    "First I will try to mimic the tutorial from Torch's website then implement it my way."
   ]
  },
  {
   "cell_type": "code",
   "execution_count": 3,
   "metadata": {},
   "outputs": [
    {
     "name": "stdout",
     "output_type": "stream",
     "text": [
      "Files already downloaded and verified\n",
      "Files already downloaded and verified\n"
     ]
    }
   ],
   "source": [
    "transform = transforms.Compose(\n",
    "    [transforms.ToTensor(),\n",
    "     transforms.Normalize((0.5, 0.5, 0.5), (0.5, 0.5, 0.5))])\n",
    "\n",
    "trainset = torchvision.datasets.CIFAR10(root='./datasets', train=True,\n",
    "                                        download=True, transform=transform)\n",
    "trainloader = torch.utils.data.DataLoader(trainset, batch_size=4,\n",
    "                                          shuffle=True, num_workers=2)\n",
    "\n",
    "testset = torchvision.datasets.CIFAR10(root='./datasets', train=False,\n",
    "                                       download=True, transform=transform)\n",
    "testloader = torch.utils.data.DataLoader(testset, batch_size=4,\n",
    "                                         shuffle=False, num_workers=2)\n",
    "\n",
    "classes = ('plane', 'car', 'bird', 'cat',\n",
    "           'deer', 'dog', 'frog', 'horse', 'ship', 'truck')"
   ]
  },
  {
   "cell_type": "markdown",
   "metadata": {},
   "source": [
    "## 2. Showing a sample images."
   ]
  },
  {
   "cell_type": "code",
   "execution_count": 4,
   "metadata": {},
   "outputs": [
    {
     "name": "stdout",
     "output_type": "stream",
     "text": [
      "truck horse horse  bird\n"
     ]
    },
    {
     "data": {
      "image/png": "[encoded data removed]",
      "text/plain": [
       "<Figure size 432x288 with 1 Axes>"
      ]
     },
     "metadata": {},
     "output_type": "display_data"
    }
   ],
   "source": [
    "def imshow(img):\n",
    "    img = img / 2 + 0.5     # unnormalize\n",
    "    npimg = img.numpy()\n",
    "    plt.imshow(np.transpose(npimg, (1, 2, 0)))\n",
    "\n",
    "\n",
    "# get some random training images\n",
    "dataiter = iter(trainloader)\n",
    "images, labels = dataiter.next()\n",
    "\n",
    "# show images\n",
    "imshow(torchvision.utils.make_grid(images))\n",
    "# print labels\n",
    "print(' '.join('%5s' % classes[labels[j]] for j in range(4)))"
   ]
  },
  {
   "cell_type": "markdown",
   "metadata": {},
   "source": [
    "## 3. Defining a Convolutional Neural Network"
   ]
  },
  {
   "cell_type": "code",
   "execution_count": 5,
   "metadata": {},
   "outputs": [],
   "source": [
    "import torch.nn as nn\n",
    "import torch.nn.functional as F\n",
    "# maybe define an object as input - architecture.\n",
    "class Net(nn.Module):\n",
    "    # nn.Conv2d(in_channels, out_channels, kernel_size)\n",
    "    # nn.Linear(in_features, out_features, bias=True)\n",
    "    # nn.MaxPool2d(kernel_size, stride=None)\n",
    "    def __init__(self):\n",
    "        super(Net, self).__init__()\n",
    "        self.conv1 = nn.Conv2d(3, 6, 5)\n",
    "        self.pool = nn.MaxPool2d(2, 2)\n",
    "        self.conv2 = nn.Conv2d(6, 16, 5)\n",
    "        self.fc1 = nn.Linear(16 * 5 * 5, 120)\n",
    "        self.fc2 = nn.Linear(120, 84)\n",
    "        self.fc3 = nn.Linear(84, 10)\n",
    "    \n",
    "    def forward(self, x):\n",
    "        x = self.pool(F.relu(self.conv1(x)))\n",
    "        x = self.pool(F.relu(self.conv2(x)))\n",
    "        x = x.view(-1, 16 * 5 * 5)\n",
    "        x = F.relu(self.fc1(x))\n",
    "        x = F.relu(self.fc2(x))\n",
    "        x = self.fc3(x)\n",
    "        return x\n",
    "    \n",
    "net = Net().to(device)"
   ]
  },
  {
   "cell_type": "markdown",
   "metadata": {},
   "source": [
    "### 3.1 Defining a Loss function and optimizer"
   ]
  },
  {
   "cell_type": "code",
   "execution_count": 6,
   "metadata": {},
   "outputs": [],
   "source": [
    "import torch.optim as optim\n",
    "\n",
    "criterion = nn.CrossEntropyLoss()\n",
    "optimizer = optim.SGD(net.parameters(), lr=0.001, momentum=0.9)"
   ]
  },
  {
   "cell_type": "markdown",
   "metadata": {},
   "source": [
    "### 3.2 Training the Network"
   ]
  },
  {
   "cell_type": "code",
   "execution_count": 7,
   "metadata": {},
   "outputs": [],
   "source": [
    "def train_net(nnet, optimizer, criterion, epochs=2):\n",
    "    for epoch in range(epochs):  # loop over the dataset multiple times\n",
    "\n",
    "        running_loss = 0.0\n",
    "        for i, data in enumerate(trainloader, 0):\n",
    "            # get the inputs\n",
    "            inputs, labels = data\n",
    "            inputs, labels = inputs.to(device), labels.to(device)\n",
    "\n",
    "            # zero the parameter gradients\n",
    "            optimizer.zero_grad()\n",
    "\n",
    "            # forward + backward + optimize\n",
    "            outputs = nnet(inputs)\n",
    "            loss = criterion(outputs, labels)\n",
    "            loss.backward()\n",
    "            optimizer.step()\n",
    "\n",
    "            # print statistics\n",
    "            running_loss += loss.item()\n",
    "            if i == (len(trainloader) - 1):\n",
    "                print(f'[epoch:{epoch + 1}] - loss: {running_loss / len(trainloader)}')\n",
    "                running_loss = 0.0\n",
    "    print('Finished Training')\n",
    "    \n",
    "    return nnet"
   ]
  },
  {
   "cell_type": "code",
   "execution_count": 8,
   "metadata": {},
   "outputs": [
    {
     "name": "stdout",
     "output_type": "stream",
     "text": [
      "[epoch:1] - loss: 1.689243600358963\n",
      "[epoch:2] - loss: 1.324380602083206\n",
      "[epoch:3] - loss: 1.1793973842549323\n",
      "[epoch:4] - loss: 1.0839087543773651\n",
      "[epoch:5] - loss: 1.0117729317617417\n",
      "Finished Training\n"
     ]
    }
   ],
   "source": [
    "net = train_net(net, optimizer, criterion, epochs=5)"
   ]
  },
  {
   "cell_type": "markdown",
   "metadata": {},
   "source": [
    "## 4. Evaluating the results.\n",
    "As defined in the tutorial there are two functions we are generally interested in - the ConvNet accuracy and the class accuracy. Let's use the code from the tutorial and convert it to functions."
   ]
  },
  {
   "cell_type": "code",
   "execution_count": 9,
   "metadata": {},
   "outputs": [],
   "source": [
    "def net_accuracy(nnet):\n",
    "    correct = 0\n",
    "    total = 0\n",
    "    with torch.no_grad():\n",
    "        for data in testloader:\n",
    "            images, labels = data\n",
    "            images, labels = images.to(device), labels.to(device)\n",
    "            outputs = nnet(images)\n",
    "            _, predicted = torch.max(outputs.data, 1)\n",
    "            total += labels.size(0)\n",
    "            correct += (predicted == labels).sum().item()\n",
    "\n",
    "    print('Accuracy of the network on the 10000 test images: %d %%' % (\n",
    "        100 * correct / total))"
   ]
  },
  {
   "cell_type": "code",
   "execution_count": 10,
   "metadata": {},
   "outputs": [],
   "source": [
    "def net_class_accuracy(nnet):\n",
    "    class_correct = list(0. for i in range(10))\n",
    "    class_total = list(0. for i in range(10))\n",
    "    with torch.no_grad():\n",
    "        for data in testloader:\n",
    "            images, labels = data\n",
    "            images, labels = images.to(device), labels.to(device)\n",
    "            outputs = nnet(images)\n",
    "            _, predicted = torch.max(outputs, 1)\n",
    "            c = (predicted == labels).squeeze()\n",
    "            for i in range(4):\n",
    "                label = labels[i]\n",
    "                class_correct[label] += c[i].item()\n",
    "                class_total[label] += 1\n",
    "\n",
    "\n",
    "    for i in range(10):\n",
    "        print('Accuracy of %5s : %2d %%' % (\n",
    "            classes[i], 100 * class_correct[i] / class_total[i]))"
   ]
  },
  {
   "cell_type": "markdown",
   "metadata": {},
   "source": [
    "... so how accurates are the models?"
   ]
  },
  {
   "cell_type": "code",
   "execution_count": 11,
   "metadata": {},
   "outputs": [
    {
     "name": "stdout",
     "output_type": "stream",
     "text": [
      "Accuracy of the network on the 10000 test images: 63 %\n"
     ]
    }
   ],
   "source": [
    "net_accuracy(net)"
   ]
  },
  {
   "cell_type": "code",
   "execution_count": 12,
   "metadata": {},
   "outputs": [
    {
     "name": "stdout",
     "output_type": "stream",
     "text": [
      "Accuracy of plane : 70 %\n",
      "Accuracy of   car : 79 %\n",
      "Accuracy of  bird : 54 %\n",
      "Accuracy of   cat : 34 %\n",
      "Accuracy of  deer : 49 %\n",
      "Accuracy of   dog : 60 %\n",
      "Accuracy of  frog : 70 %\n",
      "Accuracy of horse : 72 %\n",
      "Accuracy of  ship : 78 %\n",
      "Accuracy of truck : 68 %\n"
     ]
    }
   ],
   "source": [
    "net_class_accuracy(net)"
   ]
  },
  {
   "cell_type": "markdown",
   "metadata": {},
   "source": [
    "More than the tutorial - 63%, but still far from enough."
   ]
  },
  {
   "cell_type": "markdown",
   "metadata": {},
   "source": [
    "## 5. Improving the results.\n",
    "Let's create a plan for what we want to explore and how it changes the results:\n",
    "1. Changing the optimizer to Adam.\n",
    "2. Training for longer (f.e. insted of 5 epochs - 10 epochs).\n",
    "3. A different (deeper) architecture with more filters.\n",
    "4. Taking the weights of a pre-trained model."
   ]
  },
  {
   "cell_type": "markdown",
   "metadata": {},
   "source": [
    "### 5.1 Changing the optimizer"
   ]
  },
  {
   "cell_type": "code",
   "execution_count": 13,
   "metadata": {},
   "outputs": [],
   "source": [
    "# Lets create a new network, anet for short\n",
    "anet = Net().to(device)\n",
    "# Create the optimizer with the same learning rate\n",
    "adam_optimizer = optim.Adam(anet.parameters(), lr=0.001)"
   ]
  },
  {
   "cell_type": "code",
   "execution_count": 14,
   "metadata": {},
   "outputs": [
    {
     "name": "stdout",
     "output_type": "stream",
     "text": [
      "[epoch:1] - loss: 1.5350430711603165\n",
      "[epoch:2] - loss: 1.2812676611745357\n",
      "[epoch:3] - loss: 1.1840981325209141\n",
      "[epoch:4] - loss: 1.1186145150882005\n",
      "[epoch:5] - loss: 1.0717494526598603\n",
      "Finished Training\n"
     ]
    }
   ],
   "source": [
    "# Train the network\n",
    "anet = train_net(anet, adam_optimizer, criterion, epochs=5)"
   ]
  },
  {
   "cell_type": "code",
   "execution_count": 15,
   "metadata": {},
   "outputs": [
    {
     "name": "stdout",
     "output_type": "stream",
     "text": [
      "Accuracy of the network on the 10000 test images: 58 %\n",
      "Accuracy of plane : 72 %\n",
      "Accuracy of   car : 78 %\n",
      "Accuracy of  bird : 39 %\n",
      "Accuracy of   cat : 58 %\n",
      "Accuracy of  deer : 45 %\n",
      "Accuracy of   dog : 38 %\n",
      "Accuracy of  frog : 58 %\n",
      "Accuracy of horse : 59 %\n",
      "Accuracy of  ship : 73 %\n",
      "Accuracy of truck : 59 %\n"
     ]
    }
   ],
   "source": [
    "net_accuracy(anet)\n",
    "net_class_accuracy(anet)"
   ]
  },
  {
   "cell_type": "markdown",
   "metadata": {},
   "source": [
    "Actually slightly worse results than the default setup, but according to the tutorial web page the default accuracy should be 54%."
   ]
  },
  {
   "cell_type": "markdown",
   "metadata": {},
   "source": [
    "### 5.2 Training for longer\n",
    "Let's see for both with the SGD and the ADAM optimizers if we train for 10 epochs what will be the outcome."
   ]
  },
  {
   "cell_type": "code",
   "execution_count": 20,
   "metadata": {},
   "outputs": [
    {
     "name": "stdout",
     "output_type": "stream",
     "text": [
      "[epoch:1] - loss: 1.7227091658473015\n",
      "[epoch:2] - loss: 1.3626354259443283\n",
      "[epoch:3] - loss: 1.2371428207802773\n",
      "[epoch:4] - loss: 1.1489529545474053\n",
      "[epoch:5] - loss: 1.0809323319983482\n",
      "[epoch:6] - loss: 1.0266378844237327\n",
      "[epoch:7] - loss: 0.9816245485734939\n",
      "[epoch:8] - loss: 0.9420544789099693\n",
      "[epoch:9] - loss: 0.9071806213641167\n",
      "[epoch:10] - loss: 0.8774130092000961\n",
      "Finished Training\n",
      "####-----####\n",
      "Accuracy of the network on the 10000 test images: 61 %\n",
      "Accuracy of plane : 74 %\n",
      "Accuracy of   car : 82 %\n",
      "Accuracy of  bird : 41 %\n",
      "Accuracy of   cat : 49 %\n",
      "Accuracy of  deer : 47 %\n",
      "Accuracy of   dog : 39 %\n",
      "Accuracy of  frog : 77 %\n",
      "Accuracy of horse : 65 %\n",
      "Accuracy of  ship : 70 %\n",
      "Accuracy of truck : 67 %\n"
     ]
    }
   ],
   "source": [
    "# Train\n",
    "# with sgd optimizer\n",
    "sgd_net = Net().to(device)\n",
    "# the optimizer and the criterion itself\n",
    "criterion_sgd = nn.CrossEntropyLoss()\n",
    "optimizer_sgd = optim.SGD(sgd_net.parameters(), lr=0.001, momentum=0.9)\n",
    "# train finally\n",
    "sgd_net = train_net(sgd_net, optimizer_sgd, criterion_sgd, epochs=10)\n",
    "# Separator\n",
    "print('####-----####')\n",
    "# Evaluate\n",
    "net_accuracy(sgd_net)\n",
    "net_class_accuracy(sgd_net)"
   ]
  },
  {
   "cell_type": "code",
   "execution_count": 22,
   "metadata": {},
   "outputs": [
    {
     "name": "stdout",
     "output_type": "stream",
     "text": [
      "[epoch:1] - loss: 1.5511155552148819\n",
      "[epoch:2] - loss: 1.3180824723947049\n",
      "[epoch:3] - loss: 1.2161479707431793\n",
      "[epoch:4] - loss: 1.1525676115214825\n",
      "[epoch:5] - loss: 1.1020321819537877\n",
      "[epoch:6] - loss: 1.065402014656067\n",
      "[epoch:7] - loss: 1.038305509389341\n",
      "[epoch:8] - loss: 1.0092957850185036\n",
      "[epoch:9] - loss: 0.9927840273559093\n",
      "[epoch:10] - loss: 0.9707860380351544\n",
      "Finished Training\n",
      "####-----####\n",
      "Accuracy of the network on the 10000 test images: 60 %\n",
      "Accuracy of plane : 66 %\n",
      "Accuracy of   car : 71 %\n",
      "Accuracy of  bird : 53 %\n",
      "Accuracy of   cat : 35 %\n",
      "Accuracy of  deer : 47 %\n",
      "Accuracy of   dog : 51 %\n",
      "Accuracy of  frog : 64 %\n",
      "Accuracy of horse : 69 %\n",
      "Accuracy of  ship : 71 %\n",
      "Accuracy of truck : 74 %\n"
     ]
    }
   ],
   "source": [
    "# Train\n",
    "# with adam optimizer\n",
    "adam_net = Net().to(device)\n",
    "# the optimizer and the criterion itself\n",
    "criterion_adam = nn.CrossEntropyLoss()\n",
    "optimizer_adam = optim.Adam(adam_net.parameters(), lr=0.001)\n",
    "# train finally\n",
    "adam_net = train_net(adam_net, optimizer_adam, criterion_adam, epochs=10)\n",
    "# Separator\n",
    "print('####-----####')\n",
    "# Evaluate\n",
    "net_accuracy(adam_net)\n",
    "net_class_accuracy(adam_net)"
   ]
  },
  {
   "cell_type": "markdown",
   "metadata": {},
   "source": [
    "It seems that the SGD net starts to overfit, lowering its score to 61%, while the ADAM-based net improves the score by 1%. Still Adam underperforms by comparison."
   ]
  }
 ],
 "metadata": {
  "kernelspec": {
   "display_name": "Python 3",
   "language": "python",
   "name": "python3"
  },
  "language_info": {
   "codemirror_mode": {
    "name": "ipython",
    "version": 3
   },
   "file_extension": ".py",
   "mimetype": "text/x-python",
   "name": "python",
   "nbconvert_exporter": "python",
   "pygments_lexer": "ipython3",
   "version": "3.6.6"
  }
 },
 "nbformat": 4,
 "nbformat_minor": 2
}

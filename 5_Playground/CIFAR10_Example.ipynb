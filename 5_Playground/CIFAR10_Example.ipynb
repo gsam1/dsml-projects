{
 "cells": [
  {
   "cell_type": "markdown",
   "metadata": {},
   "source": [
    "# CIFAR 10 Example\n",
    "Since my experience until now has been mostly with Tensorflow/Keras, this notebook is intended to play around with PyTorch and run through their tutorial for training on the CIFAR10 dataset. In addition - it will be all done on the gpu.\n",
    "\n",
    "### What is CIFAR 10?\n",
    "Taken straight from the [website](https://www.cs.toronto.edu/~kriz/cifar.html):\n",
    "\"The CIFAR-10 dataset consists of 60000 32x32 colour images in 10 classes, with 6000 images per class. There are 50000 training images and 10000 test images. \n",
    "\n",
    "The dataset is divided into five training batches and one test batch, each with 10000 images. The test batch contains exactly 1000 randomly-selected images from each class. The training batches contain the remaining images in random order, but some training batches may contain more images from one class than another. Between them, the training batches contain exactly 5000 images from each class.\"\n",
    "\n",
    "### What is the goal?\n",
    "As an introduction to PyTorch - use the tutorial, get its results and improve them.\n",
    "\n",
    "### Project Structure:\n",
    "\n",
    "1. Loading the data & Loading the libraries.\n",
    "2. Showing a sample of images.\n",
    "3. Defining and training a convolutional neural network.\n",
    "4. Evaluating the results.\n",
    "5. Improving the results.\n",
    "\n",
    "...\n",
    "\n",
    "### References\n",
    "* [Learning Multiple Layers of Features from Tiny Images](https://www.cs.toronto.edu/~kriz/learning-features-2009-TR.pdf), Alex Krizhevsky\n",
    "* [Training a classifier](https://pytorch.org/tutorials/beginner/blitz/cifar10_tutorial.html), PyTorch"
   ]
  },
  {
   "cell_type": "markdown",
   "metadata": {},
   "source": [
    "## 1. Loading the data & Loading the libraries."
   ]
  },
  {
   "cell_type": "code",
   "execution_count": 1,
   "metadata": {},
   "outputs": [],
   "source": [
    "import torch\n",
    "import torchvision\n",
    "import torchvision.transforms as transforms\n",
    "import torchvision.models as models\n",
    "import matplotlib.pyplot as plt\n",
    "import numpy as np"
   ]
  },
  {
   "cell_type": "code",
   "execution_count": 2,
   "metadata": {},
   "outputs": [],
   "source": [
    "# Set the device to the GPU\n",
    "device = torch.device(\"cuda:0\" if torch.cuda.is_available() else \"cpu\")"
   ]
  },
  {
   "cell_type": "markdown",
   "metadata": {},
   "source": [
    "First I will try to mimic the tutorial from Torch's website then implement it my way."
   ]
  },
  {
   "cell_type": "code",
   "execution_count": 3,
   "metadata": {},
   "outputs": [
    {
     "name": "stdout",
     "output_type": "stream",
     "text": [
      "Files already downloaded and verified\n",
      "Files already downloaded and verified\n"
     ]
    }
   ],
   "source": [
    "transform = transforms.Compose(\n",
    "    [transforms.ToTensor(),\n",
    "     transforms.Normalize((0.5, 0.5, 0.5), (0.5, 0.5, 0.5))])\n",
    "\n",
    "trainset = torchvision.datasets.CIFAR10(root='./datasets', train=True,\n",
    "                                        download=True, transform=transform)\n",
    "trainloader = torch.utils.data.DataLoader(trainset, batch_size=4,\n",
    "                                          shuffle=True, num_workers=2)\n",
    "\n",
    "testset = torchvision.datasets.CIFAR10(root='./datasets', train=False,\n",
    "                                       download=True, transform=transform)\n",
    "testloader = torch.utils.data.DataLoader(testset, batch_size=4,\n",
    "                                         shuffle=False, num_workers=2)\n",
    "\n",
    "classes = ('plane', 'car', 'bird', 'cat',\n",
    "           'deer', 'dog', 'frog', 'horse', 'ship', 'truck')"
   ]
  },
  {
   "cell_type": "markdown",
   "metadata": {},
   "source": [
    "## 2. Showing a sample images."
   ]
  },
  {
   "cell_type": "code",
   "execution_count": 4,
   "metadata": {},
   "outputs": [
    {
     "name": "stdout",
     "output_type": "stream",
     "text": [
      " ship   car   cat horse\n"
     ]
    },
    {
     "data": {
      "image/png": "[encoded data removed]",
      "text/plain": [
       "<Figure size 432x288 with 1 Axes>"
      ]
     },
     "metadata": {},
     "output_type": "display_data"
    }
   ],
   "source": [
    "def imshow(img):\n",
    "    img = img / 2 + 0.5     # unnormalize\n",
    "    npimg = img.numpy()\n",
    "    plt.imshow(np.transpose(npimg, (1, 2, 0)))\n",
    "\n",
    "\n",
    "# get some random training images\n",
    "dataiter = iter(trainloader)\n",
    "images, labels = dataiter.next()\n",
    "\n",
    "# show images\n",
    "imshow(torchvision.utils.make_grid(images))\n",
    "# print labels\n",
    "print(' '.join('%5s' % classes[labels[j]] for j in range(4)))"
   ]
  },
  {
   "cell_type": "markdown",
   "metadata": {},
   "source": [
    "## 3. Defining a Convolutional Neural Network"
   ]
  },
  {
   "cell_type": "code",
   "execution_count": 36,
   "metadata": {},
   "outputs": [],
   "source": [
    "import torch.nn as nn\n",
    "import torch.nn.functional as F\n",
    "# maybe define an object as input - architecture.\n",
    "class Net(nn.Module):\n",
    "    # nn.Conv2d(in_channels, out_channels, kernel_size)\n",
    "    # nn.Linear(in_features, out_features, bias=True)\n",
    "    # nn.MaxPool2d(kernel_size, stride=None)\n",
    "    def __init__(self):\n",
    "        super(Net, self).__init__()\n",
    "        self.conv1 = nn.Conv2d(3, 6, 5)\n",
    "        self.pool = nn.MaxPool2d(2, 2)\n",
    "        self.conv2 = nn.Conv2d(6, 16, 5)\n",
    "        self.fc1 = nn.Linear(16 * 5 * 5, 120)\n",
    "        self.fc2 = nn.Linear(120, 84)\n",
    "        self.fc3 = nn.Linear(84, 10)\n",
    "    \n",
    "    def forward(self, x):\n",
    "        x = self.pool(F.relu(self.conv1(x)))\n",
    "        x = self.pool(F.relu(self.conv2(x)))\n",
    "        x = x.view(-1, 16 * 5 * 5)\n",
    "        x = F.relu(self.fc1(x))\n",
    "        x = F.relu(self.fc2(x))\n",
    "        x = self.fc3(x)\n",
    "        return x\n",
    "    \n",
    "net = Net().to(device)"
   ]
  },
  {
   "cell_type": "markdown",
   "metadata": {},
   "source": [
    "### 3.1 Defining a Loss function and optimizer"
   ]
  },
  {
   "cell_type": "code",
   "execution_count": 37,
   "metadata": {},
   "outputs": [],
   "source": [
    "import torch.optim as optim\n",
    "\n",
    "criterion = nn.CrossEntropyLoss()\n",
    "optimizer = optim.SGD(net.parameters(), lr=0.001, momentum=0.9)"
   ]
  },
  {
   "cell_type": "markdown",
   "metadata": {},
   "source": [
    "### 3.2 Training the Network"
   ]
  },
  {
   "cell_type": "code",
   "execution_count": 45,
   "metadata": {},
   "outputs": [],
   "source": [
    "def train_net(nnet, optimizer, criterion, epochs=2):\n",
    "    for epoch in range(epochs):  # loop over the dataset multiple times\n",
    "\n",
    "        running_loss = 0.0\n",
    "        total = 0\n",
    "        correct = 0\n",
    "        \n",
    "        for i, data in enumerate(trainloader, 0):\n",
    "            # get the inputs\n",
    "            inputs, labels = data\n",
    "            inputs, labels = inputs.to(device), labels.to(device)\n",
    "\n",
    "            # zero the parameter gradients\n",
    "            optimizer.zero_grad()\n",
    "\n",
    "            # forward + backward + optimize\n",
    "            outputs = nnet(inputs)\n",
    "            loss = criterion(outputs, labels)\n",
    "            loss.backward()\n",
    "            optimizer.step()\n",
    "\n",
    "            # print statistics\n",
    "            running_loss += loss.item()\n",
    "            _, predicted = outputs.max(1)\n",
    "            total += labels.size(0)\n",
    "            correct += predicted.eq(labels).sum().item()\n",
    "            \n",
    "            if i == (len(trainloader) - 1):\n",
    "                print(f'[epoch:{epoch + 1}] - loss: {running_loss / len(trainloader)}; accuracy - {100 * correct / total}')\n",
    "                running_loss = 0.0\n",
    "    print('Finished Training')\n",
    "    \n",
    "    return nnet"
   ]
  },
  {
   "cell_type": "code",
   "execution_count": 46,
   "metadata": {},
   "outputs": [
    {
     "name": "stdout",
     "output_type": "stream",
     "text": [
      "[epoch:1] - loss: 1.7041721240496635; accuracy - 37.498\n",
      "[epoch:2] - loss: 1.31671597561121; accuracy - 52.98\n",
      "[epoch:3] - loss: 1.1934396190214158; accuracy - 57.526\n",
      "[epoch:4] - loss: 1.109635764567852; accuracy - 60.828\n",
      "[epoch:5] - loss: 1.0484701014113427; accuracy - 62.954\n",
      "Finished Training\n"
     ]
    }
   ],
   "source": [
    "net = train_net(net, optimizer, criterion, epochs=5)"
   ]
  },
  {
   "cell_type": "markdown",
   "metadata": {},
   "source": [
    "## 4. Evaluating the results.\n",
    "As defined in the tutorial there are two functions we are generally interested in - the ConvNet accuracy and the class accuracy. Let's use the code from the tutorial and convert it to functions."
   ]
  },
  {
   "cell_type": "code",
   "execution_count": 47,
   "metadata": {},
   "outputs": [],
   "source": [
    "def net_accuracy(nnet):\n",
    "    correct = 0\n",
    "    total = 0\n",
    "    with torch.no_grad():\n",
    "        for data in testloader:\n",
    "            images, labels = data\n",
    "            images, labels = images.to(device), labels.to(device)\n",
    "            outputs = nnet(images)\n",
    "            _, predicted = torch.max(outputs.data, 1)\n",
    "            total += labels.size(0)\n",
    "            correct += (predicted == labels).sum().item()\n",
    "\n",
    "    print('Accuracy of the network on the 10000 test images: %d %%' % (\n",
    "        100 * correct / total))"
   ]
  },
  {
   "cell_type": "code",
   "execution_count": 48,
   "metadata": {},
   "outputs": [],
   "source": [
    "def net_class_accuracy(nnet):\n",
    "    class_correct = list(0. for i in range(10))\n",
    "    class_total = list(0. for i in range(10))\n",
    "    with torch.no_grad():\n",
    "        for data in testloader:\n",
    "            images, labels = data\n",
    "            images, labels = images.to(device), labels.to(device)\n",
    "            outputs = nnet(images)\n",
    "            _, predicted = torch.max(outputs, 1)\n",
    "            c = (predicted == labels).squeeze()\n",
    "            for i in range(4):\n",
    "                label = labels[i]\n",
    "                class_correct[label] += c[i].item()\n",
    "                class_total[label] += 1\n",
    "\n",
    "\n",
    "    for i in range(10):\n",
    "        print('Accuracy of %5s : %2d %%' % (\n",
    "            classes[i], 100 * class_correct[i] / class_total[i]))"
   ]
  },
  {
   "cell_type": "markdown",
   "metadata": {},
   "source": [
    "... so how accurates are the models?"
   ]
  },
  {
   "cell_type": "code",
   "execution_count": 49,
   "metadata": {},
   "outputs": [
    {
     "name": "stdout",
     "output_type": "stream",
     "text": [
      "Accuracy of the network on the 10000 test images: 60 %\n"
     ]
    }
   ],
   "source": [
    "net_accuracy(net)"
   ]
  },
  {
   "cell_type": "code",
   "execution_count": 50,
   "metadata": {},
   "outputs": [
    {
     "name": "stdout",
     "output_type": "stream",
     "text": [
      "Accuracy of plane : 50 %\n",
      "Accuracy of   car : 75 %\n",
      "Accuracy of  bird : 51 %\n",
      "Accuracy of   cat : 38 %\n",
      "Accuracy of  deer : 44 %\n",
      "Accuracy of   dog : 46 %\n",
      "Accuracy of  frog : 66 %\n",
      "Accuracy of horse : 74 %\n",
      "Accuracy of  ship : 82 %\n",
      "Accuracy of truck : 70 %\n"
     ]
    }
   ],
   "source": [
    "net_class_accuracy(net)"
   ]
  },
  {
   "cell_type": "markdown",
   "metadata": {},
   "source": [
    "More than the tutorial - 63%, but still far from enough."
   ]
  },
  {
   "cell_type": "markdown",
   "metadata": {},
   "source": [
    "## 5. Improving the results.\n",
    "Let's create a plan for what we want to explore and how it changes the results:\n",
    "1. Changing the optimizer to Adam.\n",
    "2. Training for longer (f.e. insted of 5 epochs - 10 epochs).\n",
    "3. A different (deeper) architecture with more filters.\n",
    "4. Using a pre-trained model."
   ]
  },
  {
   "cell_type": "markdown",
   "metadata": {},
   "source": [
    "### 5.1 Changing the optimizer"
   ]
  },
  {
   "cell_type": "code",
   "execution_count": 51,
   "metadata": {},
   "outputs": [],
   "source": [
    "# Lets create a new network, anet for short\n",
    "anet = Net().to(device)\n",
    "# Create the optimizer with the same learning rate\n",
    "adam_optimizer = optim.Adam(anet.parameters(), lr=0.001)"
   ]
  },
  {
   "cell_type": "code",
   "execution_count": 52,
   "metadata": {},
   "outputs": [
    {
     "name": "stdout",
     "output_type": "stream",
     "text": [
      "[epoch:1] - loss: 1.547009461772442; accuracy - 43.456\n",
      "[epoch:2] - loss: 1.2824309130716325; accuracy - 54.196\n",
      "[epoch:3] - loss: 1.187639530698061; accuracy - 57.972\n",
      "[epoch:4] - loss: 1.1269297464358807; accuracy - 60.114\n",
      "[epoch:5] - loss: 1.0826500491118431; accuracy - 61.824\n",
      "Finished Training\n"
     ]
    }
   ],
   "source": [
    "# Train the network\n",
    "anet = train_net(anet, adam_optimizer, criterion, epochs=5)"
   ]
  },
  {
   "cell_type": "code",
   "execution_count": 53,
   "metadata": {},
   "outputs": [
    {
     "name": "stdout",
     "output_type": "stream",
     "text": [
      "Accuracy of the network on the 10000 test images: 58 %\n",
      "Accuracy of plane : 71 %\n",
      "Accuracy of   car : 69 %\n",
      "Accuracy of  bird : 61 %\n",
      "Accuracy of   cat : 23 %\n",
      "Accuracy of  deer : 60 %\n",
      "Accuracy of   dog : 43 %\n",
      "Accuracy of  frog : 69 %\n",
      "Accuracy of horse : 59 %\n",
      "Accuracy of  ship : 65 %\n",
      "Accuracy of truck : 60 %\n"
     ]
    }
   ],
   "source": [
    "net_accuracy(anet)\n",
    "net_class_accuracy(anet)"
   ]
  },
  {
   "cell_type": "markdown",
   "metadata": {},
   "source": [
    "Actually slightly worse results than the default setup, but according to the tutorial web page the default accuracy should be 54%."
   ]
  },
  {
   "cell_type": "markdown",
   "metadata": {},
   "source": [
    "### 5.2 Training for longer\n",
    "Let's see for both with the SGD and the ADAM optimizers if we train for 10 epochs what will be the outcome."
   ]
  },
  {
   "cell_type": "code",
   "execution_count": 54,
   "metadata": {},
   "outputs": [
    {
     "name": "stdout",
     "output_type": "stream",
     "text": [
      "[epoch:1] - loss: 1.7064391954755782; accuracy - 36.952\n",
      "[epoch:2] - loss: 1.3378141673493384; accuracy - 51.974\n",
      "[epoch:3] - loss: 1.1995933193945885; accuracy - 57.45\n",
      "[epoch:4] - loss: 1.1080654772114753; accuracy - 60.874\n",
      "[epoch:5] - loss: 1.032440056118965; accuracy - 63.504\n",
      "[epoch:6] - loss: 0.9820963241195678; accuracy - 65.244\n",
      "[epoch:7] - loss: 0.937831588871479; accuracy - 66.834\n",
      "[epoch:8] - loss: 0.8936462149715424; accuracy - 68.342\n",
      "[epoch:9] - loss: 0.8575245483636856; accuracy - 69.792\n",
      "[epoch:10] - loss: 0.827438372220993; accuracy - 70.612\n",
      "Finished Training\n",
      "####-----####\n",
      "Accuracy of the network on the 10000 test images: 61 %\n",
      "Accuracy of plane : 69 %\n",
      "Accuracy of   car : 81 %\n",
      "Accuracy of  bird : 44 %\n",
      "Accuracy of   cat : 36 %\n",
      "Accuracy of  deer : 59 %\n",
      "Accuracy of   dog : 46 %\n",
      "Accuracy of  frog : 69 %\n",
      "Accuracy of horse : 66 %\n",
      "Accuracy of  ship : 81 %\n",
      "Accuracy of truck : 64 %\n"
     ]
    }
   ],
   "source": [
    "# Train\n",
    "# with sgd optimizer\n",
    "sgd_net = Net().to(device)\n",
    "# the optimizer and the criterion itself\n",
    "criterion_sgd = nn.CrossEntropyLoss()\n",
    "optimizer_sgd = optim.SGD(sgd_net.parameters(), lr=0.001, momentum=0.9)\n",
    "# train finally\n",
    "sgd_net = train_net(sgd_net, optimizer_sgd, criterion_sgd, epochs=10)\n",
    "# Separator\n",
    "print('####-----####')\n",
    "# Evaluate\n",
    "net_accuracy(sgd_net)\n",
    "net_class_accuracy(sgd_net)"
   ]
  },
  {
   "cell_type": "code",
   "execution_count": 55,
   "metadata": {},
   "outputs": [
    {
     "name": "stdout",
     "output_type": "stream",
     "text": [
      "[epoch:1] - loss: 1.5396789820647239; accuracy - 43.562\n",
      "[epoch:2] - loss: 1.2719067490267753; accuracy - 54.494\n",
      "[epoch:3] - loss: 1.167629059317112; accuracy - 58.58\n",
      "[epoch:4] - loss: 1.1058373239272832; accuracy - 60.766\n",
      "[epoch:5] - loss: 1.05988533755064; accuracy - 62.608\n",
      "[epoch:6] - loss: 1.021104441138357; accuracy - 64.204\n",
      "[epoch:7] - loss: 0.9892796416351199; accuracy - 65.24\n",
      "[epoch:8] - loss: 0.9692634759831429; accuracy - 65.908\n",
      "[epoch:9] - loss: 0.9487328799961507; accuracy - 66.608\n",
      "[epoch:10] - loss: 0.9300324522809684; accuracy - 67.444\n",
      "Finished Training\n",
      "####-----####\n",
      "Accuracy of the network on the 10000 test images: 60 %\n",
      "Accuracy of plane : 47 %\n",
      "Accuracy of   car : 79 %\n",
      "Accuracy of  bird : 47 %\n",
      "Accuracy of   cat : 44 %\n",
      "Accuracy of  deer : 44 %\n",
      "Accuracy of   dog : 45 %\n",
      "Accuracy of  frog : 70 %\n",
      "Accuracy of horse : 77 %\n",
      "Accuracy of  ship : 76 %\n",
      "Accuracy of truck : 70 %\n"
     ]
    }
   ],
   "source": [
    "# Train\n",
    "# with adam optimizer\n",
    "adam_net = Net().to(device)\n",
    "# the optimizer and the criterion itself\n",
    "criterion_adam = nn.CrossEntropyLoss()\n",
    "optimizer_adam = optim.Adam(adam_net.parameters(), lr=0.001)\n",
    "# train finally\n",
    "adam_net = train_net(adam_net, optimizer_adam, criterion_adam, epochs=10)\n",
    "# Separator\n",
    "print('####-----####')\n",
    "# Evaluate\n",
    "net_accuracy(adam_net)\n",
    "net_class_accuracy(adam_net)"
   ]
  },
  {
   "cell_type": "markdown",
   "metadata": {},
   "source": [
    "**Commentary**:\n",
    "\n",
    "It seems that the SGD net starts to overfit, lowering its score to 61%, while the ADAM-based net improves the score by 1%. Still Adam underperforms by comparison. A conclusion one might draw is that, while with the increase in epochs the SGD-based network starts to overfit, the ADAM-based one improves. Thus, given enough epochs, the ADAM-based network's loss one might converge to a 0 (if it doesn't overfit though...). "
   ]
  },
  {
   "cell_type": "markdown",
   "metadata": {},
   "source": [
    "### 5.3 A different (deeper) architecture with more filters.\n",
    "What if we try a different architecture all together - a deeper fully connected layer with more convolutional layers to identify patterns in the images."
   ]
  },
  {
   "cell_type": "code",
   "execution_count": 57,
   "metadata": {},
   "outputs": [],
   "source": [
    "# Define the class of the deeper network\n",
    "# Let's start with 5 conv layers\n",
    "class DNet(nn.Module):\n",
    "    '''\n",
    "    Reminder:\n",
    "    nn.Conv2d(in_channels, out_channels, kernel_size)\n",
    "    nn.Linear(in_features, out_features, bias=True)\n",
    "    nn.MaxPool2d(kernel_size, stride=None)\n",
    "    '''\n",
    "    def __init__(self):\n",
    "        super(DNet, self).__init__()\n",
    "        self.conv1 = nn.Conv2d(3, 6, 3)\n",
    "        self.conv2 = nn.Conv2d(6, 12, 3)\n",
    "        self.conv3 = nn.Conv2d(12, 24, 3)\n",
    "        self.conv4 = nn.Conv2d(24, 48, 3)\n",
    "        self.pool = nn.MaxPool2d(2, 2)\n",
    "        self.fc1 = nn.Linear(48 * 5 * 5, 120)\n",
    "        self.fc2 = nn.Linear(120, 84)\n",
    "        self.fc3 = nn.Linear(84, 48)\n",
    "        self.fc4 = nn.Linear(48, 10)\n",
    "    \n",
    "    def forward(self, x):\n",
    "        x = F.relu(self.conv1(x))\n",
    "        x = self.pool(F.relu(self.conv2(x)))\n",
    "        x = F.relu(self.conv3(x))\n",
    "        x = self.pool(F.relu(self.conv4(x)))\n",
    "        x = x.view(-1, 48 * 5 * 5)\n",
    "        x = F.relu(self.fc1(x))\n",
    "        x = F.relu(self.fc2(x))\n",
    "        x = F.relu(self.fc3(x))\n",
    "        x = self.fc4(x)\n",
    "        return x"
   ]
  },
  {
   "cell_type": "code",
   "execution_count": 58,
   "metadata": {},
   "outputs": [
    {
     "name": "stdout",
     "output_type": "stream",
     "text": [
      "[epoch:1] - loss: 1.6306660749936104; accuracy - 38.93\n",
      "[epoch:2] - loss: 1.2852594197678566; accuracy - 53.524\n",
      "[epoch:3] - loss: 1.138021693394184; accuracy - 59.466\n",
      "[epoch:4] - loss: 1.0513752358043194; accuracy - 62.836\n",
      "[epoch:5] - loss: 0.9854366983217001; accuracy - 65.412\n",
      "[epoch:6] - loss: 0.9326590667197108; accuracy - 67.262\n",
      "[epoch:7] - loss: 0.8890728592343629; accuracy - 69.174\n",
      "[epoch:8] - loss: 0.8493496533891559; accuracy - 70.31\n",
      "[epoch:9] - loss: 0.8206060064383596; accuracy - 71.384\n",
      "[epoch:10] - loss: 0.7957936157707125; accuracy - 72.438\n",
      "[epoch:11] - loss: 0.7715440133947506; accuracy - 73.394\n",
      "[epoch:12] - loss: 0.7510322618537024; accuracy - 74.11\n",
      "[epoch:13] - loss: 0.7318915311853588; accuracy - 74.726\n",
      "[epoch:14] - loss: 0.7124009860984236; accuracy - 75.534\n",
      "[epoch:15] - loss: 0.6915425888902508; accuracy - 76.208\n",
      "[epoch:16] - loss: 0.6765689955948386; accuracy - 76.72\n",
      "[epoch:17] - loss: 0.6595689746240154; accuracy - 77.386\n",
      "[epoch:18] - loss: 0.6481739731482788; accuracy - 77.988\n",
      "[epoch:19] - loss: 0.6393536739557609; accuracy - 78.128\n",
      "[epoch:20] - loss: 0.6274447560359165; accuracy - 78.548\n",
      "[epoch:21] - loss: 0.6198604446826502; accuracy - 78.978\n",
      "[epoch:22] - loss: 0.6052032205595076; accuracy - 79.53\n",
      "[epoch:23] - loss: 0.6140014207109808; accuracy - 79.382\n",
      "[epoch:24] - loss: 0.5903938678179681; accuracy - 80.08\n",
      "[epoch:25] - loss: 0.5873541237080098; accuracy - 80.066\n",
      "[epoch:26] - loss: 0.5690683513721824; accuracy - 80.778\n",
      "[epoch:27] - loss: 0.6081890395649523; accuracy - 80.168\n",
      "[epoch:28] - loss: 0.5768437854805589; accuracy - 80.964\n",
      "[epoch:29] - loss: 0.5656886502745468; accuracy - 81.386\n",
      "[epoch:30] - loss: 0.5599870096479356; accuracy - 81.28\n",
      "[epoch:31] - loss: 0.5410820835022628; accuracy - 81.854\n",
      "[epoch:32] - loss: 0.5339105202794076; accuracy - 82.168\n",
      "[epoch:33] - loss: 0.5593838580980897; accuracy - 81.982\n",
      "[epoch:34] - loss: 0.5651877948313951; accuracy - 81.982\n",
      "[epoch:35] - loss: 0.568482549533248; accuracy - 81.286\n",
      "[epoch:36] - loss: 0.5377753422915935; accuracy - 82.496\n",
      "[epoch:37] - loss: 0.6591158942952752; accuracy - 79.274\n",
      "[epoch:38] - loss: 0.7085152685725689; accuracy - 78.898\n",
      "[epoch:39] - loss: 0.5723129777354002; accuracy - 81.484\n",
      "[epoch:40] - loss: 0.5786749959748984; accuracy - 81.518\n",
      "Finished Training\n",
      "####-----####\n",
      "Accuracy of the network on the 10000 test images: 66 %\n",
      "Accuracy of plane : 73 %\n",
      "Accuracy of   car : 85 %\n",
      "Accuracy of  bird : 41 %\n",
      "Accuracy of   cat : 42 %\n",
      "Accuracy of  deer : 70 %\n",
      "Accuracy of   dog : 57 %\n",
      "Accuracy of  frog : 65 %\n",
      "Accuracy of horse : 69 %\n",
      "Accuracy of  ship : 78 %\n",
      "Accuracy of truck : 77 %\n"
     ]
    }
   ],
   "source": [
    "# Initialize the Net\n",
    "dnet = DNet().to(device)\n",
    "# Train\n",
    "# the optimizer and the criterion itself\n",
    "criterion_dnet = nn.CrossEntropyLoss()\n",
    "optimizer_dnet = optim.Adam(dnet.parameters(), lr=0.001)\n",
    "# train finally, let's train for an additional 30 epochs\n",
    "dnet = train_net(dnet, optimizer_dnet, criterion_dnet, epochs=40)\n",
    "# Separator\n",
    "print('####-----####')\n",
    "# Evaluate\n",
    "net_accuracy(dnet)\n",
    "net_class_accuracy(dnet)"
   ]
  },
  {
   "cell_type": "markdown",
   "metadata": {},
   "source": [
    "**Commentary:** An improvement on the basis of the initial network of 3%. Maybe a few decimals could be shaved off of the loss if we train for longer, but lets move on."
   ]
  },
  {
   "cell_type": "markdown",
   "metadata": {},
   "source": [
    "### 5.4 Using a pre-trained model.\n",
    "A way of increasing the accuracy of a CNN is to use the architecture and weights of a pre-trained model for our specific use case. I would have liked to test at least three of them, but let's start with VGG16."
   ]
  },
  {
   "cell_type": "code",
   "execution_count": 59,
   "metadata": {},
   "outputs": [],
   "source": [
    "model_vgg16 = models.vgg16(pretrained=True)"
   ]
  },
  {
   "cell_type": "code",
   "execution_count": 60,
   "metadata": {},
   "outputs": [],
   "source": [
    "# freeze all layers\n",
    "for parameter in model_vgg16.parameters():\n",
    "    parameter.requires_grad = False\n",
    "    \n",
    "# remove the last layer\n",
    "num_features = model_vgg16.classifier[6].in_features\n",
    "features = list(model_vgg16.classifier.children())[:-1]\n",
    "# out features are 10 by design\n",
    "features.extend([nn.Linear(num_features, 10)])\n",
    "# replace the first layer as VGG accepts 224x224 images\n",
    "features[0] = nn.Linear(512, 4096)\n",
    "model_vgg16.classifier = nn.Sequential(*features)"
   ]
  },
  {
   "cell_type": "markdown",
   "metadata": {},
   "source": [
    "Now we create the loss and the optimizer."
   ]
  },
  {
   "cell_type": "code",
   "execution_count": 61,
   "metadata": {},
   "outputs": [],
   "source": [
    "# the optimizer and the criterion itself\n",
    "criterion_vgg16 = nn.CrossEntropyLoss()\n",
    "optimizer_vgg16 = optim.Adam(model_vgg16.parameters(), lr=0.0001)"
   ]
  },
  {
   "cell_type": "code",
   "execution_count": 62,
   "metadata": {},
   "outputs": [],
   "source": [
    "# make the classifier trainable\n",
    "for name, child in model_vgg16.named_children():\n",
    "    if name == 'classifier':\n",
    "        for param in child.parameters():\n",
    "            param.requires_grad = True"
   ]
  },
  {
   "cell_type": "markdown",
   "metadata": {},
   "source": [
    "And finally train the network."
   ]
  },
  {
   "cell_type": "code",
   "execution_count": 63,
   "metadata": {},
   "outputs": [
    {
     "name": "stdout",
     "output_type": "stream",
     "text": [
      "[epoch:1] - loss: 1.1229289635574817; accuracy - 60.554\n",
      "[epoch:2] - loss: 0.9378810266068578; accuracy - 67.086\n",
      "[epoch:3] - loss: 0.8502546418892964; accuracy - 70.424\n",
      "[epoch:4] - loss: 0.7740229174576699; accuracy - 73.0\n",
      "[epoch:5] - loss: 0.70266417931851; accuracy - 75.388\n",
      "[epoch:6] - loss: 0.6475802810016275; accuracy - 77.358\n",
      "[epoch:7] - loss: 0.5882951875706762; accuracy - 79.53\n",
      "[epoch:8] - loss: 0.5424756513660773; accuracy - 81.254\n",
      "[epoch:9] - loss: 0.5041186881139129; accuracy - 82.704\n",
      "[epoch:10] - loss: 0.4620323306996375; accuracy - 84.222\n",
      "[epoch:11] - loss: 0.4273112909839675; accuracy - 85.514\n",
      "[epoch:12] - loss: 0.40927033533394336; accuracy - 86.202\n",
      "[epoch:13] - loss: 0.3817151334148645; accuracy - 87.296\n",
      "[epoch:14] - loss: 0.3601132384292781; accuracy - 88.084\n",
      "[epoch:15] - loss: 0.35353821071088315; accuracy - 88.49\n",
      "[epoch:16] - loss: 0.33539847141087054; accuracy - 89.274\n",
      "[epoch:17] - loss: 0.3202602453994751; accuracy - 89.756\n",
      "[epoch:18] - loss: 0.3076227310103178; accuracy - 90.184\n",
      "[epoch:19] - loss: 0.2979329801607132; accuracy - 90.784\n",
      "[epoch:20] - loss: 0.28757089703440664; accuracy - 91.084\n",
      "[epoch:21] - loss: 0.2896568918251991; accuracy - 91.254\n",
      "[epoch:22] - loss: 0.26321887327730653; accuracy - 92.028\n",
      "[epoch:23] - loss: 0.27342186388850215; accuracy - 92.058\n",
      "[epoch:24] - loss: 0.25664886417269706; accuracy - 92.434\n",
      "[epoch:25] - loss: 0.25764261400341987; accuracy - 92.594\n",
      "Finished Training\n",
      "####-----####\n",
      "Accuracy of the network on the 10000 test images: 64 %\n",
      "Accuracy of plane : 73 %\n",
      "Accuracy of   car : 72 %\n",
      "Accuracy of  bird : 58 %\n",
      "Accuracy of   cat : 50 %\n",
      "Accuracy of  deer : 55 %\n",
      "Accuracy of   dog : 62 %\n",
      "Accuracy of  frog : 70 %\n",
      "Accuracy of horse : 67 %\n",
      "Accuracy of  ship : 73 %\n",
      "Accuracy of truck : 75 %\n"
     ]
    }
   ],
   "source": [
    "# Train \n",
    "model_vgg16.cuda() # send to the gpu\n",
    "model_vgg16 = train_net(model_vgg16, optimizer_vgg16, criterion_vgg16, epochs=25)\n",
    "# Separator\n",
    "print('####-----####')\n",
    "# Evaluate\n",
    "net_accuracy(model_vgg16)\n",
    "net_class_accuracy(model_vgg16)"
   ]
  },
  {
   "cell_type": "markdown",
   "metadata": {},
   "source": [
    "64% accuracy, a little less than my model. And even trained for longer."
   ]
  },
  {
   "cell_type": "markdown",
   "metadata": {},
   "source": [
    "## 6. Conclusion. For now.\n",
    "It seems that the maximum accuracy I got from CIFAR10 is 67%. What surprised me is that VGG16 didn't do much better than the custom model I came up with. In any case it is obvious that all models examined tend to overfit at some point. Some further steps that could be done are to:\n",
    "1. Implement dropout in my model.\n",
    "2. Implement batch normalization in both - my model and VGG16.\n",
    "3. Augment the input data by random transforms. \n",
    "4. Try out other pre-trained models.\n",
    "\n",
    "In any case I intend to revisit the problem and try out these steps, at least, in the near future."
   ]
  },
  {
   "cell_type": "code",
   "execution_count": null,
   "metadata": {},
   "outputs": [],
   "source": []
  }
 ],
 "metadata": {
  "kernelspec": {
   "display_name": "Python 3",
   "language": "python",
   "name": "python3"
  },
  "language_info": {
   "codemirror_mode": {
    "name": "ipython",
    "version": 3
   },
   "file_extension": ".py",
   "mimetype": "text/x-python",
   "name": "python",
   "nbconvert_exporter": "python",
   "pygments_lexer": "ipython3",
   "version": "3.6.6"
  }
 },
 "nbformat": 4,
 "nbformat_minor": 2
}

{
 "cells": [
  {
   "cell_type": "markdown",
   "metadata": {},
   "source": [
    "# CIFAR 10 Example\n",
    "Since my experience until now has been mostly with Tensorflow/Keras, this notebook is intended to play around with PyTorch and run through their tutorial for training on the CIFAR10 dataset. In addition - it will be all done on the gpu.\n",
    "\n",
    "### What is CIFAR 10?\n",
    "Taken straight from the [website](https://www.cs.toronto.edu/~kriz/cifar.html):\n",
    "\"The CIFAR-10 dataset consists of 60000 32x32 colour images in 10 classes, with 6000 images per class. There are 50000 training images and 10000 test images. \n",
    "\n",
    "The dataset is divided into five training batches and one test batch, each with 10000 images. The test batch contains exactly 1000 randomly-selected images from each class. The training batches contain the remaining images in random order, but some training batches may contain more images from one class than another. Between them, the training batches contain exactly 5000 images from each class.\"\n",
    "\n",
    "### What is the goal?\n",
    "As an introduction to PyTorch - use the tutorial, get its results and improve them.\n",
    "\n",
    "### Project Structure:\n",
    "\n",
    "1. Loading the data & Loading the libraries.\n",
    "2. Showing a sample of images.\n",
    "3. Defining and training a convolutional neural network.\n",
    "4. Evaluating the results.\n",
    "5. Improving the results.\n",
    "\n",
    "...\n",
    "\n",
    "### References\n",
    "* [Learning Multiple Layers of Features from Tiny Images](https://www.cs.toronto.edu/~kriz/learning-features-2009-TR.pdf), Alex Krizhevsky\n",
    "* [Training a classifier](https://pytorch.org/tutorials/beginner/blitz/cifar10_tutorial.html), PyTorch"
   ]
  },
  {
   "cell_type": "markdown",
   "metadata": {},
   "source": [
    "## 1. Loading the data & Loading the libraries."
   ]
  },
  {
   "cell_type": "code",
   "execution_count": 1,
   "metadata": {},
   "outputs": [],
   "source": [
    "import torch\n",
    "import torchvision\n",
    "import torchvision.transforms as transforms\n",
    "import torchvision.models as models\n",
    "import matplotlib.pyplot as plt\n",
    "import numpy as np\n",
    "from torchsummary import summary"
   ]
  },
  {
   "cell_type": "code",
   "execution_count": 2,
   "metadata": {},
   "outputs": [],
   "source": [
    "# Set the device to the GPU\n",
    "device = torch.device(\"cuda:0\" if torch.cuda.is_available() else \"cpu\")"
   ]
  },
  {
   "cell_type": "markdown",
   "metadata": {},
   "source": [
    "First I will try to mimic the tutorial from Torch's website then implement it my way."
   ]
  },
  {
   "cell_type": "code",
   "execution_count": 3,
   "metadata": {},
   "outputs": [
    {
     "name": "stdout",
     "output_type": "stream",
     "text": [
      "Files already downloaded and verified\n",
      "Files already downloaded and verified\n"
     ]
    }
   ],
   "source": [
    "transform = transforms.Compose(\n",
    "    [transforms.ToTensor(),\n",
    "     transforms.Normalize((0.5, 0.5, 0.5), (0.5, 0.5, 0.5))])\n",
    "\n",
    "trainset = torchvision.datasets.CIFAR10(root='./datasets', train=True,\n",
    "                                        download=True, transform=transform)\n",
    "trainloader = torch.utils.data.DataLoader(trainset, batch_size=32,\n",
    "                                          shuffle=True, num_workers=4)\n",
    "\n",
    "testset = torchvision.datasets.CIFAR10(root='./datasets', train=False,\n",
    "                                       download=True, transform=transform)\n",
    "testloader = torch.utils.data.DataLoader(testset, batch_size=32,\n",
    "                                         shuffle=False, num_workers=4)\n",
    "\n",
    "classes = ('plane', 'car', 'bird', 'cat',\n",
    "           'deer', 'dog', 'frog', 'horse', 'ship', 'truck')"
   ]
  },
  {
   "cell_type": "markdown",
   "metadata": {},
   "source": [
    "## 2. Showing a sample images."
   ]
  },
  {
   "cell_type": "code",
   "execution_count": 4,
   "metadata": {},
   "outputs": [
    {
     "name": "stdout",
     "output_type": "stream",
     "text": [
      " bird plane  frog horse\n"
     ]
    },
    {
     "data": {
      "image/png": "[encoded data removed]",
      "text/plain": [
       "<Figure size 432x288 with 1 Axes>"
      ]
     },
     "metadata": {
      "needs_background": "light"
     },
     "output_type": "display_data"
    }
   ],
   "source": [
    "def imshow(img):\n",
    "    img = img / 2 + 0.5     # unnormalize\n",
    "    npimg = img.numpy()\n",
    "    plt.imshow(np.transpose(npimg, (1, 2, 0)))\n",
    "\n",
    "\n",
    "# get some random training images\n",
    "dataiter = iter(trainloader)\n",
    "images, labels = dataiter.next()\n",
    "\n",
    "# show images\n",
    "imshow(torchvision.utils.make_grid(images[0:4]))\n",
    "# print labels\n",
    "print(' '.join('%5s' % classes[labels[j]] for j in range(4)))"
   ]
  },
  {
   "cell_type": "code",
   "execution_count": 5,
   "metadata": {},
   "outputs": [
    {
     "data": {
      "text/plain": [
       "torch.Size([3, 32, 32])"
      ]
     },
     "execution_count": 5,
     "metadata": {},
     "output_type": "execute_result"
    }
   ],
   "source": [
    "images[0].shape"
   ]
  },
  {
   "cell_type": "markdown",
   "metadata": {},
   "source": [
    "## 3. Defining a Convolutional Neural Network"
   ]
  },
  {
   "cell_type": "markdown",
   "metadata": {},
   "source": [
    "Instead of using the provided CNN architecture I will design a couple of my own architectures to get the hang of PyTorch."
   ]
  },
  {
   "cell_type": "code",
   "execution_count": 6,
   "metadata": {},
   "outputs": [],
   "source": [
    "# General Pytorch imports\n",
    "import torch\n",
    "import torch.nn as nn\n",
    "import torch.nn.functional as F"
   ]
  },
  {
   "cell_type": "markdown",
   "metadata": {},
   "source": [
    "##### -- Simple Net\n",
    "Just two conv layers."
   ]
  },
  {
   "cell_type": "code",
   "execution_count": 48,
   "metadata": {},
   "outputs": [],
   "source": [
    "class SimpleNet(nn.Module):\n",
    "    def __init__(self, num_classes=10):\n",
    "        super(SimpleNet, self).__init__()\n",
    "        self.conv1 = nn.Conv2d(in_channels=3, out_channels=64, kernel_size=3)\n",
    "        self.relu1 = nn.ReLU()\n",
    "        \n",
    "        self.conv2 = nn.Conv2d(in_channels=64, out_channels=128, kernel_size=3)\n",
    "        self.relu2 = nn.ReLU()\n",
    "        \n",
    "        self.pool = nn.MaxPool2d(kernel_size=2)\n",
    "        \n",
    "        self.fc1 = nn.Linear(in_features=128 * 14 * 14, out_features=64)\n",
    "        self.fc2 = nn.Linear(in_features=64, out_features=num_classes)\n",
    "    \n",
    "    def forward(self, inputs):\n",
    "        # 1\n",
    "        output = self.conv1(inputs)\n",
    "        output = self.relu1(output)\n",
    "        # 2\n",
    "        output = self.conv2(output)\n",
    "        output = self.relu2(output)\n",
    "        # 3 pool\n",
    "        output = self.pool(output)\n",
    "        # 4 view\n",
    "        output = output.view(-1, 128 * 14 * 14)\n",
    "        # 5\n",
    "        output = F.relu(self.fc1(output))\n",
    "        output = self.fc2(output)\n",
    "        \n",
    "        return output"
   ]
  },
  {
   "cell_type": "code",
   "execution_count": 49,
   "metadata": {},
   "outputs": [
    {
     "name": "stdout",
     "output_type": "stream",
     "text": [
      "----------------------------------------------------------------\n",
      "        Layer (type)               Output Shape         Param #\n",
      "================================================================\n",
      "            Conv2d-1           [-1, 64, 30, 30]           1,792\n",
      "              ReLU-2           [-1, 64, 30, 30]               0\n",
      "            Conv2d-3          [-1, 128, 28, 28]          73,856\n",
      "              ReLU-4          [-1, 128, 28, 28]               0\n",
      "         MaxPool2d-5          [-1, 128, 14, 14]               0\n",
      "            Linear-6                   [-1, 64]       1,605,696\n",
      "            Linear-7                   [-1, 10]             650\n",
      "================================================================\n",
      "Total params: 1,681,994\n",
      "Trainable params: 1,681,994\n",
      "Non-trainable params: 0\n",
      "----------------------------------------------------------------\n",
      "Input size (MB): 0.01\n",
      "Forward/backward pass size (MB): 2.60\n",
      "Params size (MB): 6.42\n",
      "Estimated Total Size (MB): 9.03\n",
      "----------------------------------------------------------------\n"
     ]
    }
   ],
   "source": [
    "simple_net = SimpleNet().to(device)\n",
    "summary(simple_net, input_size=(3, 32, 32))"
   ]
  },
  {
   "cell_type": "markdown",
   "metadata": {},
   "source": [
    "##### -- Deeper Net\n",
    "No fancy stuff though (Dropout, BatchNorm, etc, etc), just Deeper."
   ]
  },
  {
   "cell_type": "code",
   "execution_count": 85,
   "metadata": {},
   "outputs": [],
   "source": [
    "class DeeperNet(nn.Module):\n",
    "    def __init__(self, num_classes=10):\n",
    "        super(DeeperNet, self).__init__()\n",
    "        self.conv1 = nn.Conv2d(in_channels=3, out_channels=64, kernel_size=3)\n",
    "        self.relu1 = nn.ReLU()\n",
    "        \n",
    "        self.conv2 = nn.Conv2d(in_channels=64, out_channels=128, kernel_size=3)\n",
    "        self.relu2 = nn.ReLU()\n",
    "        \n",
    "        self.pool1 = nn.MaxPool2d(kernel_size=2)\n",
    "        \n",
    "        self.conv3 = nn.Conv2d(in_channels=128, out_channels=64, kernel_size=1)\n",
    "        self.relu3 = nn.ReLU()\n",
    "        self.conv4 = nn.Conv2d(in_channels=64, out_channels=128, kernel_size=1)\n",
    "        self.relu4 = nn.ReLU()\n",
    "        self.conv5 = nn.Conv2d(in_channels=128, out_channels=256, kernel_size=1)\n",
    "        self.relu5 = nn.ReLU()\n",
    "        \n",
    "        self.pool2 = nn.MaxPool2d(kernel_size=2)\n",
    "        \n",
    "        self.fc1 = nn.Linear(in_features=256 * 7 * 7, out_features=128)\n",
    "        self.fc2 = nn.Linear(in_features=128, out_features=128)\n",
    "        self.fc3 = nn.Linear(in_features=128, out_features=64)\n",
    "        self.fc4 = nn.Linear(in_features=64, out_features=10)\n",
    "        self.softmax = nn.Softmax(dim=-1)\n",
    "    \n",
    "    def forward(self, inputs):\n",
    "        # 1\n",
    "        output = self.conv1(inputs)\n",
    "        output = self.relu1(output)\n",
    "        output = self.conv2(output)\n",
    "        output = self.relu2(output)\n",
    "        # 2 pool\n",
    "        output = self.pool1(output)\n",
    "        # 3 \n",
    "        output = self.conv3(output)\n",
    "        output = self.relu3(output)\n",
    "        output = self.conv4(output)\n",
    "        output = self.relu4(output)\n",
    "        output = self.conv5(output)\n",
    "        output = self.relu5(output)\n",
    "        # 4 pool\n",
    "        output = self.pool2(output)\n",
    "        # 4 view\n",
    "        output = output.view(-1, 256 * 7 * 7)\n",
    "        # 5\n",
    "        output = F.relu(self.fc1(output))\n",
    "        output = F.relu(self.fc2(output))\n",
    "        output = F.relu(self.fc3(output))\n",
    "        output = self.fc4(output)\n",
    "        \n",
    "        return output"
   ]
  },
  {
   "cell_type": "code",
   "execution_count": 86,
   "metadata": {},
   "outputs": [
    {
     "name": "stdout",
     "output_type": "stream",
     "text": [
      "----------------------------------------------------------------\n",
      "        Layer (type)               Output Shape         Param #\n",
      "================================================================\n",
      "            Conv2d-1           [-1, 64, 30, 30]           1,792\n",
      "              ReLU-2           [-1, 64, 30, 30]               0\n",
      "            Conv2d-3          [-1, 128, 28, 28]          73,856\n",
      "              ReLU-4          [-1, 128, 28, 28]               0\n",
      "         MaxPool2d-5          [-1, 128, 14, 14]               0\n",
      "            Conv2d-6           [-1, 64, 14, 14]           8,256\n",
      "              ReLU-7           [-1, 64, 14, 14]               0\n",
      "            Conv2d-8          [-1, 128, 14, 14]           8,320\n",
      "              ReLU-9          [-1, 128, 14, 14]               0\n",
      "           Conv2d-10          [-1, 256, 14, 14]          33,024\n",
      "             ReLU-11          [-1, 256, 14, 14]               0\n",
      "        MaxPool2d-12            [-1, 256, 7, 7]               0\n",
      "           Linear-13                  [-1, 128]       1,605,760\n",
      "           Linear-14                  [-1, 128]          16,512\n",
      "           Linear-15                   [-1, 64]           8,256\n",
      "           Linear-16                   [-1, 10]             650\n",
      "================================================================\n",
      "Total params: 1,756,426\n",
      "Trainable params: 1,756,426\n",
      "Non-trainable params: 0\n",
      "----------------------------------------------------------------\n",
      "Input size (MB): 0.01\n",
      "Forward/backward pass size (MB): 4.04\n",
      "Params size (MB): 6.70\n",
      "Estimated Total Size (MB): 10.75\n",
      "----------------------------------------------------------------\n"
     ]
    }
   ],
   "source": [
    "deeper_net = DeeperNet().to(device)\n",
    "summary(deeper_net, input_size=(3, 32, 32))"
   ]
  },
  {
   "cell_type": "markdown",
   "metadata": {},
   "source": [
    "##### -- Fancy Net\n",
    "Nothing really fancy about it, but just implementing batch normalization and dropout. Also trying to experiment I will try to make the network more modular."
   ]
  },
  {
   "cell_type": "code",
   "execution_count": 71,
   "metadata": {},
   "outputs": [],
   "source": [
    "# Defining a unit of the architecture containing a single convolution, batch normalization and activator\n",
    "class Unit(nn.Module):\n",
    "    def __init__(self, in_channels, out_channels, kernel_size=3):\n",
    "        super(Unit, self).__init__()\n",
    "        self.conv = nn.Conv2d(in_channels=in_channels, out_channels=out_channels, kernel_size=kernel_size)\n",
    "        self.bn = nn.BatchNorm2d(num_features=out_channels)\n",
    "        self.relu = nn.ReLU()\n",
    "    \n",
    "    def forward(self, inputs):\n",
    "        output = self.conv(inputs)\n",
    "        output = self.bn(output)\n",
    "        output = self.relu(output)\n",
    "        \n",
    "        return output"
   ]
  },
  {
   "cell_type": "code",
   "execution_count": 72,
   "metadata": {},
   "outputs": [],
   "source": [
    "class FancyNet(nn.Module):\n",
    "    def __init__(self, num_classes=10):\n",
    "        super(FancyNet, self).__init__()\n",
    "        self.unit1 = Unit(in_channels=3, out_channels=32, kernel_size=1)\n",
    "        self.unit2 = Unit(in_channels=32, out_channels=32, kernel_size=1)\n",
    "        self.unit3 = Unit(in_channels=32, out_channels=32, kernel_size=1)\n",
    "        \n",
    "        self.pool1 = nn.MaxPool2d(kernel_size=2)\n",
    "        \n",
    "        self.unit4 = Unit(in_channels=32, out_channels=64)\n",
    "        self.unit5 = Unit(in_channels=64, out_channels=64)\n",
    "        self.unit6 = Unit(in_channels=64, out_channels=64)\n",
    "        self.unit6 = Unit(in_channels=64, out_channels=64)\n",
    "        \n",
    "        \n",
    "        self.pool2 = nn.MaxPool2d(kernel_size=2)\n",
    "        \n",
    "        self.net = nn.Sequential(self.unit1, self.unit2, self.unit3, self.pool1, \\\n",
    "                                self.unit4, self.unit5, self.unit6, self.pool2)\n",
    "        \n",
    "        self.fc1 = nn.Linear(in_features=64*5*5, out_features=num_classes)\n",
    "        \n",
    "    def forward(self, inputs):\n",
    "        output = self.net(inputs)\n",
    "        output = output.view(-1, 64*5*5)\n",
    "        output = self.fc1(output)\n",
    "        \n",
    "        return output"
   ]
  },
  {
   "cell_type": "code",
   "execution_count": 73,
   "metadata": {},
   "outputs": [
    {
     "name": "stdout",
     "output_type": "stream",
     "text": [
      "----------------------------------------------------------------\n",
      "        Layer (type)               Output Shape         Param #\n",
      "================================================================\n",
      "            Conv2d-1           [-1, 32, 32, 32]             128\n",
      "            Conv2d-2           [-1, 32, 32, 32]             128\n",
      "       BatchNorm2d-3           [-1, 32, 32, 32]              64\n",
      "       BatchNorm2d-4           [-1, 32, 32, 32]              64\n",
      "              ReLU-5           [-1, 32, 32, 32]               0\n",
      "              ReLU-6           [-1, 32, 32, 32]               0\n",
      "              Unit-7           [-1, 32, 32, 32]               0\n",
      "              Unit-8           [-1, 32, 32, 32]               0\n",
      "            Conv2d-9           [-1, 32, 32, 32]           1,056\n",
      "           Conv2d-10           [-1, 32, 32, 32]           1,056\n",
      "      BatchNorm2d-11           [-1, 32, 32, 32]              64\n",
      "      BatchNorm2d-12           [-1, 32, 32, 32]              64\n",
      "             ReLU-13           [-1, 32, 32, 32]               0\n",
      "             ReLU-14           [-1, 32, 32, 32]               0\n",
      "             Unit-15           [-1, 32, 32, 32]               0\n",
      "             Unit-16           [-1, 32, 32, 32]               0\n",
      "           Conv2d-17           [-1, 32, 32, 32]           1,056\n",
      "           Conv2d-18           [-1, 32, 32, 32]           1,056\n",
      "      BatchNorm2d-19           [-1, 32, 32, 32]              64\n",
      "      BatchNorm2d-20           [-1, 32, 32, 32]              64\n",
      "             ReLU-21           [-1, 32, 32, 32]               0\n",
      "             ReLU-22           [-1, 32, 32, 32]               0\n",
      "             Unit-23           [-1, 32, 32, 32]               0\n",
      "             Unit-24           [-1, 32, 32, 32]               0\n",
      "        MaxPool2d-25           [-1, 32, 16, 16]               0\n",
      "        MaxPool2d-26           [-1, 32, 16, 16]               0\n",
      "           Conv2d-27           [-1, 64, 14, 14]          18,496\n",
      "           Conv2d-28           [-1, 64, 14, 14]          18,496\n",
      "      BatchNorm2d-29           [-1, 64, 14, 14]             128\n",
      "      BatchNorm2d-30           [-1, 64, 14, 14]             128\n",
      "             ReLU-31           [-1, 64, 14, 14]               0\n",
      "             ReLU-32           [-1, 64, 14, 14]               0\n",
      "             Unit-33           [-1, 64, 14, 14]               0\n",
      "             Unit-34           [-1, 64, 14, 14]               0\n",
      "           Conv2d-35           [-1, 64, 12, 12]          36,928\n",
      "           Conv2d-36           [-1, 64, 12, 12]          36,928\n",
      "      BatchNorm2d-37           [-1, 64, 12, 12]             128\n",
      "      BatchNorm2d-38           [-1, 64, 12, 12]             128\n",
      "             ReLU-39           [-1, 64, 12, 12]               0\n",
      "             ReLU-40           [-1, 64, 12, 12]               0\n",
      "             Unit-41           [-1, 64, 12, 12]               0\n",
      "             Unit-42           [-1, 64, 12, 12]               0\n",
      "           Conv2d-43           [-1, 64, 10, 10]          36,928\n",
      "           Conv2d-44           [-1, 64, 10, 10]          36,928\n",
      "      BatchNorm2d-45           [-1, 64, 10, 10]             128\n",
      "      BatchNorm2d-46           [-1, 64, 10, 10]             128\n",
      "             ReLU-47           [-1, 64, 10, 10]               0\n",
      "             ReLU-48           [-1, 64, 10, 10]               0\n",
      "             Unit-49           [-1, 64, 10, 10]               0\n",
      "             Unit-50           [-1, 64, 10, 10]               0\n",
      "        MaxPool2d-51             [-1, 64, 5, 5]               0\n",
      "        MaxPool2d-52             [-1, 64, 5, 5]               0\n",
      "           Linear-53                   [-1, 10]          16,010\n",
      "================================================================\n",
      "Total params: 206,346\n",
      "Trainable params: 206,346\n",
      "Non-trainable params: 0\n",
      "----------------------------------------------------------------\n",
      "Input size (MB): 0.01\n",
      "Forward/backward pass size (MB): 7.87\n",
      "Params size (MB): 0.79\n",
      "Estimated Total Size (MB): 8.67\n",
      "----------------------------------------------------------------\n"
     ]
    }
   ],
   "source": [
    "fancy_net = FancyNet().to(device)\n",
    "summary(fancy_net, input_size=(3, 32, 32))"
   ]
  },
  {
   "cell_type": "markdown",
   "metadata": {},
   "source": [
    "### 3.1 Defining a Loss function and optimizer"
   ]
  },
  {
   "cell_type": "code",
   "execution_count": 87,
   "metadata": {},
   "outputs": [],
   "source": [
    "import torch.optim as optim\n",
    "\n",
    "criterion = nn.CrossEntropyLoss()\n",
    "\n",
    "def define_optimizer(optimizer, lr, momentum, network):\n",
    "    return optimizer(network.parameters(), lr, momentum)"
   ]
  },
  {
   "cell_type": "code",
   "execution_count": 88,
   "metadata": {},
   "outputs": [],
   "source": [
    "# simple net\n",
    "sn_optimizer = define_optimizer(optim.SGD, 0.01, 0.9, simple_net)\n",
    "# deeper net\n",
    "dn_optimizer = define_optimizer(optim.SGD, 0.01, 0.9, deeper_net)\n",
    "# fancy net\n",
    "fn_optimizer = define_optimizer(optim.SGD, 0.01, 0.9, fancy_net)"
   ]
  },
  {
   "cell_type": "markdown",
   "metadata": {},
   "source": [
    "### 3.2 Training the Network"
   ]
  },
  {
   "cell_type": "code",
   "execution_count": 89,
   "metadata": {},
   "outputs": [],
   "source": [
    "def fit_network(network, optimizer, criterion, epochs, loader):\n",
    "    for epoch in range(epochs):\n",
    "        \n",
    "        running_loss = 0.0\n",
    "        total = 0\n",
    "        correct = 0\n",
    "        \n",
    "        for i, data in enumerate(loader):\n",
    "            # inputs\n",
    "            inputs, labels = data\n",
    "            inputs, labels = inputs.to(device), labels.to(device)\n",
    "            # clear the gradients\n",
    "            optimizer.zero_grad()\n",
    "            # predict the parameters\n",
    "            outputs = network(inputs)\n",
    "            loss = criterion(outputs, labels)\n",
    "            # propagate the loss backwards\n",
    "            loss.backward()\n",
    "            \n",
    "            # adjust the parameters according to the gradients\n",
    "            optimizer.step()\n",
    "            \n",
    "            # print stats\n",
    "            running_loss += loss.item()\n",
    "            _, predicted = outputs.max(1)\n",
    "            total += labels.size(0)\n",
    "            correct += predicted.eq(labels).sum().item()\n",
    "            \n",
    "            if i == (len(loader) - 1):\n",
    "                print(f'[epoch:{epoch + 1}] - loss: {running_loss / len(loader)}; accuracy - {100 * correct / total}')\n",
    "                running_loss = 0.0\n",
    "                \n",
    "    print('Finished Training')"
   ]
  },
  {
   "cell_type": "code",
   "execution_count": 79,
   "metadata": {},
   "outputs": [
    {
     "name": "stdout",
     "output_type": "stream",
     "text": [
      "[epoch:1] - loss: 1.381451873693875; accuracy - 50.182\n",
      "[epoch:2] - loss: 0.9437513516754655; accuracy - 66.974\n",
      "[epoch:3] - loss: 0.7400993279211809; accuracy - 74.118\n",
      "[epoch:4] - loss: 0.5411859389468407; accuracy - 81.1\n",
      "[epoch:5] - loss: 0.3746554716010545; accuracy - 86.808\n",
      "[epoch:6] - loss: 0.23952458614408398; accuracy - 91.722\n",
      "[epoch:7] - loss: 0.1620904068609727; accuracy - 94.36\n",
      "[epoch:8] - loss: 0.13455130357679007; accuracy - 95.408\n",
      "[epoch:9] - loss: 0.1021667761598271; accuracy - 96.546\n",
      "[epoch:10] - loss: 0.08533319208821043; accuracy - 97.148\n",
      "Finished Training\n"
     ]
    }
   ],
   "source": [
    "# simple net fit\n",
    "fit_network(simple_net, sn_optimizer, criterion, epochs=10, loader=trainloader)"
   ]
  },
  {
   "cell_type": "code",
   "execution_count": 90,
   "metadata": {},
   "outputs": [
    {
     "name": "stdout",
     "output_type": "stream",
     "text": [
      "[epoch:1] - loss: 2.1063875619677193; accuracy - 19.722\n",
      "[epoch:2] - loss: 1.4415092452626463; accuracy - 47.068\n",
      "[epoch:3] - loss: 1.1178361290704724; accuracy - 60.002\n",
      "[epoch:4] - loss: 0.9122733922433335; accuracy - 67.798\n",
      "[epoch:5] - loss: 0.7547979567459738; accuracy - 73.466\n",
      "[epoch:6] - loss: 0.6357197202479923; accuracy - 77.688\n",
      "[epoch:7] - loss: 0.5238276930741599; accuracy - 81.742\n",
      "[epoch:8] - loss: 0.4311988955781922; accuracy - 84.874\n",
      "[epoch:9] - loss: 0.35518188063372275; accuracy - 87.578\n",
      "[epoch:10] - loss: 0.28665935686209687; accuracy - 89.948\n",
      "Finished Training\n"
     ]
    }
   ],
   "source": [
    "# deeper net fit\n",
    "fit_network(deeper_net, dn_optimizer, criterion, epochs=10, loader=trainloader)"
   ]
  },
  {
   "cell_type": "code",
   "execution_count": 80,
   "metadata": {},
   "outputs": [
    {
     "name": "stdout",
     "output_type": "stream",
     "text": [
      "[epoch:1] - loss: 1.3027506271998088; accuracy - 53.272\n",
      "[epoch:2] - loss: 1.0652381318239394; accuracy - 62.518\n",
      "[epoch:3] - loss: 0.9319708014404019; accuracy - 67.41\n",
      "[epoch:4] - loss: 0.8429714564856092; accuracy - 70.408\n",
      "[epoch:5] - loss: 0.7766394508014638; accuracy - 72.914\n",
      "[epoch:6] - loss: 0.7224202010201402; accuracy - 74.706\n",
      "[epoch:7] - loss: 0.6770998550887605; accuracy - 76.286\n",
      "[epoch:8] - loss: 0.63387260630355; accuracy - 77.884\n",
      "[epoch:9] - loss: 0.5991088078617668; accuracy - 79.214\n",
      "[epoch:10] - loss: 0.5614088105224907; accuracy - 80.29\n",
      "Finished Training\n"
     ]
    }
   ],
   "source": [
    "# fancy net fit\n",
    "fit_network(fancy_net, fn_optimizer, criterion, epochs=10, loader=trainloader)"
   ]
  },
  {
   "cell_type": "markdown",
   "metadata": {},
   "source": [
    "## 4. Evaluating the results.\n",
    "As defined in the tutorial there are two functions we are generally interested in - the ConvNet accuracy and the class accuracy. Let's use the code from the tutorial and convert it to functions."
   ]
  },
  {
   "cell_type": "code",
   "execution_count": 91,
   "metadata": {},
   "outputs": [],
   "source": [
    "def net_accuracy(nnet, name=\"default\"):\n",
    "    correct = 0\n",
    "    total = 0\n",
    "    with torch.no_grad():\n",
    "        for data in testloader:\n",
    "            images, labels = data\n",
    "            images, labels = images.to(device), labels.to(device)\n",
    "            outputs = nnet(images)\n",
    "            _, predicted = torch.max(outputs.data, 1)\n",
    "            total += labels.size(0)\n",
    "            correct += (predicted == labels).sum().item()\n",
    "\n",
    "    print(f'Accuracy of the {name} network on the 10000 test {100 * correct / total}')\n",
    "    \n",
    "    return correct / total"
   ]
  },
  {
   "cell_type": "code",
   "execution_count": 92,
   "metadata": {},
   "outputs": [],
   "source": [
    "def net_class_accuracy(nnet, name='default'):\n",
    "    class_correct = list(0. for i in range(10))\n",
    "    class_total = list(0. for i in range(10))\n",
    "    with torch.no_grad():\n",
    "        for data in testloader:\n",
    "            images, labels = data\n",
    "            images, labels = images.to(device), labels.to(device)\n",
    "            outputs = nnet(images)\n",
    "            _, predicted = torch.max(outputs, 1)\n",
    "            c = (predicted == labels).squeeze()\n",
    "            for i in range(4):\n",
    "                label = labels[i]\n",
    "                class_correct[label] += c[i].item()\n",
    "                class_total[label] += 1\n",
    "\n",
    "    print(f'Accuracy of classes of the {name} network:')\n",
    "    for i in range(10):\n",
    "        print('Accuracy of %5s : %2d %%' % (\n",
    "            classes[i], 100 * class_correct[i] / class_total[i]))"
   ]
  },
  {
   "cell_type": "markdown",
   "metadata": {},
   "source": [
    "... so how accurates are the models?"
   ]
  },
  {
   "cell_type": "code",
   "execution_count": 93,
   "metadata": {},
   "outputs": [
    {
     "name": "stdout",
     "output_type": "stream",
     "text": [
      "Accuracy of the simple network on the 10000 test 66.33\n",
      "Accuracy of the deeper network on the 10000 test 72.15\n",
      "Accuracy of the fancy network on the 10000 test 71.25\n"
     ]
    }
   ],
   "source": [
    "sn_accuracy = net_accuracy(simple_net, 'simple')\n",
    "dn_accuracy = net_accuracy(deeper_net, 'deeper')\n",
    "fn_accuracy = net_accuracy(fancy_net, 'fancy')"
   ]
  },
  {
   "cell_type": "code",
   "execution_count": 94,
   "metadata": {},
   "outputs": [
    {
     "name": "stdout",
     "output_type": "stream",
     "text": [
      "Accuracy of classes of the simple network:\n",
      "Accuracy of plane : 71 %\n",
      "Accuracy of   car : 91 %\n",
      "Accuracy of  bird : 55 %\n",
      "Accuracy of   cat : 48 %\n",
      "Accuracy of  deer : 53 %\n",
      "Accuracy of   dog : 49 %\n",
      "Accuracy of  frog : 70 %\n",
      "Accuracy of horse : 75 %\n",
      "Accuracy of  ship : 77 %\n",
      "Accuracy of truck : 58 %\n",
      "Accuracy of classes of the deeper network:\n",
      "Accuracy of plane : 79 %\n",
      "Accuracy of   car : 89 %\n",
      "Accuracy of  bird : 64 %\n",
      "Accuracy of   cat : 52 %\n",
      "Accuracy of  deer : 47 %\n",
      "Accuracy of   dog : 76 %\n",
      "Accuracy of  frog : 76 %\n",
      "Accuracy of horse : 75 %\n",
      "Accuracy of  ship : 71 %\n",
      "Accuracy of truck : 87 %\n",
      "Accuracy of classes of the fancy network:\n",
      "Accuracy of plane : 84 %\n",
      "Accuracy of   car : 86 %\n",
      "Accuracy of  bird : 58 %\n",
      "Accuracy of   cat : 46 %\n",
      "Accuracy of  deer : 62 %\n",
      "Accuracy of   dog : 60 %\n",
      "Accuracy of  frog : 66 %\n",
      "Accuracy of horse : 76 %\n",
      "Accuracy of  ship : 78 %\n",
      "Accuracy of truck : 85 %\n"
     ]
    }
   ],
   "source": [
    "net_class_accuracy(simple_net, 'simple')\n",
    "net_class_accuracy(deeper_net, 'deeper')\n",
    "net_class_accuracy(fancy_net, 'fancy')"
   ]
  },
  {
   "cell_type": "markdown",
   "metadata": {},
   "source": [
    "net_class_accuracy(simple_net, 'simple')\n",
    "net_class_accuracy(deeper_net, 'deeper')\n",
    "net_class_accuracy"
   ]
  },
  {
   "cell_type": "markdown",
   "metadata": {},
   "source": [
    "## 5. Improving the results.\n",
    "Let's create a plan for what we want to explore and how it changes the results:\n",
    "1. Changing the optimizer to Adam.\n",
    "2. Training for longer (f.e. insted of 5 epochs - 10 epochs).\n",
    "3. A different (deeper) architecture with more filters.\n",
    "4. Using a pre-trained model."
   ]
  },
  {
   "cell_type": "markdown",
   "metadata": {},
   "source": [
    "### 5.1 Changing the optimizer"
   ]
  },
  {
   "cell_type": "code",
   "execution_count": 51,
   "metadata": {},
   "outputs": [],
   "source": [
    "# Lets create a new network, anet for short\n",
    "anet = Net().to(device)\n",
    "# Create the optimizer with the same learning rate\n",
    "adam_optimizer = optim.Adam(anet.parameters(), lr=0.001)"
   ]
  },
  {
   "cell_type": "code",
   "execution_count": 52,
   "metadata": {},
   "outputs": [
    {
     "name": "stdout",
     "output_type": "stream",
     "text": [
      "[epoch:1] - loss: 1.547009461772442; accuracy - 43.456\n",
      "[epoch:2] - loss: 1.2824309130716325; accuracy - 54.196\n",
      "[epoch:3] - loss: 1.187639530698061; accuracy - 57.972\n",
      "[epoch:4] - loss: 1.1269297464358807; accuracy - 60.114\n",
      "[epoch:5] - loss: 1.0826500491118431; accuracy - 61.824\n",
      "Finished Training\n"
     ]
    }
   ],
   "source": [
    "# Train the network\n",
    "anet = train_net(anet, adam_optimizer, criterion, epochs=5)"
   ]
  },
  {
   "cell_type": "code",
   "execution_count": 53,
   "metadata": {},
   "outputs": [
    {
     "name": "stdout",
     "output_type": "stream",
     "text": [
      "Accuracy of the network on the 10000 test images: 58 %\n",
      "Accuracy of plane : 71 %\n",
      "Accuracy of   car : 69 %\n",
      "Accuracy of  bird : 61 %\n",
      "Accuracy of   cat : 23 %\n",
      "Accuracy of  deer : 60 %\n",
      "Accuracy of   dog : 43 %\n",
      "Accuracy of  frog : 69 %\n",
      "Accuracy of horse : 59 %\n",
      "Accuracy of  ship : 65 %\n",
      "Accuracy of truck : 60 %\n"
     ]
    }
   ],
   "source": [
    "net_accuracy(anet)\n",
    "net_class_accuracy(anet)"
   ]
  },
  {
   "cell_type": "markdown",
   "metadata": {},
   "source": [
    "Actually slightly worse results than the default setup, but according to the tutorial web page the default accuracy should be 54%."
   ]
  },
  {
   "cell_type": "markdown",
   "metadata": {},
   "source": [
    "### 5.2 Training for longer\n",
    "Let's see for both with the SGD and the ADAM optimizers if we train for 10 epochs what will be the outcome."
   ]
  },
  {
   "cell_type": "code",
   "execution_count": 54,
   "metadata": {},
   "outputs": [
    {
     "name": "stdout",
     "output_type": "stream",
     "text": [
      "[epoch:1] - loss: 1.7064391954755782; accuracy - 36.952\n",
      "[epoch:2] - loss: 1.3378141673493384; accuracy - 51.974\n",
      "[epoch:3] - loss: 1.1995933193945885; accuracy - 57.45\n",
      "[epoch:4] - loss: 1.1080654772114753; accuracy - 60.874\n",
      "[epoch:5] - loss: 1.032440056118965; accuracy - 63.504\n",
      "[epoch:6] - loss: 0.9820963241195678; accuracy - 65.244\n",
      "[epoch:7] - loss: 0.937831588871479; accuracy - 66.834\n",
      "[epoch:8] - loss: 0.8936462149715424; accuracy - 68.342\n",
      "[epoch:9] - loss: 0.8575245483636856; accuracy - 69.792\n",
      "[epoch:10] - loss: 0.827438372220993; accuracy - 70.612\n",
      "Finished Training\n",
      "####-----####\n",
      "Accuracy of the network on the 10000 test images: 61 %\n",
      "Accuracy of plane : 69 %\n",
      "Accuracy of   car : 81 %\n",
      "Accuracy of  bird : 44 %\n",
      "Accuracy of   cat : 36 %\n",
      "Accuracy of  deer : 59 %\n",
      "Accuracy of   dog : 46 %\n",
      "Accuracy of  frog : 69 %\n",
      "Accuracy of horse : 66 %\n",
      "Accuracy of  ship : 81 %\n",
      "Accuracy of truck : 64 %\n"
     ]
    }
   ],
   "source": [
    "# Train\n",
    "# with sgd optimizer\n",
    "sgd_net = Net().to(device)\n",
    "# the optimizer and the criterion itself\n",
    "criterion_sgd = nn.CrossEntropyLoss()\n",
    "optimizer_sgd = optim.SGD(sgd_net.parameters(), lr=0.001, momentum=0.9)\n",
    "# train finally\n",
    "sgd_net = train_net(sgd_net, optimizer_sgd, criterion_sgd, epochs=10)\n",
    "# Separator\n",
    "print('####-----####')\n",
    "# Evaluate\n",
    "net_accuracy(sgd_net)\n",
    "net_class_accuracy(sgd_net)"
   ]
  },
  {
   "cell_type": "code",
   "execution_count": 55,
   "metadata": {},
   "outputs": [
    {
     "name": "stdout",
     "output_type": "stream",
     "text": [
      "[epoch:1] - loss: 1.5396789820647239; accuracy - 43.562\n",
      "[epoch:2] - loss: 1.2719067490267753; accuracy - 54.494\n",
      "[epoch:3] - loss: 1.167629059317112; accuracy - 58.58\n",
      "[epoch:4] - loss: 1.1058373239272832; accuracy - 60.766\n",
      "[epoch:5] - loss: 1.05988533755064; accuracy - 62.608\n",
      "[epoch:6] - loss: 1.021104441138357; accuracy - 64.204\n",
      "[epoch:7] - loss: 0.9892796416351199; accuracy - 65.24\n",
      "[epoch:8] - loss: 0.9692634759831429; accuracy - 65.908\n",
      "[epoch:9] - loss: 0.9487328799961507; accuracy - 66.608\n",
      "[epoch:10] - loss: 0.9300324522809684; accuracy - 67.444\n",
      "Finished Training\n",
      "####-----####\n",
      "Accuracy of the network on the 10000 test images: 60 %\n",
      "Accuracy of plane : 47 %\n",
      "Accuracy of   car : 79 %\n",
      "Accuracy of  bird : 47 %\n",
      "Accuracy of   cat : 44 %\n",
      "Accuracy of  deer : 44 %\n",
      "Accuracy of   dog : 45 %\n",
      "Accuracy of  frog : 70 %\n",
      "Accuracy of horse : 77 %\n",
      "Accuracy of  ship : 76 %\n",
      "Accuracy of truck : 70 %\n"
     ]
    }
   ],
   "source": [
    "# Train\n",
    "# with adam optimizer\n",
    "adam_net = Net().to(device)\n",
    "# the optimizer and the criterion itself\n",
    "criterion_adam = nn.CrossEntropyLoss()\n",
    "optimizer_adam = optim.Adam(adam_net.parameters(), lr=0.001)\n",
    "# train finally\n",
    "adam_net = train_net(adam_net, optimizer_adam, criterion_adam, epochs=10)\n",
    "# Separator\n",
    "print('####-----####')\n",
    "# Evaluate\n",
    "net_accuracy(adam_net)\n",
    "net_class_accuracy(adam_net)"
   ]
  },
  {
   "cell_type": "markdown",
   "metadata": {},
   "source": [
    "**Commentary**:\n",
    "\n",
    "It seems that the SGD net starts to overfit, lowering its score to 61%, while the ADAM-based net improves the score by 1%. Still Adam underperforms by comparison. A conclusion one might draw is that, while with the increase in epochs the SGD-based network starts to overfit, the ADAM-based one improves. Thus, given enough epochs, the ADAM-based network's loss one might converge to a 0 (if it doesn't overfit though...). "
   ]
  },
  {
   "cell_type": "markdown",
   "metadata": {},
   "source": [
    "### 5.3 A different (deeper) architecture with more filters.\n",
    "What if we try a different architecture all together - a deeper fully connected layer with more convolutional layers to identify patterns in the images."
   ]
  },
  {
   "cell_type": "code",
   "execution_count": 57,
   "metadata": {},
   "outputs": [],
   "source": [
    "# Define the class of the deeper network\n",
    "# Let's start with 5 conv layers\n",
    "class DNet(nn.Module):\n",
    "    '''\n",
    "    Reminder:\n",
    "    nn.Conv2d(in_channels, out_channels, kernel_size)\n",
    "    nn.Linear(in_features, out_features, bias=True)\n",
    "    nn.MaxPool2d(kernel_size, stride=None)\n",
    "    '''\n",
    "    def __init__(self):\n",
    "        super(DNet, self).__init__()\n",
    "        self.conv1 = nn.Conv2d(3, 6, 3)\n",
    "        self.conv2 = nn.Conv2d(6, 12, 3)\n",
    "        self.conv3 = nn.Conv2d(12, 24, 3)\n",
    "        self.conv4 = nn.Conv2d(24, 48, 3)\n",
    "        self.pool = nn.MaxPool2d(2, 2)\n",
    "        self.fc1 = nn.Linear(48 * 5 * 5, 120)\n",
    "        self.fc2 = nn.Linear(120, 84)\n",
    "        self.fc3 = nn.Linear(84, 48)\n",
    "        self.fc4 = nn.Linear(48, 10)\n",
    "    \n",
    "    def forward(self, x):\n",
    "        x = F.relu(self.conv1(x))\n",
    "        x = self.pool(F.relu(self.conv2(x)))\n",
    "        x = F.relu(self.conv3(x))\n",
    "        x = self.pool(F.relu(self.conv4(x)))\n",
    "        x = x.view(-1, 48 * 5 * 5)\n",
    "        x = F.relu(self.fc1(x))\n",
    "        x = F.relu(self.fc2(x))\n",
    "        x = F.relu(self.fc3(x))\n",
    "        x = self.fc4(x)\n",
    "        return x"
   ]
  },
  {
   "cell_type": "code",
   "execution_count": 58,
   "metadata": {},
   "outputs": [
    {
     "name": "stdout",
     "output_type": "stream",
     "text": [
      "[epoch:1] - loss: 1.6306660749936104; accuracy - 38.93\n",
      "[epoch:2] - loss: 1.2852594197678566; accuracy - 53.524\n",
      "[epoch:3] - loss: 1.138021693394184; accuracy - 59.466\n",
      "[epoch:4] - loss: 1.0513752358043194; accuracy - 62.836\n",
      "[epoch:5] - loss: 0.9854366983217001; accuracy - 65.412\n",
      "[epoch:6] - loss: 0.9326590667197108; accuracy - 67.262\n",
      "[epoch:7] - loss: 0.8890728592343629; accuracy - 69.174\n",
      "[epoch:8] - loss: 0.8493496533891559; accuracy - 70.31\n",
      "[epoch:9] - loss: 0.8206060064383596; accuracy - 71.384\n",
      "[epoch:10] - loss: 0.7957936157707125; accuracy - 72.438\n",
      "[epoch:11] - loss: 0.7715440133947506; accuracy - 73.394\n",
      "[epoch:12] - loss: 0.7510322618537024; accuracy - 74.11\n",
      "[epoch:13] - loss: 0.7318915311853588; accuracy - 74.726\n",
      "[epoch:14] - loss: 0.7124009860984236; accuracy - 75.534\n",
      "[epoch:15] - loss: 0.6915425888902508; accuracy - 76.208\n",
      "[epoch:16] - loss: 0.6765689955948386; accuracy - 76.72\n",
      "[epoch:17] - loss: 0.6595689746240154; accuracy - 77.386\n",
      "[epoch:18] - loss: 0.6481739731482788; accuracy - 77.988\n",
      "[epoch:19] - loss: 0.6393536739557609; accuracy - 78.128\n",
      "[epoch:20] - loss: 0.6274447560359165; accuracy - 78.548\n",
      "[epoch:21] - loss: 0.6198604446826502; accuracy - 78.978\n",
      "[epoch:22] - loss: 0.6052032205595076; accuracy - 79.53\n",
      "[epoch:23] - loss: 0.6140014207109808; accuracy - 79.382\n",
      "[epoch:24] - loss: 0.5903938678179681; accuracy - 80.08\n",
      "[epoch:25] - loss: 0.5873541237080098; accuracy - 80.066\n",
      "[epoch:26] - loss: 0.5690683513721824; accuracy - 80.778\n",
      "[epoch:27] - loss: 0.6081890395649523; accuracy - 80.168\n",
      "[epoch:28] - loss: 0.5768437854805589; accuracy - 80.964\n",
      "[epoch:29] - loss: 0.5656886502745468; accuracy - 81.386\n",
      "[epoch:30] - loss: 0.5599870096479356; accuracy - 81.28\n",
      "[epoch:31] - loss: 0.5410820835022628; accuracy - 81.854\n",
      "[epoch:32] - loss: 0.5339105202794076; accuracy - 82.168\n",
      "[epoch:33] - loss: 0.5593838580980897; accuracy - 81.982\n",
      "[epoch:34] - loss: 0.5651877948313951; accuracy - 81.982\n",
      "[epoch:35] - loss: 0.568482549533248; accuracy - 81.286\n",
      "[epoch:36] - loss: 0.5377753422915935; accuracy - 82.496\n",
      "[epoch:37] - loss: 0.6591158942952752; accuracy - 79.274\n",
      "[epoch:38] - loss: 0.7085152685725689; accuracy - 78.898\n",
      "[epoch:39] - loss: 0.5723129777354002; accuracy - 81.484\n",
      "[epoch:40] - loss: 0.5786749959748984; accuracy - 81.518\n",
      "Finished Training\n",
      "####-----####\n",
      "Accuracy of the network on the 10000 test images: 66 %\n",
      "Accuracy of plane : 73 %\n",
      "Accuracy of   car : 85 %\n",
      "Accuracy of  bird : 41 %\n",
      "Accuracy of   cat : 42 %\n",
      "Accuracy of  deer : 70 %\n",
      "Accuracy of   dog : 57 %\n",
      "Accuracy of  frog : 65 %\n",
      "Accuracy of horse : 69 %\n",
      "Accuracy of  ship : 78 %\n",
      "Accuracy of truck : 77 %\n"
     ]
    }
   ],
   "source": [
    "# Initialize the Net\n",
    "dnet = DNet().to(device)\n",
    "# Train\n",
    "# the optimizer and the criterion itself\n",
    "criterion_dnet = nn.CrossEntropyLoss()\n",
    "optimizer_dnet = optim.Adam(dnet.parameters(), lr=0.001)\n",
    "# train finally, let's train for an additional 30 epochs\n",
    "dnet = train_net(dnet, optimizer_dnet, criterion_dnet, epochs=40)\n",
    "# Separator\n",
    "print('####-----####')\n",
    "# Evaluate\n",
    "net_accuracy(dnet)\n",
    "net_class_accuracy(dnet)"
   ]
  },
  {
   "cell_type": "markdown",
   "metadata": {},
   "source": [
    "**Commentary:** An improvement on the basis of the initial network of 3%. Maybe a few decimals could be shaved off of the loss if we train for longer, but lets move on."
   ]
  },
  {
   "cell_type": "markdown",
   "metadata": {},
   "source": [
    "### 5.4 Using a pre-trained model.\n",
    "A way of increasing the accuracy of a CNN is to use the architecture and weights of a pre-trained model for our specific use case. I would have liked to test at least three of them, but let's start with VGG16."
   ]
  },
  {
   "cell_type": "code",
   "execution_count": 59,
   "metadata": {},
   "outputs": [],
   "source": [
    "model_vgg16 = models.vgg16(pretrained=True)"
   ]
  },
  {
   "cell_type": "code",
   "execution_count": 60,
   "metadata": {},
   "outputs": [],
   "source": [
    "# freeze all layers\n",
    "for parameter in model_vgg16.parameters():\n",
    "    parameter.requires_grad = False\n",
    "    \n",
    "# remove the last layer\n",
    "num_features = model_vgg16.classifier[6].in_features\n",
    "features = list(model_vgg16.classifier.children())[:-1]\n",
    "# out features are 10 by design\n",
    "features.extend([nn.Linear(num_features, 10)])\n",
    "# replace the first layer as VGG accepts 224x224 images\n",
    "features[0] = nn.Linear(512, 4096)\n",
    "model_vgg16.classifier = nn.Sequential(*features)"
   ]
  },
  {
   "cell_type": "markdown",
   "metadata": {},
   "source": [
    "Now we create the loss and the optimizer."
   ]
  },
  {
   "cell_type": "code",
   "execution_count": 61,
   "metadata": {},
   "outputs": [],
   "source": [
    "# the optimizer and the criterion itself\n",
    "criterion_vgg16 = nn.CrossEntropyLoss()\n",
    "optimizer_vgg16 = optim.Adam(model_vgg16.parameters(), lr=0.0001)"
   ]
  },
  {
   "cell_type": "code",
   "execution_count": 62,
   "metadata": {},
   "outputs": [],
   "source": [
    "# make the classifier trainable\n",
    "for name, child in model_vgg16.named_children():\n",
    "    if name == 'classifier':\n",
    "        for param in child.parameters():\n",
    "            param.requires_grad = True"
   ]
  },
  {
   "cell_type": "markdown",
   "metadata": {},
   "source": [
    "And finally train the network."
   ]
  },
  {
   "cell_type": "code",
   "execution_count": 63,
   "metadata": {},
   "outputs": [
    {
     "name": "stdout",
     "output_type": "stream",
     "text": [
      "[epoch:1] - loss: 1.1229289635574817; accuracy - 60.554\n",
      "[epoch:2] - loss: 0.9378810266068578; accuracy - 67.086\n",
      "[epoch:3] - loss: 0.8502546418892964; accuracy - 70.424\n",
      "[epoch:4] - loss: 0.7740229174576699; accuracy - 73.0\n",
      "[epoch:5] - loss: 0.70266417931851; accuracy - 75.388\n",
      "[epoch:6] - loss: 0.6475802810016275; accuracy - 77.358\n",
      "[epoch:7] - loss: 0.5882951875706762; accuracy - 79.53\n",
      "[epoch:8] - loss: 0.5424756513660773; accuracy - 81.254\n",
      "[epoch:9] - loss: 0.5041186881139129; accuracy - 82.704\n",
      "[epoch:10] - loss: 0.4620323306996375; accuracy - 84.222\n",
      "[epoch:11] - loss: 0.4273112909839675; accuracy - 85.514\n",
      "[epoch:12] - loss: 0.40927033533394336; accuracy - 86.202\n",
      "[epoch:13] - loss: 0.3817151334148645; accuracy - 87.296\n",
      "[epoch:14] - loss: 0.3601132384292781; accuracy - 88.084\n",
      "[epoch:15] - loss: 0.35353821071088315; accuracy - 88.49\n",
      "[epoch:16] - loss: 0.33539847141087054; accuracy - 89.274\n",
      "[epoch:17] - loss: 0.3202602453994751; accuracy - 89.756\n",
      "[epoch:18] - loss: 0.3076227310103178; accuracy - 90.184\n",
      "[epoch:19] - loss: 0.2979329801607132; accuracy - 90.784\n",
      "[epoch:20] - loss: 0.28757089703440664; accuracy - 91.084\n",
      "[epoch:21] - loss: 0.2896568918251991; accuracy - 91.254\n",
      "[epoch:22] - loss: 0.26321887327730653; accuracy - 92.028\n",
      "[epoch:23] - loss: 0.27342186388850215; accuracy - 92.058\n",
      "[epoch:24] - loss: 0.25664886417269706; accuracy - 92.434\n",
      "[epoch:25] - loss: 0.25764261400341987; accuracy - 92.594\n",
      "Finished Training\n",
      "####-----####\n",
      "Accuracy of the network on the 10000 test images: 64 %\n",
      "Accuracy of plane : 73 %\n",
      "Accuracy of   car : 72 %\n",
      "Accuracy of  bird : 58 %\n",
      "Accuracy of   cat : 50 %\n",
      "Accuracy of  deer : 55 %\n",
      "Accuracy of   dog : 62 %\n",
      "Accuracy of  frog : 70 %\n",
      "Accuracy of horse : 67 %\n",
      "Accuracy of  ship : 73 %\n",
      "Accuracy of truck : 75 %\n"
     ]
    }
   ],
   "source": [
    "# Train \n",
    "model_vgg16.cuda() # send to the gpu\n",
    "model_vgg16 = train_net(model_vgg16, optimizer_vgg16, criterion_vgg16, epochs=25)\n",
    "# Separator\n",
    "print('####-----####')\n",
    "# Evaluate\n",
    "net_accuracy(model_vgg16)\n",
    "net_class_accuracy(model_vgg16)"
   ]
  },
  {
   "cell_type": "markdown",
   "metadata": {},
   "source": [
    "64% accuracy, a little less than my model. And even trained for longer."
   ]
  },
  {
   "cell_type": "markdown",
   "metadata": {},
   "source": [
    "## 6. Conclusion. For now.\n",
    "It seems that the maximum accuracy I got from CIFAR10 is 67%. What surprised me is that VGG16 didn't do much better than the custom model I came up with. In any case it is obvious that all models examined tend to overfit at some point. Some further steps that could be done are to:\n",
    "1. Implement dropout and regularization in my model.\n",
    "2. Implement batch normalization in both - my model and VGG16.\n",
    "3. Augment the input data by random transforms. \n",
    "4. Try out other pre-trained models.\n",
    "\n",
    "In any case I intend to revisit the problem and try out these steps, at least, in the near future."
   ]
  }
 ],
 "metadata": {
  "kernelspec": {
   "display_name": "Python3.7 Pytorch",
   "language": "python",
   "name": "torchpy"
  },
  "language_info": {
   "codemirror_mode": {
    "name": "ipython",
    "version": 3
   },
   "file_extension": ".py",
   "mimetype": "text/x-python",
   "name": "python",
   "nbconvert_exporter": "python",
   "pygments_lexer": "ipython3",
   "version": "3.7.3"
  }
 },
 "nbformat": 4,
 "nbformat_minor": 2
}

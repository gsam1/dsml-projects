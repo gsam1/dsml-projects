{
 "cells": [
  {
   "cell_type": "markdown",
   "metadata": {},
   "source": [
    "# Movie Genre Prediction by Poster\n",
    "The goal of this notebook is to try to predict a movie's genre by looking at the poster it has.\n",
    "To achieve this goal I will:\n",
    "1. Use [The Movies Dataset](https://www.kaggle.com/rounakbanik/the-movies-dataset) to get 45k movie titles.\n",
    "2. Use the [omdb_api](http://www.omdbapi.com/) to get the posters for the movies and store them localy.\n",
    "3. Use Tensorflow and Keras to create a ConvNet that will classify the images.\n",
    "\n",
    "## Project Structure\n",
    "1. Data loading, acquisition and cleaning\n",
    "2. Model creation.\n",
    "3. Model evaluation."
   ]
  },
  {
   "cell_type": "code",
   "execution_count": 1,
   "metadata": {},
   "outputs": [],
   "source": [
    "# Library Loading\n",
    "import json\n",
    "from urllib.parse import urlencode\n",
    "import requests\n",
    "import pandas as pd\n",
    "import os\n",
    "import numpy as np\n",
    "from shutil import move\n",
    "import matplotlib.pyplot as plt\n",
    "\n",
    "\n",
    "# Loading the \n",
    "OMDB_KEY = json.loads(open('apikeys/apikey.json').read())['key']"
   ]
  },
  {
   "cell_type": "markdown",
   "metadata": {},
   "source": [
    "## 1. Data loading, acquisition and cleaning"
   ]
  },
  {
   "cell_type": "markdown",
   "metadata": {},
   "source": [
    "### 1.1 Loading 'The Movies' dataset."
   ]
  },
  {
   "cell_type": "code",
   "execution_count": 2,
   "metadata": {},
   "outputs": [
    {
     "name": "stderr",
     "output_type": "stream",
     "text": [
      "/usr/local/lib/python3.6/dist-packages/IPython/core/interactiveshell.py:2728: DtypeWarning: Columns (10) have mixed types. Specify dtype option on import or set low_memory=False.\n",
      "  interactivity=interactivity, compiler=compiler, result=result)\n"
     ]
    }
   ],
   "source": [
    "the_movies = pd.read_csv('./datasets/The_Movies/movies_metadata.csv')"
   ]
  },
  {
   "cell_type": "markdown",
   "metadata": {},
   "source": [
    "### 1.2 Defining the API functions"
   ]
  },
  {
   "cell_type": "code",
   "execution_count": 3,
   "metadata": {},
   "outputs": [],
   "source": [
    "def get_movie(imdbid):\n",
    "    '''Gets the movie by imdb id and returns json with the title, genre and imdb id.\n",
    "       Input args:\n",
    "       - imdbid: the imdb id of the character\n",
    "       Returns:\n",
    "       - If the API responds succesfully return the genres, otherwise return NA\n",
    "    - \n",
    "    '''\n",
    "    url = 'http://www.omdbapi.com/?apikey=' + OMDB_KEY + '&i=' + str(imdbid)\n",
    "    r = requests.get(url)\n",
    "    if r.status_code == 200:\n",
    "        movie_json = r.json()\n",
    "        return movie_json['Genre']\n",
    "    else:\n",
    "        return 'NA'\n",
    "\n",
    "def get_poster(imdb_id, path, genre, dataset_type, image_heigth, item_id):\n",
    "    '''Gets the movie poster as a jpg and saves it to the path.\n",
    "       Input args:\n",
    "       - imbd_id: the imdb id of the movie,\n",
    "       - path: where the dataset will be stored,\n",
    "       - genre: the genre of the movie,\n",
    "       - dataset_type: whether we are creating the training or testing,\n",
    "       - image_height: the height of the poster - api query\n",
    "       - item_id: identifier to attach to the filename\n",
    "       Returns:\n",
    "       - None\n",
    "    '''\n",
    "    # construct the requests url\n",
    "    url = 'http://img.omdbapi.com/?apikey=' + OMDB_KEY + '&i=' + str(imdb_id) + '&h=' + str(image_heigth)\n",
    "    # create the dir where we store the posters based on the genre and the dataset type\n",
    "    path = os.path.join(os.getcwd(), path, dataset_type, genre + '/')\n",
    "    # check if the folder is already_created\n",
    "    if not os.path.exists(path):\n",
    "        os.makedirs(path)\n",
    "    r = requests.get(url)\n",
    "    filename = os.path.join(os.getcwd(), path, genre + '.' + str(item_id) + '.jpg')\n",
    "    if r.status_code == 200:\n",
    "        with open(filename, 'wb') as w:\n",
    "            w.write(r.content)"
   ]
  },
  {
   "cell_type": "markdown",
   "metadata": {},
   "source": [
    "### 1.3 Downloading the movie posters."
   ]
  },
  {
   "cell_type": "markdown",
   "metadata": {},
   "source": [
    "As a movie can have multiple genres I will make an assumption here - if a genre is listed first - that will be the genre of the movie. Let's create a function that will get only the main genre of the movie from the dataset. If it doesn't find one - download it straight from imdb."
   ]
  },
  {
   "cell_type": "code",
   "execution_count": 4,
   "metadata": {},
   "outputs": [],
   "source": [
    "import ast\n",
    "\n",
    "def get_main_genre(dataset_genre, imdb_id):\n",
    "    '''\n",
    "        Gets the main genre of the movie. If there is none listed - pull one directly from imdb.\n",
    "        Input args:\n",
    "        - genre_row: the dataset value of the genres for the movie,\n",
    "        - imdb_id: the imdb_id of the movie\n",
    "        Returns:\n",
    "        - main_genre: the main genre of the movie \n",
    "    '''\n",
    "    dataset_genre = ast.literal_eval(dataset_genre)\n",
    "    if len(dataset_genre) == 0:\n",
    "        try: \n",
    "            main_genre = get_movie(imdb_id).replace(' ', '').split(',')[0]\n",
    "        except KeyError:\n",
    "            main_genre = 'NA'\n",
    "    else:\n",
    "        main_genre = dataset_genre[0]['name']\n",
    "        if main_genre == 'N/A':\n",
    "            main_genre = 'NA'\n",
    "    return main_genre"
   ]
  },
  {
   "cell_type": "code",
   "execution_count": 157,
   "metadata": {},
   "outputs": [],
   "source": [
    "# DANGER: Slow Code!\n",
    "the_movies['main_genre'] = the_movies.apply(lambda x: get_main_genre(x['genres'], x['imdb_id']), axis=1)"
   ]
  },
  {
   "cell_type": "code",
   "execution_count": 158,
   "metadata": {},
   "outputs": [
    {
     "data": {
      "text/plain": [
       "(31,)"
      ]
     },
     "execution_count": 158,
     "metadata": {},
     "output_type": "execute_result"
    }
   ],
   "source": [
    "the_movies['main_genre'].unique().shape "
   ]
  },
  {
   "cell_type": "code",
   "execution_count": 189,
   "metadata": {},
   "outputs": [],
   "source": [
    "# quick fix for N/As\n",
    "the_movies[the_movies['main_genre'] == 'N/A'] = 'NA'"
   ]
  },
  {
   "cell_type": "markdown",
   "metadata": {},
   "source": [
    "All in all we got 31 classes. Let's create the train - test split now, as we will need it for movie poster download."
   ]
  },
  {
   "cell_type": "code",
   "execution_count": 191,
   "metadata": {},
   "outputs": [],
   "source": [
    "from sklearn.model_selection import train_test_split\n",
    "\n",
    "movies_train, movies_test = train_test_split(the_movies, test_size=0.3, random_state=0)"
   ]
  },
  {
   "cell_type": "markdown",
   "metadata": {},
   "source": [
    "Finally downloading the movies"
   ]
  },
  {
   "cell_type": "code",
   "execution_count": null,
   "metadata": {},
   "outputs": [],
   "source": [
    "# downloading the posters for the train set\n",
    "for idx, row in movies_train.iterrows():\n",
    "    # get_poster(imdb_id, path, genre, dateset_type, image_heigth, item_id):\n",
    "    get_poster(row['imdb_id'], 'datasets/The_Movies/posters', row['main_genre'], 'train', 600, idx)\n",
    "# downloading the posters for the test set\n",
    "for idx, row in movies_test.iterrows():\n",
    "    get_poster(row['imdb_id'], 'datasets/The_Movies/posters', row['main_genre'], 'test', 600, idx)"
   ]
  },
  {
   "cell_type": "markdown",
   "metadata": {},
   "source": [
    "The code above has been moved to a script so it can stay overnight and download all of the movies' posters. \n",
    "Since that has been done lets move on to what genres we have actually downloaded."
   ]
  },
  {
   "cell_type": "code",
   "execution_count": 10,
   "metadata": {},
   "outputs": [
    {
     "data": {
      "text/plain": [
       "['Fantasy',\n",
       " 'Drama',\n",
       " 'Biography',\n",
       " 'Animation',\n",
       " 'Science Fiction',\n",
       " 'Romance',\n",
       " 'Crime',\n",
       " 'Adventure',\n",
       " 'History',\n",
       " 'War',\n",
       " 'Foreign',\n",
       " 'Documentary',\n",
       " 'Thriller',\n",
       " 'Music',\n",
       " 'Action',\n",
       " 'Western',\n",
       " 'Short',\n",
       " 'Family',\n",
       " 'Horror',\n",
       " 'Comedy',\n",
       " 'Mystery',\n",
       " 'Musical',\n",
       " 'TV Movie']"
      ]
     },
     "execution_count": 10,
     "metadata": {},
     "output_type": "execute_result"
    }
   ],
   "source": [
    "os.listdir('/media/fury/data/Scripts/the_movies_data_scraper/datasets/The_Movies/posters/train')"
   ]
  },
  {
   "cell_type": "markdown",
   "metadata": {},
   "source": [
    "From the list of downloaded genres above we can see somethings we can edit/remove. For example \n",
    "- Sci-Fi and Science Fiction are the same thing so both dirs can be merged to a common category 'Sci-Fi'\n",
    "- 'Aniplex', 'Odyssey Media' and 'Carousel Productions' are actually names of companies. Will see how much samples they contribute and if it is not significant (~100 or more)they will be deleted.\n",
    "- NA - The same treatment - check the number of samples and delete them.\n",
    "\n",
    "#### Results\n",
    "- Sci-Fi - it seems that there are only 5 posters in Sci-Fi - thus I can merge it into 'Science Fiction'\n",
    "- 'Odyssey Media' and 'Carousel Productions' and 'NA' contained no information whatsover.\n",
    "- 'Removed also 'Adult' as it contained no posters.\n",
    "\n",
    "#### Aditional Checks performed\n",
    "- Whether both dirs contain the same genres and the same number of genres."
   ]
  },
  {
   "cell_type": "markdown",
   "metadata": {},
   "source": [
    "### 1.4 Creating the validation set"
   ]
  },
  {
   "cell_type": "code",
   "execution_count": 4,
   "metadata": {},
   "outputs": [],
   "source": [
    "def get_total_posters(dataset, location):\n",
    "    '''Utility function to get the number of items per dataset type'''\n",
    "    num_items = 0\n",
    "    for item in os.listdir(location):\n",
    "        num_posters =len(os.listdir(os.path.join(location, item)))\n",
    "        num_items += num_posters\n",
    "\n",
    "    print(\"%s: %i\" % (dataset, num_items))"
   ]
  },
  {
   "cell_type": "code",
   "execution_count": 51,
   "metadata": {},
   "outputs": [],
   "source": [
    "def move_data_to_validation(perc, location, target_location):\n",
    "    '''\n",
    "    Move a certain percentage of the target dataset to a new location.\n",
    "    The percentage is drawn from each genre.\n",
    "    '''\n",
    "    for genre in os.listdir(location):\n",
    "        dir_contents = os.listdir(os.path.join(location, genre))\n",
    "        dir_len = len(dir_contents)\n",
    "        num_items_to_take = int(np.ceil(perc * dir_len / 100))\n",
    "        # Randomize the draw with a integeres drawn from descrete uniform\n",
    "        items_idx_array = np.random.choice(dir_len, num_items_to_take, replace = False)    \n",
    "        \n",
    "        for idx in items_idx_array:\n",
    "            src = os.path.join(location, genre, dir_contents[idx])\n",
    "            dst_dir = os.path.join(target_location, genre)\n",
    "            if not os.path.exists(dst_dir): # make sure that the path exists\n",
    "                os.makedirs(dst_dir)\n",
    "            move(src, os.path.join(dst_dir, dir_contents[idx]))\n",
    "            \n",
    "    print('Done!') # just because"
   ]
  },
  {
   "cell_type": "code",
   "execution_count": 52,
   "metadata": {},
   "outputs": [
    {
     "name": "stdout",
     "output_type": "stream",
     "text": [
      "Done!\n"
     ]
    }
   ],
   "source": [
    "# lets move data\n",
    "validation_location = '/media/fury/data/Scripts/the_movies_data_scraper/datasets/The_Movies/posters/validation'\n",
    "move_data_to_validation(20, train_location, validation_location)"
   ]
  },
  {
   "cell_type": "code",
   "execution_count": 3,
   "metadata": {},
   "outputs": [],
   "source": [
    "train_location = '/media/fury/data/Scripts/the_movies_data_scraper/datasets/The_Movies/posters/train'\n",
    "test_location = '/media/fury/data/Scripts/the_movies_data_scraper/datasets/The_Movies/posters/test'\n",
    "validation_location = '/media/fury/data/Scripts/the_movies_data_scraper/datasets/The_Movies/posters/validation'"
   ]
  },
  {
   "cell_type": "code",
   "execution_count": 5,
   "metadata": {},
   "outputs": [
    {
     "name": "stdout",
     "output_type": "stream",
     "text": [
      "train: 27405\n",
      "test: 8362\n",
      "validation: 5832\n"
     ]
    }
   ],
   "source": [
    "get_total_posters('train', train_location)\n",
    "get_total_posters('test', test_location)\n",
    "get_total_posters('validation', validation_location)"
   ]
  },
  {
   "cell_type": "markdown",
   "metadata": {},
   "source": [
    "## 2. Model creation.\n",
    "\n",
    "### 2.1 Importing the neccesarry libraries."
   ]
  },
  {
   "cell_type": "code",
   "execution_count": 2,
   "metadata": {},
   "outputs": [
    {
     "name": "stderr",
     "output_type": "stream",
     "text": [
      "Using TensorFlow backend.\n"
     ]
    }
   ],
   "source": [
    "# Importing the libraries\n",
    "import keras\n",
    "from keras import regularizers\n",
    "from keras.models import Sequential\n",
    "from keras.layers import Conv2D, MaxPooling2D\n",
    "from keras.layers import Dense, Dropout, Flatten\n",
    "from keras.models import load_model\n",
    "from keras.preprocessing.image import ImageDataGenerator\n",
    "from keras.optimizers import Adam"
   ]
  },
  {
   "cell_type": "markdown",
   "metadata": {},
   "source": [
    "### 2.2  Loading the data.\n",
    "With the help of Keras that should be quite straightforward. The ImageDataGenerator can be used to load the data and get the labels simultaneously in a neat 2D one-hot encoded format. In addition it allows us to generate additional train/validation/test data.\n",
    "\n",
    "On the other hand my workflow is made in such a way that I create the model here and use a machine with a GPU to train it and load the the trained model to evaluate it."
   ]
  },
  {
   "cell_type": "code",
   "execution_count": 4,
   "metadata": {},
   "outputs": [
    {
     "name": "stdout",
     "output_type": "stream",
     "text": [
      "Found 27405 images belonging to 23 classes.\n",
      "Found 8362 images belonging to 23 classes.\n",
      "Found 5832 images belonging to 23 classes.\n"
     ]
    }
   ],
   "source": [
    "train_datagen = ImageDataGenerator(rescale = 1./255)\n",
    "test_datagen = ImageDataGenerator(rescale = 1./255)\n",
    "validation_datagen = ImageDataGenerator(rescale = 1./255)\n",
    "\n",
    "# The generators\n",
    "train_generator = train_datagen.flow_from_directory(\n",
    "    train_location,\n",
    "    target_size = (224, 224),\n",
    "    color_mode = 'rgb',\n",
    "    batch_size = 8,\n",
    "    class_mode = 'categorical'\n",
    ")\n",
    "\n",
    "test_generator = test_datagen.flow_from_directory(\n",
    "    test_location,\n",
    "    target_size = (224, 224),\n",
    "    color_mode = 'rgb',\n",
    "    batch_size = 8,\n",
    "    class_mode = 'categorical'\n",
    ")\n",
    "\n",
    "validation_generator = validation_datagen.flow_from_directory(\n",
    "    validation_location,\n",
    "    target_size = (224, 224),\n",
    "    color_mode = 'rgb',\n",
    "    batch_size = 8,\n",
    "    class_mode = 'categorical'\n",
    ")"
   ]
  },
  {
   "cell_type": "code",
   "execution_count": 5,
   "metadata": {},
   "outputs": [
    {
     "data": {
      "image/png": "[encoded data removed]",
      "text/plain": [
       "<Figure size 432x288 with 1 Axes>"
      ]
     },
     "metadata": {},
     "output_type": "display_data"
    }
   ],
   "source": [
    "# Show one of the images\n",
    "x, y = validation_generator.next()\n",
    "for i in range(0,1):\n",
    "    image = x[i]\n",
    "    plt.imshow(image)\n",
    "    plt.show()"
   ]
  },
  {
   "cell_type": "markdown",
   "metadata": {},
   "source": [
    "### 2.3 Model Building\n",
    "There are essentially two routes we can take - either a pre-trained winner of ImageNet like AlexNet, GoogleNet, VGG. A pre-trained model may give better results, however for the fun of it I will try to create a custom architecture.\n",
    "\n",
    "Let's try a simple architecture at first and then we can improve upon it.\n",
    "\n",
    "Update after *[1st Run]* - It seems that the model fails to generalize and underfits with only 27% of accuracy. \n",
    "\n",
    "Architectures:  \n",
    "*[1st Run]*\n",
    "1. 4 convolutional layers, 3x3 with the default stride of 1, separated by two MaxPools of 2x2 layers encoding layers\n",
    "2. 3 Fully connected layers - all multiples of the total number of genres.\n",
    "3. The final layer - 'Softmax' for multiclass classification.\n",
    "\n",
    "\n",
    "*[2nd Run]*\n",
    "1. Add an additional layer of filters between each *maxpool* with the idea to get more features. Also add an additional fully connected model.\n",
    "\n",
    "*[3rd Run]*\n",
    "1. Increased the image size with the same window and stride - the goal is to get more data in.\n",
    "2. Removed one dense layer as it was no longer neccessary.\n",
    "\n",
    "*[4th Run]*\n",
    "1. As the model overfits severly let's try to add dropouts between each step - first 0.25 between the filters and 0.5 between the fully connected model.\n",
    "\n",
    "*[5th Run]*  \n",
    "1. Using VGG instead."
   ]
  },
  {
   "cell_type": "markdown",
   "metadata": {},
   "source": [
    "#### My Model"
   ]
  },
  {
   "cell_type": "code",
   "execution_count": 15,
   "metadata": {},
   "outputs": [],
   "source": [
    "# My Model\n",
    "classifier = Sequential()\n",
    "classifier.add(Conv2D(32, (3,3), input_shape = (400, 400, 3), activation = 'relu'))\n",
    "classifier.add(Conv2D(32, (3,3), activation = 'relu'))\n",
    "classifier.add(Conv2D(32, (3,3), activation = 'relu'))\n",
    "classifier.add(MaxPooling2D(pool_size = (2,2)))\n",
    "classifier.add(Dropout(0.25))\n",
    "classifier.add(Conv2D(64, (3,3), activation = 'relu'))\n",
    "classifier.add(Conv2D(64, (3,3), activation = 'relu'))\n",
    "classifier.add(Conv2D(64, (3,3), activation = 'relu'))\n",
    "classifier.add(MaxPooling2D(pool_size = (2,2)))\n",
    "classifier.add(Dropout(0.25))\n",
    "classifier.add(Flatten())\n",
    "classifier.add(Dense(units = 115, activation = 'relu'))\n",
    "classifier.add(Dropout(0.5))\n",
    "classifier.add(Dense(units = 69, activation = 'relu'))\n",
    "classifier.add(Dropout(0.5))\n",
    "classifier.add(Dense(units = 23, activation = 'softmax'))"
   ]
  },
  {
   "cell_type": "code",
   "execution_count": 16,
   "metadata": {},
   "outputs": [
    {
     "name": "stdout",
     "output_type": "stream",
     "text": [
      "_________________________________________________________________\n",
      "Layer (type)                 Output Shape              Param #   \n",
      "=================================================================\n",
      "conv2d_1 (Conv2D)            (None, 398, 398, 32)      896       \n",
      "_________________________________________________________________\n",
      "conv2d_2 (Conv2D)            (None, 396, 396, 32)      9248      \n",
      "_________________________________________________________________\n",
      "conv2d_3 (Conv2D)            (None, 394, 394, 32)      9248      \n",
      "_________________________________________________________________\n",
      "max_pooling2d_1 (MaxPooling2 (None, 197, 197, 32)      0         \n",
      "_________________________________________________________________\n",
      "dropout_1 (Dropout)          (None, 197, 197, 32)      0         \n",
      "_________________________________________________________________\n",
      "conv2d_4 (Conv2D)            (None, 195, 195, 64)      18496     \n",
      "_________________________________________________________________\n",
      "conv2d_5 (Conv2D)            (None, 193, 193, 64)      36928     \n",
      "_________________________________________________________________\n",
      "conv2d_6 (Conv2D)            (None, 191, 191, 64)      36928     \n",
      "_________________________________________________________________\n",
      "max_pooling2d_2 (MaxPooling2 (None, 95, 95, 64)        0         \n",
      "_________________________________________________________________\n",
      "dropout_2 (Dropout)          (None, 95, 95, 64)        0         \n",
      "_________________________________________________________________\n",
      "flatten_1 (Flatten)          (None, 577600)            0         \n",
      "_________________________________________________________________\n",
      "dense_1 (Dense)              (None, 115)               66424115  \n",
      "_________________________________________________________________\n",
      "dropout_3 (Dropout)          (None, 115)               0         \n",
      "_________________________________________________________________\n",
      "dense_2 (Dense)              (None, 69)                8004      \n",
      "_________________________________________________________________\n",
      "dropout_4 (Dropout)          (None, 69)                0         \n",
      "_________________________________________________________________\n",
      "dense_3 (Dense)              (None, 23)                1610      \n",
      "=================================================================\n",
      "Total params: 66,545,473\n",
      "Trainable params: 66,545,473\n",
      "Non-trainable params: 0\n",
      "_________________________________________________________________\n"
     ]
    }
   ],
   "source": [
    "classifier.summary()"
   ]
  },
  {
   "cell_type": "markdown",
   "metadata": {},
   "source": [
    "#### VGG16"
   ]
  },
  {
   "cell_type": "code",
   "execution_count": 6,
   "metadata": {},
   "outputs": [],
   "source": [
    "vgg16_model = keras.applications.vgg16.VGG16()"
   ]
  },
  {
   "cell_type": "code",
   "execution_count": 7,
   "metadata": {},
   "outputs": [
    {
     "name": "stdout",
     "output_type": "stream",
     "text": [
      "_________________________________________________________________\n",
      "Layer (type)                 Output Shape              Param #   \n",
      "=================================================================\n",
      "input_1 (InputLayer)         (None, 224, 224, 3)       0         \n",
      "_________________________________________________________________\n",
      "block1_conv1 (Conv2D)        (None, 224, 224, 64)      1792      \n",
      "_________________________________________________________________\n",
      "block1_conv2 (Conv2D)        (None, 224, 224, 64)      36928     \n",
      "_________________________________________________________________\n",
      "block1_pool (MaxPooling2D)   (None, 112, 112, 64)      0         \n",
      "_________________________________________________________________\n",
      "block2_conv1 (Conv2D)        (None, 112, 112, 128)     73856     \n",
      "_________________________________________________________________\n",
      "block2_conv2 (Conv2D)        (None, 112, 112, 128)     147584    \n",
      "_________________________________________________________________\n",
      "block2_pool (MaxPooling2D)   (None, 56, 56, 128)       0         \n",
      "_________________________________________________________________\n",
      "block3_conv1 (Conv2D)        (None, 56, 56, 256)       295168    \n",
      "_________________________________________________________________\n",
      "block3_conv2 (Conv2D)        (None, 56, 56, 256)       590080    \n",
      "_________________________________________________________________\n",
      "block3_conv3 (Conv2D)        (None, 56, 56, 256)       590080    \n",
      "_________________________________________________________________\n",
      "block3_pool (MaxPooling2D)   (None, 28, 28, 256)       0         \n",
      "_________________________________________________________________\n",
      "block4_conv1 (Conv2D)        (None, 28, 28, 512)       1180160   \n",
      "_________________________________________________________________\n",
      "block4_conv2 (Conv2D)        (None, 28, 28, 512)       2359808   \n",
      "_________________________________________________________________\n",
      "block4_conv3 (Conv2D)        (None, 28, 28, 512)       2359808   \n",
      "_________________________________________________________________\n",
      "block4_pool (MaxPooling2D)   (None, 14, 14, 512)       0         \n",
      "_________________________________________________________________\n",
      "block5_conv1 (Conv2D)        (None, 14, 14, 512)       2359808   \n",
      "_________________________________________________________________\n",
      "block5_conv2 (Conv2D)        (None, 14, 14, 512)       2359808   \n",
      "_________________________________________________________________\n",
      "block5_conv3 (Conv2D)        (None, 14, 14, 512)       2359808   \n",
      "_________________________________________________________________\n",
      "block5_pool (MaxPooling2D)   (None, 7, 7, 512)         0         \n",
      "_________________________________________________________________\n",
      "flatten (Flatten)            (None, 25088)             0         \n",
      "_________________________________________________________________\n",
      "fc1 (Dense)                  (None, 4096)              102764544 \n",
      "_________________________________________________________________\n",
      "fc2 (Dense)                  (None, 4096)              16781312  \n",
      "_________________________________________________________________\n",
      "predictions (Dense)          (None, 1000)              4097000   \n",
      "=================================================================\n",
      "Total params: 138,357,544\n",
      "Trainable params: 138,357,544\n",
      "Non-trainable params: 0\n",
      "_________________________________________________________________\n"
     ]
    }
   ],
   "source": [
    "vgg16_model.summary()"
   ]
  },
  {
   "cell_type": "markdown",
   "metadata": {},
   "source": [
    "Since the model is not sequential I copy its contents to a new sequential one. Also it can be seen that the prediction layer is expecting 1000 outputs, which I need to change to just 23 - our number of classes.\n",
    "\n",
    "In addition my goal is to keep the weights of VGG16 the same, thus I will make the weights untrainable, except for the last one."
   ]
  },
  {
   "cell_type": "code",
   "execution_count": 17,
   "metadata": {},
   "outputs": [],
   "source": [
    "classifier_vgg16 = Sequential()\n",
    "for layer in vgg16_model.layers[:-1]:\n",
    "    classifier_vgg16.add(layer)"
   ]
  },
  {
   "cell_type": "code",
   "execution_count": 19,
   "metadata": {},
   "outputs": [],
   "source": [
    "# Make VGG16 keep all of its weights\n",
    "for layer in classifier_vgg16.layers:\n",
    "    layer.trainable = False\n",
    "\n",
    "# add the last layer\n",
    "classifier_vgg16.add(Dense(23, activation = 'softmax'))"
   ]
  },
  {
   "cell_type": "code",
   "execution_count": 20,
   "metadata": {},
   "outputs": [
    {
     "name": "stdout",
     "output_type": "stream",
     "text": [
      "_________________________________________________________________\n",
      "Layer (type)                 Output Shape              Param #   \n",
      "=================================================================\n",
      "block1_conv1 (Conv2D)        (None, 224, 224, 64)      1792      \n",
      "_________________________________________________________________\n",
      "block1_conv2 (Conv2D)        (None, 224, 224, 64)      36928     \n",
      "_________________________________________________________________\n",
      "block1_pool (MaxPooling2D)   (None, 112, 112, 64)      0         \n",
      "_________________________________________________________________\n",
      "block2_conv1 (Conv2D)        (None, 112, 112, 128)     73856     \n",
      "_________________________________________________________________\n",
      "block2_conv2 (Conv2D)        (None, 112, 112, 128)     147584    \n",
      "_________________________________________________________________\n",
      "block2_pool (MaxPooling2D)   (None, 56, 56, 128)       0         \n",
      "_________________________________________________________________\n",
      "block3_conv1 (Conv2D)        (None, 56, 56, 256)       295168    \n",
      "_________________________________________________________________\n",
      "block3_conv2 (Conv2D)        (None, 56, 56, 256)       590080    \n",
      "_________________________________________________________________\n",
      "block3_conv3 (Conv2D)        (None, 56, 56, 256)       590080    \n",
      "_________________________________________________________________\n",
      "block3_pool (MaxPooling2D)   (None, 28, 28, 256)       0         \n",
      "_________________________________________________________________\n",
      "block4_conv1 (Conv2D)        (None, 28, 28, 512)       1180160   \n",
      "_________________________________________________________________\n",
      "block4_conv2 (Conv2D)        (None, 28, 28, 512)       2359808   \n",
      "_________________________________________________________________\n",
      "block4_conv3 (Conv2D)        (None, 28, 28, 512)       2359808   \n",
      "_________________________________________________________________\n",
      "block4_pool (MaxPooling2D)   (None, 14, 14, 512)       0         \n",
      "_________________________________________________________________\n",
      "block5_conv1 (Conv2D)        (None, 14, 14, 512)       2359808   \n",
      "_________________________________________________________________\n",
      "block5_conv2 (Conv2D)        (None, 14, 14, 512)       2359808   \n",
      "_________________________________________________________________\n",
      "block5_conv3 (Conv2D)        (None, 14, 14, 512)       2359808   \n",
      "_________________________________________________________________\n",
      "block5_pool (MaxPooling2D)   (None, 7, 7, 512)         0         \n",
      "_________________________________________________________________\n",
      "flatten (Flatten)            (None, 25088)             0         \n",
      "_________________________________________________________________\n",
      "fc1 (Dense)                  (None, 4096)              102764544 \n",
      "_________________________________________________________________\n",
      "fc2 (Dense)                  (None, 4096)              16781312  \n",
      "_________________________________________________________________\n",
      "dense_1 (Dense)              (None, 23)                94231     \n",
      "=================================================================\n",
      "Total params: 134,354,775\n",
      "Trainable params: 94,231\n",
      "Non-trainable params: 134,260,544\n",
      "_________________________________________________________________\n"
     ]
    }
   ],
   "source": [
    "# get the summary\n",
    "classifier_vgg16.summary()"
   ]
  },
  {
   "cell_type": "markdown",
   "metadata": {},
   "source": [
    "#### Choosing an optimizer: [Why is ADAM the optimizer?](https://arxiv.org/pdf/1609.04747.pdf)"
   ]
  },
  {
   "cell_type": "code",
   "execution_count": 21,
   "metadata": {},
   "outputs": [],
   "source": [
    "# Compile the model\n",
    "classifier_vgg16.compile(Adam(lr = .00001), \n",
    "                   loss = 'categorical_crossentropy', \n",
    "                   metrics = ['accuracy'])"
   ]
  },
  {
   "cell_type": "code",
   "execution_count": 22,
   "metadata": {},
   "outputs": [],
   "source": [
    "classifier_vgg16.save('./movie_genre_prediction/models/clf_untrained.model')"
   ]
  },
  {
   "cell_type": "code",
   "execution_count": 23,
   "metadata": {},
   "outputs": [
    {
     "name": "stdout",
     "output_type": "stream",
     "text": [
      "Epoch 1/10\n",
      "3425/3425 [==============================] - 285s 83ms/step - loss: 2.3529 - acc: 0.2822 - val_loss: 2.2806 - val_acc: 0.3196\n",
      "Epoch 2/10\n",
      "3425/3425 [==============================] - 286s 84ms/step - loss: 2.2497 - acc: 0.3238 - val_loss: 2.2349 - val_acc: 0.3308\n",
      "Epoch 3/10\n",
      "3425/3425 [==============================] - 285s 83ms/step - loss: 2.2140 - acc: 0.3332 - val_loss: 2.2036 - val_acc: 0.3356\n",
      "Epoch 4/10\n",
      "3425/3425 [==============================] - 286s 83ms/step - loss: 2.1896 - acc: 0.3372 - val_loss: 2.1914 - val_acc: 0.3388\n",
      "Epoch 5/10\n",
      "3425/3425 [==============================] - 286s 83ms/step - loss: 2.1746 - acc: 0.3389 - val_loss: 2.1764 - val_acc: 0.3405\n",
      "Epoch 6/10\n",
      "3425/3425 [==============================] - 286s 83ms/step - loss: 2.1626 - acc: 0.3412 - val_loss: 2.1661 - val_acc: 0.3402\n",
      "Epoch 7/10\n",
      "3425/3425 [==============================] - 286s 83ms/step - loss: 2.1527 - acc: 0.3431 - val_loss: 2.1572 - val_acc: 0.3390\n",
      "Epoch 8/10\n",
      "3425/3425 [==============================] - 286s 83ms/step - loss: 2.1444 - acc: 0.3446 - val_loss: 2.1516 - val_acc: 0.3436\n",
      "Epoch 9/10\n",
      "3425/3425 [==============================] - 285s 83ms/step - loss: 2.1377 - acc: 0.3451 - val_loss: 2.1474 - val_acc: 0.3441\n",
      "Epoch 10/10\n",
      "3425/3425 [==============================] - 286s 83ms/step - loss: 2.1315 - acc: 0.3469 - val_loss: 2.1394 - val_acc: 0.3438\n"
     ]
    },
    {
     "data": {
      "text/plain": [
       "<keras.callbacks.History at 0x7f7b952382b0>"
      ]
     },
     "execution_count": 23,
     "metadata": {},
     "output_type": "execute_result"
    }
   ],
   "source": [
    "# classifier fit example\n",
    "classifier_vgg16.fit_generator(train_generator,\n",
    "                         steps_per_epoch = train_generator.n // train_generator.batch_size, # Example steps, real: training_generator.n // train_generator.batch_size\n",
    "                         epochs = 10,\n",
    "                         validation_data = validation_generator,\n",
    "                         validation_steps = validation_generator.n // validation_generator.batch_size) # Example steps, real: validation_generator.n // validation_generator.batch_size"
   ]
  },
  {
   "cell_type": "markdown",
   "metadata": {},
   "source": [
    "#### Results\n",
    "I will record all of the results here, in order to not make this notebook endless.\n",
    "\n",
    "* [1st run] (2xConv2D(32, (3x3); maxpool, 2xConv2D(64, (3x3)), maxpool, 3 full connected layers) - *Train*: 2.32 loss; 0.26 accuracy; *Test*: 2.31 loss; 0.27 accuracy;\n",
    "* [2nd run] (3xConv2D(32, (3x3); maxpool, 3xConv2D(64, (3x3)), maxpool, 4 full connected layers) - *Train*: 2.30 loss; 0.28 accuracy; *Test*: 2.31 loss; 0.27 accuracy;\n",
    "* [3nd run] (3xConv2D(32, (3x3); maxpool, 3xConv2D(64, (3x3)), maxpool, 3 full connected layers) - *Train*: 0.04 loss; 0.9919 accuracy; *Test*: 11.02 loss; 0.19 accuracy;\n",
    "* [4nd run] (3xConv2D(32, (3x3); maxpool, Dropout(0.25), 3xConv2D(64, (3x3)), maxpool, Dropout(0.25), 3 full connected layers Dropout(0.5) inbetween) - *Train*: 2.334 loss; 0.278 accuracy; *Test*: 2.333 loss; 0.276 accuracy;\n",
    "* [5th run] (VGG16 pre-trained) - *Train*: 2.896 loss; 0.278 accuracy; *Test*: 2.88 loss; 0.276 accuracy;\n"
   ]
  },
  {
   "cell_type": "code",
   "execution_count": 10,
   "metadata": {},
   "outputs": [],
   "source": [
    "classifier_trained = load_model('./movie_genre_prediction/models/clf_trained.model')"
   ]
  },
  {
   "cell_type": "markdown",
   "metadata": {},
   "source": [
    "Very low accuracy, a little bit above random picking... Bias needs to be improved. But first - let's create a validation set."
   ]
  },
  {
   "cell_type": "markdown",
   "metadata": {},
   "source": [
    "**[4rd run]**"
   ]
  },
  {
   "cell_type": "code",
   "execution_count": 12,
   "metadata": {},
   "outputs": [
    {
     "name": "stdout",
     "output_type": "stream",
     "text": [
      "8362/8362 [==============================] - 519s 62ms/step\n"
     ]
    },
    {
     "data": {
      "text/plain": [
       "[2.333499902227154, 0.2763283867879368]"
      ]
     },
     "execution_count": 12,
     "metadata": {},
     "output_type": "execute_result"
    }
   ],
   "source": [
    "classifier_trained.evaluate_generator(test_generator, steps = test_generator.n, max_queue_size=2, verbose=1)"
   ]
  },
  {
   "cell_type": "code",
   "execution_count": 24,
   "metadata": {},
   "outputs": [
    {
     "name": "stdout",
     "output_type": "stream",
     "text": [
      "8362/8362 [==============================] - 563s 67ms/step\n"
     ]
    },
    {
     "data": {
      "text/plain": [
       "[2.160002118822139, 0.3316031950219882]"
      ]
     },
     "execution_count": 24,
     "metadata": {},
     "output_type": "execute_result"
    }
   ],
   "source": [
    "classifier_vgg16.evaluate_generator(test_generator, steps = test_generator.n, max_queue_size=2, verbose=1)"
   ]
  },
  {
   "cell_type": "code",
   "execution_count": null,
   "metadata": {},
   "outputs": [],
   "source": []
  }
 ],
 "metadata": {
  "kernelspec": {
   "display_name": "Python 3",
   "language": "python",
   "name": "python3"
  },
  "language_info": {
   "codemirror_mode": {
    "name": "ipython",
    "version": 3
   },
   "file_extension": ".py",
   "mimetype": "text/x-python",
   "name": "python",
   "nbconvert_exporter": "python",
   "pygments_lexer": "ipython3",
   "version": "3.6.6"
  }
 },
 "nbformat": 4,
 "nbformat_minor": 2
}

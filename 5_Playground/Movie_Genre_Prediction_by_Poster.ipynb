{
 "cells": [
  {
   "cell_type": "markdown",
   "metadata": {},
   "source": [
    "# Movie Genre Prediction by Poster\n",
    "The goal of this notebook is to try to predict a movie's genre by looking at the poster it has.\n",
    "To achieve this goal I will:\n",
    "1. Use [The Movies Dataset](https://www.kaggle.com/rounakbanik/the-movies-dataset) to get 45k movie titles.\n",
    "2. Use the [omdb_api](http://www.omdbapi.com/) to get the posters for the movies and store them localy.\n",
    "3. Use Tensorflow and Keras to create a ConvNet that will classify the images.\n",
    "\n",
    "## Project Structure\n",
    "1. Data loading and acquisition.\n",
    "2. Preprocessing the data.\n",
    "3. Model creation.\n",
    "4. Model evaluation."
   ]
  },
  {
   "cell_type": "code",
   "execution_count": 8,
   "metadata": {},
   "outputs": [],
   "source": [
    "# Library Loading\n",
    "import json\n",
    "from urllib.parse import urlencode\n",
    "import requests\n",
    "import pandas as pd\n",
    "\n",
    "# Loading the \n",
    "OMDB_KEY = json.loads(open('apikeys/apikey.json').read())['key']"
   ]
  },
  {
   "cell_type": "markdown",
   "metadata": {},
   "source": [
    "## 1. Data loading and acquisition."
   ]
  },
  {
   "cell_type": "code",
   "execution_count": 40,
   "metadata": {},
   "outputs": [],
   "source": [
    "# Function to get the movie poster\n",
    "def get_movie(title):\n",
    "    title_url = urlencode({'t':title})\n",
    "    url = 'http://www.omdbapi.com/?apikey=' + OMDB_KEY + '&' + title_url\n",
    "#     poster_url = 'http://img.omdbapi.com/?i=' + imdb_id + '&h=600&apikey=' + OMDB_KEY\n",
    "    r = requests.get(url)\n",
    "    if r.status_code == 200:\n",
    "        movie_json = r.json()\n",
    "        return {\n",
    "            'title': title,\n",
    "            'genre': movie_json['Genre'],\n",
    "            'imdbID': movie_json['imdbID']\n",
    "        }\n",
    "    else:\n",
    "        return {\n",
    "            'title':title,\n",
    "            'genre':'NA',\n",
    "            'imdbID':'NA'\n",
    "        }\n",
    "\n",
    "def movie_poster(imdb_id):\n",
    "    poster_url = 'http://img.omdbapi.com/?i=' + imdb_id + '&h=600&apikey=' + OMDB_KEY\n",
    "    r = requests.get(poster_url)\n",
    "    if r.status_code == 200:\n",
    "        print(r)\n",
    "    else:\n",
    "        print('error')"
   ]
  },
  {
   "cell_type": "code",
   "execution_count": 41,
   "metadata": {},
   "outputs": [
    {
     "name": "stdout",
     "output_type": "stream",
     "text": [
      "<Response [200]>\n"
     ]
    }
   ],
   "source": [
    "imdb_id = get_movie('Blade Runner')['imdbID']\n",
    "movie_poster(imdb_id)"
   ]
  },
  {
   "cell_type": "code",
   "execution_count": null,
   "metadata": {},
   "outputs": [],
   "source": []
  }
 ],
 "metadata": {
  "kernelspec": {
   "display_name": "Python 3",
   "language": "python",
   "name": "python3"
  },
  "language_info": {
   "codemirror_mode": {
    "name": "ipython",
    "version": 3
   },
   "file_extension": ".py",
   "mimetype": "text/x-python",
   "name": "python",
   "nbconvert_exporter": "python",
   "pygments_lexer": "ipython3",
   "version": "3.6.6"
  }
 },
 "nbformat": 4,
 "nbformat_minor": 2
}

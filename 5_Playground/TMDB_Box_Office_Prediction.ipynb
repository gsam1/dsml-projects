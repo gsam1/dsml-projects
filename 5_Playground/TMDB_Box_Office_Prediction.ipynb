{
 "cells": [
  {
   "cell_type": "markdown",
   "metadata": {},
   "source": [
    "# TMDB Box Office Prediction\n",
    "\n",
    "The notebook's purpose is to produce submissions for the [Kaggle Competition](https://www.kaggle.com/c/tmdb-box-office-prediction/data).\n",
    "The challenge is to predict the box office of a movie, given a number of factors."
   ]
  },
  {
   "cell_type": "code",
   "execution_count": 1,
   "metadata": {},
   "outputs": [],
   "source": [
    "# data loading and neccessary libraries import\n",
    "import os\n",
    "import numpy as np\n",
    "import pandas as pd\n",
    "import matplotlib.pyplot as plt\n",
    "import seaborn as sns\n",
    "import ast\n",
    "import warnings\n",
    "from datetime import datetime\n",
    "warnings.filterwarnings('ignore')\n",
    "%matplotlib inline"
   ]
  },
  {
   "cell_type": "code",
   "execution_count": 2,
   "metadata": {},
   "outputs": [],
   "source": [
    "PATH = './datasets/tmdb-box-office-prediction/'\n",
    "train_location = os.path.join(PATH, 'train.csv')\n",
    "test_location = os.path.join(PATH, 'test.csv')"
   ]
  },
  {
   "cell_type": "code",
   "execution_count": 3,
   "metadata": {},
   "outputs": [
    {
     "data": {
      "text/plain": [
       "'./datasets/tmdb-box-office-prediction/train.csv'"
      ]
     },
     "execution_count": 3,
     "metadata": {},
     "output_type": "execute_result"
    }
   ],
   "source": [
    "train_location"
   ]
  },
  {
   "cell_type": "code",
   "execution_count": 4,
   "metadata": {},
   "outputs": [],
   "source": [
    "train = pd.read_csv(train_location)\n",
    "test = pd.read_csv(test_location)"
   ]
  },
  {
   "cell_type": "code",
   "execution_count": 5,
   "metadata": {},
   "outputs": [
    {
     "data": {
      "text/html": [
       "<div>\n",
       "<style scoped>\n",
       "    .dataframe tbody tr th:only-of-type {\n",
       "        vertical-align: middle;\n",
       "    }\n",
       "\n",
       "    .dataframe tbody tr th {\n",
       "        vertical-align: top;\n",
       "    }\n",
       "\n",
       "    .dataframe thead th {\n",
       "        text-align: right;\n",
       "    }\n",
       "</style>\n",
       "<table border=\"1\" class=\"dataframe\">\n",
       "  <thead>\n",
       "    <tr style=\"text-align: right;\">\n",
       "      <th></th>\n",
       "      <th>id</th>\n",
       "      <th>belongs_to_collection</th>\n",
       "      <th>budget</th>\n",
       "      <th>genres</th>\n",
       "      <th>homepage</th>\n",
       "      <th>imdb_id</th>\n",
       "      <th>original_language</th>\n",
       "      <th>original_title</th>\n",
       "      <th>overview</th>\n",
       "      <th>popularity</th>\n",
       "      <th>...</th>\n",
       "      <th>release_date</th>\n",
       "      <th>runtime</th>\n",
       "      <th>spoken_languages</th>\n",
       "      <th>status</th>\n",
       "      <th>tagline</th>\n",
       "      <th>title</th>\n",
       "      <th>Keywords</th>\n",
       "      <th>cast</th>\n",
       "      <th>crew</th>\n",
       "      <th>revenue</th>\n",
       "    </tr>\n",
       "  </thead>\n",
       "  <tbody>\n",
       "    <tr>\n",
       "      <th>0</th>\n",
       "      <td>1</td>\n",
       "      <td>[{'id': 313576, 'name': 'Hot Tub Time Machine ...</td>\n",
       "      <td>14000000</td>\n",
       "      <td>[{'id': 35, 'name': 'Comedy'}]</td>\n",
       "      <td>NaN</td>\n",
       "      <td>tt2637294</td>\n",
       "      <td>en</td>\n",
       "      <td>Hot Tub Time Machine 2</td>\n",
       "      <td>When Lou, who has become the \"father of the In...</td>\n",
       "      <td>6.575393</td>\n",
       "      <td>...</td>\n",
       "      <td>2/20/15</td>\n",
       "      <td>93.0</td>\n",
       "      <td>[{'iso_639_1': 'en', 'name': 'English'}]</td>\n",
       "      <td>Released</td>\n",
       "      <td>The Laws of Space and Time are About to be Vio...</td>\n",
       "      <td>Hot Tub Time Machine 2</td>\n",
       "      <td>[{'id': 4379, 'name': 'time travel'}, {'id': 9...</td>\n",
       "      <td>[{'cast_id': 4, 'character': 'Lou', 'credit_id...</td>\n",
       "      <td>[{'credit_id': '59ac067c92514107af02c8c8', 'de...</td>\n",
       "      <td>12314651</td>\n",
       "    </tr>\n",
       "    <tr>\n",
       "      <th>1</th>\n",
       "      <td>2</td>\n",
       "      <td>[{'id': 107674, 'name': 'The Princess Diaries ...</td>\n",
       "      <td>40000000</td>\n",
       "      <td>[{'id': 35, 'name': 'Comedy'}, {'id': 18, 'nam...</td>\n",
       "      <td>NaN</td>\n",
       "      <td>tt0368933</td>\n",
       "      <td>en</td>\n",
       "      <td>The Princess Diaries 2: Royal Engagement</td>\n",
       "      <td>Mia Thermopolis is now a college graduate and ...</td>\n",
       "      <td>8.248895</td>\n",
       "      <td>...</td>\n",
       "      <td>8/6/04</td>\n",
       "      <td>113.0</td>\n",
       "      <td>[{'iso_639_1': 'en', 'name': 'English'}]</td>\n",
       "      <td>Released</td>\n",
       "      <td>It can take a lifetime to find true love; she'...</td>\n",
       "      <td>The Princess Diaries 2: Royal Engagement</td>\n",
       "      <td>[{'id': 2505, 'name': 'coronation'}, {'id': 42...</td>\n",
       "      <td>[{'cast_id': 1, 'character': 'Mia Thermopolis'...</td>\n",
       "      <td>[{'credit_id': '52fe43fe9251416c7502563d', 'de...</td>\n",
       "      <td>95149435</td>\n",
       "    </tr>\n",
       "    <tr>\n",
       "      <th>2</th>\n",
       "      <td>3</td>\n",
       "      <td>NaN</td>\n",
       "      <td>3300000</td>\n",
       "      <td>[{'id': 18, 'name': 'Drama'}]</td>\n",
       "      <td>http://sonyclassics.com/whiplash/</td>\n",
       "      <td>tt2582802</td>\n",
       "      <td>en</td>\n",
       "      <td>Whiplash</td>\n",
       "      <td>Under the direction of a ruthless instructor, ...</td>\n",
       "      <td>64.299990</td>\n",
       "      <td>...</td>\n",
       "      <td>10/10/14</td>\n",
       "      <td>105.0</td>\n",
       "      <td>[{'iso_639_1': 'en', 'name': 'English'}]</td>\n",
       "      <td>Released</td>\n",
       "      <td>The road to greatness can take you to the edge.</td>\n",
       "      <td>Whiplash</td>\n",
       "      <td>[{'id': 1416, 'name': 'jazz'}, {'id': 1523, 'n...</td>\n",
       "      <td>[{'cast_id': 5, 'character': 'Andrew Neimann',...</td>\n",
       "      <td>[{'credit_id': '54d5356ec3a3683ba0000039', 'de...</td>\n",
       "      <td>13092000</td>\n",
       "    </tr>\n",
       "    <tr>\n",
       "      <th>3</th>\n",
       "      <td>4</td>\n",
       "      <td>NaN</td>\n",
       "      <td>1200000</td>\n",
       "      <td>[{'id': 53, 'name': 'Thriller'}, {'id': 18, 'n...</td>\n",
       "      <td>http://kahaanithefilm.com/</td>\n",
       "      <td>tt1821480</td>\n",
       "      <td>hi</td>\n",
       "      <td>Kahaani</td>\n",
       "      <td>Vidya Bagchi (Vidya Balan) arrives in Kolkata ...</td>\n",
       "      <td>3.174936</td>\n",
       "      <td>...</td>\n",
       "      <td>3/9/12</td>\n",
       "      <td>122.0</td>\n",
       "      <td>[{'iso_639_1': 'en', 'name': 'English'}, {'iso...</td>\n",
       "      <td>Released</td>\n",
       "      <td>NaN</td>\n",
       "      <td>Kahaani</td>\n",
       "      <td>[{'id': 10092, 'name': 'mystery'}, {'id': 1054...</td>\n",
       "      <td>[{'cast_id': 1, 'character': 'Vidya Bagchi', '...</td>\n",
       "      <td>[{'credit_id': '52fe48779251416c9108d6eb', 'de...</td>\n",
       "      <td>16000000</td>\n",
       "    </tr>\n",
       "    <tr>\n",
       "      <th>4</th>\n",
       "      <td>5</td>\n",
       "      <td>NaN</td>\n",
       "      <td>0</td>\n",
       "      <td>[{'id': 28, 'name': 'Action'}, {'id': 53, 'nam...</td>\n",
       "      <td>NaN</td>\n",
       "      <td>tt1380152</td>\n",
       "      <td>ko</td>\n",
       "      <td>마린보이</td>\n",
       "      <td>Marine Boy is the story of a former national s...</td>\n",
       "      <td>1.148070</td>\n",
       "      <td>...</td>\n",
       "      <td>2/5/09</td>\n",
       "      <td>118.0</td>\n",
       "      <td>[{'iso_639_1': 'ko', 'name': '한국어/조선말'}]</td>\n",
       "      <td>Released</td>\n",
       "      <td>NaN</td>\n",
       "      <td>Marine Boy</td>\n",
       "      <td>NaN</td>\n",
       "      <td>[{'cast_id': 3, 'character': 'Chun-soo', 'cred...</td>\n",
       "      <td>[{'credit_id': '52fe464b9251416c75073b43', 'de...</td>\n",
       "      <td>3923970</td>\n",
       "    </tr>\n",
       "  </tbody>\n",
       "</table>\n",
       "<p>5 rows × 23 columns</p>\n",
       "</div>"
      ],
      "text/plain": [
       "   id                              belongs_to_collection    budget  \\\n",
       "0   1  [{'id': 313576, 'name': 'Hot Tub Time Machine ...  14000000   \n",
       "1   2  [{'id': 107674, 'name': 'The Princess Diaries ...  40000000   \n",
       "2   3                                                NaN   3300000   \n",
       "3   4                                                NaN   1200000   \n",
       "4   5                                                NaN         0   \n",
       "\n",
       "                                              genres  \\\n",
       "0                     [{'id': 35, 'name': 'Comedy'}]   \n",
       "1  [{'id': 35, 'name': 'Comedy'}, {'id': 18, 'nam...   \n",
       "2                      [{'id': 18, 'name': 'Drama'}]   \n",
       "3  [{'id': 53, 'name': 'Thriller'}, {'id': 18, 'n...   \n",
       "4  [{'id': 28, 'name': 'Action'}, {'id': 53, 'nam...   \n",
       "\n",
       "                            homepage    imdb_id original_language  \\\n",
       "0                                NaN  tt2637294                en   \n",
       "1                                NaN  tt0368933                en   \n",
       "2  http://sonyclassics.com/whiplash/  tt2582802                en   \n",
       "3         http://kahaanithefilm.com/  tt1821480                hi   \n",
       "4                                NaN  tt1380152                ko   \n",
       "\n",
       "                             original_title  \\\n",
       "0                    Hot Tub Time Machine 2   \n",
       "1  The Princess Diaries 2: Royal Engagement   \n",
       "2                                  Whiplash   \n",
       "3                                   Kahaani   \n",
       "4                                      마린보이   \n",
       "\n",
       "                                            overview  popularity  ...  \\\n",
       "0  When Lou, who has become the \"father of the In...    6.575393  ...   \n",
       "1  Mia Thermopolis is now a college graduate and ...    8.248895  ...   \n",
       "2  Under the direction of a ruthless instructor, ...   64.299990  ...   \n",
       "3  Vidya Bagchi (Vidya Balan) arrives in Kolkata ...    3.174936  ...   \n",
       "4  Marine Boy is the story of a former national s...    1.148070  ...   \n",
       "\n",
       "  release_date runtime                                   spoken_languages  \\\n",
       "0      2/20/15    93.0           [{'iso_639_1': 'en', 'name': 'English'}]   \n",
       "1       8/6/04   113.0           [{'iso_639_1': 'en', 'name': 'English'}]   \n",
       "2     10/10/14   105.0           [{'iso_639_1': 'en', 'name': 'English'}]   \n",
       "3       3/9/12   122.0  [{'iso_639_1': 'en', 'name': 'English'}, {'iso...   \n",
       "4       2/5/09   118.0           [{'iso_639_1': 'ko', 'name': '한국어/조선말'}]   \n",
       "\n",
       "     status                                            tagline  \\\n",
       "0  Released  The Laws of Space and Time are About to be Vio...   \n",
       "1  Released  It can take a lifetime to find true love; she'...   \n",
       "2  Released    The road to greatness can take you to the edge.   \n",
       "3  Released                                                NaN   \n",
       "4  Released                                                NaN   \n",
       "\n",
       "                                      title  \\\n",
       "0                    Hot Tub Time Machine 2   \n",
       "1  The Princess Diaries 2: Royal Engagement   \n",
       "2                                  Whiplash   \n",
       "3                                   Kahaani   \n",
       "4                                Marine Boy   \n",
       "\n",
       "                                            Keywords  \\\n",
       "0  [{'id': 4379, 'name': 'time travel'}, {'id': 9...   \n",
       "1  [{'id': 2505, 'name': 'coronation'}, {'id': 42...   \n",
       "2  [{'id': 1416, 'name': 'jazz'}, {'id': 1523, 'n...   \n",
       "3  [{'id': 10092, 'name': 'mystery'}, {'id': 1054...   \n",
       "4                                                NaN   \n",
       "\n",
       "                                                cast  \\\n",
       "0  [{'cast_id': 4, 'character': 'Lou', 'credit_id...   \n",
       "1  [{'cast_id': 1, 'character': 'Mia Thermopolis'...   \n",
       "2  [{'cast_id': 5, 'character': 'Andrew Neimann',...   \n",
       "3  [{'cast_id': 1, 'character': 'Vidya Bagchi', '...   \n",
       "4  [{'cast_id': 3, 'character': 'Chun-soo', 'cred...   \n",
       "\n",
       "                                                crew   revenue  \n",
       "0  [{'credit_id': '59ac067c92514107af02c8c8', 'de...  12314651  \n",
       "1  [{'credit_id': '52fe43fe9251416c7502563d', 'de...  95149435  \n",
       "2  [{'credit_id': '54d5356ec3a3683ba0000039', 'de...  13092000  \n",
       "3  [{'credit_id': '52fe48779251416c9108d6eb', 'de...  16000000  \n",
       "4  [{'credit_id': '52fe464b9251416c75073b43', 'de...   3923970  \n",
       "\n",
       "[5 rows x 23 columns]"
      ]
     },
     "execution_count": 5,
     "metadata": {},
     "output_type": "execute_result"
    }
   ],
   "source": [
    "train.head()"
   ]
  },
  {
   "cell_type": "code",
   "execution_count": 6,
   "metadata": {},
   "outputs": [
    {
     "name": "stdout",
     "output_type": "stream",
     "text": [
      "<class 'pandas.core.frame.DataFrame'>\n",
      "RangeIndex: 3000 entries, 0 to 2999\n",
      "Data columns (total 23 columns):\n",
      "id                       3000 non-null int64\n",
      "belongs_to_collection    604 non-null object\n",
      "budget                   3000 non-null int64\n",
      "genres                   2993 non-null object\n",
      "homepage                 946 non-null object\n",
      "imdb_id                  3000 non-null object\n",
      "original_language        3000 non-null object\n",
      "original_title           3000 non-null object\n",
      "overview                 2992 non-null object\n",
      "popularity               3000 non-null float64\n",
      "poster_path              2999 non-null object\n",
      "production_companies     2844 non-null object\n",
      "production_countries     2945 non-null object\n",
      "release_date             3000 non-null object\n",
      "runtime                  2998 non-null float64\n",
      "spoken_languages         2980 non-null object\n",
      "status                   3000 non-null object\n",
      "tagline                  2403 non-null object\n",
      "title                    3000 non-null object\n",
      "Keywords                 2724 non-null object\n",
      "cast                     2987 non-null object\n",
      "crew                     2984 non-null object\n",
      "revenue                  3000 non-null int64\n",
      "dtypes: float64(2), int64(3), object(18)\n",
      "memory usage: 539.1+ KB\n"
     ]
    }
   ],
   "source": [
    "train.info()"
   ]
  },
  {
   "cell_type": "markdown",
   "metadata": {},
   "source": [
    "## -- Plan of Attack\n",
    "1. Clean the dataset, which includes a train and the test set.\n",
    "2. Figure out which features correlate with the revenue.\n",
    "3. Derive new features - this can occur at other times as well.\n",
    "4. Evaluate and choose the best performing model.\n",
    "5. Optimize the chosen model."
   ]
  },
  {
   "cell_type": "markdown",
   "metadata": {},
   "source": [
    "## 1. Cleaning Missing values\n"
   ]
  },
  {
   "cell_type": "code",
   "execution_count": 7,
   "metadata": {},
   "outputs": [
    {
     "data": {
      "text/plain": [
       "((3000, 23), (4398, 22))"
      ]
     },
     "execution_count": 7,
     "metadata": {},
     "output_type": "execute_result"
    }
   ],
   "source": [
    "train.shape, test.shape"
   ]
  },
  {
   "cell_type": "markdown",
   "metadata": {},
   "source": [
    "### 1.1 Dealing with the missing data.\n",
    "#### Working with the training set."
   ]
  },
  {
   "cell_type": "code",
   "execution_count": 8,
   "metadata": {},
   "outputs": [],
   "source": [
    "def get_missing_by_columns(df):\n",
    "    '''\n",
    "        Prints the columns with missing data and what percentage are they.\n",
    "    '''\n",
    "    total_missing = 0\n",
    "    missing_cols = []\n",
    "    for column in list(df.columns):\n",
    "        missing = df[df[column].isnull()].shape[0]\n",
    "        if missing > 0:\n",
    "            missing_perc = missing / df.shape[0] * 100\n",
    "            print(f'{column} has {np.round(missing_perc, 2)} % missing. Count missing: {missing}')\n",
    "            total_missing += missing\n",
    "            missing_cols.append(column)\n",
    "    \n",
    "    return total_missing, missing_cols"
   ]
  },
  {
   "cell_type": "code",
   "execution_count": 9,
   "metadata": {},
   "outputs": [
    {
     "name": "stdout",
     "output_type": "stream",
     "text": [
      "belongs_to_collection has 79.87 % missing. Count missing: 2396\n",
      "genres has 0.23 % missing. Count missing: 7\n",
      "homepage has 68.47 % missing. Count missing: 2054\n",
      "overview has 0.27 % missing. Count missing: 8\n",
      "poster_path has 0.03 % missing. Count missing: 1\n",
      "production_companies has 5.2 % missing. Count missing: 156\n",
      "production_countries has 1.83 % missing. Count missing: 55\n",
      "runtime has 0.07 % missing. Count missing: 2\n",
      "spoken_languages has 0.67 % missing. Count missing: 20\n",
      "tagline has 19.9 % missing. Count missing: 597\n",
      "Keywords has 9.2 % missing. Count missing: 276\n",
      "cast has 0.43 % missing. Count missing: 13\n",
      "crew has 0.53 % missing. Count missing: 16\n"
     ]
    }
   ],
   "source": [
    "_, mis_col_list_train = get_missing_by_columns(train)"
   ]
  },
  {
   "cell_type": "code",
   "execution_count": 126,
   "metadata": {},
   "outputs": [],
   "source": [
    "def add_has_a_homepage(df):\n",
    "    ''' Add a has_a_homepage feature to the dataframe.'''\n",
    "    df['has_a_homepage'] = 0\n",
    "    df.loc[~df['homepage'].isnull(),'has_a_homepage'] = 1\n",
    "    df = df.drop(['homepage'], axis=1)\n",
    "    \n",
    "    return df\n",
    "\n",
    "def add_part_of_collection(df):\n",
    "    ''' Add a part of collection feature to the dataframe.'''\n",
    "    df['part_of_collection'] = 0\n",
    "    df.loc[~df['belongs_to_collection'].isnull(), 'part_of_collection'] = 1\n",
    "    df = df.drop(['belongs_to_collection'], axis=1)\n",
    "    \n",
    "    return df\n",
    "\n",
    "def add_has_a_tagline(df):\n",
    "    ''' Add has_a_tagline feature to the dataframe'''\n",
    "    df['has_a_tagline'] = 0\n",
    "    df.loc[~df['tagline'].isnull(), 'has_a_tagline'] = 1\n",
    "    df = df.drop(['tagline'], axis=1)\n",
    "    \n",
    "    return df\n",
    "\n",
    "def add_number_of_keyword(df):\n",
    "    '''Handles the missing keywords column by replacing it with the number of keywords'''\n",
    "    # get the number of keywords if the type is string, otherwise its a none\n",
    "    df['num_keywords'] = df['Keywords'].apply(lambda x: len(ast.literal_eval(x)) if type(x) == type('') else 0)\n",
    "    df = df.drop('Keywords', axis=1)\n",
    "    \n",
    "    return df\n",
    "\n",
    "def add_number_of_prod_companies_countries(df):\n",
    "    '''Adds the number of production companies, while handling the missing by 1'''\n",
    "    df['num_prod_companies'] = df['production_companies'].apply(lambda x: len(ast.literal_eval(x)) \n",
    "                                                                if type(x) == type('') else 1)\n",
    "    df = df.drop('production_companies', axis=1)\n",
    "    df['num_prod_countries'] = df['production_countries'].apply(lambda x: len(ast.literal_eval(x)) \n",
    "                                                                if type(x) == type('') else 1)\n",
    "    df = df.drop('production_countries', axis=1)\n",
    "    \n",
    "    return df\n",
    "\n",
    "#### Handling Genres\n",
    "def get_avg_num_genres(df):\n",
    "    avg_num_genres = int(np.mean(df['genres'].apply(lambda x: len(ast.literal_eval(x)) if type(x) == type('') else 0)))\n",
    "    \n",
    "    return avg_num_genres\n",
    "\n",
    "# helper\n",
    "def transform_genre_to_key(genre_obj):\n",
    "    return 'id_' + str(genre_obj['id']) + '_name_' + (genre_obj['name'])\n",
    "\n",
    "\n",
    "def get_unique_genre_list(df):\n",
    "    '''TODO: Add Docstring'''\n",
    "    df = df.copy()\n",
    "    df['genres_eval'] = df['genres'].apply(lambda x: ast.literal_eval(x) if type(x) == type('') else 'None')\n",
    "    \n",
    "    genres_dict = {}\n",
    "    for row in df['genres_eval']:\n",
    "        if type(row) == type([]):\n",
    "            for genre in row:\n",
    "                genre_str = transform_genre_to_key(genre)\n",
    "                \n",
    "                if genre_str in list(genres_dict.keys()):\n",
    "                    genres_dict[genre_str] += 1\n",
    "                else:\n",
    "                    genres_dict[genre_str] = 1\n",
    "                \n",
    "    genres_df = pd.DataFrame({'frequency':genres_dict})\n",
    "    genres_df = genres_df.reset_index()\n",
    "    genres_df.columns = ['genre', 'frequency']\n",
    "    genres_df = genres_df.sort_values(by='frequency', ascending=False)\n",
    "    \n",
    "    \n",
    "    return genres_df\n",
    "\n",
    "def assign_missing(df):\n",
    "    '''TODO: ADD Docstring'''\n",
    "    num_avg_genres = get_avg_num_genres(df)\n",
    "    unique_genres = get_unique_genre_list(df)\n",
    "    \n",
    "    genre_to_assign = []\n",
    "    # the dataframe is presorted so we just take the first num of avg genres\n",
    "    for i in range(0, num_avg_genres):\n",
    "        genre_name_split = unique_genres.loc[i, 'genre'].split('_')\n",
    "        genre_to_assign.append({\n",
    "            'id': int(genre_name_split[1]),\n",
    "            'name': genre_name_split[3]\n",
    "        })\n",
    "    \n",
    "    return genre_to_assign\n",
    "\n",
    "def handle_genres(df):\n",
    "    '''TODO: Add Docstring'''\n",
    "    df['genre_lists'] = df['genres'].apply(lambda x: ast.literal_eval(x) if type(x) == type('') else assign_missing(df))\n",
    "    df = df.drop('genres', axis=1)\n",
    "    \n",
    "    return df\n",
    "\n",
    "#### Dropping Columns Poster_path and overview\n",
    "def handle_poster_overview_crew(df):\n",
    "    return df.drop(['poster_path', 'overview', 'crew'], axis=1)\n",
    "\n",
    "#### Handling missing runtime\n",
    "def handle_runtime(df):\n",
    "    '''TODO: Add Docstring'''\n",
    "    ids_missing_runtime = list(df[df['runtime'].isnull()].index)\n",
    "    df.loc[ids_missing_runtime, 'runtime'] = np.floor(df['runtime'].mean())\n",
    "    \n",
    "    return df\n",
    "\n",
    "#### Handling Spoken Languages\n",
    "def handle_spoken_languages(df):\n",
    "    '''TODO: Add Docstring'''\n",
    "    indices_with_missing_sl = list(df[df['spoken_languages'].isnull()].index)\n",
    "    for index in indices_with_missing_sl:\n",
    "        df.loc[index, 'spoken_languages'] = str([{'iso_639_1': df.loc[index, 'original_language']}])\n",
    "    \n",
    "    return df\n",
    "\n",
    "#### Handling Cast\n",
    "def count_genders(row):\n",
    "    '''TODO: Add Docstring'''\n",
    "    num_men = 0\n",
    "    num_women = 0\n",
    "    # evaluate only when the type of the row is a list\n",
    "    if type(row) == type([]):\n",
    "        num_women = sum([1 if item['gender'] == 1 else 0 for item in row])\n",
    "        num_men = sum([1 if item['gender'] == 2 else 0 for item in row])\n",
    "    \n",
    "    return {'men': num_men, 'women': num_women}\n",
    "    \n",
    "def handle_cast(df):\n",
    "    '''TODO: Add DOCSTRING'''\n",
    "    df['cast_eval'] = df['cast'].apply(lambda x: ast.literal_eval(x) if type(x) == type('') else 'Missing')\n",
    "    \n",
    "    df['num_billed_cast'] = df['cast_eval'].apply(lambda x: x if x == 'Missing' else len(x))\n",
    "    avg_billed_cast = int(np.floor(df.loc[df['num_billed_cast'] != 'Missing', 'num_billed_cast'].mean()))\n",
    "    df.loc[df['num_billed_cast'] == 'Missing', 'num_billed_cast'] = avg_billed_cast\n",
    "    \n",
    "    df['men_cast'] = df['cast_eval'].apply(lambda x: count_genders(x)['men'])\n",
    "    df['women_cast'] = df['cast_eval'].apply(lambda x: count_genders(x)['women'])\n",
    "    # getting the averages\n",
    "    avg_men_cast = int(np.floor(df.loc[df['num_billed_cast'] != 'Missing', 'men_cast'].mean()))\n",
    "    avg_women_cast = int(np.floor(df.loc[df['num_billed_cast'] != 'Missing', 'women_cast'].mean()))\n",
    "    # handling the missing\n",
    "    df.loc[df['num_billed_cast'] == 'Missing', 'men_cast'] = avg_men_cast\n",
    "    df.loc[df['num_billed_cast'] == 'Missing', 'women_cast'] = avg_women_cast\n",
    "    \n",
    "    # drop the cast column\n",
    "    df = df.drop(['cast', 'cast_eval'], axis=1)\n",
    "    \n",
    "    return df"
   ]
  },
  {
   "cell_type": "code",
   "execution_count": 127,
   "metadata": {},
   "outputs": [],
   "source": [
    "train_df = train.copy()\n",
    "test_df = test.copy()"
   ]
  },
  {
   "cell_type": "code",
   "execution_count": 128,
   "metadata": {},
   "outputs": [],
   "source": [
    "# train\n",
    "train_df = add_has_a_homepage(train_df)\n",
    "train_df = add_part_of_collection(train_df)\n",
    "train_df = add_has_a_tagline(train_df)\n",
    "train_df = add_number_of_keyword(train_df)\n",
    "train_df = add_number_of_prod_companies_countries(train_df)\n",
    "train_df = handle_genres(train_df)\n",
    "train_df = handle_poster_overview_crew(train_df)\n",
    "train_df = handle_runtime(train_df)\n",
    "train_df = handle_spoken_languages(train_df)\n",
    "train_df = handle_cast(train_df)"
   ]
  },
  {
   "cell_type": "code",
   "execution_count": 129,
   "metadata": {},
   "outputs": [
    {
     "name": "stdout",
     "output_type": "stream",
     "text": [
      "Total Missing: 0\n"
     ]
    }
   ],
   "source": [
    "total_missing, mis_col_list_train = get_missing_by_columns(train_df)\n",
    "print(f'Total Missing: {total_missing}')"
   ]
  },
  {
   "cell_type": "markdown",
   "metadata": {},
   "source": [
    "#### Handling 'Keywords'\n",
    "A way of handling the keywords is to get the numbers of keywords. It will be with the other features that will be added due to handling the missing."
   ]
  },
  {
   "cell_type": "markdown",
   "metadata": {},
   "source": [
    "#### Handling 'Production Companies' and 'Production Countries'"
   ]
  },
  {
   "cell_type": "markdown",
   "metadata": {},
   "source": [
    "Same approach, while the missing will be replaced by instead of 0 with a 1 - because at least one company with one country has worked to create the movie."
   ]
  },
  {
   "cell_type": "markdown",
   "metadata": {},
   "source": [
    "#### Handling 'Genres'\n",
    "An approach to handle it is to look at the genre representation and how what is the mean number of genres for each movie and get the top movies for each. In addition if the method is flawed the number of samples with missing values are so low that it shouldn't impact the learning of the algorithm."
   ]
  },
  {
   "cell_type": "markdown",
   "metadata": {},
   "source": [
    "#### Handling 'Poster_Path' and 'Overview' and 'Crew'\n",
    "Since I don't intend to use these columns I will outright drop them."
   ]
  },
  {
   "cell_type": "markdown",
   "metadata": {},
   "source": [
    "#### Handling 'Runtime'\n",
    "A good replacement will be mean runtime"
   ]
  },
  {
   "cell_type": "markdown",
   "metadata": {},
   "source": [
    "#### Handling 'Spoken Languages'\n",
    "Since I didn't see if the original language column is missing I will assign it to the spoken language one in the proper format, and since I plan to ignore the full name I will use only the 'iso_630_1' code."
   ]
  },
  {
   "cell_type": "markdown",
   "metadata": {},
   "source": [
    "#### Handling 'Cast'\n",
    "A lot of ways of handling cast revolve around what features I want extracted from cast. The features I plan to have are:\n",
    "1. Number of billed cast - the number of cast people in the movie. A way of handling the missing is have the average cast number be replace the missing values.\n",
    "2. Number of man-women billed - Again the same approach is to impute the missing values by the mean for both categories."
   ]
  },
  {
   "cell_type": "code",
   "execution_count": 130,
   "metadata": {},
   "outputs": [],
   "source": [
    "train_clean = train_df.copy()"
   ]
  },
  {
   "cell_type": "markdown",
   "metadata": {},
   "source": [
    "#### Dealing with the test set.\n",
    "Let's do an initial check"
   ]
  },
  {
   "cell_type": "code",
   "execution_count": 131,
   "metadata": {},
   "outputs": [
    {
     "name": "stdout",
     "output_type": "stream",
     "text": [
      "belongs_to_collection has 80.06 % missing. Count missing: 3521\n",
      "genres has 0.36 % missing. Count missing: 16\n",
      "homepage has 67.71 % missing. Count missing: 2978\n",
      "overview has 0.32 % missing. Count missing: 14\n",
      "poster_path has 0.02 % missing. Count missing: 1\n",
      "production_companies has 5.87 % missing. Count missing: 258\n",
      "production_countries has 2.32 % missing. Count missing: 102\n",
      "release_date has 0.02 % missing. Count missing: 1\n",
      "runtime has 0.09 % missing. Count missing: 4\n",
      "spoken_languages has 0.95 % missing. Count missing: 42\n",
      "status has 0.05 % missing. Count missing: 2\n",
      "tagline has 19.62 % missing. Count missing: 863\n",
      "title has 0.07 % missing. Count missing: 3\n",
      "Keywords has 8.94 % missing. Count missing: 393\n",
      "cast has 0.3 % missing. Count missing: 13\n",
      "crew has 0.5 % missing. Count missing: 22\n"
     ]
    }
   ],
   "source": [
    "_, mis_col_list_test = get_missing_by_columns(test)"
   ]
  },
  {
   "cell_type": "markdown",
   "metadata": {},
   "source": [
    "There is much overlap with the training set. Let's see what happens after we perform the cleaning if some of the columns are different."
   ]
  },
  {
   "cell_type": "code",
   "execution_count": 132,
   "metadata": {},
   "outputs": [],
   "source": [
    "def add_features(df):\n",
    "    df_clean = df.copy()\n",
    "    df_clean = add_has_a_homepage(df_clean)\n",
    "    df_clean = add_part_of_collection(df_clean)\n",
    "    df_clean = add_has_a_tagline(df_clean)\n",
    "    df_clean = add_number_of_keyword(df_clean)\n",
    "    df_clean = add_number_of_prod_companies_countries(df_clean)\n",
    "    df_clean = handle_genres(df_clean)\n",
    "    df_clean = handle_poster_overview_crew(df_clean)\n",
    "    df_clean = handle_runtime(df_clean)\n",
    "    df_clean = handle_spoken_languages(df_clean)\n",
    "    df_clean = handle_cast(df_clean)\n",
    "    \n",
    "    return df_clean"
   ]
  },
  {
   "cell_type": "code",
   "execution_count": 133,
   "metadata": {},
   "outputs": [],
   "source": [
    "test_df = add_features(test)"
   ]
  },
  {
   "cell_type": "markdown",
   "metadata": {},
   "source": [
    "The initial features have been added - let's check for the others."
   ]
  },
  {
   "cell_type": "code",
   "execution_count": 134,
   "metadata": {},
   "outputs": [
    {
     "name": "stdout",
     "output_type": "stream",
     "text": [
      "release_date has 0.02 % missing. Count missing: 1\n",
      "status has 0.05 % missing. Count missing: 2\n",
      "title has 0.07 % missing. Count missing: 3\n",
      "Total Missing: 6\n"
     ]
    }
   ],
   "source": [
    "total_missing, missing_cols_test = get_missing_by_columns(test_df)\n",
    "print(f'Total Missing: {total_missing}')"
   ]
  },
  {
   "cell_type": "markdown",
   "metadata": {},
   "source": [
    "#### Dealing with the missing entries in the test set\n",
    "* 'status' - check what are the unique values for the column first.\n",
    "* 'release_date' - since it is just one movie - try to find it on the net to fill it manually.\n",
    "* 'title' - just get it from the original title.\n",
    "\n",
    "Let's go from last to first."
   ]
  },
  {
   "cell_type": "code",
   "execution_count": 135,
   "metadata": {},
   "outputs": [],
   "source": [
    "# missing title\n",
    "missing_title_idx = list(test_df[test_df['title'].isnull()].index)\n",
    "test_df.loc[missing_title_idx, 'title'] = test_df.loc[missing_title_idx, 'original_title']"
   ]
  },
  {
   "cell_type": "code",
   "execution_count": 136,
   "metadata": {},
   "outputs": [
    {
     "data": {
      "text/plain": [
       "828    Jails, Hospitals & Hip-Hop\n",
       "Name: title, dtype: object"
      ]
     },
     "execution_count": 136,
     "metadata": {},
     "output_type": "execute_result"
    }
   ],
   "source": [
    "# missing release_date\n",
    "test_df.loc[test_df['release_date'].isnull(), 'title']"
   ]
  },
  {
   "cell_type": "markdown",
   "metadata": {},
   "source": [
    "Googling it says nothing more than May 2000 - thus I will set it as 6/1/00"
   ]
  },
  {
   "cell_type": "code",
   "execution_count": 137,
   "metadata": {},
   "outputs": [],
   "source": [
    "test_df.loc[test_df['release_date'].isnull(), 'release_date'] = '6/1/00'"
   ]
  },
  {
   "cell_type": "code",
   "execution_count": 138,
   "metadata": {},
   "outputs": [
    {
     "data": {
      "text/plain": [
       "['Released', 'Rumored', 'Post Production', nan]"
      ]
     },
     "execution_count": 138,
     "metadata": {},
     "output_type": "execute_result"
    }
   ],
   "source": [
    "# missing status\n",
    "unique_statuses = list(test_df['status'].unique())\n",
    "unique_statuses"
   ]
  },
  {
   "cell_type": "markdown",
   "metadata": {},
   "source": [
    "Let's use the same technique as before - just try to find the missing pieces by googling. Otherwise if the scale didn't allow me to do that I would base the decision on the 'release_date' column - obviously if the movie's release date is past the current date it is in post production, while all the movie that have been released are going to have a date before todays' (5/5/2019). Rumored shouldn't have any dates at all as the movie is not confirmed at all."
   ]
  },
  {
   "cell_type": "code",
   "execution_count": 139,
   "metadata": {},
   "outputs": [
    {
     "data": {
      "text/plain": [
       "828     6/1/00\n",
       "1056    9/9/02\n",
       "Name: release_date, dtype: object"
      ]
     },
     "execution_count": 139,
     "metadata": {},
     "output_type": "execute_result"
    }
   ],
   "source": [
    "test_df.loc[test_df['status'].isnull(), 'release_date']"
   ]
  },
  {
   "cell_type": "markdown",
   "metadata": {},
   "source": [
    "Obviously both movies have been released - thus let's fix that."
   ]
  },
  {
   "cell_type": "code",
   "execution_count": 140,
   "metadata": {},
   "outputs": [],
   "source": [
    "test_df.loc[test_df['status'].isnull(), 'status'] = 'Released'"
   ]
  },
  {
   "cell_type": "markdown",
   "metadata": {},
   "source": [
    "Final Check:"
   ]
  },
  {
   "cell_type": "code",
   "execution_count": 141,
   "metadata": {},
   "outputs": [
    {
     "name": "stdout",
     "output_type": "stream",
     "text": [
      "Total Missing: 0\n"
     ]
    }
   ],
   "source": [
    "total_missing, missing_cols_test = get_missing_by_columns(test_df)\n",
    "print(f'Total Missing: {total_missing}')"
   ]
  },
  {
   "cell_type": "code",
   "execution_count": 142,
   "metadata": {},
   "outputs": [],
   "source": [
    "test_clean = test_df.copy()"
   ]
  },
  {
   "cell_type": "markdown",
   "metadata": {},
   "source": [
    "## 2. EDA\n",
    "\n",
    "Let's try to find the hidden features in the data."
   ]
  },
  {
   "cell_type": "code",
   "execution_count": 143,
   "metadata": {},
   "outputs": [
    {
     "name": "stdout",
     "output_type": "stream",
     "text": [
      "<class 'pandas.core.frame.DataFrame'>\n",
      "RangeIndex: 3000 entries, 0 to 2999\n",
      "Data columns (total 22 columns):\n",
      "id                    3000 non-null int64\n",
      "budget                3000 non-null int64\n",
      "imdb_id               3000 non-null object\n",
      "original_language     3000 non-null object\n",
      "original_title        3000 non-null object\n",
      "popularity            3000 non-null float64\n",
      "release_date          3000 non-null object\n",
      "runtime               3000 non-null float64\n",
      "spoken_languages      3000 non-null object\n",
      "status                3000 non-null object\n",
      "title                 3000 non-null object\n",
      "revenue               3000 non-null int64\n",
      "has_a_homepage        3000 non-null int64\n",
      "part_of_collection    3000 non-null int64\n",
      "has_a_tagline         3000 non-null int64\n",
      "num_keywords          3000 non-null int64\n",
      "num_prod_companies    3000 non-null int64\n",
      "num_prod_countries    3000 non-null int64\n",
      "genre_lists           3000 non-null object\n",
      "num_billed_cast       3000 non-null int64\n",
      "men_cast              3000 non-null int64\n",
      "women_cast            3000 non-null int64\n",
      "dtypes: float64(2), int64(12), object(8)\n",
      "memory usage: 515.7+ KB\n"
     ]
    }
   ],
   "source": [
    "train_clean.info()"
   ]
  },
  {
   "cell_type": "markdown",
   "metadata": {},
   "source": [
    "### 2.1 Univariate on revenue"
   ]
  },
  {
   "cell_type": "code",
   "execution_count": 144,
   "metadata": {},
   "outputs": [
    {
     "data": {
      "image/png": "[encoded data removed]",
      "text/plain": [
       "<Figure size 720x360 with 1 Axes>"
      ]
     },
     "metadata": {
      "needs_background": "light"
     },
     "output_type": "display_data"
    }
   ],
   "source": [
    "from scipy.stats import norm\n",
    "\n",
    "plt.subplots(figsize=(10,5))\n",
    "sns.distplot(train_clean['revenue'], fit=norm)\n",
    "plt.show()"
   ]
  },
  {
   "cell_type": "markdown",
   "metadata": {},
   "source": [
    "The model is heavily right-skewed, hence linear models will have a hard time predicting. To correct this we can log-transform the revenue."
   ]
  },
  {
   "cell_type": "code",
   "execution_count": 145,
   "metadata": {},
   "outputs": [],
   "source": [
    "train_clean['log_revenue'] = np.log1p(train_clean['revenue'])"
   ]
  },
  {
   "cell_type": "code",
   "execution_count": 146,
   "metadata": {},
   "outputs": [
    {
     "data": {
      "image/png": "[encoded data removed]",
      "text/plain": [
       "<Figure size 720x360 with 1 Axes>"
      ]
     },
     "metadata": {
      "needs_background": "light"
     },
     "output_type": "display_data"
    }
   ],
   "source": [
    "plt.subplots(figsize=(10,5))\n",
    "sns.distplot(train_clean['log_revenue'], fit=norm)\n",
    "plt.show()"
   ]
  },
  {
   "cell_type": "markdown",
   "metadata": {},
   "source": [
    "That will have to do."
   ]
  },
  {
   "cell_type": "markdown",
   "metadata": {},
   "source": [
    "### 2.2 Multivariate on revenue\n",
    "\n",
    "#### 2.2.1 On Continous variables.\n",
    "There are only 3 that fit the idea of a continous variable: **budget**, **popularity** and **runtime**. Let's examine their effects on the predicted variable."
   ]
  },
  {
   "cell_type": "code",
   "execution_count": 147,
   "metadata": {},
   "outputs": [
    {
     "data": {
      "image/png": "[encoded data removed]",
      "text/plain": [
       "<Figure size 1800x720 with 3 Axes>"
      ]
     },
     "metadata": {
      "needs_background": "light"
     },
     "output_type": "display_data"
    }
   ],
   "source": [
    "_, axes = plt.subplots(1, 3, figsize=(25, 10))\n",
    "sns.scatterplot(x='budget', y='revenue', data=train_clean, ax=axes[0])\n",
    "sns.scatterplot(x='popularity', y='revenue', data=train_clean, ax=axes[1])\n",
    "sns.scatterplot(x='runtime', y='revenue', data=train_clean, ax=axes[2])\n",
    "plt.show()"
   ]
  },
  {
   "cell_type": "markdown",
   "metadata": {},
   "source": [
    "## 3. Feature Engineering."
   ]
  },
  {
   "cell_type": "markdown",
   "metadata": {},
   "source": [
    "### 3.1. Handle Genres\n",
    "To handle genres I will first transform it to a number of matrices representing the various genres - one-hot encoded. I've decided upon this method because a movie can be various genres at the same time.\n",
    "\n",
    "But first - let's get the unique genres."
   ]
  },
  {
   "cell_type": "code",
   "execution_count": 148,
   "metadata": {},
   "outputs": [],
   "source": [
    "def get_unique_genre_list(df):\n",
    "    '''\n",
    "    gets the original dataframe and return an object containing the unique genres and their ids.\n",
    "    '''\n",
    "    # construct the list of genres\n",
    "#     genres_col = df['genres']\n",
    "    genres_list = []\n",
    "    for item in df['genre_lists']:\n",
    "        genres_list += item\n",
    "\n",
    "#     for item in genres_col:\n",
    "#         if str(item) == 'nan':\n",
    "#             pass\n",
    "#         else:\n",
    "#             genres_list +=  ast.literal_eval(item)\n",
    "    \n",
    "    # construct the lists for both ids and genres\n",
    "    genre_string_list = []\n",
    "    genre_id_list = []\n",
    "    for movie in genres_list:\n",
    "        genre_string_list.append(movie['name'])\n",
    "        genre_id_list.append(movie['id'])\n",
    "    # filter for unique\n",
    "    unique_ids = []\n",
    "    unique_genres = []\n",
    "    unique_id_str = []\n",
    "    for i in range(0, len(genre_id_list)):\n",
    "        if genre_id_list[i] not in unique_ids:\n",
    "            unique_ids.append(genre_id_list[i])\n",
    "            unique_genres.append(genre_string_list[i])\n",
    "            unique_id_str.append({'id': genre_id_list[i], 'name': genre_string_list[i]})\n",
    "            \n",
    "    return {\n",
    "        'genre_strings': unique_genres,\n",
    "        'genre_id': unique_ids,\n",
    "        'genre_id_str': unique_id_str\n",
    "        }"
   ]
  },
  {
   "cell_type": "code",
   "execution_count": 149,
   "metadata": {},
   "outputs": [],
   "source": [
    "genre_list_train = get_unique_genre_list(train_df)"
   ]
  },
  {
   "cell_type": "code",
   "execution_count": 150,
   "metadata": {},
   "outputs": [],
   "source": [
    "train_sorted_list = sorted([genre['id'] for genre in genre_list_train['genre_id_str']])"
   ]
  },
  {
   "cell_type": "code",
   "execution_count": 151,
   "metadata": {},
   "outputs": [],
   "source": [
    "genre_list_test = get_unique_genre_list(test_df)"
   ]
  },
  {
   "cell_type": "code",
   "execution_count": 152,
   "metadata": {},
   "outputs": [],
   "source": [
    "test_sorted_list = sorted([genre['id'] for genre in genre_list_test['genre_id_str']])"
   ]
  },
  {
   "cell_type": "code",
   "execution_count": 153,
   "metadata": {},
   "outputs": [
    {
     "data": {
      "text/plain": [
       "[{'id': 35, 'name': 'Comedy'},\n",
       " {'id': 18, 'name': 'Drama'},\n",
       " {'id': 10751, 'name': 'Family'},\n",
       " {'id': 10749, 'name': 'Romance'},\n",
       " {'id': 53, 'name': 'Thriller'},\n",
       " {'id': 28, 'name': 'Action'},\n",
       " {'id': 16, 'name': 'Animation'},\n",
       " {'id': 12, 'name': 'Adventure'},\n",
       " {'id': 27, 'name': 'Horror'},\n",
       " {'id': 99, 'name': 'Documentary'},\n",
       " {'id': 10402, 'name': 'Music'},\n",
       " {'id': 80, 'name': 'Crime'},\n",
       " {'id': 878, 'name': 'Science Fiction'},\n",
       " {'id': 9648, 'name': 'Mystery'},\n",
       " {'id': 10769, 'name': 'Foreign'},\n",
       " {'id': 14, 'name': 'Fantasy'},\n",
       " {'id': 10752, 'name': 'War'},\n",
       " {'id': 37, 'name': 'Western'},\n",
       " {'id': 36, 'name': 'History'},\n",
       " {'id': 10770, 'name': 'TV Movie'}]"
      ]
     },
     "execution_count": 153,
     "metadata": {},
     "output_type": "execute_result"
    }
   ],
   "source": [
    "genre_list_train['genre_id_str']"
   ]
  },
  {
   "cell_type": "code",
   "execution_count": 154,
   "metadata": {},
   "outputs": [],
   "source": [
    "def create_is_genre_columns(df):\n",
    "    # create the neccery columns in df and assign its value to 0\n",
    "    for genre in genre_list_train['genre_strings']:\n",
    "        df['is_' + genre] = 0\n",
    "    \n",
    "    return df"
   ]
  },
  {
   "cell_type": "code",
   "execution_count": 155,
   "metadata": {},
   "outputs": [],
   "source": [
    "train_clean = create_is_genre_columns(train_clean)\n",
    "test_clean = create_is_genre_columns(test_clean)"
   ]
  },
  {
   "cell_type": "code",
   "execution_count": 156,
   "metadata": {},
   "outputs": [],
   "source": [
    "def fill_genre_columns(df):\n",
    "    '''\n",
    "    It fills the precreated is_Genre columns, depending on the contents of the genre column.\n",
    "    '''\n",
    "    for idx, row in df.iterrows():\n",
    "        genres = df.loc[idx, 'genre_lists']\n",
    "        for genre in genres:\n",
    "            df.loc[idx, 'is_' + genre['name']] = 1\n",
    "    \n",
    "    return df"
   ]
  },
  {
   "cell_type": "code",
   "execution_count": 157,
   "metadata": {},
   "outputs": [],
   "source": [
    "def drop_genres_column(df):\n",
    "    '''\n",
    "    Drops the genre_list column\n",
    "    '''\n",
    "    df = df.drop(['genre_lists'], axis=1)\n",
    "    return df"
   ]
  },
  {
   "cell_type": "code",
   "execution_count": 158,
   "metadata": {},
   "outputs": [],
   "source": [
    "train_clean = fill_genre_columns(train_clean)"
   ]
  },
  {
   "cell_type": "code",
   "execution_count": 159,
   "metadata": {},
   "outputs": [],
   "source": [
    "train_clean = drop_genres_column(train_clean)"
   ]
  },
  {
   "cell_type": "markdown",
   "metadata": {},
   "source": [
    "-- Dealing with the test set."
   ]
  },
  {
   "cell_type": "code",
   "execution_count": 160,
   "metadata": {},
   "outputs": [],
   "source": [
    "test_clean = fill_genre_columns(test_clean)\n",
    "test_clean = drop_genres_column(test_clean)"
   ]
  },
  {
   "cell_type": "code",
   "execution_count": 161,
   "metadata": {},
   "outputs": [
    {
     "data": {
      "text/plain": [
       "((3000, 42), (4398, 40))"
      ]
     },
     "execution_count": 161,
     "metadata": {},
     "output_type": "execute_result"
    }
   ],
   "source": [
    "train_clean.shape, test_clean.shape"
   ]
  },
  {
   "cell_type": "code",
   "execution_count": 162,
   "metadata": {},
   "outputs": [
    {
     "data": {
      "text/plain": [
       "((3000, 23), (4398, 22))"
      ]
     },
     "execution_count": 162,
     "metadata": {},
     "output_type": "execute_result"
    }
   ],
   "source": [
    "train.shape, test.shape"
   ]
  },
  {
   "cell_type": "markdown",
   "metadata": {},
   "source": [
    "### 3.x Handle Cast\n",
    "\n",
    "**Already handled during cleaning**\n",
    "\n",
    "At first I was thinking in the lines of listing the movies with the highest revenue and using their cast as a benchmark of whether the other movies have popular actors in them, but this approach has many flaws - some top billed actors do act in movies that do not bring a large sum, and in addition top grossing movies may include not so many famous actors.  \n",
    "\n",
    "However there might be relationships worth exploring between the number of the billed cast, the number of representation of each genders (as the dataset graciously includes their gender)."
   ]
  },
  {
   "cell_type": "markdown",
   "metadata": {},
   "source": [
    "### 3.x Handling Production Companies\n",
    "**Already handled during cleaning**"
   ]
  },
  {
   "cell_type": "markdown",
   "metadata": {},
   "source": [
    "The same approach as cast - lets see if we can get the number of companies that collaborate on a movie."
   ]
  },
  {
   "cell_type": "markdown",
   "metadata": {},
   "source": [
    "### 3.x Handling Production Countries\n",
    "**Already handled during cleaning**  \n",
    "Copying the approach from the previous two points - I'll just count the number of countries, which participated in making the movie."
   ]
  },
  {
   "cell_type": "markdown",
   "metadata": {},
   "source": [
    "### 3.5 Dropping the unnecessary columns\n",
    "The following columns are not needed:\n",
    "1. imdb_id\n",
    "2. poster_path"
   ]
  },
  {
   "cell_type": "code",
   "execution_count": 163,
   "metadata": {},
   "outputs": [],
   "source": [
    "def drop_unused_columns(df):\n",
    "    for col in ['imdb_id']:\n",
    "        df = df.drop(col, axis=1)\n",
    "    \n",
    "    return df"
   ]
  },
  {
   "cell_type": "code",
   "execution_count": 164,
   "metadata": {},
   "outputs": [],
   "source": [
    "train_clean = drop_unused_columns(train_clean)\n",
    "test_clean = drop_unused_columns(test_clean)"
   ]
  },
  {
   "cell_type": "markdown",
   "metadata": {},
   "source": [
    "### 3.6 Handling language - both original and spoken\n",
    "\n",
    "- original_language - one-hot encode the column\n",
    "- spoken_language\n",
    "    - number of languages spoken\n",
    "    - categorical - is the movie multilingual\n",
    "    - is the movie targeted only to the local market - if the spoken language is the only original language"
   ]
  },
  {
   "cell_type": "markdown",
   "metadata": {},
   "source": [
    "#### -- Dealing with original language"
   ]
  },
  {
   "cell_type": "code",
   "execution_count": 165,
   "metadata": {},
   "outputs": [],
   "source": [
    "def encode_original_languages(df):\n",
    "    '''\n",
    "        Encode the original languages with one-hot encoding\n",
    "    '''\n",
    "    language_dummies = pd.get_dummies(df['original_language']).astype('int64')\n",
    "    return pd.concat([df, language_dummies], axis=1)\n",
    "\n",
    "def drop_original_language(df):\n",
    "    '''\n",
    "        Dropping the original language column.\n",
    "    '''\n",
    "    return df.drop('original_language', axis=1)"
   ]
  },
  {
   "cell_type": "code",
   "execution_count": 166,
   "metadata": {},
   "outputs": [],
   "source": [
    "train_clean = encode_original_languages(train_clean)\n",
    "test_clean = encode_original_languages(test_clean)"
   ]
  },
  {
   "cell_type": "markdown",
   "metadata": {},
   "source": [
    "Validate if train and test have the same number of spoken columns!"
   ]
  },
  {
   "cell_type": "code",
   "execution_count": 205,
   "metadata": {},
   "outputs": [],
   "source": [
    "# a bit crude but for the sake of tests\n",
    "for col in ['af', 'bm', 'ca', 'cs', 'is', 'ka', 'kn', 'th', 'xx']:\n",
    "    train_clean[col] = 0"
   ]
  },
  {
   "cell_type": "code",
   "execution_count": 200,
   "metadata": {},
   "outputs": [],
   "source": [
    "for col in ['ar', 'fa', 'nb', 'mr', 'vi']:\n",
    "    test_clean[col] = 0"
   ]
  },
  {
   "cell_type": "markdown",
   "metadata": {},
   "source": [
    "#### -- Dealing with spoken languages\n",
    "--- Getting number of spoken languages"
   ]
  },
  {
   "cell_type": "code",
   "execution_count": 169,
   "metadata": {},
   "outputs": [],
   "source": [
    "def get_num_spoken_languages(df):\n",
    "    '''\n",
    "        Get the number of spoken languages per movie\n",
    "    '''\n",
    "    df['num_spoken_languages'] = 0\n",
    "    for index, row in df.iterrows():\n",
    "        df.loc[index, 'num_spoken_languages'] = len(ast.literal_eval(row['spoken_languages']))\n",
    "        \n",
    "    return df"
   ]
  },
  {
   "cell_type": "code",
   "execution_count": 170,
   "metadata": {},
   "outputs": [],
   "source": [
    "train_clean = get_num_spoken_languages(train_clean)\n",
    "test_clean = get_num_spoken_languages(test_clean)"
   ]
  },
  {
   "cell_type": "markdown",
   "metadata": {},
   "source": [
    "--- Spoken Language - same with the original language"
   ]
  },
  {
   "cell_type": "code",
   "execution_count": 171,
   "metadata": {},
   "outputs": [],
   "source": [
    "def spoken_original_language(df):\n",
    "    '''\n",
    "        Checking whether the spoken language is the only one and if it is the same with the original.\n",
    "        If the languages match - indicate as 1, else 0\n",
    "    '''\n",
    "    # iso_639_1\n",
    "    df['original_spoken_match'] = 0\n",
    "    for index, row in df.iterrows():\n",
    "        if len(ast.literal_eval(row['spoken_languages'])) == 1:\n",
    "#             if type(ast.literal_eval(row['spoken_languages'])) != type([]):\n",
    "#                 print(row['spoken_languages'])\n",
    "            if ast.literal_eval(row['spoken_languages'])[0]['iso_639_1'] == row['original_language']:\n",
    "                df.loc[index, 'original_spoken_match'] = 1\n",
    "    \n",
    "    return df"
   ]
  },
  {
   "cell_type": "code",
   "execution_count": 172,
   "metadata": {},
   "outputs": [],
   "source": [
    "train_clean = spoken_original_language(train_clean)\n",
    "test_clean = spoken_original_language(test_clean)"
   ]
  },
  {
   "cell_type": "code",
   "execution_count": 173,
   "metadata": {},
   "outputs": [],
   "source": [
    "train_clean = train_clean.drop('spoken_languages', axis=1)\n",
    "test_clean = test_clean.drop('spoken_languages', axis=1)"
   ]
  },
  {
   "cell_type": "code",
   "execution_count": 174,
   "metadata": {},
   "outputs": [],
   "source": [
    "train_clean = drop_original_language(train_clean)\n",
    "test_clean = drop_original_language(test_clean)"
   ]
  },
  {
   "cell_type": "markdown",
   "metadata": {},
   "source": [
    "### 3.7 Handling dates\n",
    "Quite a lot of information can be extracted from the dates:\n",
    "* Handling day\n",
    "    * Day number - as indicated in the string\n",
    "    * Day of the week - from 1 to 7\n",
    "    * Week Number - probably redundant and highly correlated with the data from the months.\n",
    "* Handling month\n",
    "    * Month number\n",
    "* Handling year\n",
    "    * Year Number "
   ]
  },
  {
   "cell_type": "code",
   "execution_count": 175,
   "metadata": {},
   "outputs": [],
   "source": [
    "#train_clean['released_date'].apply(lambda x: datetime.strptime(x, '%m/%d/%y')\n",
    "def add_proper_time(df):\n",
    "    df['release_date_proper'] = df['release_date'].apply(lambda x: datetime.strptime(x, '%m/%d/%y'))\n",
    "    return df"
   ]
  },
  {
   "cell_type": "code",
   "execution_count": 176,
   "metadata": {},
   "outputs": [],
   "source": [
    "train_clean = add_proper_time(train_clean)\n",
    "test_clean = add_proper_time(test_clean)"
   ]
  },
  {
   "cell_type": "markdown",
   "metadata": {},
   "source": [
    "#### --- Creating validator function\n",
    "The goal of this function is to validate that the respective columns fall in a range of numbers - f.e. days' numbers shouldn't be higher than 31, while months should be higher than 12"
   ]
  },
  {
   "cell_type": "code",
   "execution_count": 177,
   "metadata": {},
   "outputs": [],
   "source": [
    "def range_validator(range_start, range_end, column, df):\n",
    "    '''\n",
    "        Checks whether the data falls between the range defined. Return true if correct - false otherwise.\n",
    "    '''\n",
    "    if df[(df[column] > range_end) & (df[column] < range_start)].shape[0] == 0:\n",
    "        return True\n",
    "    else:\n",
    "        return False"
   ]
  },
  {
   "cell_type": "markdown",
   "metadata": {},
   "source": [
    "#### --- Creating day features"
   ]
  },
  {
   "cell_type": "code",
   "execution_count": 178,
   "metadata": {},
   "outputs": [],
   "source": [
    "def handle_days(df):\n",
    "    '''\n",
    "        Create 3 features - day number of the month, day of the week and week number\n",
    "    '''\n",
    "    # getting day numbers\n",
    "    df['date_day_number'] = df['release_date_proper'].apply(lambda x: x.day)\n",
    "    # day of the week\n",
    "    df['date_day_week_day'] = df['release_date_proper'].apply(lambda x: x.dayofweek)\n",
    "    # week number\n",
    "    df['date_week_number'] = df['release_date_proper'].apply(lambda x: x.weekofyear)\n",
    "    \n",
    "    return df"
   ]
  },
  {
   "cell_type": "code",
   "execution_count": 179,
   "metadata": {},
   "outputs": [],
   "source": [
    "train_clean = handle_days(train_clean)\n",
    "test_clean = handle_days(test_clean)"
   ]
  },
  {
   "cell_type": "markdown",
   "metadata": {},
   "source": [
    "**Validating day data:**  \n",
    "The day number shouldn't be bigger than 31 and shouldn't be below 1, while the days of the week, since they start from 0 should be between 0 and 6, and the week number should lay between 1 and 52."
   ]
  },
  {
   "cell_type": "code",
   "execution_count": 180,
   "metadata": {},
   "outputs": [
    {
     "data": {
      "text/plain": [
       "(True, True)"
      ]
     },
     "execution_count": 180,
     "metadata": {},
     "output_type": "execute_result"
    }
   ],
   "source": [
    "range_validator(1, 31, 'date_day_number', train_clean), range_validator(1, 31, 'date_day_number', test_clean)"
   ]
  },
  {
   "cell_type": "code",
   "execution_count": 181,
   "metadata": {},
   "outputs": [
    {
     "data": {
      "text/plain": [
       "(True, True)"
      ]
     },
     "execution_count": 181,
     "metadata": {},
     "output_type": "execute_result"
    }
   ],
   "source": [
    "range_validator(0, 6, 'date_day_week_day', train_clean), range_validator(0, 6, 'date_day_week_day', test_clean)"
   ]
  },
  {
   "cell_type": "code",
   "execution_count": 182,
   "metadata": {},
   "outputs": [
    {
     "data": {
      "text/plain": [
       "(True, True)"
      ]
     },
     "execution_count": 182,
     "metadata": {},
     "output_type": "execute_result"
    }
   ],
   "source": [
    "range_validator(1, 52, 'date_week_number', train_clean), range_validator(1, 52, 'date_week_number', test_clean)"
   ]
  },
  {
   "cell_type": "markdown",
   "metadata": {},
   "source": [
    "All 3 features validate succesfully."
   ]
  },
  {
   "cell_type": "markdown",
   "metadata": {},
   "source": [
    "#### --- Creating month features"
   ]
  },
  {
   "cell_type": "code",
   "execution_count": 183,
   "metadata": {},
   "outputs": [],
   "source": [
    "def handle_months(df):\n",
    "    '''\n",
    "        Create 2 features, related to month - month number and season\n",
    "    '''\n",
    "    # getting month numbers\n",
    "    df['date_month_number'] = df['release_date_proper'].apply(lambda x: x.month)\n",
    "    \n",
    "    return df"
   ]
  },
  {
   "cell_type": "code",
   "execution_count": 184,
   "metadata": {},
   "outputs": [],
   "source": [
    "train_clean = handle_months(train_clean)\n",
    "test_clean = handle_months(test_clean)"
   ]
  },
  {
   "cell_type": "markdown",
   "metadata": {},
   "source": [
    "**Validating Month Numbers:**  \n",
    "Let's check if for some reason we have month numbers that are bigger than 12 and less than 1."
   ]
  },
  {
   "cell_type": "code",
   "execution_count": 185,
   "metadata": {},
   "outputs": [
    {
     "data": {
      "text/plain": [
       "(True, True)"
      ]
     },
     "execution_count": 185,
     "metadata": {},
     "output_type": "execute_result"
    }
   ],
   "source": [
    "range_validator(1, 12, 'date_month_number', train_clean), range_validator(1, 12, 'date_month_number', test_clean)"
   ]
  },
  {
   "cell_type": "markdown",
   "metadata": {},
   "source": [
    "No rows have a month number bigger than 12 or smaller than 1."
   ]
  },
  {
   "cell_type": "markdown",
   "metadata": {},
   "source": [
    "#### --- Creating year features"
   ]
  },
  {
   "cell_type": "code",
   "execution_count": 186,
   "metadata": {},
   "outputs": [],
   "source": [
    "def handle_years(df):\n",
    "    '''\n",
    "        Create just one feature, related to year - the year's number.\n",
    "    '''\n",
    "    df['date_year_number'] = df['release_date_proper'].apply(lambda x: x.year)\n",
    "    \n",
    "    return df"
   ]
  },
  {
   "cell_type": "code",
   "execution_count": 187,
   "metadata": {},
   "outputs": [],
   "source": [
    "train_clean = handle_years(train_clean)\n",
    "test_clean = handle_years(test_clean)"
   ]
  },
  {
   "cell_type": "markdown",
   "metadata": {},
   "source": [
    "**Validating year numbers:**  \n",
    "This time the year numbers are 'more' arbitrary that the other features - let's say that below 1900 there were no movies and beyond 2019 (this year) there should be any movies."
   ]
  },
  {
   "cell_type": "code",
   "execution_count": 188,
   "metadata": {},
   "outputs": [
    {
     "data": {
      "text/plain": [
       "(True, True)"
      ]
     },
     "execution_count": 188,
     "metadata": {},
     "output_type": "execute_result"
    }
   ],
   "source": [
    "range_validator(1900, 2019, 'date_year_number', train_clean), range_validator(1900, 2019, 'date_year_number', test_clean)"
   ]
  },
  {
   "cell_type": "markdown",
   "metadata": {},
   "source": [
    "All good."
   ]
  },
  {
   "cell_type": "markdown",
   "metadata": {},
   "source": [
    "#### --- Dropping the release date column as well as the timestamp encoded one."
   ]
  },
  {
   "cell_type": "code",
   "execution_count": 189,
   "metadata": {},
   "outputs": [],
   "source": [
    "train_clean = train_clean.drop('release_date', axis=1)\n",
    "test_clean = test_clean.drop('release_date', axis=1)\n",
    "###\n",
    "train_clean = train_clean.drop('release_date_proper', axis=1)\n",
    "test_clean = test_clean.drop('release_date_proper', axis=1)"
   ]
  },
  {
   "cell_type": "markdown",
   "metadata": {},
   "source": [
    "*Note*: Drop the following before features can be extracted - status, title, keywords, crew, original_title, overview"
   ]
  },
  {
   "cell_type": "code",
   "execution_count": 193,
   "metadata": {},
   "outputs": [],
   "source": [
    "train_clean = train_clean.drop(['status','title'], axis=1)\n",
    "test_clean = test_clean.drop(['status','title'], axis=1)"
   ]
  },
  {
   "cell_type": "code",
   "execution_count": 195,
   "metadata": {},
   "outputs": [],
   "source": [
    "train_clean = train_clean.drop(['original_title'], axis=1)\n",
    "test_clean = test_clean.drop(['original_title'], axis=1)"
   ]
  },
  {
   "cell_type": "code",
   "execution_count": 206,
   "metadata": {},
   "outputs": [
    {
     "data": {
      "text/plain": [
       "((3000, 23), (4398, 22))"
      ]
     },
     "execution_count": 206,
     "metadata": {},
     "output_type": "execute_result"
    }
   ],
   "source": [
    "train.shape, test.shape"
   ]
  },
  {
   "cell_type": "code",
   "execution_count": 207,
   "metadata": {},
   "outputs": [
    {
     "data": {
      "text/plain": [
       "((3000, 86), (4398, 84))"
      ]
     },
     "execution_count": 207,
     "metadata": {},
     "output_type": "execute_result"
    }
   ],
   "source": [
    "train_clean.shape, test_clean.shape"
   ]
  },
  {
   "cell_type": "code",
   "execution_count": 204,
   "metadata": {},
   "outputs": [
    {
     "name": "stdout",
     "output_type": "stream",
     "text": [
      "kn\n"
     ]
    }
   ],
   "source": [
    "for col in list(test_clean.columns):\n",
    "    if col not in train_clean.columns:\n",
    "        print(col)"
   ]
  },
  {
   "cell_type": "code",
   "execution_count": null,
   "metadata": {},
   "outputs": [],
   "source": [
    "test_clean"
   ]
  },
  {
   "cell_type": "markdown",
   "metadata": {},
   "source": [
    "## 4. Modelling"
   ]
  },
  {
   "cell_type": "code",
   "execution_count": 208,
   "metadata": {},
   "outputs": [],
   "source": [
    "# importing the metric\n",
    "from sklearn.metrics import mean_squared_error\n",
    "from sklearn.model_selection import KFold, cross_val_score, train_test_split\n",
    "# importing the regressors\n",
    "from sklearn.linear_model import LinearRegression, Lasso\n",
    "from sklearn.ensemble import RandomForestRegressor, GradientBoostingRegressor\n",
    "from sklearn.model_selection import GridSearchCV"
   ]
  },
  {
   "cell_type": "code",
   "execution_count": 209,
   "metadata": {},
   "outputs": [],
   "source": [
    "#### Model Execturor\n",
    "class ModelExecuter:\n",
    "    def __init__ (self, models, train_x, train_y, test_x=None, test_y=None):\n",
    "        self.models = models\n",
    "        self.train_x = train_x\n",
    "        self.train_y = train_y\n",
    "        self.test_x = test_x\n",
    "        self.test_y = test_y\n",
    "    \n",
    "    def rmse(self, predicted_y):\n",
    "        return np.sqrt(mean_squared_error(self.test_y, predicted_y))\n",
    "    \n",
    "    def rmse_cv(self, nfolds):\n",
    "        kfolds = KFold(nfolds, random_state=42).get_n_splits(self.train_x)\n",
    "        for model in self.models:\n",
    "            rmse = np.sqrt(-cross_val_score(model, self.train_x, self.train_y, scoring='neg_mean_squared_error', cv=kfolds))\n",
    "            print('{}: {:.4f}'.format(type(model).__name__, rmse.mean()))\n",
    "    \n",
    "    def fit_all(self):\n",
    "        for model in self.models:\n",
    "            model.fit(self.train_x, self_train_y)\n",
    "        return self\n",
    "    \n",
    "    def get_score_all(self):\n",
    "        for model in models:\n",
    "            model_y_predicted = model.predict(self.test_x)\n",
    "            print('{}: {}'.format(type(model).__name__, self.rmse(model_y_predicted)))\n",
    "            \n",
    "    def predict_specific(self, model_name, testx=None):\n",
    "        testx = testx if testx is not None else self.test_x\n",
    "        \n",
    "        for model in models:\n",
    "            if type(model).__name__ == model_name:\n",
    "                rgrs = model.fit(self.train_x, self.train_y)\n",
    "                return rgrs.predict(testx)"
   ]
  },
  {
   "cell_type": "code",
   "execution_count": 210,
   "metadata": {},
   "outputs": [],
   "source": [
    "models = [LinearRegression(), \n",
    "         Lasso(alpha=0.005, random_state=42), \n",
    "         GradientBoostingRegressor(n_estimators=1000, learning_rate=0.01, max_depth=5, max_features='sqrt'),\n",
    "         RandomForestRegressor(n_estimators=1000, max_depth=6, max_features='sqrt')]"
   ]
  },
  {
   "cell_type": "code",
   "execution_count": 211,
   "metadata": {},
   "outputs": [],
   "source": [
    "def split_predictors(df, predicted_var):\n",
    "    '''Returns two numpy arrays - of the predictors and the predicted variable.'''\n",
    "    data = df.copy()\n",
    "    y = data[predicted_var].values\n",
    "    data = data.drop(['id', 'log_revenue','revenue'], axis=1)\n",
    "    # Drop ID as we don't need it.\n",
    "    x = data.values\n",
    "    \n",
    "    return x, y, data"
   ]
  },
  {
   "cell_type": "code",
   "execution_count": 212,
   "metadata": {},
   "outputs": [],
   "source": [
    "X, y, ref = split_predictors(train_clean, 'log_revenue')"
   ]
  },
  {
   "cell_type": "code",
   "execution_count": 213,
   "metadata": {},
   "outputs": [],
   "source": [
    "regressors = ModelExecuter(models, X, y)"
   ]
  },
  {
   "cell_type": "code",
   "execution_count": 214,
   "metadata": {},
   "outputs": [
    {
     "name": "stdout",
     "output_type": "stream",
     "text": [
      "LinearRegression: 2.4335\n",
      "Lasso: 2.4069\n",
      "GradientBoostingRegressor: 2.1123\n",
      "RandomForestRegressor: 2.2851\n"
     ]
    }
   ],
   "source": [
    "regressors.rmse_cv(nfolds=5)"
   ]
  },
  {
   "cell_type": "code",
   "execution_count": 98,
   "metadata": {},
   "outputs": [],
   "source": [
    "class ModelParamEstimator:\n",
    "    def __init__ (self, models, model_params_dict, X, y):\n",
    "        self.models = models\n",
    "        self.model_params_dict = model_params_dict\n",
    "        self.X = X\n",
    "        self.y = y\n",
    "        \n",
    "    def evaluate_params (self, nfolds=5):\n",
    "        best_params = {}\n",
    "        \n",
    "        for model in self.models:\n",
    "            # Check if model in param_grid\n",
    "            if type(model).__name__ not in self.model_params_dict.keys():\n",
    "                continue\n",
    "            # Get the param grid    \n",
    "            param_grid = self.model_params_dict[type(model).__name__]\n",
    "            grid_search = GridSearchCV(model, param_grid, cv=nfolds)\n",
    "            grid_search.fit(self.X, self.y)\n",
    "            best_params[type(model).__name__] = grid_search.best_params_\n",
    "        \n",
    "        return best_params"
   ]
  },
  {
   "cell_type": "code",
   "execution_count": 99,
   "metadata": {},
   "outputs": [],
   "source": [
    "models_to_eval = [LinearRegression(), \n",
    "                 Lasso(random_state=42), \n",
    "                 GradientBoostingRegressor(max_features='sqrt'),\n",
    "                 RandomForestRegressor(max_features='sqrt')]\n",
    "\n",
    "models_param_grid_dict = {\n",
    "        'Lasso': {'alpha':[0, 0.001, 0.005, 0.01, 0.05, 0.1, 0.5, 1]},\n",
    "        'GradientBoostingRegressor': {'n_estimators':[100, 500, 1000, 2000, 3000], 'learning_rate':[0.01, 0.05, 0.1, 1], 'max_depth':[1,2,3,4,5,6]},\n",
    "        'RandomForestRegressor': {'n_estimators':[100, 500, 1000, 2000, 3000], 'max_depth':[1,2,3,4,5,6]}\n",
    "}"
   ]
  },
  {
   "cell_type": "code",
   "execution_count": 100,
   "metadata": {},
   "outputs": [],
   "source": [
    "param_estimator = ModelParamEstimator(models_to_eval, models_param_grid_dict, X, y)\n",
    "best_params = param_estimator.evaluate_params()"
   ]
  },
  {
   "cell_type": "code",
   "execution_count": 101,
   "metadata": {},
   "outputs": [
    {
     "data": {
      "text/plain": [
       "{'Lasso': {'alpha': 0.005},\n",
       " 'GradientBoostingRegressor': {'learning_rate': 0.05,\n",
       "  'max_depth': 4,\n",
       "  'n_estimators': 500},\n",
       " 'RandomForestRegressor': {'max_depth': 6, 'n_estimators': 2000}}"
      ]
     },
     "execution_count": 101,
     "metadata": {},
     "output_type": "execute_result"
    }
   ],
   "source": [
    "best_params"
   ]
  },
  {
   "cell_type": "markdown",
   "metadata": {},
   "source": [
    "## 5. Submitting Predictions"
   ]
  },
  {
   "cell_type": "code",
   "execution_count": 215,
   "metadata": {},
   "outputs": [],
   "source": [
    "test_clean2 = test_clean.copy()\n",
    "test_clean2 = test_clean2.drop(['id'], axis=1)"
   ]
  },
  {
   "cell_type": "code",
   "execution_count": 216,
   "metadata": {},
   "outputs": [],
   "source": [
    "predictions = regressors.predict_specific('GradientBoostingRegressor', test_clean2.values)"
   ]
  },
  {
   "cell_type": "code",
   "execution_count": 217,
   "metadata": {},
   "outputs": [],
   "source": [
    "predictions_df = pd.DataFrame({'id':test_clean.iloc[:, 0], 'revenue':np.expm1(predictions)})"
   ]
  },
  {
   "cell_type": "code",
   "execution_count": 218,
   "metadata": {},
   "outputs": [],
   "source": [
    "predictions_df.to_csv('./submissions/TMDB_Box_Office_Predictions_20190505.csv', index=False)"
   ]
  },
  {
   "cell_type": "code",
   "execution_count": null,
   "metadata": {},
   "outputs": [],
   "source": []
  }
 ],
 "metadata": {
  "kernelspec": {
   "display_name": "Python 3",
   "language": "python",
   "name": "python3"
  },
  "language_info": {
   "codemirror_mode": {
    "name": "ipython",
    "version": 3
   },
   "file_extension": ".py",
   "mimetype": "text/x-python",
   "name": "python",
   "nbconvert_exporter": "python",
   "pygments_lexer": "ipython3",
   "version": "3.7.3"
  }
 },
 "nbformat": 4,
 "nbformat_minor": 2
}
